{
 "cells": [
  {
   "cell_type": "markdown",
   "metadata": {},
   "source": [
    "# NewsQA Loop\n",
    "11/2/2023 \\\n",
    "Lixiao Yang\n",
    "\n",
    "This notebook provides a loop for different chunk and overlap sizes using GPT4ALL (falcon model) and LangChain, a small sample of text files are selected from NewsQA dataset.\n",
    "\n",
    "Due to the computing resource, the result is limited, please follow these steps for full ledge running:\n",
    "1. Replace file_path into 'combined-newsqa-data-v1.json' (80.2 MB) - to compile the json file, follow the option 1 log and [Docker method from NewsQA](https://github.com/Maluuba/newsqa#recommended-docker-set-up)\n",
    "2. Update chunk_size and overlap_percentage\n",
    "3. Revise calculate_em() function"
   ]
  },
  {
   "cell_type": "code",
   "execution_count": 12,
   "metadata": {},
   "outputs": [],
   "source": [
    "from langchain.document_loaders import JSONLoader\n",
    "from langchain.text_splitter import RecursiveCharacterTextSplitter\n",
    "# from langchain.embeddings import GPT4AllEmbeddings\n",
    "from langchain.embeddings.gpt4all import GPT4AllEmbeddings\n",
    "from langchain.vectorstores import Chroma\n",
    "from langchain.llms import GPT4All\n",
    "from langchain.chains import RetrievalQA\n",
    "from collections import Counter\n",
    "import numpy as np\n",
    "from collections import defaultdict\n",
    "import json\n",
    "from pathlib import Path\n",
    "from langchain.prompts import PromptTemplate"
   ]
  },
  {
   "cell_type": "code",
   "execution_count": 13,
   "metadata": {},
   "outputs": [],
   "source": [
    "# file_path='./combined-newsqa-data-v1-small.json'\n",
    "file_path='/Users/wk77/Library/CloudStorage/OneDrive-DrexelUniversity/Documents/data/combined-newsqa-data-v1.json'\n",
    "data = json.loads(Path(file_path).read_text())"
   ]
  },
  {
   "cell_type": "code",
   "execution_count": null,
   "metadata": {},
   "outputs": [],
   "source": [
    "# data"
   ]
  },
  {
   "cell_type": "code",
   "execution_count": null,
   "metadata": {},
   "outputs": [],
   "source": [
    "# for story in data['data']:\n",
    "#     print(story['text'])\n",
    "#     print(\"\\n--- End of story ---\\n\")"
   ]
  },
  {
   "cell_type": "code",
   "execution_count": 14,
   "metadata": {},
   "outputs": [],
   "source": [
    "# Helper function to calculate Exact Match (EM) score\n",
    "def calculate_em(predicted, actual):\n",
    "    return int(predicted == actual)\n",
    "\n",
    "# Function to calculate the token-wise F1 score for text answers\n",
    "def calculate_token_f1(predicted, actual):\n",
    "    predicted_tokens = predicted.split()\n",
    "    actual_tokens = actual.split()\n",
    "    common_tokens = Counter(predicted_tokens) & Counter(actual_tokens)\n",
    "    num_same = sum(common_tokens.values())\n",
    "    if num_same == 0:\n",
    "        return 0\n",
    "    precision = 1.0 * num_same / len(predicted_tokens)\n",
    "    recall = 1.0 * num_same / len(actual_tokens)\n",
    "    f1 = (2 * precision * recall) / (precision + recall)\n",
    "    return f1\n",
    "\n",
    "# Helper function to extract answer ranges from the consensus field\n",
    "def extract_ranges(consensus):\n",
    "    if 's' in consensus and 'e' in consensus:\n",
    "        return [(consensus['s'], consensus['e'])]\n",
    "    return []\n",
    "\n",
    "\n",
    "template = \"\"\"Use the following pieces of context to answer the question at the end. \n",
    "If you don't know the answer, just say that you don't know, don't try to make up an answer. \n",
    "Use three sentences maximum and keep the answer as concise as possible. \n",
    "Also provide me the source for your answer. Explain how to get the answer step by step.\n",
    "{context}\n",
    "Question: {question}\n",
    "Helpful Answer:\"\"\"\n",
    "QA_CHAIN_PROMPT = PromptTemplate.from_template(template)"
   ]
  },
  {
   "cell_type": "code",
   "execution_count": 9,
   "metadata": {},
   "outputs": [
    {
     "name": "stdout",
     "output_type": "stream",
     "text": [
      "1699634644.5507572 Started.\n",
      "bert_load_from_file: gguf version     = 2\n",
      "bert_load_from_file: gguf alignment   = 32\n",
      "bert_load_from_file: gguf data offset = 695552\n",
      "bert_load_from_file: model name           = BERT\n",
      "bert_load_from_file: model architecture   = bert\n",
      "bert_load_from_file: model file type      = 1\n",
      "bert_load_from_file: bert tokenizer vocab = 30522\n",
      "0.8240687847137451 Processing chunk size 200:\n",
      "0.8240828514099121\t2.86102294921875e-06\tOverlap [0] 0\n",
      "\n",
      "0.8241188526153564\t3.790855407714844e-05\t\tstory 1: ."
     ]
    },
    {
     "name": "stderr",
     "output_type": "stream",
     "text": [
      "INFO:backoff:Backing off send_request(...) for 0.6s (requests.exceptions.ConnectionError: ('Connection aborted.', ConnectionResetError(54, 'Connection reset by peer')))\n"
     ]
    },
    {
     "name": "stdout",
     "output_type": "stream",
     "text": [
      "........\n",
      "19.00162982940674\t18.177510976791382\t\tstory 2: .........\n",
      "40.59973478317261\t21.59810495376587\t\tstory 3: .........\n",
      "60.192909717559814\t19.593174934387207\t\tstory 4: ........\n",
      "76.77773070335388\t16.584820985794067\t\tstory 5: .........\n",
      "97.80094480514526\t21.023214101791382\t\tstory 6: .........\n",
      "117.5081717967987\t19.707226991653442\t\tstory 7: .........\n",
      "137.98197674751282\t20.47380495071411\t\tstory 8: ............\n",
      "166.1960849761963\t28.21410822868347\t\tstory 9: ............\n",
      "194.5884690284729\t28.39238405227661\t\tstory 10: .........\n",
      "215.52787590026855\t20.939406871795654\t\tstory 11: .........\n",
      "236.84424781799316\t21.31637191772461\t\tstory 12: .......\n",
      "254.07731986045837\t17.23307204246521\t\tstory 13: .........\n",
      "273.1314618587494\t19.054141998291016\t\tstory 14: .........\n",
      "292.21424984931946\t19.08278799057007\t\tstory 15: .........\n",
      "312.23126196861267\t20.017012119293213\t\tstory 16: .......\n",
      "329.3724527359009\t17.141190767288208\t\tstory 17: .........\n",
      "348.8036768436432\t19.43122410774231\t\tstory 18: .........\n",
      "371.8746018409729\t23.070924997329712\t\tstory 19: .........\n",
      "390.8202588558197\t18.9456570148468\t\tstory 20: .........\n",
      "408.8493866920471\t18.029127836227417\t\tstory 21: ........\n",
      "428.492066860199\t19.642680168151855\t\tstory 22: .........\n",
      "447.5338478088379\t19.041780948638916\t\tstory 23: .........\n",
      "465.70682764053345\t18.172979831695557\t\tstory 24: .........\n",
      "487.01195073127747\t21.30512309074402\t\tstory 25: ...........\n",
      "510.29063868522644\t23.278687953948975\t\tstory 26: .........\n",
      "530.8861017227173\t20.595463037490845\t\tstory 27: .........\n",
      "554.6549937725067\t23.76889204978943\t\tstory 28: .........\n",
      "579.5254626274109\t24.870468854904175\t\tstory 29: ...........................\n",
      "647.9021089076996\t68.3766462802887\t\tstory 30: .........\n",
      "672.7251527309418\t24.823043823242188\t\tstory 31: .........\n",
      "691.5277199745178\t18.80256724357605\t\tstory 32: ...........\n",
      "714.177209854126\t22.649489879608154\t\tstory 33: ............\n",
      "741.2265567779541\t27.049346923828125\t\tstory 34: ........\n",
      "759.8990168571472\t18.672460079193115\t\tstory 35: .........\n",
      "779.6160209178925\t19.71700406074524\t\tstory 36: .........\n",
      "800.9890329837799\t21.37301206588745\t\tstory 37: ............................\n",
      "870.2292258739471\t69.24019289016724\t\tstory 38: .........\n",
      "889.2210450172424\t18.991819143295288\t\tstory 39: .........\n",
      "908.5404407978058\t19.319395780563354\t\tstory 40: .........\n",
      "925.153306722641\t16.612865924835205\t\tstory 41: .........\n",
      "945.8126709461212\t20.659364223480225\t\tstory 42: ........\n",
      "959.7458980083466\t13.933227062225342\t\tstory 43: ............\n",
      "989.5628077983856\t29.816909790039062\t\tstory 44: .........\n",
      "1012.3635399341583\t22.800732135772705\t\tstory 45: ........\n",
      "1028.4506628513336\t16.087122917175293\t\tstory 46: .........\n",
      "1047.0268318653107\t18.57616901397705\t\tstory 47: .........\n",
      "1068.3058857917786\t21.279053926467896\t\tstory 48: ............\n",
      "1093.9667139053345\t25.660828113555908\t\tstory 49: ........\n",
      "1111.2906157970428\t17.323901891708374\t\tstory 50: .........\n",
      "1131.0419127941132\t19.751296997070312\t\tstory 51: .........\n",
      "1156.2229046821594\t25.180991888046265\t\tstory 52: .........\n",
      "1175.3838188648224\t19.160914182662964\t\tstory 53: .........\n",
      "1193.3540267944336\t17.970207929611206\t\tstory 54: ............\n",
      "1220.3432967662811\t26.989269971847534\t\tstory 55: .........\n",
      "1237.7939298152924\t17.45063304901123\t\tstory 56: ........\n",
      "1253.0266137123108\t15.232683897018433\t\tstory 57: .........\n",
      "1267.9779708385468\t14.951357126235962\t\tstory 58: .........\n",
      "1288.901918888092\t20.923948049545288\t\tstory 59: ............\n",
      "1315.4646759033203\t26.56275701522827\t\tstory 60: .........\n",
      "1335.1149907112122\t19.650314807891846\t\tstory 61: .........\n",
      "1359.6106209754944\t24.495630264282227\t\tstory 62: .........\n",
      "1383.5507457256317\t23.94012475013733\t\tstory 63: .........\n",
      "1406.2004327774048\t22.64968705177307\t\tstory 64: ...........\n",
      "1437.508318901062\t31.307886123657227\t\tstory 65: .........\n",
      "1460.1368057727814\t22.62848687171936\t\tstory 66: .........\n",
      "1480.075089931488\t19.938284158706665\t\tstory 67: .........\n",
      "1500.5331127643585\t20.458022832870483\t\tstory 68: .........\n",
      "1519.3716478347778\t18.83853507041931\t\tstory 69: ........\n",
      "1537.1343698501587\t17.76272201538086\t\tstory 70: ........\n",
      "1558.4842188358307\t21.349848985671997\t\tstory 71: .........\n",
      "1577.595517873764\t19.11129903793335\t\tstory 72: .........\n",
      "1599.8512179851532\t22.25570011138916\t\tstory 73: .........\n",
      "1622.2265059947968\t22.375288009643555\t\tstory 74: .........\n",
      "1641.4498178958893\t19.22331190109253\t\tstory 75: .........\n",
      "1659.9934737682343\t18.54365587234497\t\tstory 76: ...........\n",
      "1686.4101288318634\t26.41665506362915\t\tstory 77: ...........\n",
      "1710.2305779457092\t23.820449113845825\t\tstory 78: ........\n",
      "1732.1099479198456\t21.879369974136353\t\tstory 79: .........\n",
      "1756.4330928325653\t24.323144912719727\t\tstory 80: .........\n",
      "1775.1395316123962\t18.706438779830933\t\tstory 81: .........\n",
      "1795.5155818462372\t20.376050233840942\t\tstory 82: .........\n",
      "1814.2674868106842\t18.75190496444702\t\tstory 83: .........\n",
      "1833.9638457298279\t19.696358919143677\t\tstory 84: ............\n",
      "1859.0154638290405\t25.051618099212646\t\tstory 85: .........\n",
      "1881.5939898490906\t22.57852602005005\t\tstory 86: .........\n",
      "1906.3378937244415\t24.743903875350952\t\tstory 87: .........\n",
      "1926.7402770519257\t20.40238332748413\t\tstory 88: ............\n",
      "1952.2836718559265\t25.543394804000854\t\tstory 89: ........\n",
      "1967.6986238956451\t15.414952039718628\t\tstory 90: .........\n",
      "1987.2614407539368\t19.562816858291626\t\tstory 91: ........\n",
      "2006.2350928783417\t18.973652124404907\t\tstory 92: .........\n",
      "2028.0039308071136\t21.768837928771973\t\tstory 93: ...............\n",
      "2065.2703619003296\t37.26643109321594\t\tstory 94: .............................\n",
      "2121.786461830139\t56.51609992980957\t\tstory 95: .........\n",
      "2149.066846847534\t27.28038501739502\t\tstory 96: ...........\n",
      "2170.884505748749\t21.8176589012146\t\tstory 97: ........\n",
      "2190.309061765671\t19.424556016921997\t\tstory 98: ..........................\n",
      "2248.0332429409027\t57.724181175231934\t\tstory 99: .........\n",
      "2264.1438508033752\t16.110607862472534\t\tstory 100: ............2294.354053735733\t30.210206031799316\tOverlap [0.1] 20\n",
      "\n",
      "2294.3541288375854\t30.210278034210205\t\tstory 1: .........\n",
      "2311.208066701889\t16.85393786430359\t\tstory 2: .........\n",
      "2333.6172337532043\t22.409167051315308\t\tstory 3: .........\n",
      "2357.001567840576\t23.384334087371826\t\tstory 4: ........\n",
      "2373.751226902008\t16.749659061431885\t\tstory 5: .........\n",
      "2392.9881217479706\t19.236894845962524\t\tstory 6: .........\n",
      "2412.5015058517456\t19.513384103775024\t\tstory 7: .........\n",
      "2430.909896850586\t18.408390998840332\t\tstory 8: ............\n",
      "2459.90548992157\t28.995593070983887\t\tstory 9: ............\n",
      "2485.635943889618\t25.730453968048096\t\tstory 10: .........\n",
      "2509.9042670726776\t24.268323183059692\t\tstory 11: .........\n",
      "2529.830508708954\t19.926241636276245\t\tstory 12: .......\n",
      "2548.1342368125916\t18.303728103637695\t\tstory 13: .........\n",
      "2566.094267845154\t17.960031032562256\t\tstory 14: .........\n",
      "2585.8573336601257\t19.763065814971924\t\tstory 15: .........\n",
      "2603.2208828926086\t17.36354923248291\t\tstory 16: .......\n",
      "2620.1658239364624\t16.94494104385376\t\tstory 17: .........\n",
      "2639.4456589221954\t19.279834985733032\t\tstory 18: .........\n",
      "2660.517451763153\t21.07179284095764\t\tstory 19: .........\n",
      "2679.5688157081604\t19.051363945007324\t\tstory 20: .........\n",
      "2696.84783577919\t17.279020071029663\t\tstory 21: ........\n",
      "2717.41899394989\t20.571158170700073\t\tstory 22: .........\n",
      "2737.515127658844\t20.096133708953857\t\tstory 23: .........\n",
      "2756.0980019569397\t18.582874298095703\t\tstory 24: .........\n",
      "2776.5137457847595\t20.415743827819824\t\tstory 25: ...........\n",
      "2798.471777677536\t21.95803189277649\t\tstory 26: .........\n",
      "2818.46861577034\t19.996838092803955\t\tstory 27: .........\n",
      "2839.89892578125\t21.430310010910034\t\tstory 28: .........\n",
      "2868.812959909439\t28.914034128189087\t\tstory 29: ...........................\n",
      "2933.185750722885\t64.37279081344604\t\tstory 30: .........\n",
      "2957.6195888519287\t24.43383812904358\t\tstory 31: .........\n",
      "2975.5602729320526\t17.9406840801239\t\tstory 32: ...........\n",
      "2999.706601858139\t24.146328926086426\t\tstory 33: ............\n",
      "3024.1153197288513\t24.40871787071228\t\tstory 34: ........\n",
      "3041.151503801346\t17.036184072494507\t\tstory 35: .........\n",
      "3059.6891720294952\t18.537668228149414\t\tstory 36: .........\n",
      "3083.564041852951\t23.87486982345581\t\tstory 37: ............................\n",
      "4090.0874407291412\t1006.5233988761902\t\tstory 38: ."
     ]
    },
    {
     "name": "stderr",
     "output_type": "stream",
     "text": [
      "INFO:backoff:Backing off send_request(...) for 0.5s (requests.exceptions.ConnectionError: ('Connection aborted.', ConnectionResetError(54, 'Connection reset by peer')))\n"
     ]
    },
    {
     "name": "stdout",
     "output_type": "stream",
     "text": [
      "........\n",
      "4110.368706703186\t20.2812659740448\t\tstory 39: .........\n",
      "4131.533372879028\t21.164666175842285\t\tstory 40: .........\n",
      "5104.2739107608795\t972.7405378818512\t\tstory 41: ."
     ]
    },
    {
     "name": "stderr",
     "output_type": "stream",
     "text": [
      "INFO:backoff:Backing off send_request(...) for 0.2s (requests.exceptions.ConnectionError: ('Connection aborted.', ConnectionResetError(54, 'Connection reset by peer')))\n"
     ]
    },
    {
     "name": "stdout",
     "output_type": "stream",
     "text": [
      "........\n",
      "5124.631718873978\t20.357808113098145\t\tstory 42: ........\n",
      "5139.338040828705\t14.706321954727173\t\tstory 43: ............\n",
      "5571.74392080307\t432.40587997436523\t\tstory 44: ."
     ]
    },
    {
     "name": "stderr",
     "output_type": "stream",
     "text": [
      "INFO:backoff:Backing off send_request(...) for 0.9s (requests.exceptions.ConnectionError: ('Connection aborted.', ConnectionResetError(54, 'Connection reset by peer')))\n"
     ]
    },
    {
     "name": "stdout",
     "output_type": "stream",
     "text": [
      "........\n",
      "5595.69185590744\t23.947935104370117\t\tstory 45: ........\n",
      "5612.718170881271\t17.026314973831177\t\tstory 46: .........\n",
      "5631.073484659195\t18.355313777923584\t\tstory 47: .........\n",
      "5652.294860839844\t21.221376180648804\t\tstory 48: ............\n",
      "5676.512356758118\t24.217495918273926\t\tstory 49: ........\n",
      "5694.020321846008\t17.507965087890625\t\tstory 50: .........\n",
      "5714.814884901047\t20.794563055038452\t\tstory 51: .........\n",
      "5739.721526622772\t24.906641721725464\t\tstory 52: .........\n",
      "5759.858939886093\t20.137413263320923\t\tstory 53: .........\n",
      "5775.720551967621\t15.86161208152771\t\tstory 54: ............\n",
      "5803.760134935379\t28.03958296775818\t\tstory 55: .........\n",
      "5820.566641807556\t16.806506872177124\t\tstory 56: ........\n",
      "5838.0546288490295\t17.48798704147339\t\tstory 57: .........\n",
      "5853.594458818436\t15.539829969406128\t\tstory 58: .........\n",
      "5876.024216890335\t22.429758071899414\t\tstory 59: ............\n",
      "5902.789205789566\t26.764988899230957\t\tstory 60: .........\n",
      "5922.9478187561035\t20.158612966537476\t\tstory 61: .........\n",
      "5946.700778007507\t23.75295925140381\t\tstory 62: .........\n",
      "5970.599706888199\t23.89892888069153\t\tstory 63: .........\n",
      "5993.482337713242\t22.882630825042725\t\tstory 64: ...........\n",
      "6020.325482606888\t26.84314489364624\t\tstory 65: .........\n",
      "6038.886312961578\t18.56083035469055\t\tstory 66: .........\n",
      "6057.037173748016\t18.15086078643799\t\tstory 67: .........\n",
      "6078.379042863846\t21.341869115829468\t\tstory 68: .........\n",
      "6098.44636964798\t20.06732678413391\t\tstory 69: ........\n",
      "6116.120392799377\t17.674023151397705\t\tstory 70: ........\n",
      "6136.754961967468\t20.63456916809082\t\tstory 71: .........\n",
      "6155.527267694473\t18.772305727005005\t\tstory 72: .........\n",
      "6179.607393741608\t24.0801260471344\t\tstory 73: .........\n",
      "6201.607971906662\t22.00057816505432\t\tstory 74: .........\n",
      "6222.040325880051\t20.432353973388672\t\tstory 75: .........\n",
      "6239.5474717617035\t17.507145881652832\t\tstory 76: ...........\n",
      "6267.411805868149\t27.864334106445312\t\tstory 77: ...........\n",
      "6294.659802913666\t27.247997045516968\t\tstory 78: ........\n",
      "6316.520529985428\t21.860727071762085\t\tstory 79: .........\n",
      "6341.855858802795\t25.335328817367554\t\tstory 80: .........\n",
      "6360.62860584259\t18.772747039794922\t\tstory 81: .........\n",
      "6380.12899184227\t19.500385999679565\t\tstory 82: .........\n",
      "6396.813538789749\t16.684546947479248\t\tstory 83: .........\n",
      "6417.190090894699\t20.37655210494995\t\tstory 84: ............\n",
      "6442.819760799408\t25.629669904708862\t\tstory 85: .........\n",
      "6464.318816661835\t21.499055862426758\t\tstory 86: .........\n",
      "6488.356855869293\t24.038039207458496\t\tstory 87: .........\n",
      "6509.787402868271\t21.43054699897766\t\tstory 88: ............\n",
      "6535.300506830215\t25.51310396194458\t\tstory 89: ........\n",
      "6549.754770994186\t14.454264163970947\t\tstory 90: .........\n",
      "6568.470145702362\t18.71537470817566\t\tstory 91: ........\n",
      "6586.507340669632\t18.037194967269897\t\tstory 92: .........\n",
      "6608.725982904434\t22.218642234802246\t\tstory 93: ...............\n",
      "6644.884001731873\t36.158018827438354\t\tstory 94: .............................\n",
      "6702.536091804504\t57.652090072631836\t\tstory 95: .........\n",
      "6730.199343919754\t27.663252115249634\t\tstory 96: ...........\n",
      "6752.338013887405\t22.138669967651367\t\tstory 97: ........\n",
      "6771.628520965576\t19.290507078170776\t\tstory 98: ..........................\n",
      "6833.938944816589\t62.310423851013184\t\tstory 99: .........\n",
      "6849.258640766144\t15.319695949554443\t\tstory 100: ............6877.896634817123\t28.63799500465393\tOverlap [0.2] 40\n",
      "\n",
      "6877.896698713303\t28.638057947158813\t\tstory 1: .........\n",
      "6895.283097743988\t17.386399030685425\t\tstory 2: .........\n",
      "6916.736069917679\t21.452972173690796\t\tstory 3: .........\n",
      "6936.884788036346\t20.148718118667603\t\tstory 4: ........\n",
      "6952.066094875336\t15.181306838989258\t\tstory 5: .........\n",
      "6970.075937747955\t18.00984287261963\t\tstory 6: .........\n",
      "6988.446131944656\t18.37019419670105\t\tstory 7: .........\n",
      "7007.722667694092\t19.276535749435425\t\tstory 8: ............\n",
      "7037.240895032883\t29.518227338790894\t\tstory 9: ............\n",
      "7064.236587762833\t26.99569272994995\t\tstory 10: .........\n",
      "7086.778906822205\t22.54231905937195\t\tstory 11: .........\n",
      "7105.865876913071\t19.08697009086609\t\tstory 12: .......\n",
      "7124.356390953064\t18.490514039993286\t\tstory 13: .........\n",
      "7142.458080768585\t18.10168981552124\t\tstory 14: .........\n",
      "7164.725023031235\t22.266942262649536\t\tstory 15: .........\n",
      "7185.225581884384\t20.500558853149414\t\tstory 16: .......\n",
      "7200.821624755859\t15.59604287147522\t\tstory 17: .........\n",
      "7218.045253753662\t17.223628997802734\t\tstory 18: .........\n",
      "7238.765913724899\t20.720659971237183\t\tstory 19: .........\n",
      "7255.9078488349915\t17.141935110092163\t\tstory 20: .........\n",
      "7273.08225107193\t17.174402236938477\t\tstory 21: ........\n",
      "7342.325428009033\t69.24317693710327\t\tstory 22: .........\n",
      "7360.468533039093\t18.143105030059814\t\tstory 23: .........\n",
      "7377.5958688259125\t17.127335786819458\t\tstory 24: .........\n",
      "7398.794216871262\t21.19834804534912\t\tstory 25: ...........\n",
      "7420.244658946991\t21.45044207572937\t\tstory 26: .........\n",
      "7440.503358840942\t20.258699893951416\t\tstory 27: .........\n",
      "7460.684503793716\t20.181144952774048\t\tstory 28: .........\n",
      "7487.880633831024\t27.19613003730774\t\tstory 29: ...........................\n",
      "7550.12021780014\t62.23958396911621\t\tstory 30: .........\n",
      "7574.54668879509\t24.42647099494934\t\tstory 31: .........\n",
      "7593.678327798843\t19.131639003753662\t\tstory 32: ...........\n",
      "7616.810881853104\t23.132554054260254\t\tstory 33: ............\n",
      "7642.00649189949\t25.19561004638672\t\tstory 34: ........\n",
      "7659.4586617946625\t17.45216989517212\t\tstory 35: .........\n",
      "7678.346681833267\t18.888020038604736\t\tstory 36: .........\n",
      "7701.169136762619\t22.822454929351807\t\tstory 37: ............................\n",
      "7772.628846883774\t71.45971012115479\t\tstory 38: .........\n",
      "7792.900762796402\t20.271915912628174\t\tstory 39: .........\n",
      "7814.402069807053\t21.501307010650635\t\tstory 40: .........\n",
      "7829.669451713562\t15.2673819065094\t\tstory 41: .........\n",
      "7847.840869903564\t18.17141819000244\t\tstory 42: ........\n",
      "7861.724356889725\t13.883486986160278\t\tstory 43: ............\n",
      "7891.045078754425\t29.320721864700317\t\tstory 44: .........\n",
      "7914.845988750458\t23.800909996032715\t\tstory 45: ........\n",
      "7933.266316652298\t18.42032790184021\t\tstory 46: .........\n",
      "7952.92517375946\t19.658857107162476\t\tstory 47: .........\n",
      "7973.678762674332\t20.753588914871216\t\tstory 48: ............\n",
      "7997.870060682297\t24.191298007965088\t\tstory 49: ........\n",
      "8015.409665822983\t17.539605140686035\t\tstory 50: .........\n",
      "8034.676931858063\t19.267266035079956\t\tstory 51: .........\n",
      "8059.228359937668\t24.551428079605103\t\tstory 52: .........\n",
      "8078.788152694702\t19.5597927570343\t\tstory 53: .........\n",
      "8094.178446769714\t15.390294075012207\t\tstory 54: ............\n",
      "8119.434191703796\t25.25574493408203\t\tstory 55: .........\n",
      "8136.935448884964\t17.501257181167603\t\tstory 56: ........\n",
      "8154.667966842651\t17.732517957687378\t\tstory 57: .........\n",
      "8169.699252843857\t15.031286001205444\t\tstory 58: .........\n",
      "8189.1644558906555\t19.465203046798706\t\tstory 59: ............\n",
      "8215.754284858704\t26.589828968048096\t\tstory 60: .........\n",
      "8237.167517900467\t21.413233041763306\t\tstory 61: .........\n",
      "8261.05684876442\t23.889330863952637\t\tstory 62: .........\n",
      "8283.657995700836\t22.601146936416626\t\tstory 63: .........\n",
      "8306.206003904343\t22.54800820350647\t\tstory 64: ...........\n",
      "8332.616248846054\t26.410244941711426\t\tstory 65: .........\n",
      "8350.141464710236\t17.52521586418152\t\tstory 66: .........\n",
      "8367.613586902618\t17.472122192382812\t\tstory 67: .........\n",
      "8389.316791772842\t21.703204870224\t\tstory 68: .........\n",
      "8407.740130662918\t18.423338890075684\t\tstory 69: ........\n",
      "8425.265644788742\t17.525514125823975\t\tstory 70: ........\n",
      "8446.407227754593\t21.14158296585083\t\tstory 71: .........\n",
      "8465.612607002258\t19.205379247665405\t\tstory 72: .........\n",
      "8487.911908864975\t22.299301862716675\t\tstory 73: .........\n",
      "8508.885165691376\t20.973256826400757\t\tstory 74: .........\n",
      "8529.744886636734\t20.859720945358276\t\tstory 75: ........."
     ]
    },
    {
     "name": "stderr",
     "output_type": "stream",
     "text": [
      "INFO:backoff:Backing off send_request(...) for 0.8s (requests.exceptions.ConnectionError: ('Connection aborted.', ConnectionResetError(54, 'Connection reset by peer')))\n"
     ]
    },
    {
     "name": "stdout",
     "output_type": "stream",
     "text": [
      "\n",
      "9579.274350881577\t1049.5294642448425\t\tstory 76: ...........\n",
      "9605.886039733887\t26.61168885231018\t\tstory 77: ...........\n",
      "10630.664029836655\t1024.777990102768\t\tstory 78: "
     ]
    },
    {
     "name": "stderr",
     "output_type": "stream",
     "text": [
      "INFO:backoff:Backing off send_request(...) for 0.2s (requests.exceptions.ConnectionError: ('Connection aborted.', ConnectionResetError(54, 'Connection reset by peer')))\n"
     ]
    },
    {
     "name": "stdout",
     "output_type": "stream",
     "text": [
      "........\n",
      "10653.53415775299\t22.87012791633606\t\tstory 79: .........\n",
      "11588.673373937607\t935.1392161846161\t\tstory 80: ."
     ]
    },
    {
     "name": "stderr",
     "output_type": "stream",
     "text": [
      "INFO:backoff:Backing off send_request(...) for 0.5s (requests.exceptions.ConnectionError: ('Connection aborted.', ConnectionResetError(54, 'Connection reset by peer')))\n"
     ]
    },
    {
     "name": "stdout",
     "output_type": "stream",
     "text": [
      "........\n",
      "11608.702194929123\t20.028820991516113\t\tstory 81: .........\n",
      "11628.101077795029\t19.39888286590576\t\tstory 82: .........\n",
      "12494.945826768875\t866.8447489738464\t\tstory 83: ."
     ]
    },
    {
     "name": "stderr",
     "output_type": "stream",
     "text": [
      "INFO:backoff:Backing off send_request(...) for 0.1s (requests.exceptions.ConnectionError: ('Connection aborted.', ConnectionResetError(54, 'Connection reset by peer')))\n"
     ]
    },
    {
     "name": "stdout",
     "output_type": "stream",
     "text": [
      "........\n",
      "12515.034358739853\t20.088531970977783\t\tstory 84: ............\n",
      "12540.846050739288\t25.811691999435425\t\tstory 85: .........\n",
      "12582.209515810013\t41.36346507072449\t\tstory 86: .........\n",
      "12606.039114952087\t23.829599142074585\t\tstory 87: .........\n",
      "12649.11587691307\t43.076761960983276\t\tstory 88: ............\n",
      "12674.851153850555\t25.73527693748474\t\tstory 89: ........\n",
      "12858.366965055466\t183.51581120491028\t\tstory 90: .........\n",
      "12878.855559825897\t20.48859477043152\t\tstory 91: ........\n",
      "12896.57113289833\t17.71557307243347\t\tstory 92: .........\n",
      "13914.689359903336\t1018.1182270050049\t\tstory 93: ."
     ]
    },
    {
     "name": "stderr",
     "output_type": "stream",
     "text": [
      "INFO:backoff:Backing off send_request(...) for 0.3s (requests.exceptions.ConnectionError: ('Connection aborted.', ConnectionResetError(54, 'Connection reset by peer')))\n"
     ]
    },
    {
     "name": "stdout",
     "output_type": "stream",
     "text": [
      "..............\n",
      "13952.463104724884\t37.77374482154846\t\tstory 94: .............................\n",
      "14653.905217647552\t701.4421129226685\t\tstory 95: ."
     ]
    },
    {
     "name": "stderr",
     "output_type": "stream",
     "text": [
      "INFO:backoff:Backing off send_request(...) for 0.0s (requests.exceptions.ConnectionError: ('Connection aborted.', ConnectionResetError(54, 'Connection reset by peer')))\n"
     ]
    },
    {
     "name": "stdout",
     "output_type": "stream",
     "text": [
      "........\n",
      "14679.077435970306\t25.172218322753906\t\tstory 96: ...........\n",
      "14701.368834733963\t22.291398763656616\t\tstory 97: ........\n",
      "14719.562503814697\t18.193669080734253\t\tstory 98: ..........................\n",
      "14804.483263969421\t84.92076015472412\t\tstory 99: .........\n",
      "14822.683255672455\t18.199991703033447\t\tstory 100: ............14852.130358695984\t29.44710397720337\tOverlap [0.3] 60\n",
      "\n",
      "14852.130409955978\t29.44715428352356\t\tstory 1: .........\n",
      "14869.465855836868\t17.335445880889893\t\tstory 2: .........\n",
      "14918.637678861618\t49.171823024749756\t\tstory 3: .........\n",
      "15100.1654047966\t181.5277259349823\t\tstory 4: ........\n",
      "15125.98768901825\t25.82228422164917\t\tstory 5: .........\n",
      "15743.84921503067\t617.8615260124207\t\tstory 6: ."
     ]
    },
    {
     "name": "stderr",
     "output_type": "stream",
     "text": [
      "INFO:backoff:Backing off send_request(...) for 0.3s (requests.exceptions.ConnectionError: ('Connection aborted.', ConnectionResetError(54, 'Connection reset by peer')))\n"
     ]
    },
    {
     "name": "stdout",
     "output_type": "stream",
     "text": [
      "........\n",
      "15763.131541013718\t19.282325983047485\t\tstory 7: .........\n",
      "15786.192554712296\t23.06101369857788\t\tstory 8: ............\n",
      "15813.950409889221\t27.75785517692566\t\tstory 9: ............\n",
      "15872.6157476902\t58.665337800979614\t\tstory 10: .........\n",
      "15894.762820720673\t22.1470730304718\t\tstory 11: .........\n",
      "15927.861394882202\t33.09857416152954\t\tstory 12: .......\n",
      "16172.401674032211\t244.54027915000916\t\tstory 13: .........\n",
      "16272.44840502739\t100.04673099517822\t\tstory 14: .........\n",
      "16294.738172769547\t22.289767742156982\t\tstory 15: .........\n",
      "16333.369760036469\t38.631587266922\t\tstory 16: .......\n",
      "16357.992952823639\t24.62319278717041\t\tstory 17: .........\n",
      "16460.305701732635\t102.31274890899658\t\tstory 18: .........\n",
      "16635.70653796196\t175.40083622932434\t\tstory 19: .........\n",
      "17030.18379688263\t394.47725892066956\t\tstory 20: ."
     ]
    },
    {
     "name": "stderr",
     "output_type": "stream",
     "text": [
      "INFO:backoff:Backing off send_request(...) for 0.1s (requests.exceptions.ConnectionError: ('Connection aborted.', ConnectionResetError(54, 'Connection reset by peer')))\n"
     ]
    },
    {
     "name": "stdout",
     "output_type": "stream",
     "text": [
      "........\n",
      "17047.488773822784\t17.30497694015503\t\tstory 21: ........\n",
      "17065.267786979675\t17.77901315689087\t\tstory 22: .........\n",
      "17704.70117688179\t639.4333899021149\t\tstory 23: ."
     ]
    },
    {
     "name": "stderr",
     "output_type": "stream",
     "text": [
      "INFO:backoff:Backing off send_request(...) for 0.6s (requests.exceptions.ConnectionError: ('Connection aborted.', ConnectionResetError(54, 'Connection reset by peer')))\n"
     ]
    },
    {
     "name": "stdout",
     "output_type": "stream",
     "text": [
      "........\n",
      "17721.60749578476\t16.90631890296936\t\tstory 24: .........\n",
      "17742.426132917404\t20.818637132644653\t\tstory 25: ...........\n",
      "18728.344216823578\t985.9180839061737\t\tstory 26: ."
     ]
    },
    {
     "name": "stderr",
     "output_type": "stream",
     "text": [
      "INFO:backoff:Backing off send_request(...) for 0.1s (requests.exceptions.ConnectionError: ('Connection aborted.', ConnectionResetError(54, 'Connection reset by peer')))\n"
     ]
    },
    {
     "name": "stdout",
     "output_type": "stream",
     "text": [
      "........\n",
      "18748.576503753662\t20.23228693008423\t\tstory 27: .........\n",
      "18768.901926755905\t20.325423002243042\t\tstory 28: .........\n",
      "18797.576132774353\t28.674206018447876\t\tstory 29: ...........................\n",
      "18859.106475830078\t61.5303430557251\t\tstory 30: .........\n",
      "18883.053996801376\t23.947520971298218\t\tstory 31: ........."
     ]
    },
    {
     "name": "stderr",
     "output_type": "stream",
     "text": [
      "INFO:backoff:Backing off send_request(...) for 0.3s (requests.exceptions.ConnectionError: ('Connection aborted.', ConnectionResetError(54, 'Connection reset by peer')))\n"
     ]
    },
    {
     "name": "stdout",
     "output_type": "stream",
     "text": [
      "\n",
      "19436.285930633545\t553.2319338321686\t\tstory 32: ...........\n",
      "19460.55839586258\t24.272465229034424\t\tstory 33: ............\n",
      "19485.406438827515\t24.848042964935303\t\tstory 34: ........\n",
      "19503.57591199875\t18.16947317123413\t\tstory 35: .........\n",
      "20089.070677757263\t585.4947657585144\t\tstory 36: ."
     ]
    },
    {
     "name": "stderr",
     "output_type": "stream",
     "text": [
      "INFO:backoff:Backing off send_request(...) for 0.2s (requests.exceptions.ConnectionError: ('Connection aborted.', ConnectionResetError(54, 'Connection reset by peer')))\n"
     ]
    },
    {
     "name": "stdout",
     "output_type": "stream",
     "text": [
      "........\n",
      "20112.13506579399\t23.064388036727905\t\tstory 37: ............................\n",
      "20331.305688858032\t219.17062306404114\t\tstory 38: .........\n",
      "20481.393694877625\t150.08800601959229\t\tstory 39: .........\n",
      "20503.39821791649\t22.004523038864136\t\tstory 40: .........\n",
      "20518.427120923996\t15.028903007507324\t\tstory 41: .........\n",
      "20657.817960977554\t139.39084005355835\t\tstory 42: ........\n",
      "20671.676333665848\t13.858372688293457\t\tstory 43: ............\n",
      "20713.53990483284\t41.86357116699219\t\tstory 44: ........."
     ]
    },
    {
     "name": "stderr",
     "output_type": "stream",
     "text": [
      "INFO:backoff:Backing off send_request(...) for 0.7s (requests.exceptions.ConnectionError: ('Connection aborted.', ConnectionResetError(54, 'Connection reset by peer')))\n"
     ]
    },
    {
     "name": "stdout",
     "output_type": "stream",
     "text": [
      "\n",
      "21125.918625831604\t412.37872099876404\t\tstory 45: ........\n",
      "21142.971853733063\t17.05322790145874\t\tstory 46: .........\n",
      "21161.89999270439\t18.928138971328735\t\tstory 47: .........\n",
      "21477.64948296547\t315.7494902610779\t\tstory 48: ."
     ]
    },
    {
     "name": "stderr",
     "output_type": "stream",
     "text": [
      "INFO:backoff:Backing off send_request(...) for 0.5s (requests.exceptions.ConnectionError: ('Connection aborted.', ConnectionResetError(54, 'Connection reset by peer')))\n"
     ]
    },
    {
     "name": "stdout",
     "output_type": "stream",
     "text": [
      "...........\n",
      "21502.865476846695\t25.215993881225586\t\tstory 49: ........\n",
      "21537.655681848526\t34.790205001831055\t\tstory 50: .........\n",
      "21556.227977991104\t18.572296142578125\t\tstory 51: ........."
     ]
    },
    {
     "name": "stderr",
     "output_type": "stream",
     "text": [
      "INFO:backoff:Backing off send_request(...) for 0.5s (requests.exceptions.ConnectionError: ('Connection aborted.', ConnectionResetError(54, 'Connection reset by peer')))\n"
     ]
    },
    {
     "name": "stdout",
     "output_type": "stream",
     "text": [
      "\n",
      "22037.757036685944\t481.5290586948395\t\tstory 52: .........\n",
      "22058.27690076828\t20.519864082336426\t\tstory 53: .........\n",
      "22074.01201891899\t15.73511815071106\t\tstory 54: ............\n",
      "23090.06378173828\t1016.0517628192902\t\tstory 55: ."
     ]
    },
    {
     "name": "stderr",
     "output_type": "stream",
     "text": [
      "INFO:backoff:Backing off send_request(...) for 0.6s (requests.exceptions.ConnectionError: ('Connection aborted.', ConnectionResetError(54, 'Connection reset by peer')))\n"
     ]
    },
    {
     "name": "stdout",
     "output_type": "stream",
     "text": [
      "........\n",
      "23108.320890903473\t18.25710916519165\t\tstory 56: ........\n",
      "23456.898234844208\t348.57734394073486\t\tstory 57: ."
     ]
    },
    {
     "name": "stderr",
     "output_type": "stream",
     "text": [
      "INFO:backoff:Backing off send_request(...) for 0.0s (requests.exceptions.ConnectionError: ('Connection aborted.', ConnectionResetError(54, 'Connection reset by peer')))\n"
     ]
    },
    {
     "name": "stdout",
     "output_type": "stream",
     "text": [
      "........\n",
      "23472.183184862137\t15.284950017929077\t\tstory 58: .........\n",
      "23491.90406179428\t19.720876932144165\t\tstory 59: ............\n",
      "23753.123612880707\t261.2195510864258\t\tstory 60: .........\n",
      "23773.92587375641\t20.802260875701904\t\tstory 61: .........\n",
      "23805.443426847458\t31.517553091049194\t\tstory 62: .........\n",
      "23831.802914857864\t26.359488010406494\t\tstory 63: .........\n",
      "24652.8864467144\t821.0835318565369\t\tstory 64: ."
     ]
    },
    {
     "name": "stderr",
     "output_type": "stream",
     "text": [
      "INFO:backoff:Backing off send_request(...) for 0.5s (requests.exceptions.ConnectionError: ('Connection aborted.', ConnectionResetError(54, 'Connection reset by peer')))\n"
     ]
    },
    {
     "name": "stdout",
     "output_type": "stream",
     "text": [
      "..........\n",
      "24680.008600711823\t27.122153997421265\t\tstory 65: .........\n",
      "24749.767800807953\t69.75920009613037\t\tstory 66: .........\n",
      "24767.039338588715\t17.27153778076172\t\tstory 67: .........\n",
      "24788.692613840103\t21.65327525138855\t\tstory 68: .........\n",
      "25856.87833595276\t1068.1857221126556\t\tstory 69: "
     ]
    },
    {
     "name": "stderr",
     "output_type": "stream",
     "text": [
      "INFO:backoff:Backing off send_request(...) for 0.4s (requests.exceptions.ConnectionError: ('Connection aborted.', ConnectionResetError(54, 'Connection reset by peer')))\n"
     ]
    },
    {
     "name": "stdout",
     "output_type": "stream",
     "text": [
      "........\n",
      "25873.496867895126\t16.618531942367554\t\tstory 70: ........\n",
      "25894.41069293022\t20.913825035095215\t\tstory 71: ........."
     ]
    },
    {
     "name": "stderr",
     "output_type": "stream",
     "text": [
      "INFO:backoff:Backing off send_request(...) for 0.1s (requests.exceptions.ConnectionError: ('Connection aborted.', ConnectionResetError(54, 'Connection reset by peer')))\n"
     ]
    },
    {
     "name": "stdout",
     "output_type": "stream",
     "text": [
      "\n",
      "26933.245221853256\t1038.8345289230347\t\tstory 72: .........\n",
      "26955.145899772644\t21.900677919387817\t\tstory 73: .........\n",
      "26976.129804849625\t20.98390507698059\t\tstory 74: .........\n",
      "27406.295534849167\t430.16572999954224\t\tstory 75: ."
     ]
    },
    {
     "name": "stderr",
     "output_type": "stream",
     "text": [
      "INFO:backoff:Backing off send_request(...) for 0.2s (requests.exceptions.ConnectionError: ('Connection aborted.', ConnectionResetError(54, 'Connection reset by peer')))\n"
     ]
    },
    {
     "name": "stdout",
     "output_type": "stream",
     "text": [
      "........\n",
      "27424.335381746292\t18.039846897125244\t\tstory 76: ...........\n",
      "27451.070457696915\t26.73507595062256\t\tstory 77: ...........\n",
      "27479.394848823547\t28.32439112663269\t\tstory 78: ........\n",
      "27523.527535915375\t44.13268709182739\t\tstory 79: .........\n",
      "27550.082550764084\t26.555014848709106\t\tstory 80: .........\n",
      "27570.34703683853\t20.264486074447632\t\tstory 81: .........\n",
      "27618.111119747162\t47.76408290863037\t\tstory 82: .........\n",
      "27636.49979686737\t18.38867712020874\t\tstory 83: .........\n",
      "27691.667913913727\t55.1681170463562\t\tstory 84: ............\n",
      "28664.198563814163\t972.5306499004364\t\tstory 85: ."
     ]
    },
    {
     "name": "stderr",
     "output_type": "stream",
     "text": [
      "INFO:backoff:Backing off send_request(...) for 0.4s (requests.exceptions.ConnectionError: ('Connection aborted.', ConnectionResetError(54, 'Connection reset by peer')))\n"
     ]
    },
    {
     "name": "stdout",
     "output_type": "stream",
     "text": [
      "........\n",
      "28688.796460866928\t24.597897052764893\t\tstory 86: ......"
     ]
    },
    {
     "name": "stderr",
     "output_type": "stream",
     "text": [
      "INFO:backoff:Backing off send_request(...) for 0.7s (requests.exceptions.ReadTimeout: HTTPSConnectionPool(host='app.posthog.com', port=443): Read timed out. (read timeout=15))\n"
     ]
    },
    {
     "name": "stdout",
     "output_type": "stream",
     "text": [
      "...\n",
      "28712.914277791977\t24.117816925048828\t\tstory 87: .........\n",
      "28763.384363651276\t50.470085859298706\t\tstory 88: ............\n",
      "28788.884932756424\t25.500569105148315\t\tstory 89: ........\n",
      "28808.85631585121\t19.971383094787598\t\tstory 90: .........\n",
      "28827.345859766006\t18.489543914794922\t\tstory 91: ........\n",
      "28845.7814347744\t18.435575008392334\t\tstory 92: .........\n",
      "28867.72907590866\t21.947641134262085\t\tstory 93: ...............\n",
      "29380.1638777256\t512.4348018169403\t\tstory 94: ."
     ]
    },
    {
     "name": "stderr",
     "output_type": "stream",
     "text": [
      "INFO:backoff:Backing off send_request(...) for 0.7s (requests.exceptions.ConnectionError: ('Connection aborted.', ConnectionResetError(54, 'Connection reset by peer')))\n"
     ]
    },
    {
     "name": "stdout",
     "output_type": "stream",
     "text": [
      "............................\n",
      "29442.608597755432\t62.44472002983093\t\tstory 95: .........\n",
      "29500.484528779984\t57.87593102455139\t\tstory 96: ...........\n",
      "29566.13050174713\t65.64597296714783\t\tstory 97: ........\n",
      "29585.101782798767\t18.971281051635742\t\tstory 98: ..........................\n",
      "30125.344834804535\t540.2430520057678\t\tstory 99: ."
     ]
    },
    {
     "name": "stderr",
     "output_type": "stream",
     "text": [
      "INFO:backoff:Backing off send_request(...) for 0.1s (requests.exceptions.ConnectionError: ('Connection aborted.', ConnectionResetError(54, 'Connection reset by peer')))\n"
     ]
    },
    {
     "name": "stdout",
     "output_type": "stream",
     "text": [
      "...."
     ]
    },
    {
     "name": "stderr",
     "output_type": "stream",
     "text": [
      "INFO:backoff:Backing off send_request(...) for 0.6s (requests.exceptions.ConnectionError: ('Connection aborted.', ConnectionResetError(54, 'Connection reset by peer')))\n"
     ]
    },
    {
     "name": "stdout",
     "output_type": "stream",
     "text": [
      "....\n",
      "30554.2109978199\t428.8661630153656\t\tstory 100: ............30581.056483745575 Processing chunk size 400:\n",
      "30581.056544065475\t2.86102294921875e-06\tOverlap [0] 0\n",
      "\n",
      "30581.056557655334\t1.4781951904296875e-05\t\tstory 1: .........\n",
      "30633.938651800156\t52.88209414482117\t\tstory 2: .........\n",
      "30658.34471297264\t24.40606117248535\t\tstory 3: .........\n",
      "31128.65806889534\t470.313355922699\t\tstory 4: ."
     ]
    },
    {
     "name": "stderr",
     "output_type": "stream",
     "text": [
      "INFO:backoff:Backing off send_request(...) for 0.4s (requests.exceptions.ConnectionError: ('Connection aborted.', ConnectionResetError(54, 'Connection reset by peer')))\n"
     ]
    },
    {
     "name": "stdout",
     "output_type": "stream",
     "text": [
      ".......\n",
      "31145.593173742294\t16.935104846954346\t\tstory 5: .........\n",
      "31162.99759578705\t17.40442204475403\t\tstory 6: .........\n",
      "31182.975509643555\t19.977913856506348\t\tstory 7: .........\n",
      "31204.65048980713\t21.67498016357422\t\tstory 8: ............\n",
      "31233.432461738586\t28.78197193145752\t\tstory 9: ............\n",
      "31260.082811832428\t26.650350093841553\t\tstory 10: .........\n",
      "31283.34738278389\t23.264570951461792\t\tstory 11: .........\n",
      "31303.797760009766\t20.450377225875854\t\tstory 12: .......\n",
      "31321.100029945374\t17.30226993560791\t\tstory 13: .........\n",
      "31339.00078678131\t17.9007568359375\t\tstory 14: .........\n",
      "31361.46722984314\t22.466443061828613\t\tstory 15: .........\n",
      "31381.658400774002\t20.191170930862427\t\tstory 16: .......\n",
      "31396.35060787201\t14.692207098007202\t\tstory 17: .........\n",
      "31413.45362687111\t17.10301899909973\t\tstory 18: .........\n",
      "31432.10781979561\t18.65419292449951\t\tstory 19: .........\n",
      "31452.56175494194\t20.453935146331787\t\tstory 20: .........\n",
      "31471.395729780197\t18.833974838256836\t\tstory 21: ........\n",
      "31489.620213747025\t18.224483966827393\t\tstory 22: .........\n",
      "31508.30396795273\t18.683754205703735\t\tstory 23: .........\n",
      "31524.33462882042\t16.03066086769104\t\tstory 24: .........\n",
      "31546.35209083557\t22.017462015151978\t\tstory 25: ...........\n",
      "31570.78605890274\t24.43396806716919\t\tstory 26: .........\n",
      "31591.3259909153\t20.539932012557983\t\tstory 27: .........\n",
      "31612.14979982376\t20.823808908462524\t\tstory 28: .........\n",
      "31640.79847884178\t28.64867901802063\t\tstory 29: ...........................\n",
      "31704.243809700012\t63.44533085823059\t\tstory 30: .........\n",
      "31729.132712841034\t24.88890314102173\t\tstory 31: .........\n",
      "31949.29620194435\t220.16348910331726\t\tstory 32: ...........\n",
      "31974.391160726547\t25.094958782196045\t\tstory 33: ............\n",
      "32033.084491729736\t58.69333100318909\t\tstory 34: ........\n",
      "32068.56310081482\t35.47860908508301\t\tstory 35: .........\n",
      "32363.08507490158\t294.5219740867615\t\tstory 36: ."
     ]
    },
    {
     "name": "stderr",
     "output_type": "stream",
     "text": [
      "INFO:backoff:Backing off send_request(...) for 0.1s (requests.exceptions.ConnectionError: ('Connection aborted.', ConnectionResetError(54, 'Connection reset by peer')))\n"
     ]
    },
    {
     "name": "stdout",
     "output_type": "stream",
     "text": [
      "........\n",
      "32385.54637980461\t22.461304903030396\t\tstory 37: ............................\n",
      "32684.482476711273\t298.936096906662\t\tstory 38: ."
     ]
    },
    {
     "name": "stderr",
     "output_type": "stream",
     "text": [
      "INFO:backoff:Backing off send_request(...) for 0.6s (requests.exceptions.ConnectionError: ('Connection aborted.', ConnectionResetError(54, 'Connection reset by peer')))\n"
     ]
    },
    {
     "name": "stdout",
     "output_type": "stream",
     "text": [
      "........\n",
      "32968.80604982376\t284.3235731124878\t\tstory 39: ."
     ]
    },
    {
     "name": "stderr",
     "output_type": "stream",
     "text": [
      "INFO:backoff:Backing off send_request(...) for 0.7s (requests.exceptions.ConnectionError: ('Connection aborted.', ConnectionResetError(54, 'Connection reset by peer')))\n"
     ]
    },
    {
     "name": "stdout",
     "output_type": "stream",
     "text": [
      "........\n",
      "32990.734432697296\t21.928382873535156\t\tstory 40: .........\n",
      "33011.55231785774\t20.817885160446167\t\tstory 41: .........\n",
      "33031.588070869446\t20.03575301170349\t\tstory 42: ........\n",
      "33246.24626684189\t214.65819597244263\t\tstory 43: ............\n",
      "33280.84104681015\t34.59477996826172\t\tstory 44: .........\n",
      "33557.38243484497\t276.54138803482056\t\tstory 45: ."
     ]
    },
    {
     "name": "stderr",
     "output_type": "stream",
     "text": [
      "INFO:backoff:Backing off send_request(...) for 0.7s (requests.exceptions.ConnectionError: ('Connection aborted.', ConnectionResetError(54, 'Connection reset by peer')))\n"
     ]
    },
    {
     "name": "stdout",
     "output_type": "stream",
     "text": [
      ".......\n",
      "33576.00563788414\t18.62320303916931\t\tstory 46: .........\n",
      "33595.20346093178\t19.19782304763794\t\tstory 47: .........\n",
      "33775.08675575256\t179.88329482078552\t\tstory 48: ............\n",
      "33800.59599900246\t25.50924324989319\t\tstory 49: ........\n",
      "33870.46015071869\t69.8641517162323\t\tstory 50: .........\n",
      "33926.52495884895\t56.06480813026428\t\tstory 51: .........\n",
      "34014.93211770058\t88.40715885162354\t\tstory 52: .........\n",
      "34040.113786935806\t25.181669235229492\t\tstory 53: .........\n",
      "34057.164893865585\t17.051106929779053\t\tstory 54: ............\n",
      "34318.82409977913\t261.6592059135437\t\tstory 55: .........\n",
      "34337.52289271355\t18.698792934417725\t\tstory 56: ........\n",
      "34354.38669681549\t16.86380410194397\t\tstory 57: .........\n",
      "34399.5825176239\t45.195820808410645\t\tstory 58: .........\n",
      "34457.736793756485\t58.15427613258362\t\tstory 59: ............\n",
      "34725.087513923645\t267.35072016716003\t\tstory 60: ........."
     ]
    },
    {
     "name": "stderr",
     "output_type": "stream",
     "text": [
      "INFO:backoff:Backing off send_request(...) for 0.5s (requests.exceptions.ConnectionError: ('Connection aborted.', ConnectionResetError(54, 'Connection reset by peer')))\n"
     ]
    },
    {
     "name": "stdout",
     "output_type": "stream",
     "text": [
      "\n",
      "35048.79020690918\t323.70269298553467\t\tstory 61: .........\n",
      "35073.812312841415\t25.022105932235718\t\tstory 62: .........\n",
      "35098.67997598648\t24.867663145065308\t\tstory 63: .........\n",
      "35121.160710811615\t22.480734825134277\t\tstory 64: ...........\n",
      "35149.17073273659\t28.010021924972534\t\tstory 65: .........\n",
      "35199.51753783226\t50.34680509567261\t\tstory 66: .........\n",
      "35366.23244476318\t166.71490693092346\t\tstory 67: .........\n",
      "35388.67231082916\t22.439866065979004\t\tstory 68: ........."
     ]
    },
    {
     "name": "stderr",
     "output_type": "stream",
     "text": [
      "INFO:backoff:Backing off send_request(...) for 0.1s (requests.exceptions.ConnectionError: ('Connection aborted.', ConnectionResetError(54, 'Connection reset by peer')))\n"
     ]
    },
    {
     "name": "stdout",
     "output_type": "stream",
     "text": [
      "\n",
      "36360.18270587921\t971.5103950500488\t\tstory 69: ........\n",
      "36376.398817777634\t16.21611189842224\t\tstory 70: ........\n",
      "36398.56886291504\t22.170045137405396\t\tstory 71: .........\n",
      "36417.274901628494\t18.7060387134552\t\tstory 72: ........."
     ]
    },
    {
     "name": "stderr",
     "output_type": "stream",
     "text": [
      "INFO:backoff:Backing off send_request(...) for 0.3s (requests.exceptions.ConnectionError: ('Connection aborted.', ConnectionResetError(54, 'Connection reset by peer')))\n"
     ]
    },
    {
     "name": "stdout",
     "output_type": "stream",
     "text": [
      "\n",
      "37256.215416669846\t838.9405150413513\t\tstory 73: .........\n",
      "37281.80931377411\t25.593897104263306\t\tstory 74: .........\n",
      "37302.500126838684\t20.690813064575195\t\tstory 75: .........\n",
      "37320.780391931534\t18.28026509284973\t\tstory 76: ...........\n",
      "37559.71993970871\t238.9395477771759\t\tstory 77: ...........\n",
      "37585.41492772102\t25.694988012313843\t\tstory 78: ........\n",
      "37723.600272893906\t138.18534517288208\t\tstory 79: .........\n",
      "38080.320418834686\t356.72014594078064\t\tstory 80: ."
     ]
    },
    {
     "name": "stderr",
     "output_type": "stream",
     "text": [
      "INFO:backoff:Backing off send_request(...) for 0.8s (requests.exceptions.ConnectionError: ('Connection aborted.', ConnectionResetError(54, 'Connection reset by peer')))\n"
     ]
    },
    {
     "name": "stdout",
     "output_type": "stream",
     "text": [
      "........\n",
      "38101.51909685135\t21.198678016662598\t\tstory 81: .........\n",
      "38121.06672477722\t19.547627925872803\t\tstory 82: .........\n",
      "38230.18043589592\t109.11371111869812\t\tstory 83: .........\n",
      "38251.12957382202\t20.949137926101685\t\tstory 84: ............\n",
      "38279.70948576927\t28.579911947250366\t\tstory 85: .........\n",
      "39249.88886475563\t970.1793789863586\t\tstory 86: ."
     ]
    },
    {
     "name": "stderr",
     "output_type": "stream",
     "text": [
      "INFO:backoff:Backing off send_request(...) for 0.2s (requests.exceptions.ConnectionError: ('Connection aborted.', ConnectionResetError(54, 'Connection reset by peer')))\n"
     ]
    },
    {
     "name": "stdout",
     "output_type": "stream",
     "text": [
      "........\n",
      "40218.019424676895\t968.1305599212646\t\tstory 87: ."
     ]
    },
    {
     "name": "stderr",
     "output_type": "stream",
     "text": [
      "INFO:backoff:Backing off send_request(...) for 0.4s (requests.exceptions.ConnectionError: ('Connection aborted.', ConnectionResetError(54, 'Connection reset by peer')))\n"
     ]
    },
    {
     "name": "stdout",
     "output_type": "stream",
     "text": [
      "........\n",
      "40242.49627780914\t24.476853132247925\t\tstory 88: ............\n",
      "40269.67847490311\t27.182197093963623\t\tstory 89: ........\n",
      "40288.210169792175\t18.531694889068604\t\tstory 90: .........\n",
      "40306.81163597107\t18.601466178894043\t\tstory 91: ........\n",
      "41346.10965681076\t1039.2980208396912\t\tstory 92: ."
     ]
    },
    {
     "name": "stderr",
     "output_type": "stream",
     "text": [
      "INFO:backoff:Backing off send_request(...) for 1.0s (requests.exceptions.ConnectionError: ('Connection aborted.', ConnectionResetError(54, 'Connection reset by peer')))\n"
     ]
    },
    {
     "name": "stdout",
     "output_type": "stream",
     "text": [
      "........\n",
      "41367.87319087982\t21.76353406906128\t\tstory 93: ...............\n",
      "41407.609850883484\t39.73666000366211\t\tstory 94: .............................\n",
      "42392.74068284035\t985.1308319568634\t\tstory 95: ."
     ]
    },
    {
     "name": "stderr",
     "output_type": "stream",
     "text": [
      "INFO:backoff:Backing off send_request(...) for 0.9s (requests.exceptions.ConnectionError: ('Connection aborted.', ConnectionResetError(54, 'Connection reset by peer')))\n"
     ]
    },
    {
     "name": "stdout",
     "output_type": "stream",
     "text": [
      "........\n",
      "42443.418061733246\t50.67737889289856\t\tstory 96: ...........\n",
      "42467.234135866165\t23.81607413291931\t\tstory 97: ........\n",
      "43541.9476249218\t1074.7134890556335\t\tstory 98: ."
     ]
    },
    {
     "name": "stderr",
     "output_type": "stream",
     "text": [
      "INFO:backoff:Backing off send_request(...) for 0.2s (requests.exceptions.ConnectionError: ('Connection aborted.', ConnectionResetError(54, 'Connection reset by peer')))\n"
     ]
    },
    {
     "name": "stdout",
     "output_type": "stream",
     "text": [
      ".........................\n",
      "44504.50732374191\t962.5596988201141\t\tstory 99: ."
     ]
    },
    {
     "name": "stderr",
     "output_type": "stream",
     "text": [
      "INFO:backoff:Backing off send_request(...) for 1.0s (requests.exceptions.ConnectionError: ('Connection aborted.', ConnectionResetError(54, 'Connection reset by peer')))\n"
     ]
    },
    {
     "name": "stdout",
     "output_type": "stream",
     "text": [
      "........\n",
      "44522.07641196251\t17.569088220596313\t\tstory 100: ............45577.184203624725\t1055.1077947616577\tOverlap [0.1] 40\n",
      "\n",
      "45577.18429803848\t1055.1078860759735\t\tstory 1: ."
     ]
    },
    {
     "name": "stderr",
     "output_type": "stream",
     "text": [
      "INFO:backoff:Backing off send_request(...) for 0.9s (requests.exceptions.ConnectionError: ('Connection aborted.', ConnectionResetError(54, 'Connection reset by peer')))\n"
     ]
    },
    {
     "name": "stdout",
     "output_type": "stream",
     "text": [
      "........\n",
      "45596.50847578049\t19.324177742004395\t\tstory 2: .........\n",
      "46518.964693784714\t922.4562180042267\t\tstory 3: ."
     ]
    },
    {
     "name": "stderr",
     "output_type": "stream",
     "text": [
      "INFO:backoff:Backing off send_request(...) for 0.8s (requests.exceptions.ConnectionError: ('Connection aborted.', ConnectionResetError(54, 'Connection reset by peer')))\n"
     ]
    },
    {
     "name": "stdout",
     "output_type": "stream",
     "text": [
      "........\n",
      "46537.6692507267\t18.704556941986084\t\tstory 4: ........"
     ]
    },
    {
     "name": "stderr",
     "output_type": "stream",
     "text": [
      "INFO:backoff:Backing off send_request(...) for 0.7s (requests.exceptions.ConnectionError: ('Connection aborted.', ConnectionResetError(54, 'Connection reset by peer')))\n"
     ]
    },
    {
     "name": "stdout",
     "output_type": "stream",
     "text": [
      "\n",
      "47502.95565390587\t965.2864031791687\t\tstory 5: .........\n",
      "47520.81779098511\t17.86213707923889\t\tstory 6: .........\n",
      "47541.838550806046\t21.02075982093811\t\tstory 7: .........\n",
      "48530.47850084305\t988.6399500370026\t\tstory 8: ."
     ]
    },
    {
     "name": "stderr",
     "output_type": "stream",
     "text": [
      "INFO:backoff:Backing off send_request(...) for 0.3s (requests.exceptions.ConnectionError: ('Connection aborted.', ConnectionResetError(54, 'Connection reset by peer')))\n"
     ]
    },
    {
     "name": "stdout",
     "output_type": "stream",
     "text": [
      "...........\n",
      "48559.674028635025\t29.19552779197693\t\tstory 9: ............"
     ]
    },
    {
     "name": "stderr",
     "output_type": "stream",
     "text": [
      "INFO:backoff:Backing off send_request(...) for 0.2s (requests.exceptions.ConnectionError: ('Connection aborted.', ConnectionResetError(54, 'Connection reset by peer')))\n"
     ]
    },
    {
     "name": "stdout",
     "output_type": "stream",
     "text": [
      "\n",
      "49494.19344377518\t934.519415140152\t\tstory 10: .........\n",
      "49518.36314082146\t24.169697046279907\t\tstory 11: .........\n",
      "49539.74340772629\t21.380266904830933\t\tstory 12: .......\n",
      "50532.744092941284\t993.0006852149963\t\tstory 13: ."
     ]
    },
    {
     "name": "stderr",
     "output_type": "stream",
     "text": [
      "INFO:backoff:Backing off send_request(...) for 1.0s (requests.exceptions.ConnectionError: ('Connection aborted.', ConnectionResetError(54, 'Connection reset by peer')))\n"
     ]
    },
    {
     "name": "stdout",
     "output_type": "stream",
     "text": [
      "........\n",
      "50552.23481488228\t19.490721940994263\t\tstory 14: .........\n",
      "51492.41395568848\t940.1791408061981\t\tstory 15: ."
     ]
    },
    {
     "name": "stderr",
     "output_type": "stream",
     "text": [
      "INFO:backoff:Backing off send_request(...) for 0.7s (requests.exceptions.ConnectionError: ('Connection aborted.', ConnectionResetError(54, 'Connection reset by peer')))\n"
     ]
    },
    {
     "name": "stdout",
     "output_type": "stream",
     "text": [
      "........\n",
      "51512.53196787834\t20.118012189865112\t\tstory 16: .......\n",
      "51528.85381770134\t16.321849822998047\t\tstory 17: ........."
     ]
    },
    {
     "name": "stderr",
     "output_type": "stream",
     "text": [
      "INFO:backoff:Backing off send_request(...) for 0.3s (requests.exceptions.ReadTimeout: HTTPSConnectionPool(host='app.posthog.com', port=443): Read timed out. (read timeout=15))\n"
     ]
    },
    {
     "name": "stdout",
     "output_type": "stream",
     "text": [
      "\n",
      "51545.63780379295\t16.78398609161377\t\tstory 18: ......."
     ]
    },
    {
     "name": "stderr",
     "output_type": "stream",
     "text": [
      "INFO:backoff:Backing off send_request(...) for 1.7s (requests.exceptions.ConnectionError: HTTPSConnectionPool(host='app.posthog.com', port=443): Max retries exceeded with url: /batch/ (Caused by NewConnectionError('<urllib3.connection.HTTPSConnection object at 0x11785b310>: Failed to establish a new connection: [Errno 8] nodename nor servname provided, or not known')))\n"
     ]
    },
    {
     "name": "stdout",
     "output_type": "stream",
     "text": [
      "."
     ]
    },
    {
     "name": "stderr",
     "output_type": "stream",
     "text": [
      "INFO:backoff:Backing off send_request(...) for 3.1s (requests.exceptions.ConnectionError: HTTPSConnectionPool(host='app.posthog.com', port=443): Max retries exceeded with url: /batch/ (Caused by NewConnectionError('<urllib3.connection.HTTPSConnection object at 0x11785b130>: Failed to establish a new connection: [Errno 8] nodename nor servname provided, or not known')))\n"
     ]
    },
    {
     "name": "stdout",
     "output_type": "stream",
     "text": [
      "."
     ]
    },
    {
     "name": "stderr",
     "output_type": "stream",
     "text": [
      "ERROR:backoff:Giving up send_request(...) after 4 tries (requests.exceptions.ConnectionError: HTTPSConnectionPool(host='app.posthog.com', port=443): Max retries exceeded with url: /batch/ (Caused by NewConnectionError('<urllib3.connection.HTTPSConnection object at 0x11785b6a0>: Failed to establish a new connection: [Errno 8] nodename nor servname provided, or not known')))\n"
     ]
    },
    {
     "name": "stdout",
     "output_type": "stream",
     "text": [
      "\n",
      "51613.64391088486\t68.00610709190369\t\tstory 19: .........\n",
      "51635.10065984726\t21.456748962402344\t\tstory 20: .........\n",
      "51654.38101196289\t19.280352115631104\t\tstory 21: ........\n",
      "52574.722487688065\t920.341475725174\t\tstory 22: ."
     ]
    },
    {
     "name": "stderr",
     "output_type": "stream",
     "text": [
      "INFO:backoff:Backing off send_request(...) for 0.7s (requests.exceptions.ConnectionError: ('Connection aborted.', ConnectionResetError(54, 'Connection reset by peer')))\n"
     ]
    },
    {
     "name": "stdout",
     "output_type": "stream",
     "text": [
      "........\n",
      "52592.28567671776\t17.563189029693604\t\tstory 23: .........\n",
      "53686.72738265991\t1094.441705942154\t\tstory 24: ."
     ]
    },
    {
     "name": "stderr",
     "output_type": "stream",
     "text": [
      "INFO:backoff:Backing off send_request(...) for 0.2s (requests.exceptions.ConnectionError: ('Connection aborted.', ConnectionResetError(54, 'Connection reset by peer')))\n"
     ]
    },
    {
     "name": "stdout",
     "output_type": "stream",
     "text": [
      "........\n",
      "53708.618845939636\t21.89146327972412\t\tstory 25: ...........\n",
      "53734.37846183777\t25.759615898132324\t\tstory 26: ."
     ]
    },
    {
     "name": "stderr",
     "output_type": "stream",
     "text": [
      "INFO:backoff:Backing off send_request(...) for 0.3s (requests.exceptions.ConnectionError: ('Connection aborted.', ConnectionResetError(54, 'Connection reset by peer')))\n"
     ]
    },
    {
     "name": "stdout",
     "output_type": "stream",
     "text": [
      "........\n",
      "54742.32608485222\t1007.9476230144501\t\tstory 27: .........\n",
      "54763.92204976082\t21.595964908599854\t\tstory 28: .........\n",
      "55732.861840963364\t968.9397912025452\t\tstory 29: ."
     ]
    },
    {
     "name": "stderr",
     "output_type": "stream",
     "text": [
      "INFO:backoff:Backing off send_request(...) for 1.0s (requests.exceptions.ConnectionError: ('Connection aborted.', ConnectionResetError(54, 'Connection reset by peer')))\n"
     ]
    },
    {
     "name": "stdout",
     "output_type": "stream",
     "text": [
      ".........................."
     ]
    },
    {
     "name": "stderr",
     "output_type": "stream",
     "text": [
      "INFO:backoff:Backing off send_request(...) for 0.0s (requests.exceptions.ConnectionError: ('Connection aborted.', ConnectionResetError(54, 'Connection reset by peer')))\n"
     ]
    },
    {
     "name": "stdout",
     "output_type": "stream",
     "text": [
      "\n",
      "56714.93526387215\t982.073422908783\t\tstory 30: .........\n",
      "56740.56690573692\t25.63164186477661\t\tstory 31: .........\n",
      "57833.281005859375\t1092.7141001224518\t\tstory 32: ."
     ]
    },
    {
     "name": "stderr",
     "output_type": "stream",
     "text": [
      "INFO:backoff:Backing off send_request(...) for 0.9s (requests.exceptions.ConnectionError: ('Connection aborted.', ConnectionResetError(54, 'Connection reset by peer')))\n"
     ]
    },
    {
     "name": "stdout",
     "output_type": "stream",
     "text": [
      "..........\n",
      "57859.61628699303\t26.335281133651733\t\tstory 33: ............\n",
      "57885.63037276268\t26.01408576965332\t\tstory 34: ........\n",
      "58851.31995487213\t965.6895821094513\t\tstory 35: ."
     ]
    },
    {
     "name": "stderr",
     "output_type": "stream",
     "text": [
      "INFO:backoff:Backing off send_request(...) for 0.5s (requests.exceptions.ConnectionError: ('Connection aborted.', ConnectionResetError(54, 'Connection reset by peer')))\n"
     ]
    },
    {
     "name": "stdout",
     "output_type": "stream",
     "text": [
      "........\n",
      "58873.00904870033\t21.689093828201294\t\tstory 36: .........\n",
      "59960.988303899765\t1087.9792551994324\t\tstory 37: ."
     ]
    },
    {
     "name": "stderr",
     "output_type": "stream",
     "text": [
      "INFO:backoff:Backing off send_request(...) for 0.6s (requests.exceptions.ConnectionError: ('Connection aborted.', ConnectionResetError(54, 'Connection reset by peer')))\n"
     ]
    },
    {
     "name": "stdout",
     "output_type": "stream",
     "text": [
      "...........................\n",
      "60953.587181806564\t992.5988779067993\t\tstory 38: ."
     ]
    },
    {
     "name": "stderr",
     "output_type": "stream",
     "text": [
      "INFO:backoff:Backing off send_request(...) for 0.5s (requests.exceptions.ConnectionError: ('Connection aborted.', ConnectionResetError(54, 'Connection reset by peer')))\n"
     ]
    },
    {
     "name": "stdout",
     "output_type": "stream",
     "text": [
      "........\n",
      "60978.348173856735\t24.7609920501709\t\tstory 39: .........\n",
      "62002.5305018425\t1024.1823279857635\t\tstory 40: ."
     ]
    },
    {
     "name": "stderr",
     "output_type": "stream",
     "text": [
      "INFO:backoff:Backing off send_request(...) for 0.5s (requests.exceptions.ConnectionError: ('Connection aborted.', ConnectionResetError(54, 'Connection reset by peer')))\n"
     ]
    },
    {
     "name": "stdout",
     "output_type": "stream",
     "text": [
      "........\n",
      "62017.37370181084\t14.843199968338013\t\tstory 41: .........\n",
      "63050.89196681976\t1033.5182650089264\t\tstory 42: ."
     ]
    },
    {
     "name": "stderr",
     "output_type": "stream",
     "text": [
      "INFO:backoff:Backing off send_request(...) for 0.9s (requests.exceptions.ConnectionError: ('Connection aborted.', ConnectionResetError(54, 'Connection reset by peer')))\n"
     ]
    },
    {
     "name": "stdout",
     "output_type": "stream",
     "text": [
      ".......\n",
      "63064.74855685234\t13.856590032577515\t\tstory 43: ............\n",
      "63095.49373173714\t30.745174884796143\t\tstory 44: .........\n",
      "64085.33993887901\t989.8462071418762\t\tstory 45: ."
     ]
    },
    {
     "name": "stderr",
     "output_type": "stream",
     "text": [
      "INFO:backoff:Backing off send_request(...) for 0.0s (requests.exceptions.ConnectionError: ('Connection aborted.', ConnectionResetError(54, 'Connection reset by peer')))\n"
     ]
    },
    {
     "name": "stdout",
     "output_type": "stream",
     "text": [
      ".......\n",
      "64103.263350725174\t17.92341184616089\t\tstory 46: .........\n",
      "64122.80753469467\t19.54418396949768\t\tstory 47: .........\n",
      "64770.960325956345\t648.152791261673\t\tstory 48: ."
     ]
    },
    {
     "name": "stderr",
     "output_type": "stream",
     "text": [
      "INFO:backoff:Backing off send_request(...) for 0.9s (requests.exceptions.ConnectionError: ('Connection aborted.', ConnectionResetError(54, 'Connection reset by peer')))\n"
     ]
    },
    {
     "name": "stdout",
     "output_type": "stream",
     "text": [
      "...........\n",
      "64797.79988193512\t26.839555978775024\t\tstory 49: ........\n",
      "64817.57654976845\t19.776667833328247\t\tstory 50: .........\n",
      "65778.5237839222\t960.9472341537476\t\tstory 51: ."
     ]
    },
    {
     "name": "stderr",
     "output_type": "stream",
     "text": [
      "INFO:backoff:Backing off send_request(...) for 0.9s (requests.exceptions.ConnectionError: ('Connection aborted.', ConnectionResetError(54, 'Connection reset by peer')))\n"
     ]
    },
    {
     "name": "stdout",
     "output_type": "stream",
     "text": [
      "........\n",
      "65802.19573879242\t23.671954870224\t\tstory 52: .........\n",
      "65861.9101099968\t59.71437120437622\t\tstory 53: .........\n",
      "65877.868216753\t15.958106756210327\t\tstory 54: ............"
     ]
    },
    {
     "name": "stderr",
     "output_type": "stream",
     "text": [
      "INFO:backoff:Backing off send_request(...) for 0.8s (requests.exceptions.ConnectionError: ('Connection aborted.', ConnectionResetError(54, 'Connection reset by peer')))\n"
     ]
    },
    {
     "name": "stdout",
     "output_type": "stream",
     "text": [
      "\n",
      "66823.19855999947\t945.33034324646\t\tstory 55: .........\n",
      "66841.86145687103\t18.662896871566772\t\tstory 56: ........"
     ]
    },
    {
     "name": "stderr",
     "output_type": "stream",
     "text": [
      "INFO:backoff:Backing off send_request(...) for 1.0s (requests.exceptions.ConnectionError: ('Connection aborted.', ConnectionResetError(54, 'Connection reset by peer')))\n"
     ]
    },
    {
     "name": "stdout",
     "output_type": "stream",
     "text": [
      "\n",
      "67906.51568484306\t1064.6542279720306\t\tstory 57: .........\n",
      "67924.14372467995\t17.628039836883545\t\tstory 58: .........\n",
      "67947.47435760498\t23.33063292503357\t\tstory 59: ............\n",
      "68165.11198472977\t217.63762712478638\t\tstory 60: .........\n",
      "68187.46857190132\t22.356587171554565\t\tstory 61: .........\n",
      "68231.00433588028\t43.53576397895813\t\tstory 62: .........\n",
      "68258.06401586533\t27.059679985046387\t\tstory 63: ......"
     ]
    },
    {
     "name": "stderr",
     "output_type": "stream",
     "text": [
      "INFO:backoff:Backing off send_request(...) for 0.2s (requests.exceptions.ReadTimeout: HTTPSConnectionPool(host='app.posthog.com', port=443): Read timed out. (read timeout=15))\n"
     ]
    },
    {
     "name": "stdout",
     "output_type": "stream",
     "text": [
      "...\n",
      "68308.02187395096\t49.957858085632324\t\tstory 64: ...........\n",
      "68336.95942187309\t28.9375479221344\t\tstory 65: .........\n",
      "68675.03270578384\t338.07328391075134\t\tstory 66: ."
     ]
    },
    {
     "name": "stderr",
     "output_type": "stream",
     "text": [
      "INFO:backoff:Backing off send_request(...) for 0.0s (requests.exceptions.ConnectionError: ('Connection aborted.', ConnectionResetError(54, 'Connection reset by peer')))\n"
     ]
    },
    {
     "name": "stdout",
     "output_type": "stream",
     "text": [
      "........\n",
      "68693.34954762459\t18.31684184074402\t\tstory 67: .........\n",
      "68741.43738865852\t48.08784103393555\t\tstory 68: .........\n",
      "68761.37658500671\t19.939196348190308\t\tstory 69: ........\n",
      "68778.07851600647\t16.70193099975586\t\tstory 70: ........\n",
      "68805.12452983856\t27.046013832092285\t\tstory 71: .........\n",
      "68823.9901649952\t18.86563515663147\t\tstory 72: .........\n",
      "68849.9354827404\t25.94531774520874\t\tstory 73: .........\n",
      "68875.94850683212\t26.01302409172058\t\tstory 74: .........\n",
      "69396.68445801735\t520.7359511852264\t\tstory 75: ."
     ]
    },
    {
     "name": "stderr",
     "output_type": "stream",
     "text": [
      "INFO:backoff:Backing off send_request(...) for 0.6s (requests.exceptions.ConnectionError: ('Connection aborted.', ConnectionResetError(54, 'Connection reset by peer')))\n"
     ]
    },
    {
     "name": "stdout",
     "output_type": "stream",
     "text": [
      "........\n",
      "69415.4644780159\t18.780019998550415\t\tstory 76: ...........\n",
      "70358.91125202179\t943.4467740058899\t\tstory 77: ."
     ]
    },
    {
     "name": "stderr",
     "output_type": "stream",
     "text": [
      "INFO:backoff:Backing off send_request(...) for 0.4s (requests.exceptions.ConnectionError: ('Connection aborted.', ConnectionResetError(54, 'Connection reset by peer')))\n"
     ]
    },
    {
     "name": "stdout",
     "output_type": "stream",
     "text": [
      "..........\n",
      "70385.97035694122\t27.059104919433594\t\tstory 78: ........\n",
      "70630.32458376884\t244.35422682762146\t\tstory 79: ."
     ]
    },
    {
     "name": "stderr",
     "output_type": "stream",
     "text": [
      "INFO:backoff:Backing off send_request(...) for 0.5s (requests.exceptions.ConnectionError: ('Connection aborted.', ConnectionResetError(54, 'Connection reset by peer')))\n"
     ]
    },
    {
     "name": "stdout",
     "output_type": "stream",
     "text": [
      "........\n",
      "70658.82174897194\t28.497165203094482\t\tstory 80: .........\n",
      "70693.28585982323\t34.46411085128784\t\tstory 81: .........\n",
      "70712.77780079842\t19.49194097518921\t\tstory 82: .........\n",
      "70731.97926878929\t19.201467990875244\t\tstory 83: .........\n",
      "70779.61479187012\t47.635523080825806\t\tstory 84: ............\n",
      "70810.890447855\t31.27565598487854\t\tstory 85: .........\n",
      "71795.94214391708\t985.051696062088\t\tstory 86: ."
     ]
    },
    {
     "name": "stderr",
     "output_type": "stream",
     "text": [
      "INFO:backoff:Backing off send_request(...) for 0.7s (requests.exceptions.ConnectionError: ('Connection aborted.', ConnectionResetError(54, 'Connection reset by peer')))\n"
     ]
    },
    {
     "name": "stdout",
     "output_type": "stream",
     "text": [
      "........\n",
      "72830.79983186722\t1034.8576879501343\t\tstory 87: ."
     ]
    },
    {
     "name": "stderr",
     "output_type": "stream",
     "text": [
      "INFO:backoff:Backing off send_request(...) for 0.8s (requests.exceptions.ConnectionError: ('Connection aborted.', ConnectionResetError(54, 'Connection reset by peer')))\n"
     ]
    },
    {
     "name": "stdout",
     "output_type": "stream",
     "text": [
      "........\n",
      "72856.59896564484\t25.799133777618408\t\tstory 88: ............\n",
      "73820.17003703117\t963.5710713863373\t\tstory 89: ."
     ]
    },
    {
     "name": "stderr",
     "output_type": "stream",
     "text": [
      "INFO:backoff:Backing off send_request(...) for 0.2s (requests.exceptions.ConnectionError: ('Connection aborted.', ConnectionResetError(54, 'Connection reset by peer')))\n"
     ]
    },
    {
     "name": "stdout",
     "output_type": "stream",
     "text": [
      ".......\n",
      "73838.05103778839\t17.881000757217407\t\tstory 90: .........\n",
      "73856.95751976967\t18.906481981277466\t\tstory 91: ........\n",
      "74803.2687549591\t946.3112351894379\t\tstory 92: ."
     ]
    },
    {
     "name": "stderr",
     "output_type": "stream",
     "text": [
      "INFO:backoff:Backing off send_request(...) for 0.1s (requests.exceptions.ConnectionError: ('Connection aborted.', ConnectionResetError(54, 'Connection reset by peer')))\n"
     ]
    },
    {
     "name": "stdout",
     "output_type": "stream",
     "text": [
      "........\n",
      "74825.85798573494\t22.58923077583313\t\tstory 93: ...............\n",
      "75944.9486618042\t1119.0906760692596\t\tstory 94: ."
     ]
    },
    {
     "name": "stderr",
     "output_type": "stream",
     "text": [
      "INFO:backoff:Backing off send_request(...) for 0.9s (requests.exceptions.ConnectionError: ('Connection aborted.', ConnectionResetError(54, 'Connection reset by peer')))\n"
     ]
    },
    {
     "name": "stdout",
     "output_type": "stream",
     "text": [
      "............................\n",
      "76039.65639281273\t94.70773100852966\t\tstory 95: .........\n",
      "76978.6341278553\t938.977735042572\t\tstory 96: ."
     ]
    },
    {
     "name": "stderr",
     "output_type": "stream",
     "text": [
      "INFO:backoff:Backing off send_request(...) for 0.5s (requests.exceptions.ConnectionError: ('Connection aborted.', ConnectionResetError(54, 'Connection reset by peer')))\n"
     ]
    },
    {
     "name": "stdout",
     "output_type": "stream",
     "text": [
      "..........\n",
      "77002.90748882294\t24.27336096763611\t\tstory 97: ........\n",
      "77023.11737298965\t20.20988416671753\t\tstory 98: ......................"
     ]
    },
    {
     "name": "stderr",
     "output_type": "stream",
     "text": [
      "INFO:backoff:Backing off send_request(...) for 0.2s (requests.exceptions.ConnectionError: ('Connection aborted.', ConnectionResetError(54, 'Connection reset by peer')))\n"
     ]
    },
    {
     "name": "stdout",
     "output_type": "stream",
     "text": [
      "....\n",
      "78901.89806699753\t1878.7806940078735\t\tstory 99: ."
     ]
    },
    {
     "name": "stderr",
     "output_type": "stream",
     "text": [
      "INFO:backoff:Backing off send_request(...) for 0.2s (requests.exceptions.ConnectionError: ('Connection aborted.', ConnectionResetError(54, 'Connection reset by peer')))\n"
     ]
    },
    {
     "name": "stdout",
     "output_type": "stream",
     "text": [
      "........\n",
      "78919.6669948101\t17.768927812576294\t\tstory 100: ............78949.28180289268\t29.614808797836304\tOverlap [0.2] 80\n",
      "\n",
      "78949.28184390068\t29.614849090576172\t\tstory 1: ........."
     ]
    },
    {
     "name": "stderr",
     "output_type": "stream",
     "text": [
      "INFO:backoff:Backing off send_request(...) for 0.0s (requests.exceptions.ConnectionError: ('Connection aborted.', ConnectionResetError(54, 'Connection reset by peer')))\n"
     ]
    },
    {
     "name": "stdout",
     "output_type": "stream",
     "text": [
      "\n",
      "79957.95041179657\t1008.6685678958893\t\tstory 2: .........\n",
      "79982.85368299484\t24.903271198272705\t\tstory 3: .........\n",
      "81052.70047903061\t1069.8467960357666\t\tstory 4: ."
     ]
    },
    {
     "name": "stderr",
     "output_type": "stream",
     "text": [
      "INFO:backoff:Backing off send_request(...) for 0.4s (requests.exceptions.ConnectionError: ('Connection aborted.', ConnectionResetError(54, 'Connection reset by peer')))\n"
     ]
    },
    {
     "name": "stdout",
     "output_type": "stream",
     "text": [
      ".......\n",
      "81071.26707267761\t18.566593647003174\t\tstory 5: .........\n",
      "81088.92056488991\t17.653492212295532\t\tstory 6: .........\n",
      "82116.86127591133\t1027.9407110214233\t\tstory 7: ."
     ]
    },
    {
     "name": "stderr",
     "output_type": "stream",
     "text": [
      "INFO:backoff:Backing off send_request(...) for 0.6s (requests.exceptions.ConnectionError: ('Connection aborted.', ConnectionResetError(54, 'Connection reset by peer')))\n"
     ]
    },
    {
     "name": "stdout",
     "output_type": "stream",
     "text": [
      "........\n",
      "82141.04296088219\t24.181684970855713\t\tstory 8: ............\n",
      "83219.5148487091\t1078.4718878269196\t\tstory 9: ."
     ]
    },
    {
     "name": "stderr",
     "output_type": "stream",
     "text": [
      "INFO:backoff:Backing off send_request(...) for 0.8s (requests.exceptions.ConnectionError: ('Connection aborted.', ConnectionResetError(54, 'Connection reset by peer')))\n"
     ]
    },
    {
     "name": "stdout",
     "output_type": "stream",
     "text": [
      "...........\n",
      "83246.54018473625\t27.025336027145386\t\tstory 10: ........."
     ]
    },
    {
     "name": "stderr",
     "output_type": "stream",
     "text": [
      "INFO:backoff:Backing off send_request(...) for 0.0s (requests.exceptions.ConnectionError: ('Connection aborted.', ConnectionResetError(54, 'Connection reset by peer')))\n"
     ]
    },
    {
     "name": "stdout",
     "output_type": "stream",
     "text": [
      "\n",
      "84331.99920988083\t1085.459025144577\t\tstory 11: .........\n",
      "84354.64305281639\t22.643842935562134\t\tstory 12: .......\n",
      "84372.98140692711\t18.338354110717773\t\tstory 13: .........\n",
      "84392.9209458828\t19.939538955688477\t\tstory 14: ........."
     ]
    },
    {
     "name": "stderr",
     "output_type": "stream",
     "text": [
      "INFO:backoff:Backing off send_request(...) for 0.9s (requests.exceptions.ConnectionError: ('Connection aborted.', ConnectionResetError(54, 'Connection reset by peer')))\n"
     ]
    },
    {
     "name": "stdout",
     "output_type": "stream",
     "text": [
      "\n",
      "85340.3642218113\t947.4432759284973\t\tstory 15: .........\n",
      "85361.07876873016\t20.71454691886902\t\tstory 16: .......\n",
      "85378.73883771896\t17.66006898880005\t\tstory 17: .........\n",
      "86392.66157889366\t1013.9227411746979\t\tstory 18: ."
     ]
    },
    {
     "name": "stderr",
     "output_type": "stream",
     "text": [
      "INFO:backoff:Backing off send_request(...) for 0.2s (requests.exceptions.ConnectionError: ('Connection aborted.', ConnectionResetError(54, 'Connection reset by peer')))\n"
     ]
    },
    {
     "name": "stdout",
     "output_type": "stream",
     "text": [
      "........\n",
      "86411.42007875443\t18.75849986076355\t\tstory 19: .........\n",
      "86435.35926890373\t23.93919014930725\t\tstory 20: .........\n",
      "86457.07587265968\t21.716603755950928\t\tstory 21: ........\n",
      "86475.64568781853\t18.569815158843994\t\tstory 22: .........\n",
      "86493.2727098465\t17.62702202796936\t\tstory 23: .........\n",
      "86511.14430904388\t17.871599197387695\t\tstory 24: .........\n",
      "86533.93235588074\t22.788046836853027\t\tstory 25: ...........\n",
      "86561.06999087334\t27.137634992599487\t\tstory 26: .........\n",
      "86582.80566883087\t21.73567795753479\t\tstory 27: .........\n",
      "86604.65512394905\t21.84945511817932\t\tstory 28: .........\n",
      "86633.93807387352\t29.282949924468994\t\tstory 29: ...........................\n",
      "86712.2248017788\t78.28672790527344\t\tstory 30: ........."
     ]
    },
    {
     "name": "stderr",
     "output_type": "stream",
     "text": [
      "INFO:backoff:Backing off send_request(...) for 0.4s (requests.exceptions.ConnectionError: ('Connection aborted.', ConnectionResetError(54, 'Connection reset by peer')))\n"
     ]
    },
    {
     "name": "stdout",
     "output_type": "stream",
     "text": [
      "\n",
      "87702.6435546875\t990.4187529087067\t\tstory 31: .........\n",
      "87725.68158173561\t23.038027048110962\t\tstory 32: ...........\n",
      "88817.28158187866\t1091.6000001430511\t\tstory 33: ."
     ]
    },
    {
     "name": "stderr",
     "output_type": "stream",
     "text": [
      "INFO:backoff:Backing off send_request(...) for 0.9s (requests.exceptions.ConnectionError: ('Connection aborted.', ConnectionResetError(54, 'Connection reset by peer')))\n"
     ]
    },
    {
     "name": "stdout",
     "output_type": "stream",
     "text": [
      "...........\n",
      "88845.66383695602\t28.38225507736206\t\tstory 34: ........\n",
      "88866.12792491913\t20.464087963104248\t\tstory 35: .........\n",
      "89907.53903269768\t1041.4111077785492\t\tstory 36: ."
     ]
    },
    {
     "name": "stderr",
     "output_type": "stream",
     "text": [
      "INFO:backoff:Backing off send_request(...) for 0.7s (requests.exceptions.ConnectionError: ('Connection aborted.', ConnectionResetError(54, 'Connection reset by peer')))\n"
     ]
    },
    {
     "name": "stdout",
     "output_type": "stream",
     "text": [
      "........\n",
      "89930.52028274536\t22.981250047683716\t\tstory 37: ............................\n",
      "91971.97012376785\t2041.4498410224915\t\tstory 38: ."
     ]
    },
    {
     "name": "stderr",
     "output_type": "stream",
     "text": [
      "INFO:backoff:Backing off send_request(...) for 0.7s (requests.exceptions.ConnectionError: ('Connection aborted.', ConnectionResetError(54, 'Connection reset by peer')))\n"
     ]
    },
    {
     "name": "stdout",
     "output_type": "stream",
     "text": [
      "........\n",
      "91997.34627985954\t25.376156091690063\t\tstory 39: .........\n",
      "92047.00781083107\t49.6615309715271\t\tstory 40: .........\n",
      "92062.38432383537\t15.376513004302979\t\tstory 41: .........\n",
      "92083.56909894943\t21.18477511405945\t\tstory 42: ........\n",
      "92349.61298584938\t266.0438868999481\t\tstory 43: ."
     ]
    },
    {
     "name": "stderr",
     "output_type": "stream",
     "text": [
      "INFO:backoff:Backing off send_request(...) for 0.0s (requests.exceptions.ConnectionError: ('Connection aborted.', ConnectionResetError(54, 'Connection reset by peer')))\n"
     ]
    },
    {
     "name": "stdout",
     "output_type": "stream",
     "text": [
      "...........\n",
      "92380.43949961662\t30.82651376724243\t\tstory 44: .........\n",
      "92406.2265598774\t25.787060260772705\t\tstory 45: ........\n",
      "92661.47055578232\t255.24399590492249\t\tstory 46: .........\n",
      "92681.80989170074\t20.339335918426514\t\tstory 47: ........."
     ]
    },
    {
     "name": "stderr",
     "output_type": "stream",
     "text": [
      "INFO:backoff:Backing off send_request(...) for 0.6s (requests.exceptions.ConnectionError: ('Connection aborted.', ConnectionResetError(54, 'Connection reset by peer')))\n"
     ]
    },
    {
     "name": "stdout",
     "output_type": "stream",
     "text": [
      "\n",
      "92954.86885786057\t273.05896615982056\t\tstory 48: ............\n",
      "92981.18952083588\t26.32066297531128\t\tstory 49: ........\n",
      "93002.07722187042\t20.8877010345459\t\tstory 50: .........\n",
      "93254.19364571571\t252.11642384529114\t\tstory 51: .........\n",
      "93279.26385879517\t25.070213079452515\t\tstory 52: .........\n",
      "93556.06181573868\t276.79795694351196\t\tstory 53: ."
     ]
    },
    {
     "name": "stderr",
     "output_type": "stream",
     "text": [
      "INFO:backoff:Backing off send_request(...) for 0.2s (requests.exceptions.ConnectionError: ('Connection aborted.', ConnectionResetError(54, 'Connection reset by peer')))\n"
     ]
    },
    {
     "name": "stdout",
     "output_type": "stream",
     "text": [
      "........\n",
      "93572.01545381546\t15.953638076782227\t\tstory 54: ............\n",
      "93853.12828588486\t281.112832069397\t\tstory 55: ."
     ]
    },
    {
     "name": "stderr",
     "output_type": "stream",
     "text": [
      "INFO:backoff:Backing off send_request(...) for 0.4s (requests.exceptions.ConnectionError: ('Connection aborted.', ConnectionResetError(54, 'Connection reset by peer')))\n"
     ]
    },
    {
     "name": "stdout",
     "output_type": "stream",
     "text": [
      "........\n",
      "93872.26613974571\t19.137853860855103\t\tstory 56: ........"
     ]
    },
    {
     "name": "stderr",
     "output_type": "stream",
     "text": [
      "INFO:backoff:Backing off send_request(...) for 0.2s (requests.exceptions.ConnectionError: ('Connection aborted.', ConnectionResetError(54, 'Connection reset by peer')))\n"
     ]
    },
    {
     "name": "stdout",
     "output_type": "stream",
     "text": [
      "\n",
      "94145.53476881981\t273.2686290740967\t\tstory 57: .........\n",
      "94161.90358185768\t16.368813037872314\t\tstory 58: .........\n",
      "94185.29898285866\t23.395401000976562\t\tstory 59: ............\n",
      "94374.87527775764\t189.57629489898682\t\tstory 60: .........\n",
      "94398.47597074509\t23.600692987442017\t\tstory 61: .........\n",
      "94492.28469371796\t93.80872297286987\t\tstory 62: .........\n",
      "94799.7344520092\t307.4497582912445\t\tstory 63: ."
     ]
    },
    {
     "name": "stderr",
     "output_type": "stream",
     "text": [
      "INFO:backoff:Backing off send_request(...) for 0.6s (requests.exceptions.ConnectionError: ('Connection aborted.', ConnectionResetError(54, 'Connection reset by peer')))\n"
     ]
    },
    {
     "name": "stdout",
     "output_type": "stream",
     "text": [
      "........\n",
      "94850.32391667366\t50.58946466445923\t\tstory 64: ...........\n",
      "94883.99577379227\t33.67185711860657\t\tstory 65: .........\n",
      "95060.6323390007\t176.63656520843506\t\tstory 66: ........."
     ]
    },
    {
     "name": "stderr",
     "output_type": "stream",
     "text": [
      "INFO:backoff:Backing off send_request(...) for 0.2s (requests.exceptions.ConnectionError: ('Connection aborted.', ConnectionResetError(54, 'Connection reset by peer')))\n"
     ]
    },
    {
     "name": "stdout",
     "output_type": "stream",
     "text": [
      "\n",
      "95360.26614403725\t299.6338050365448\t\tstory 67: .........\n",
      "95384.08683276176\t23.820688724517822\t\tstory 68: .........\n",
      "95450.66966676712\t66.58283400535583\t\tstory 69: ........\n",
      "95489.25534701347\t38.58568024635315\t\tstory 70: ........\n",
      "95587.61652588844\t98.36117887496948\t\tstory 71: .........\n",
      "95606.52053380013\t18.90400791168213\t\tstory 72: .........\n",
      "95680.38020086288\t73.8596670627594\t\tstory 73: .........\n",
      "95969.1606297493\t288.7804288864136\t\tstory 74: ."
     ]
    },
    {
     "name": "stderr",
     "output_type": "stream",
     "text": [
      "INFO:backoff:Backing off send_request(...) for 0.5s (requests.exceptions.ConnectionError: ('Connection aborted.', ConnectionResetError(54, 'Connection reset by peer')))\n"
     ]
    },
    {
     "name": "stdout",
     "output_type": "stream",
     "text": [
      "........\n",
      "96346.01328897476\t376.85265922546387\t\tstory 75: ."
     ]
    },
    {
     "name": "stderr",
     "output_type": "stream",
     "text": [
      "INFO:backoff:Backing off send_request(...) for 1.0s (requests.exceptions.ConnectionError: ('Connection aborted.', ConnectionResetError(54, 'Connection reset by peer')))\n"
     ]
    },
    {
     "name": "stdout",
     "output_type": "stream",
     "text": [
      "........\n",
      "96366.02690982819\t20.013620853424072\t\tstory 76: ...........\n",
      "96517.08169388771\t151.05478405952454\t\tstory 77: ...........\n",
      "96562.96922707558\t45.88753318786621\t\tstory 78: ........\n",
      "96702.34300684929\t139.37377977371216\t\tstory 79: .........\n",
      "96858.88350081444\t156.54049396514893\t\tstory 80: .........\n",
      "96994.72849988937\t135.8449990749359\t\tstory 81: .........\n",
      "97662.77978277206\t668.0512828826904\t\tstory 82: ."
     ]
    },
    {
     "name": "stderr",
     "output_type": "stream",
     "text": [
      "INFO:backoff:Backing off send_request(...) for 0.5s (requests.exceptions.ConnectionError: ('Connection aborted.', ConnectionResetError(54, 'Connection reset by peer')))\n"
     ]
    },
    {
     "name": "stdout",
     "output_type": "stream",
     "text": [
      "........\n",
      "97682.56506705284\t19.785284280776978\t\tstory 83: .........\n",
      "97704.6109969616\t22.04592990875244\t\tstory 84: ............\n",
      "97909.60985779762\t204.99886083602905\t\tstory 85: .........\n",
      "97939.38362383842\t29.773766040802002\t\tstory 86: .........\n",
      "97966.1787519455\t26.795128107070923\t\tstory 87: .........\n",
      "98468.16730380058\t501.9885518550873\t\tstory 88: ."
     ]
    },
    {
     "name": "stderr",
     "output_type": "stream",
     "text": [
      "INFO:backoff:Backing off send_request(...) for 0.3s (requests.exceptions.ConnectionError: ('Connection aborted.', ConnectionResetError(54, 'Connection reset by peer')))\n"
     ]
    },
    {
     "name": "stdout",
     "output_type": "stream",
     "text": [
      "...........\n",
      "98498.19527292252\t30.027969121932983\t\tstory 89: ........\n",
      "98515.92256593704\t17.727293014526367\t\tstory 90: .........\n",
      "98534.93682694435\t19.01426100730896\t\tstory 91: ........\n",
      "98616.20440888405\t81.26758193969727\t\tstory 92: .........\n",
      "98640.23925304413\t24.034844160079956\t\tstory 93: ...............\n",
      "98756.22261571884\t115.98336267471313\t\tstory 94: .............................\n",
      "99732.42262196541\t976.2000062465668\t\tstory 95: ."
     ]
    },
    {
     "name": "stderr",
     "output_type": "stream",
     "text": [
      "INFO:backoff:Backing off send_request(...) for 0.3s (requests.exceptions.ConnectionError: ('Connection aborted.', ConnectionResetError(54, 'Connection reset by peer')))\n"
     ]
    },
    {
     "name": "stdout",
     "output_type": "stream",
     "text": [
      "........\n",
      "100514.80333900452\t782.3807170391083\t\tstory 96: ."
     ]
    },
    {
     "name": "stderr",
     "output_type": "stream",
     "text": [
      "INFO:backoff:Backing off send_request(...) for 0.5s (requests.exceptions.ConnectionError: ('Connection aborted.', ConnectionResetError(54, 'Connection reset by peer')))\n"
     ]
    },
    {
     "name": "stdout",
     "output_type": "stream",
     "text": [
      "..........\n",
      "100539.34509968758\t24.541760683059692\t\tstory 97: ........\n",
      "100560.11530780792\t20.77020812034607\t\tstory 98: ..........................\n",
      "100692.00527381897\t131.88996601104736\t\tstory 99: .........\n",
      "100723.79778575897\t31.79251194000244\t\tstory 100: ............100834.0688457489\t110.27106213569641\tOverlap [0.3] 120\n",
      "\n",
      "100834.068972826\t110.27118706703186\t\tstory 1: .........\n",
      "100958.30540680885\t124.23643398284912\t\tstory 2: .........\n",
      "101070.77996587753\t112.47455906867981\t\tstory 3: .........\n",
      "101089.00427985191\t18.224313974380493\t\tstory 4: ........\n",
      "101196.39489674568\t107.39061689376831\t\tstory 5: .........\n",
      "101821.92201089859\t625.5271141529083\t\tstory 6: ."
     ]
    },
    {
     "name": "stderr",
     "output_type": "stream",
     "text": [
      "INFO:backoff:Backing off send_request(...) for 0.4s (requests.exceptions.ConnectionError: ('Connection aborted.', ConnectionResetError(54, 'Connection reset by peer')))\n"
     ]
    },
    {
     "name": "stdout",
     "output_type": "stream",
     "text": [
      "........\n",
      "101843.33879685402\t21.416785955429077\t\tstory 7: .........\n",
      "101872.61030578613\t29.271508932113647\t\tstory 8: ............\n",
      "101904.87009692192\t32.259791135787964\t\tstory 9: ............\n",
      "102421.05361175537\t516.1835148334503\t\tstory 10: ."
     ]
    },
    {
     "name": "stderr",
     "output_type": "stream",
     "text": [
      "INFO:backoff:Backing off send_request(...) for 0.7s (requests.exceptions.ConnectionError: ('Connection aborted.', ConnectionResetError(54, 'Connection reset by peer')))\n"
     ]
    },
    {
     "name": "stdout",
     "output_type": "stream",
     "text": [
      "........\n",
      "102446.00901579857\t24.955404043197632\t\tstory 11: .........\n",
      "102470.9055519104\t24.896536111831665\t\tstory 12: .......\n",
      "102490.03754091263\t19.131989002227783\t\tstory 13: .........\n",
      "102523.60438394547\t33.566843032836914\t\tstory 14: .........\n",
      "103648.72688794136\t1125.1225039958954\t\tstory 15: ."
     ]
    },
    {
     "name": "stderr",
     "output_type": "stream",
     "text": [
      "INFO:backoff:Backing off send_request(...) for 0.3s (requests.exceptions.ConnectionError: ('Connection aborted.', ConnectionResetError(54, 'Connection reset by peer')))\n"
     ]
    },
    {
     "name": "stdout",
     "output_type": "stream",
     "text": [
      "........\n",
      "103671.45986580849\t22.732977867126465\t\tstory 16: .......\n",
      "103689.90261983871\t18.44275403022766\t\tstory 17: .........\n",
      "103782.10750484467\t92.20488500595093\t\tstory 18: .........\n",
      "103800.95021891594\t18.842714071273804\t\tstory 19: .........\n",
      "104550.09629178047\t749.1460728645325\t\tstory 20: ."
     ]
    },
    {
     "name": "stderr",
     "output_type": "stream",
     "text": [
      "INFO:backoff:Backing off send_request(...) for 0.7s (requests.exceptions.ConnectionError: ('Connection aborted.', ConnectionResetError(54, 'Connection reset by peer')))\n"
     ]
    },
    {
     "name": "stdout",
     "output_type": "stream",
     "text": [
      "........\n",
      "104573.70526075363\t23.60896897315979\t\tstory 21: ........\n",
      "104592.54901576042\t18.84375500679016\t\tstory 22: .........\n",
      "105007.67498660088\t415.1259708404541\t\tstory 23: ."
     ]
    },
    {
     "name": "stderr",
     "output_type": "stream",
     "text": [
      "INFO:backoff:Backing off send_request(...) for 0.8s (requests.exceptions.ConnectionError: ('Connection aborted.', ConnectionResetError(54, 'Connection reset by peer')))\n"
     ]
    },
    {
     "name": "stdout",
     "output_type": "stream",
     "text": [
      "........\n",
      "105027.1219997406\t19.44701313972473\t\tstory 24: .........\n",
      "105978.8345580101\t951.7125582695007\t\tstory 25: ."
     ]
    },
    {
     "name": "stderr",
     "output_type": "stream",
     "text": [
      "INFO:backoff:Backing off send_request(...) for 0.5s (requests.exceptions.ConnectionError: ('Connection aborted.', ConnectionResetError(54, 'Connection reset by peer')))\n"
     ]
    },
    {
     "name": "stdout",
     "output_type": "stream",
     "text": [
      "..........\n",
      "106006.05086898804\t27.21631097793579\t\tstory 26: .........\n",
      "106028.05481481552\t22.00394582748413\t\tstory 27: .........\n",
      "107039.0885078907\t1011.03369307518\t\tstory 28: ."
     ]
    },
    {
     "name": "stderr",
     "output_type": "stream",
     "text": [
      "INFO:backoff:Backing off send_request(...) for 0.3s (requests.exceptions.ConnectionError: ('Connection aborted.', ConnectionResetError(54, 'Connection reset by peer')))\n"
     ]
    },
    {
     "name": "stdout",
     "output_type": "stream",
     "text": [
      "........\n",
      "107068.14996981621\t29.061461925506592\t\tstory 29: ..........................."
     ]
    },
    {
     "name": "stderr",
     "output_type": "stream",
     "text": [
      "INFO:backoff:Backing off send_request(...) for 0.4s (requests.exceptions.ConnectionError: ('Connection aborted.', ConnectionResetError(54, 'Connection reset by peer')))\n"
     ]
    },
    {
     "name": "stdout",
     "output_type": "stream",
     "text": [
      "\n",
      "108071.61798882484\t1003.4680190086365\t\tstory 30: .........\n",
      "108099.56366801262\t27.945679187774658\t\tstory 31: .........\n",
      "109088.0167889595\t988.4531209468842\t\tstory 32: ."
     ]
    },
    {
     "name": "stderr",
     "output_type": "stream",
     "text": [
      "INFO:backoff:Backing off send_request(...) for 0.2s (requests.exceptions.ConnectionError: ('Connection aborted.', ConnectionResetError(54, 'Connection reset by peer')))\n"
     ]
    },
    {
     "name": "stdout",
     "output_type": "stream",
     "text": [
      "..........\n",
      "110019.69975471497\t931.6829657554626\t\tstory 33: ."
     ]
    },
    {
     "name": "stderr",
     "output_type": "stream",
     "text": [
      "INFO:backoff:Backing off send_request(...) for 0.6s (requests.exceptions.ConnectionError: ('Connection aborted.', ConnectionResetError(54, 'Connection reset by peer')))\n"
     ]
    },
    {
     "name": "stdout",
     "output_type": "stream",
     "text": [
      "...........\n",
      "110048.77645087242\t29.076696157455444\t\tstory 34: ........\n",
      "111020.40168190002\t971.6252310276031\t\tstory 35: ."
     ]
    },
    {
     "name": "stderr",
     "output_type": "stream",
     "text": [
      "INFO:backoff:Backing off send_request(...) for 0.8s (requests.exceptions.ConnectionError: ('Connection aborted.', ConnectionResetError(54, 'Connection reset by peer')))\n"
     ]
    },
    {
     "name": "stdout",
     "output_type": "stream",
     "text": [
      "........\n",
      "111044.44511890411\t24.043437004089355\t\tstory 36: .........\n",
      "111066.8632106781\t22.418091773986816\t\tstory 37: ............................\n",
      "111993.16816163063\t926.3049509525299\t\tstory 38: ."
     ]
    },
    {
     "name": "stderr",
     "output_type": "stream",
     "text": [
      "INFO:backoff:Backing off send_request(...) for 0.7s (requests.exceptions.ConnectionError: ('Connection aborted.', ConnectionResetError(54, 'Connection reset by peer')))\n"
     ]
    },
    {
     "name": "stdout",
     "output_type": "stream",
     "text": [
      "........\n",
      "112846.82489395142\t853.6567323207855\t\tstory 39: ."
     ]
    },
    {
     "name": "stderr",
     "output_type": "stream",
     "text": [
      "INFO:backoff:Backing off send_request(...) for 0.0s (requests.exceptions.ConnectionError: ('Connection aborted.', ConnectionResetError(54, 'Connection reset by peer')))\n"
     ]
    },
    {
     "name": "stdout",
     "output_type": "stream",
     "text": [
      "........\n",
      "112870.47398972511\t23.6490957736969\t\tstory 40: .........\n",
      "112886.76016163826\t16.286171913146973\t\tstory 41: .........\n",
      "112908.75757884979\t21.997417211532593\t\tstory 42: ........\n",
      "113882.62296581268\t973.8653869628906\t\tstory 43: ."
     ]
    },
    {
     "name": "stderr",
     "output_type": "stream",
     "text": [
      "INFO:backoff:Backing off send_request(...) for 0.4s (requests.exceptions.ConnectionError: ('Connection aborted.', ConnectionResetError(54, 'Connection reset by peer')))\n"
     ]
    },
    {
     "name": "stdout",
     "output_type": "stream",
     "text": [
      "...........\n",
      "113913.96292281151\t31.339956998825073\t\tstory 44: .........\n",
      "114468.17812776566\t554.2152049541473\t\tstory 45: ."
     ]
    },
    {
     "name": "stderr",
     "output_type": "stream",
     "text": [
      "INFO:backoff:Backing off send_request(...) for 0.8s (requests.exceptions.ConnectionError: ('Connection aborted.', ConnectionResetError(54, 'Connection reset by peer')))\n"
     ]
    },
    {
     "name": "stdout",
     "output_type": "stream",
     "text": [
      ".......\n",
      "114486.71747374535\t18.53934597969055\t\tstory 46: .........\n",
      "114507.57963705063\t20.862163305282593\t\tstory 47: .........\n",
      "114725.91523981094\t218.33560276031494\t\tstory 48: ............\n",
      "114753.55216884613\t27.636929035186768\t\tstory 49: ........\n",
      "115683.33815670013\t929.7859878540039\t\tstory 50: ."
     ]
    },
    {
     "name": "stderr",
     "output_type": "stream",
     "text": [
      "INFO:backoff:Backing off send_request(...) for 1.0s (requests.exceptions.ConnectionError: ('Connection aborted.', ConnectionResetError(54, 'Connection reset by peer')))\n"
     ]
    },
    {
     "name": "stdout",
     "output_type": "stream",
     "text": [
      "........\n",
      "115707.36010980606\t24.021953105926514\t\tstory 51: .........\n",
      "116759.7704577446\t1052.4103479385376\t\tstory 52: ."
     ]
    },
    {
     "name": "stderr",
     "output_type": "stream",
     "text": [
      "INFO:backoff:Backing off send_request(...) for 0.7s (requests.exceptions.ConnectionError: ('Connection aborted.', ConnectionResetError(54, 'Connection reset by peer')))\n"
     ]
    },
    {
     "name": "stdout",
     "output_type": "stream",
     "text": [
      "........\n",
      "116783.15686869621\t23.38641095161438\t\tstory 53: .........\n",
      "116863.41665887833\t80.25979018211365\t\tstory 54: ............\n",
      "116893.43862771988\t30.021968841552734\t\tstory 55: ........."
     ]
    },
    {
     "name": "stderr",
     "output_type": "stream",
     "text": [
      "INFO:backoff:Backing off send_request(...) for 0.7s (requests.exceptions.ConnectionError: ('Connection aborted.', ConnectionResetError(54, 'Connection reset by peer')))\n"
     ]
    },
    {
     "name": "stdout",
     "output_type": "stream",
     "text": [
      "\n",
      "117311.31074261665\t417.8721148967743\t\tstory 56: ........\n",
      "117331.88055086136\t20.5698082447052\t\tstory 57: .........\n",
      "117349.63770985603\t17.757158994674683\t\tstory 58: .........\n",
      "117372.81314373016\t23.17543387413025\t\tstory 59: ............\n",
      "117403.7408118248\t30.92766809463501\t\tstory 60: .........\n",
      "117428.10262989998\t24.361818075180054\t\tstory 61: .........\n",
      "117454.23051977158\t26.12788987159729\t\tstory 62: .........\n",
      "117483.54152870178\t29.3110089302063\t\tstory 63: .........\n",
      "117507.75425696373\t24.212728261947632\t\tstory 64: ...........\n",
      "117538.36335897446\t30.60910201072693\t\tstory 65: .........\n",
      "117564.36650586128\t26.00314688682556\t\tstory 66: .........\n",
      "117583.54468989372\t19.178184032440186\t\tstory 67: .........\n",
      "117607.6804318428\t24.13574194908142\t\tstory 68: .........\n",
      "117627.92226266861\t20.241830825805664\t\tstory 69: ........\n",
      "117645.95260477066\t18.03034210205078\t\tstory 70: ........\n",
      "117669.8668847084\t23.91427993774414\t\tstory 71: .........\n",
      "117688.6484439373\t18.781559228897095\t\tstory 72: .........\n",
      "117710.74439668655\t22.09595274925232\t\tstory 73: .........\n",
      "117737.30126690865\t26.556870222091675\t\tstory 74: .........\n",
      "117758.41570591927\t21.114439010620117\t\tstory 75: .........\n",
      "117778.48518395424\t20.069478034973145\t\tstory 76: ...........\n",
      "117805.32615089417\t26.840966939926147\t\tstory 77: ...........\n",
      "117832.98421192169\t27.658061027526855\t\tstory 78: ........\n",
      "117856.44087481499\t23.456662893295288\t\tstory 79: .........\n",
      "117890.10817575455\t33.66730093955994\t\tstory 80: .........\n",
      "117913.41833877563\t23.310163021087646\t\tstory 81: .........\n",
      "118051.58305883408\t138.16472005844116\t\tstory 82: ........."
     ]
    },
    {
     "name": "stderr",
     "output_type": "stream",
     "text": [
      "INFO:backoff:Backing off send_request(...) for 1.0s (requests.exceptions.ConnectionError: ('Connection aborted.', ConnectionResetError(54, 'Connection reset by peer')))\n"
     ]
    },
    {
     "name": "stdout",
     "output_type": "stream",
     "text": [
      "\n",
      "118336.61446475983\t285.03140592575073\t\tstory 83: .........\n",
      "118384.33669567108\t47.72223091125488\t\tstory 84: ............\n",
      "118416.06207489967\t31.72537922859192\t\tstory 85: .........\n",
      "119475.40985393524\t1059.3477790355682\t\tstory 86: ."
     ]
    },
    {
     "name": "stderr",
     "output_type": "stream",
     "text": [
      "INFO:backoff:Backing off send_request(...) for 0.1s (requests.exceptions.ConnectionError: ('Connection aborted.', ConnectionResetError(54, 'Connection reset by peer')))\n"
     ]
    },
    {
     "name": "stdout",
     "output_type": "stream",
     "text": [
      "........\n",
      "120421.55361485481\t946.1437609195709\t\tstory 87: ."
     ]
    },
    {
     "name": "stderr",
     "output_type": "stream",
     "text": [
      "INFO:backoff:Backing off send_request(...) for 0.9s (requests.exceptions.ConnectionError: ('Connection aborted.', ConnectionResetError(54, 'Connection reset by peer')))\n"
     ]
    },
    {
     "name": "stdout",
     "output_type": "stream",
     "text": [
      "........\n",
      "120448.26123189926\t26.707617044448853\t\tstory 88: ............\n",
      "120478.38006877899\t30.118836879730225\t\tstory 89: ........\n",
      "120496.11178588867\t17.731717109680176\t\tstory 90: .........\n",
      "120515.82470393181\t19.712918043136597\t\tstory 91: ........\n",
      "120536.14342975616\t20.31872582435608\t\tstory 92: .........\n",
      "120560.17519903183\t24.031769275665283\t\tstory 93: ...............\n",
      "120789.83525371552\t229.6600546836853\t\tstory 94: .............................\n",
      "120901.37115597725\t111.53590226173401\t\tstory 95: .........\n",
      "121722.51516795158\t821.1440119743347\t\tstory 96: ."
     ]
    },
    {
     "name": "stderr",
     "output_type": "stream",
     "text": [
      "INFO:backoff:Backing off send_request(...) for 0.0s (requests.exceptions.ConnectionError: ('Connection aborted.', ConnectionResetError(54, 'Connection reset by peer')))\n"
     ]
    },
    {
     "name": "stdout",
     "output_type": "stream",
     "text": [
      "..........\n",
      "121746.96316480637\t24.447996854782104\t\tstory 97: ........\n",
      "121768.34179186821\t21.378627061843872\t\tstory 98: ............"
     ]
    },
    {
     "name": "stderr",
     "output_type": "stream",
     "text": [
      "INFO:backoff:Backing off send_request(...) for 0.0s (requests.exceptions.ConnectionError: ('Connection aborted.', ConnectionResetError(54, 'Connection reset by peer')))\n"
     ]
    },
    {
     "name": "stdout",
     "output_type": "stream",
     "text": [
      "..............\n",
      "122646.31221365929\t877.9704217910767\t\tstory 99: ."
     ]
    },
    {
     "name": "stderr",
     "output_type": "stream",
     "text": [
      "INFO:backoff:Backing off send_request(...) for 0.2s (requests.exceptions.ConnectionError: ('Connection aborted.', ConnectionResetError(54, 'Connection reset by peer')))\n"
     ]
    },
    {
     "name": "stdout",
     "output_type": "stream",
     "text": [
      "........\n",
      "122665.00730705261\t18.695093393325806\t\tstory 100: ............122952.3771147728 Processing chunk size 800:\n",
      "122952.37717986107\t1.9073486328125e-06\tOverlap [0] 0\n",
      "\n",
      "122952.37719082832\t1.1920928955078125e-05\t\tstory 1: ."
     ]
    },
    {
     "name": "stderr",
     "output_type": "stream",
     "text": [
      "INFO:backoff:Backing off send_request(...) for 0.8s (requests.exceptions.ConnectionError: ('Connection aborted.', ConnectionResetError(54, 'Connection reset by peer')))\n"
     ]
    },
    {
     "name": "stdout",
     "output_type": "stream",
     "text": [
      "........\n",
      "122974.60823583603\t22.23104500770569\t\tstory 2: .........\n",
      "123550.3012638092\t575.693027973175\t\tstory 3: ."
     ]
    },
    {
     "name": "stderr",
     "output_type": "stream",
     "text": [
      "INFO:backoff:Backing off send_request(...) for 0.8s (requests.exceptions.ConnectionError: ('Connection aborted.', ConnectionResetError(54, 'Connection reset by peer')))\n"
     ]
    },
    {
     "name": "stdout",
     "output_type": "stream",
     "text": [
      "........\n",
      "123568.47600579262\t18.174741983413696\t\tstory 4: ........\n",
      "123588.3590836525\t19.88307785987854\t\tstory 5: ........."
     ]
    },
    {
     "name": "stderr",
     "output_type": "stream",
     "text": [
      "INFO:backoff:Backing off send_request(...) for 0.9s (requests.exceptions.ConnectionError: ('Connection aborted.', ConnectionResetError(54, 'Connection reset by peer')))\n"
     ]
    },
    {
     "name": "stdout",
     "output_type": "stream",
     "text": [
      "\n",
      "123944.52977180481\t356.17068815231323\t\tstory 6: .........\n",
      "123967.11321663857\t22.583444833755493\t\tstory 7: .........\n",
      "124994.60168194771\t1027.488465309143\t\tstory 8: ."
     ]
    },
    {
     "name": "stderr",
     "output_type": "stream",
     "text": [
      "INFO:backoff:Backing off send_request(...) for 0.5s (requests.exceptions.ConnectionError: ('Connection aborted.', ConnectionResetError(54, 'Connection reset by peer')))\n"
     ]
    },
    {
     "name": "stdout",
     "output_type": "stream",
     "text": [
      "...........\n",
      "125026.8337919712\t32.232110023498535\t\tstory 9: ............"
     ]
    },
    {
     "name": "stderr",
     "output_type": "stream",
     "text": [
      "INFO:backoff:Backing off send_request(...) for 0.4s (requests.exceptions.ConnectionError: ('Connection aborted.', ConnectionResetError(54, 'Connection reset by peer')))\n"
     ]
    },
    {
     "name": "stdout",
     "output_type": "stream",
     "text": [
      "\n",
      "126045.98449063301\t1019.1506986618042\t\tstory 10: .........\n",
      "126070.90472197533\t24.920231342315674\t\tstory 11: ........."
     ]
    },
    {
     "name": "stderr",
     "output_type": "stream",
     "text": [
      "INFO:backoff:Backing off send_request(...) for 0.9s (requests.exceptions.ConnectionError: ('Connection aborted.', ConnectionResetError(54, 'Connection reset by peer')))\n"
     ]
    },
    {
     "name": "stdout",
     "output_type": "stream",
     "text": [
      "\n",
      "127070.95879673958\t1000.0540747642517\t\tstory 12: .......\n",
      "127090.04273796082\t19.083941221237183\t\tstory 13: ........."
     ]
    },
    {
     "name": "stderr",
     "output_type": "stream",
     "text": [
      "INFO:backoff:Backing off send_request(...) for 0.7s (requests.exceptions.ConnectionError: ('Connection aborted.', ConnectionResetError(54, 'Connection reset by peer')))\n"
     ]
    },
    {
     "name": "stdout",
     "output_type": "stream",
     "text": [
      "\n",
      "128123.8373336792\t1033.7945957183838\t\tstory 14: .........\n",
      "128147.77480196953\t23.93746829032898\t\tstory 15: .........\n",
      "128170.21769595146\t22.442893981933594\t\tstory 16: .......\n",
      "128272.07028484344\t101.85258889198303\t\tstory 17: .........\n",
      "128289.53787088394\t17.467586040496826\t\tstory 18: .........\n",
      "128308.28691887856\t18.749047994613647\t\tstory 19: .........\n",
      "129338.02696180344\t1029.740042924881\t\tstory 20: ."
     ]
    },
    {
     "name": "stderr",
     "output_type": "stream",
     "text": [
      "INFO:backoff:Backing off send_request(...) for 0.0s (requests.exceptions.ConnectionError: ('Connection aborted.', ConnectionResetError(54, 'Connection reset by peer')))\n"
     ]
    },
    {
     "name": "stdout",
     "output_type": "stream",
     "text": [
      "........\n",
      "129361.4730079174\t23.446046113967896\t\tstory 21: ........\n",
      "129380.27960085869\t18.80659294128418\t\tstory 22: .........\n",
      "130433.44674181938\t1053.1671409606934\t\tstory 23: ."
     ]
    },
    {
     "name": "stderr",
     "output_type": "stream",
     "text": [
      "INFO:backoff:Backing off send_request(...) for 0.6s (requests.exceptions.ConnectionError: ('Connection aborted.', ConnectionResetError(54, 'Connection reset by peer')))\n"
     ]
    },
    {
     "name": "stdout",
     "output_type": "stream",
     "text": [
      "........\n",
      "130452.89268183708\t19.445940017700195\t\tstory 24: .........\n",
      "131406.81569886208\t953.9230170249939\t\tstory 25: ."
     ]
    },
    {
     "name": "stderr",
     "output_type": "stream",
     "text": [
      "INFO:backoff:Backing off send_request(...) for 0.7s (requests.exceptions.ConnectionError: ('Connection aborted.', ConnectionResetError(54, 'Connection reset by peer')))\n"
     ]
    },
    {
     "name": "stdout",
     "output_type": "stream",
     "text": [
      "..........\n",
      "131438.17140984535\t31.355710983276367\t\tstory 26: .........\n",
      "131460.32762384415\t22.156213998794556\t\tstory 27: .........\n",
      "132441.57775068283\t981.2501268386841\t\tstory 28: ."
     ]
    },
    {
     "name": "stderr",
     "output_type": "stream",
     "text": [
      "INFO:backoff:Backing off send_request(...) for 0.4s (requests.exceptions.ConnectionError: ('Connection aborted.', ConnectionResetError(54, 'Connection reset by peer')))\n"
     ]
    },
    {
     "name": "stdout",
     "output_type": "stream",
     "text": [
      "........\n",
      "132471.66888093948\t30.091130256652832\t\tstory 29: ...........................\n",
      "134378.10437464714\t1906.4354937076569\t\tstory 30: ."
     ]
    },
    {
     "name": "stderr",
     "output_type": "stream",
     "text": [
      "INFO:backoff:Backing off send_request(...) for 0.7s (requests.exceptions.ConnectionError: ('Connection aborted.', ConnectionResetError(54, 'Connection reset by peer')))\n"
     ]
    },
    {
     "name": "stdout",
     "output_type": "stream",
     "text": [
      "........\n",
      "134406.52017474174\t28.415800094604492\t\tstory 31: .........\n",
      "134429.95815992355\t23.43798518180847\t\tstory 32: ...........\n",
      "135515.73188090324\t1085.7737209796906\t\tstory 33: ."
     ]
    },
    {
     "name": "stderr",
     "output_type": "stream",
     "text": [
      "INFO:backoff:Backing off send_request(...) for 0.7s (requests.exceptions.ConnectionError: ('Connection aborted.', ConnectionResetError(54, 'Connection reset by peer')))\n"
     ]
    },
    {
     "name": "stdout",
     "output_type": "stream",
     "text": [
      "..........."
     ]
    },
    {
     "name": "stderr",
     "output_type": "stream",
     "text": [
      "INFO:backoff:Backing off send_request(...) for 0.2s (requests.exceptions.ConnectionError: ('Connection aborted.', ConnectionResetError(54, 'Connection reset by peer')))\n"
     ]
    },
    {
     "name": "stdout",
     "output_type": "stream",
     "text": [
      "\n",
      "136589.37218999863\t1073.6403090953827\t\tstory 34: ........\n",
      "136612.11099290848\t22.738802909851074\t\tstory 35: .........\n",
      "136636.2272336483\t24.116240739822388\t\tstory 36: .........\n",
      "136658.6311507225\t22.40391707420349\t\tstory 37: ............................"
     ]
    },
    {
     "name": "stderr",
     "output_type": "stream",
     "text": [
      "INFO:backoff:Backing off send_request(...) for 0.6s (requests.exceptions.ConnectionError: ('Connection aborted.', ConnectionResetError(54, 'Connection reset by peer')))\n"
     ]
    },
    {
     "name": "stdout",
     "output_type": "stream",
     "text": [
      "\n",
      "138620.36246180534\t1961.73131108284\t\tstory 38: .........\n",
      "139635.77429771423\t1015.4118359088898\t\tstory 39: ."
     ]
    },
    {
     "name": "stderr",
     "output_type": "stream",
     "text": [
      "INFO:backoff:Backing off send_request(...) for 0.6s (requests.exceptions.ConnectionError: ('Connection aborted.', ConnectionResetError(54, 'Connection reset by peer')))\n"
     ]
    },
    {
     "name": "stdout",
     "output_type": "stream",
     "text": [
      "........\n",
      "139659.64887475967\t23.874577045440674\t\tstory 40: .........\n",
      "139675.20895266533\t15.560077905654907\t\tstory 41: .........\n",
      "140658.90615081787\t983.6971981525421\t\tstory 42: ."
     ]
    },
    {
     "name": "stderr",
     "output_type": "stream",
     "text": [
      "INFO:backoff:Backing off send_request(...) for 0.0s (requests.exceptions.ConnectionError: ('Connection aborted.', ConnectionResetError(54, 'Connection reset by peer')))\n"
     ]
    },
    {
     "name": "stdout",
     "output_type": "stream",
     "text": [
      ".......\n",
      "140675.8427028656\t16.936552047729492\t\tstory 43: ............\n",
      "141723.93279480934\t1048.0900919437408\t\tstory 44: ."
     ]
    },
    {
     "name": "stderr",
     "output_type": "stream",
     "text": [
      "INFO:backoff:Backing off send_request(...) for 0.4s (requests.exceptions.ConnectionError: ('Connection aborted.', ConnectionResetError(54, 'Connection reset by peer')))\n"
     ]
    },
    {
     "name": "stdout",
     "output_type": "stream",
     "text": [
      "........\n",
      "141750.40633678436\t26.473541975021362\t\tstory 45: ........\n",
      "141768.75556468964\t18.349227905273438\t\tstory 46: .........\n",
      "142720.66036987305\t951.9048051834106\t\tstory 47: ."
     ]
    },
    {
     "name": "stderr",
     "output_type": "stream",
     "text": [
      "INFO:backoff:Backing off send_request(...) for 0.0s (requests.exceptions.ConnectionError: ('Connection aborted.', ConnectionResetError(54, 'Connection reset by peer')))\n"
     ]
    },
    {
     "name": "stdout",
     "output_type": "stream",
     "text": [
      "........\n",
      "142743.30480790138\t22.64443802833557\t\tstory 48: ............\n",
      "143741.07516598701\t997.7703580856323\t\tstory 49: ."
     ]
    },
    {
     "name": "stderr",
     "output_type": "stream",
     "text": [
      "INFO:backoff:Backing off send_request(...) for 0.6s (requests.exceptions.ConnectionError: ('Connection aborted.', ConnectionResetError(54, 'Connection reset by peer')))\n"
     ]
    },
    {
     "name": "stdout",
     "output_type": "stream",
     "text": [
      ".......\n",
      "143764.2385647297\t23.16339874267578\t\tstory 50: .........\n",
      "143788.84697175026\t24.608407020568848\t\tstory 51: .........\n",
      "144876.52807188034\t1087.6811001300812\t\tstory 52: ."
     ]
    },
    {
     "name": "stderr",
     "output_type": "stream",
     "text": [
      "INFO:backoff:Backing off send_request(...) for 0.2s (requests.exceptions.ConnectionError: ('Connection aborted.', ConnectionResetError(54, 'Connection reset by peer')))\n"
     ]
    },
    {
     "name": "stdout",
     "output_type": "stream",
     "text": [
      "........\n",
      "144900.68587875366\t24.157806873321533\t\tstory 53: ........."
     ]
    },
    {
     "name": "stderr",
     "output_type": "stream",
     "text": [
      "INFO:backoff:Backing off send_request(...) for 0.3s (requests.exceptions.ConnectionError: ('Connection aborted.', ConnectionResetError(54, 'Connection reset by peer')))\n"
     ]
    },
    {
     "name": "stdout",
     "output_type": "stream",
     "text": [
      "\n",
      "145820.10214686394\t919.4162681102753\t\tstory 54: ............\n",
      "145850.12596464157\t30.023817777633667\t\tstory 55: .........\n",
      "146769.4392259121\t919.3132612705231\t\tstory 56: ."
     ]
    },
    {
     "name": "stderr",
     "output_type": "stream",
     "text": [
      "INFO:backoff:Backing off send_request(...) for 0.8s (requests.exceptions.ConnectionError: ('Connection aborted.', ConnectionResetError(54, 'Connection reset by peer')))\n"
     ]
    },
    {
     "name": "stdout",
     "output_type": "stream",
     "text": [
      ".......\n",
      "146790.05039072037\t20.611164808273315\t\tstory 57: .........\n",
      "146807.8410768509\t17.79068613052368\t\tstory 58: .........\n",
      "147729.21614074707\t921.3750638961792\t\tstory 59: ."
     ]
    },
    {
     "name": "stderr",
     "output_type": "stream",
     "text": [
      "INFO:backoff:Backing off send_request(...) for 0.1s (requests.exceptions.ConnectionError: ('Connection aborted.', ConnectionResetError(54, 'Connection reset by peer')))\n"
     ]
    },
    {
     "name": "stdout",
     "output_type": "stream",
     "text": [
      "...........\n",
      "148733.9947426319\t1004.7786018848419\t\tstory 60: ."
     ]
    },
    {
     "name": "stderr",
     "output_type": "stream",
     "text": [
      "INFO:backoff:Backing off send_request(...) for 0.1s (requests.exceptions.ConnectionError: ('Connection aborted.', ConnectionResetError(54, 'Connection reset by peer')))\n"
     ]
    },
    {
     "name": "stdout",
     "output_type": "stream",
     "text": [
      "........\n",
      "148758.1696689129\t24.174926280975342\t\tstory 61: .........\n",
      "148784.03101968765\t25.861350774765015\t\tstory 62: ........."
     ]
    },
    {
     "name": "stderr",
     "output_type": "stream",
     "text": [
      "INFO:backoff:Backing off send_request(...) for 0.7s (requests.exceptions.ConnectionError: ('Connection aborted.', ConnectionResetError(54, 'Connection reset by peer')))\n"
     ]
    },
    {
     "name": "stdout",
     "output_type": "stream",
     "text": [
      "\n",
      "149776.23565983772\t992.2046401500702\t\tstory 63: .........\n",
      "149800.4633219242\t24.227662086486816\t\tstory 64: ..........."
     ]
    },
    {
     "name": "stderr",
     "output_type": "stream",
     "text": [
      "INFO:backoff:Backing off send_request(...) for 0.7s (requests.exceptions.ConnectionError: ('Connection aborted.', ConnectionResetError(54, 'Connection reset by peer')))\n"
     ]
    },
    {
     "name": "stdout",
     "output_type": "stream",
     "text": [
      "\n",
      "150864.47132086754\t1064.0079989433289\t\tstory 65: .........\n",
      "150890.42932581902\t25.95800495147705\t\tstory 66: .........\n",
      "150910.57061100006\t20.141285181045532\t\tstory 67: .........\n",
      "151989.70250487328\t1079.1318938732147\t\tstory 68: ."
     ]
    },
    {
     "name": "stderr",
     "output_type": "stream",
     "text": [
      "INFO:backoff:Backing off send_request(...) for 0.1s (requests.exceptions.ConnectionError: ('Connection aborted.', ConnectionResetError(54, 'Connection reset by peer')))\n"
     ]
    },
    {
     "name": "stdout",
     "output_type": "stream",
     "text": [
      "........\n",
      "152011.0596086979\t21.35710382461548\t\tstory 69: ........\n",
      "153045.3931939602\t1034.3335852622986\t\tstory 70: ."
     ]
    },
    {
     "name": "stderr",
     "output_type": "stream",
     "text": [
      "INFO:backoff:Backing off send_request(...) for 1.0s (requests.exceptions.ConnectionError: ('Connection aborted.', ConnectionResetError(54, 'Connection reset by peer')))\n"
     ]
    },
    {
     "name": "stdout",
     "output_type": "stream",
     "text": [
      ".......\n",
      "153069.50280499458\t24.10961103439331\t\tstory 71: .........\n",
      "153088.38544797897\t18.88264298439026\t\tstory 72: ."
     ]
    },
    {
     "name": "stderr",
     "output_type": "stream",
     "text": [
      "INFO:backoff:Backing off send_request(...) for 0.2s (requests.exceptions.ConnectionError: ('Connection aborted.', ConnectionResetError(54, 'Connection reset by peer')))\n"
     ]
    },
    {
     "name": "stdout",
     "output_type": "stream",
     "text": [
      "........\n",
      "153534.3676559925\t445.98220801353455\t\tstory 73: .........\n",
      "153561.03285479546\t26.665198802947998\t\tstory 74: ........."
     ]
    },
    {
     "name": "stderr",
     "output_type": "stream",
     "text": [
      "INFO:backoff:Backing off send_request(...) for 0.6s (requests.exceptions.ConnectionError: ('Connection aborted.', ConnectionResetError(54, 'Connection reset by peer')))\n"
     ]
    },
    {
     "name": "stdout",
     "output_type": "stream",
     "text": [
      "\n",
      "154517.95086169243\t956.9180068969727\t\tstory 75: .........\n",
      "154540.79368972778\t22.842828035354614\t\tstory 76: ...........\n",
      "155606.79798674583\t1066.0042970180511\t\tstory 77: ."
     ]
    },
    {
     "name": "stderr",
     "output_type": "stream",
     "text": [
      "INFO:backoff:Backing off send_request(...) for 0.6s (requests.exceptions.ConnectionError: ('Connection aborted.', ConnectionResetError(54, 'Connection reset by peer')))\n"
     ]
    },
    {
     "name": "stdout",
     "output_type": "stream",
     "text": [
      "..........\n",
      "155634.4404528141\t27.642466068267822\t\tstory 78: ........\n",
      "156031.7926249504\t397.35217213630676\t\tstory 79: ."
     ]
    },
    {
     "name": "stderr",
     "output_type": "stream",
     "text": [
      "INFO:backoff:Backing off send_request(...) for 0.7s (requests.exceptions.ConnectionError: ('Connection aborted.', ConnectionResetError(54, 'Connection reset by peer')))\n"
     ]
    },
    {
     "name": "stdout",
     "output_type": "stream",
     "text": [
      "........\n",
      "156062.13069581985\t30.3380708694458\t\tstory 80: .........\n",
      "156087.77581381798\t25.64511799812317\t\tstory 81: .........\n",
      "156108.6808488369\t20.9050350189209\t\tstory 82: .........\n",
      "156127.3396177292\t18.658768892288208\t\tstory 83: .........\n",
      "156260.5101556778\t133.1705379486084\t\tstory 84: ............\n",
      "156402.89858484268\t142.38842916488647\t\tstory 85: .........\n",
      "156428.97677588463\t26.07819104194641\t\tstory 86: .........\n",
      "156520.78541493416\t91.80863904953003\t\tstory 87: .........\n",
      "156551.0780479908\t30.292633056640625\t\tstory 88: ............\n",
      "156673.63197684288\t122.5539288520813\t\tstory 89: ........\n",
      "156691.575704813\t17.94372797012329\t\tstory 90: .........\n",
      "157257.9584209919\t566.382716178894\t\tstory 91: ."
     ]
    },
    {
     "name": "stderr",
     "output_type": "stream",
     "text": [
      "INFO:backoff:Backing off send_request(...) for 0.4s (requests.exceptions.ConnectionError: ('Connection aborted.', ConnectionResetError(54, 'Connection reset by peer')))\n"
     ]
    },
    {
     "name": "stdout",
     "output_type": "stream",
     "text": [
      ".......\n",
      "157278.20944070816\t20.251019716262817\t\tstory 92: .........\n",
      "157302.8471107483\t24.637670040130615\t\tstory 93: ...............\n",
      "158293.36725091934\t990.520140171051\t\tstory 94: ."
     ]
    },
    {
     "name": "stderr",
     "output_type": "stream",
     "text": [
      "INFO:backoff:Backing off send_request(...) for 0.8s (requests.exceptions.ConnectionError: ('Connection aborted.', ConnectionResetError(54, 'Connection reset by peer')))\n"
     ]
    },
    {
     "name": "stdout",
     "output_type": "stream",
     "text": [
      "............................\n",
      "160385.0698428154\t2091.702591896057\t\tstory 95: ."
     ]
    },
    {
     "name": "stderr",
     "output_type": "stream",
     "text": [
      "INFO:backoff:Backing off send_request(...) for 0.6s (requests.exceptions.ConnectionError: ('Connection aborted.', ConnectionResetError(54, 'Connection reset by peer')))\n"
     ]
    },
    {
     "name": "stdout",
     "output_type": "stream",
     "text": [
      "........\n",
      "160411.0295009613\t25.95965814590454\t\tstory 96: ...........\n",
      "160457.3517127037\t46.32221174240112\t\tstory 97: ........\n",
      "160484.6246278286\t27.27291512489319\t\tstory 98: ..........................\n",
      "161774.78716397285\t1290.1625361442566\t\tstory 99: ."
     ]
    },
    {
     "name": "stderr",
     "output_type": "stream",
     "text": [
      "INFO:backoff:Backing off send_request(...) for 0.7s (requests.exceptions.ConnectionError: ('Connection aborted.', ConnectionResetError(54, 'Connection reset by peer')))\n"
     ]
    },
    {
     "name": "stdout",
     "output_type": "stream",
     "text": [
      "........\n",
      "161793.46714782715\t18.679983854293823\t\tstory 100: ............162741.7912106514\t948.3240640163422\tOverlap [0.1] 80\n",
      "\n",
      "162741.7912528515\t948.3241050243378\t\tstory 1: ."
     ]
    },
    {
     "name": "stderr",
     "output_type": "stream",
     "text": [
      "INFO:backoff:Backing off send_request(...) for 0.0s (requests.exceptions.ConnectionError: ('Connection aborted.', ConnectionResetError(54, 'Connection reset by peer')))\n"
     ]
    },
    {
     "name": "stdout",
     "output_type": "stream",
     "text": [
      "........\n",
      "162764.54603290558\t22.754780054092407\t\tstory 2: ........."
     ]
    },
    {
     "name": "stderr",
     "output_type": "stream",
     "text": [
      "INFO:backoff:Backing off send_request(...) for 0.5s (requests.exceptions.ConnectionError: ('Connection aborted.', ConnectionResetError(54, 'Connection reset by peer')))\n"
     ]
    },
    {
     "name": "stdout",
     "output_type": "stream",
     "text": [
      "\n",
      "163854.47448682785\t1089.9284539222717\t\tstory 3: .........\n",
      "163872.74283075333\t18.268343925476074\t\tstory 4: ........\n",
      "163892.39025068283\t19.647419929504395\t\tstory 5: .........\n",
      "164649.83655786514\t757.446307182312\t\tstory 6: ."
     ]
    },
    {
     "name": "stderr",
     "output_type": "stream",
     "text": [
      "INFO:backoff:Backing off send_request(...) for 0.6s (requests.exceptions.ConnectionError: ('Connection aborted.', ConnectionResetError(54, 'Connection reset by peer')))\n"
     ]
    },
    {
     "name": "stdout",
     "output_type": "stream",
     "text": [
      "........\n",
      "164673.60672163963\t23.770163774490356\t\tstory 7: .........\n",
      "164700.21924471855\t26.612523078918457\t\tstory 8: ............\n",
      "164969.5665626526\t269.34731793403625\t\tstory 9: ."
     ]
    },
    {
     "name": "stderr",
     "output_type": "stream",
     "text": [
      "INFO:backoff:Backing off send_request(...) for 0.2s (requests.exceptions.ConnectionError: ('Connection aborted.', ConnectionResetError(54, 'Connection reset by peer')))\n"
     ]
    },
    {
     "name": "stdout",
     "output_type": "stream",
     "text": [
      "...........\n",
      "164997.16893172264\t27.6023690700531\t\tstory 10: ........."
     ]
    },
    {
     "name": "stderr",
     "output_type": "stream",
     "text": [
      "INFO:backoff:Backing off send_request(...) for 0.6s (requests.exceptions.ConnectionError: ('Connection aborted.', ConnectionResetError(54, 'Connection reset by peer')))\n"
     ]
    },
    {
     "name": "stdout",
     "output_type": "stream",
     "text": [
      "\n",
      "165254.606913805\t257.43798208236694\t\tstory 11: .........\n",
      "165277.44329595566\t22.836382150650024\t\tstory 12: .......\n",
      "165548.64806580544\t271.2047698497772\t\tstory 13: ."
     ]
    },
    {
     "name": "stderr",
     "output_type": "stream",
     "text": [
      "INFO:backoff:Backing off send_request(...) for 0.3s (requests.exceptions.ConnectionError: ('Connection aborted.', ConnectionResetError(54, 'Connection reset by peer')))\n"
     ]
    },
    {
     "name": "stdout",
     "output_type": "stream",
     "text": [
      "........\n",
      "165570.28754281998\t21.639477014541626\t\tstory 14: .........\n",
      "165848.19063186646\t277.90308904647827\t\tstory 15: ."
     ]
    },
    {
     "name": "stderr",
     "output_type": "stream",
     "text": [
      "INFO:backoff:Backing off send_request(...) for 0.1s (requests.exceptions.ConnectionError: ('Connection aborted.', ConnectionResetError(54, 'Connection reset by peer')))\n"
     ]
    },
    {
     "name": "stdout",
     "output_type": "stream",
     "text": [
      "........\n",
      "165870.8135459423\t22.62291407585144\t\tstory 16: .......\n",
      "166146.05147480965\t275.2379288673401\t\tstory 17: ."
     ]
    },
    {
     "name": "stderr",
     "output_type": "stream",
     "text": [
      "INFO:backoff:Backing off send_request(...) for 0.1s (requests.exceptions.ConnectionError: ('Connection aborted.', ConnectionResetError(54, 'Connection reset by peer')))\n"
     ]
    },
    {
     "name": "stdout",
     "output_type": "stream",
     "text": [
      "........\n",
      "166163.86080265045\t17.809327840805054\t\tstory 18: .........\n",
      "166182.44851589203\t18.58771324157715\t\tstory 19: .........\n",
      "166459.85053277016\t277.40201687812805\t\tstory 20: ."
     ]
    },
    {
     "name": "stderr",
     "output_type": "stream",
     "text": [
      "INFO:backoff:Backing off send_request(...) for 0.5s (requests.exceptions.ConnectionError: ('Connection aborted.', ConnectionResetError(54, 'Connection reset by peer')))\n"
     ]
    },
    {
     "name": "stdout",
     "output_type": "stream",
     "text": [
      "........\n",
      "166483.27059578896\t23.420063018798828\t\tstory 21: ........\n",
      "166754.39551901817\t271.12492322921753\t\tstory 22: ."
     ]
    },
    {
     "name": "stderr",
     "output_type": "stream",
     "text": [
      "INFO:backoff:Backing off send_request(...) for 0.9s (requests.exceptions.ConnectionError: ('Connection aborted.', ConnectionResetError(54, 'Connection reset by peer')))\n"
     ]
    },
    {
     "name": "stdout",
     "output_type": "stream",
     "text": [
      "........\n",
      "166776.44511175156\t22.04959273338318\t\tstory 23: ........."
     ]
    },
    {
     "name": "stderr",
     "output_type": "stream",
     "text": [
      "INFO:backoff:Backing off send_request(...) for 0.9s (requests.exceptions.ConnectionError: ('Connection aborted.', ConnectionResetError(54, 'Connection reset by peer')))\n"
     ]
    },
    {
     "name": "stdout",
     "output_type": "stream",
     "text": [
      "\n",
      "167048.49358963966\t272.0484778881073\t\tstory 24: .........\n",
      "167072.9197227955\t24.426133155822754\t\tstory 25: ...........\n",
      "167362.65205287933\t289.73233008384705\t\tstory 26: ."
     ]
    },
    {
     "name": "stderr",
     "output_type": "stream",
     "text": [
      "INFO:backoff:Backing off send_request(...) for 0.6s (requests.exceptions.ConnectionError: ('Connection aborted.', ConnectionResetError(54, 'Connection reset by peer')))\n"
     ]
    },
    {
     "name": "stdout",
     "output_type": "stream",
     "text": [
      "........\n",
      "167384.83408474922\t22.182031869888306\t\tstory 27: ........."
     ]
    },
    {
     "name": "stderr",
     "output_type": "stream",
     "text": [
      "INFO:backoff:Backing off send_request(...) for 0.1s (requests.exceptions.ConnectionError: ('Connection aborted.', ConnectionResetError(54, 'Connection reset by peer')))\n"
     ]
    },
    {
     "name": "stdout",
     "output_type": "stream",
     "text": [
      "\n",
      "167658.36506390572\t273.53097915649414\t\tstory 28: .........\n",
      "167689.60902667046\t31.24396276473999\t\tstory 29: ...........................\n",
      "168249.1345489025\t559.5255222320557\t\tstory 30: ."
     ]
    },
    {
     "name": "stderr",
     "output_type": "stream",
     "text": [
      "INFO:backoff:Backing off send_request(...) for 0.1s (requests.exceptions.ConnectionError: ('Connection aborted.', ConnectionResetError(54, 'Connection reset by peer')))\n"
     ]
    },
    {
     "name": "stdout",
     "output_type": "stream",
     "text": [
      "........\n",
      "168278.3682808876\t29.233731985092163\t\tstory 31: ........."
     ]
    },
    {
     "name": "stderr",
     "output_type": "stream",
     "text": [
      "INFO:backoff:Backing off send_request(...) for 0.2s (requests.exceptions.ConnectionError: ('Connection aborted.', ConnectionResetError(54, 'Connection reset by peer')))\n"
     ]
    },
    {
     "name": "stdout",
     "output_type": "stream",
     "text": [
      "\n",
      "168556.85884070396\t278.4905598163605\t\tstory 32: ...........\n",
      "168586.33334875107\t29.474508047103882\t\tstory 33: ............\n",
      "168929.07456994057\t342.7412211894989\t\tstory 34: ."
     ]
    },
    {
     "name": "stderr",
     "output_type": "stream",
     "text": [
      "INFO:backoff:Backing off send_request(...) for 0.7s (requests.exceptions.ConnectionError: ('Connection aborted.', ConnectionResetError(54, 'Connection reset by peer')))\n"
     ]
    },
    {
     "name": "stdout",
     "output_type": "stream",
     "text": [
      ".......\n",
      "168951.81241989136\t22.737849950790405\t\tstory 35: .........\n",
      "168980.0407989025\t28.228379011154175\t\tstory 36: .........\n",
      "169002.45582389832\t22.415024995803833\t\tstory 37: ............................"
     ]
    },
    {
     "name": "stderr",
     "output_type": "stream",
     "text": [
      "INFO:backoff:Backing off send_request(...) for 0.9s (requests.exceptions.ConnectionError: ('Connection aborted.', ConnectionResetError(54, 'Connection reset by peer')))\n"
     ]
    },
    {
     "name": "stdout",
     "output_type": "stream",
     "text": [
      "\n",
      "170049.09330677986\t1046.637482881546\t\tstory 38: .........\n",
      "170075.53984069824\t26.446533918380737\t\tstory 39: .........\n",
      "170099.41159296036\t23.87175226211548\t\tstory 40: .........\n",
      "170114.5940039158\t15.182410955429077\t\tstory 41: .........\n",
      "170139.89984178543\t25.305837869644165\t\tstory 42: ........\n",
      "170158.27641177177\t18.376569986343384\t\tstory 43: ............\n",
      "170190.2462937832\t31.969882011413574\t\tstory 44: .........\n",
      "170223.64504289627\t33.398749113082886\t\tstory 45: ........"
     ]
    },
    {
     "name": "stderr",
     "output_type": "stream",
     "text": [
      "INFO:backoff:Backing off send_request(...) for 0.1s (requests.exceptions.ConnectionError: ('Connection aborted.', ConnectionResetError(54, 'Connection reset by peer')))\n"
     ]
    },
    {
     "name": "stdout",
     "output_type": "stream",
     "text": [
      "\n",
      "171298.90605068207\t1075.2610077857971\t\tstory 46: .........\n",
      "171320.6842997074\t21.77824902534485\t\tstory 47: .........\n",
      "171344.63821578026\t23.95391607284546\t\tstory 48: ............\n",
      "171377.16089987755\t32.52268409729004\t\tstory 49: ........\n",
      "171403.0057899952\t25.844890117645264\t\tstory 50: .........\n",
      "171429.7849497795\t26.779159784317017\t\tstory 51: .........\n",
      "171455.73238682747\t25.947437047958374\t\tstory 52: .........\n",
      "171486.21035289764\t30.47796607017517\t\tstory 53: .........\n",
      "171530.80204701424\t44.59169411659241\t\tstory 54: ............\n",
      "172329.87368488312\t799.0716378688812\t\tstory 55: ."
     ]
    },
    {
     "name": "stderr",
     "output_type": "stream",
     "text": [
      "INFO:backoff:Backing off send_request(...) for 0.1s (requests.exceptions.ConnectionError: ('Connection aborted.', ConnectionResetError(54, 'Connection reset by peer')))\n"
     ]
    },
    {
     "name": "stdout",
     "output_type": "stream",
     "text": [
      "........\n",
      "172656.2452197075\t326.37153482437134\t\tstory 56: ."
     ]
    },
    {
     "name": "stderr",
     "output_type": "stream",
     "text": [
      "INFO:backoff:Backing off send_request(...) for 0.3s (requests.exceptions.ConnectionError: ('Connection aborted.', ConnectionResetError(54, 'Connection reset by peer')))\n"
     ]
    },
    {
     "name": "stdout",
     "output_type": "stream",
     "text": [
      ".......\n",
      "172676.79402971268\t20.54881000518799\t\tstory 57: .........\n",
      "172694.5946047306\t17.800575017929077\t\tstory 58: .........\n",
      "172718.29245877266\t23.697854042053223\t\tstory 59: ............\n",
      "172757.20745396614\t38.914995193481445\t\tstory 60: .........\n",
      "172781.49847078323\t24.291016817092896\t\tstory 61: .........\n",
      "172812.03144574165\t30.5329749584198\t\tstory 62: .........\n",
      "172873.79805278778\t61.76660704612732\t\tstory 63: .........\n",
      "172898.0204076767\t24.222354888916016\t\tstory 64: ...........\n",
      "172930.81491088867\t32.7945032119751\t\tstory 65: .........\n",
      "172956.80892801285\t25.994017124176025\t\tstory 66: .........\n",
      "172978.6703429222\t21.861414909362793\t\tstory 67: .........\n",
      "173001.20425772667\t22.533914804458618\t\tstory 68: .........\n",
      "173022.58541798592\t21.381160259246826\t\tstory 69: ........\n",
      "173041.07038474083\t18.48496675491333\t\tstory 70: ........\n",
      "173065.06641983986\t23.99603509902954\t\tstory 71: .........\n",
      "173083.9639019966\t18.89748215675354\t\tstory 72: .........\n",
      "173106.2179017067\t22.253999710083008\t\tstory 73: .........\n",
      "173132.93771600723\t26.71981430053711\t\tstory 74: .........\n",
      "173160.99992990494\t28.062213897705078\t\tstory 75: .........\n",
      "173183.84151768684\t22.841587781906128\t\tstory 76: ...........\n",
      "173213.97791481018\t30.136397123336792\t\tstory 77: ...........\n",
      "173241.6757068634\t27.697792053222656\t\tstory 78: ........\n",
      "173266.78727078438\t25.11156392097473\t\tstory 79: .........\n",
      "173297.49508190155\t30.70781111717224\t\tstory 80: .........\n",
      "173319.94155287743\t22.446470975875854\t\tstory 81: .........\n",
      "173340.8550388813\t20.913486003875732\t\tstory 82: .........\n",
      "173360.34078979492\t19.485750913619995\t\tstory 83: .........\n",
      "173382.35572361946\t22.014933824539185\t\tstory 84: ............\n",
      "173413.4725906849\t31.116867065429688\t\tstory 85: .........\n",
      "173439.58379983902\t26.11120915412903\t\tstory 86: .........\n",
      "173465.38631486893\t25.802515029907227\t\tstory 87: .........\n",
      "173498.03002595901\t32.64371109008789\t\tstory 88: ............\n",
      "173530.71257972717\t32.68255376815796\t\tstory 89: ........\n",
      "173548.6868019104\t17.97422218322754\t\tstory 90: .........\n",
      "173567.1194038391\t18.432601928710938\t\tstory 91: ........\n",
      "173589.49223279953\t22.3728289604187\t\tstory 92: .........\n",
      "173614.80619597435\t25.313963174819946\t\tstory 93: ...............\n",
      "173658.76603484154\t43.9598388671875\t\tstory 94: .............................\n",
      "173731.42256069183\t72.65652585029602\t\tstory 95: .........\n",
      "173757.46500873566\t26.042448043823242\t\tstory 96: ...........\n",
      "173781.95294594765\t24.487937211990356\t\tstory 97: ........\n",
      "173815.43092679977\t33.477980852127075\t\tstory 98: ..........................\n",
      "173894.64065098763\t79.20972418785095\t\tstory 99: .........\n",
      "173913.38223266602\t18.741581678390503\t\tstory 100: ............173946.96042966843\t33.578198194503784\tOverlap [0.2] 160\n",
      "\n",
      "173946.96048879623\t33.578256130218506\t\tstory 1: .........\n",
      "173969.19838285446\t22.23789405822754\t\tstory 2: .........\n",
      "173994.6040148735\t25.40563201904297\t\tstory 3: .........\n",
      "174013.98724675179\t19.38323187828064\t\tstory 4: ........\n",
      "174033.9012029171\t19.91395616531372\t\tstory 5: .........\n",
      "174054.9604458809\t21.059242963790894\t\tstory 6: .........\n",
      "174078.69212388992\t23.731678009033203\t\tstory 7: .........\n",
      "174105.3274078369\t26.635283946990967\t\tstory 8: ............\n",
      "174137.5431098938\t32.215702056884766\t\tstory 9: ............\n",
      "174165.25395989418\t27.71085000038147\t\tstory 10: .........\n",
      "174190.000207901\t24.74624800682068\t\tstory 11: .........\n",
      "174212.8323597908\t22.832151889801025\t\tstory 12: .......\n",
      "174231.91615080833\t19.08379101753235\t\tstory 13: .........\n",
      "174253.60853886604\t21.69238805770874\t\tstory 14: .........\n",
      "174281.19525790215\t27.586719036102295\t\tstory 15: .........\n",
      "174305.58622169495\t24.390963792800903\t\tstory 16: .......\n",
      "174330.96313667297\t25.376914978027344\t\tstory 17: .........\n",
      "174348.8242907524\t17.861154079437256\t\tstory 18: .........\n",
      "174367.4989247322\t18.674633979797363\t\tstory 19: .........\n",
      "174392.39149475098\t24.89257001876831\t\tstory 20: .........\n",
      "174415.88107085228\t23.4895761013031\t\tstory 21: ........\n",
      "174435.3696217537\t19.488550901412964\t\tstory 22: .........\n",
      "174458.47069382668\t23.101072072982788\t\tstory 23: .........\n",
      "174477.69192385674\t19.221230030059814\t\tstory 24: .........\n",
      "174503.1794257164\t25.487501859664917\t\tstory 25: ...........\n",
      "174541.78433585167\t38.604910135269165\t\tstory 26: .........\n",
      "174563.97255182266\t22.188215970993042\t\tstory 27: .........\n",
      "174585.9198448658\t21.947293043136597\t\tstory 28: .........\n",
      "174618.24046063423\t32.32061576843262\t\tstory 29: ...........................\n",
      "174689.17689299583\t70.93643236160278\t\tstory 30: .........\n",
      "174718.8085079193\t29.631614923477173\t\tstory 31: .........\n",
      "174742.53884482384\t23.730336904525757\t\tstory 32: ...........\n",
      "174772.1002278328\t29.56138300895691\t\tstory 33: ............\n",
      "174801.2289979458\t29.128770112991333\t\tstory 34: ........\n",
      "174823.98833060265\t22.75933265686035\t\tstory 35: .........\n",
      "174847.59340190887\t23.605071306228638\t\tstory 36: .........\n",
      "174870.5687098503\t22.975307941436768\t\tstory 37: ............................\n",
      "174963.8539967537\t93.28528690338135\t\tstory 38: .........\n",
      "174990.30570483208\t26.4517080783844\t\tstory 39: .........\n",
      "175014.5942118168\t24.288506984710693\t\tstory 40: .........\n",
      "175029.73954582214\t15.145334005355835\t\tstory 41: .........\n",
      "175056.56892490387\t26.829379081726074\t\tstory 42: ........\n",
      "175074.91963768005\t18.350712776184082\t\tstory 43: ............\n",
      "175107.06169390678\t32.14205622673035\t\tstory 44: .........\n",
      "175134.02864789963\t26.966953992843628\t\tstory 45: ........\n",
      "175152.61681580544\t18.588167905807495\t\tstory 46: .........\n",
      "175179.7033779621\t27.086562156677246\t\tstory 47: .........\n",
      "175205.11699271202\t25.413614749908447\t\tstory 48: ............\n",
      "175240.47877573967\t35.361783027648926\t\tstory 49: ........\n",
      "175268.817786932\t28.339011192321777\t\tstory 50: .........\n",
      "175298.80601382256\t29.988226890563965\t\tstory 51: .........\n",
      "175324.77240490913\t25.96639108657837\t\tstory 52: .........\n",
      "175348.2293870449\t23.456982135772705\t\tstory 53: .........\n",
      "175364.5752530098\t16.345865964889526\t\tstory 54: ............\n",
      "175399.21227884293\t34.63702583312988\t\tstory 55: .........\n",
      "175419.85949969292\t20.647220849990845\t\tstory 56: ........\n",
      "175440.49691176414\t20.637412071228027\t\tstory 57: .........\n",
      "175458.29755878448\t17.800647020339966\t\tstory 58: .........\n",
      "175488.45317578316\t30.155616998672485\t\tstory 59: ............\n",
      "175532.19164085388\t43.73846507072449\t\tstory 60: .........\n",
      "175556.51804590225\t24.32640504837036\t\tstory 61: .........\n",
      "175582.7887248993\t26.270678997039795\t\tstory 62: .........\n",
      "175615.39268374443\t32.60395884513855\t\tstory 63: .........\n",
      "175639.68228268623\t24.28959894180298\t\tstory 64: ...........\n",
      "175672.4442229271\t32.761940240859985\t\tstory 65: .........\n",
      "175699.44587683678\t27.001653909683228\t\tstory 66: .........\n",
      "175721.78892493248\t22.343048095703125\t\tstory 67: .........\n",
      "175744.35173988342\t22.562814950942993\t\tstory 68: .........\n",
      "175765.76759076118\t21.41585087776184\t\tstory 69: ........\n",
      "175784.15172886848\t18.384138107299805\t\tstory 70: ........\n",
      "175808.30102300644\t24.149294137954712\t\tstory 71: .........\n",
      "175827.21599388123\t18.914970874786377\t\tstory 72: .........\n",
      "175849.50990271568\t22.293908834457397\t\tstory 73: .........\n",
      "175876.27158784866\t26.761685132980347\t\tstory 74: .........\n",
      "175906.16504764557\t29.893459796905518\t\tstory 75: .........\n",
      "175928.97852873802\t22.813481092453003\t\tstory 76: ...........\n",
      "175959.13334178925\t30.154813051223755\t\tstory 77: ...........\n",
      "175986.83018875122\t27.696846961975098\t\tstory 78: ........\n",
      "176013.04726195335\t26.21707320213318\t\tstory 79: .........\n",
      "176044.0004580021\t30.953196048736572\t\tstory 80: .........\n",
      "176066.53756189346\t22.53710389137268\t\tstory 81: .........\n",
      "176087.4054517746\t20.867889881134033\t\tstory 82: .........\n",
      "176107.85678696632\t20.451335191726685\t\tstory 83: .........\n",
      "176129.88626384735\t22.02947688102722\t\tstory 84: ............\n",
      "176163.45611763\t33.56985378265381\t\tstory 85: .........\n",
      "176189.60458660126\t26.14846897125244\t\tstory 86: .........\n",
      "176216.1423099041\t26.537723302841187\t\tstory 87: .........\n",
      "176252.5141878128\t36.371877908706665\t\tstory 88: ............\n",
      "176285.18221378326\t32.668025970458984\t\tstory 89: ........\n",
      "176303.14695191383\t17.964738130569458\t\tstory 90: .........\n",
      "176323.68322992325\t20.536278009414673\t\tstory 91: ........\n",
      "176346.047000885\t22.363770961761475\t\tstory 92: .........\n",
      "176371.90428376198\t25.857282876968384\t\tstory 93: ...............\n",
      "176417.29227089882\t45.38798713684082\t\tstory 94: .............................\n",
      "176491.6873948574\t74.39512395858765\t\tstory 95: .........\n",
      "176517.65115070343\t25.96375584602356\t\tstory 96: ...........\n",
      "176542.13119387627\t24.480043172836304\t\tstory 97: ........\n",
      "176581.42041492462\t39.2892210483551\t\tstory 98: ..........................\n",
      "176662.51421380043\t81.09379887580872\t\tstory 99: .........\n",
      "176681.23509669304\t18.720882892608643\t\tstory 100: ............176715.68627262115\t34.45117712020874\tOverlap [0.3] 240\n",
      "\n",
      "176715.68634295464\t34.45124626159668\t\tstory 1: .........\n",
      "176737.96006584167\t22.273722887039185\t\tstory 2: .........\n",
      "176763.38956594467\t25.429500102996826\t\tstory 3: .........\n",
      "176784.14168572426\t20.752119779586792\t\tstory 4: ........\n",
      "176804.83955097198\t20.69786524772644\t\tstory 5: .........\n",
      "176825.94510889053\t21.105557918548584\t\tstory 6: .........\n",
      "176851.93632388115\t25.991214990615845\t\tstory 7: .........\n",
      "176880.503978014\t28.567654132843018\t\tstory 8: ............\n",
      "176912.7969379425\t32.29295992851257\t\tstory 9: ............\n",
      "176940.51349782944\t27.716559886932373\t\tstory 10: .........\n",
      "176965.40320062637\t24.889702796936035\t\tstory 11: .........\n",
      "176988.12562775612\t22.722427129745483\t\tstory 12: .......\n",
      "177007.25731778145\t19.13169002532959\t\tstory 13: .........\n",
      "177029.25125575066\t21.993937969207764\t\tstory 14: .........\n",
      "177056.8072488308\t27.55599308013916\t\tstory 15: .........\n",
      "177081.84217381477\t25.03492498397827\t\tstory 16: .......\n",
      "177107.97397089005\t26.131797075271606\t\tstory 17: .........\n",
      "177125.84811282158\t17.874141931533813\t\tstory 18: .........\n",
      "177144.5226597786\t18.67454695701599\t\tstory 19: .........\n",
      "177169.81190395355\t25.289244174957275\t\tstory 20: .........\n",
      "177193.36457967758\t23.55267572402954\t\tstory 21: ........\n",
      "177213.28720068932\t19.92262101173401\t\tstory 22: .........\n",
      "177237.69472575188\t24.407525062561035\t\tstory 23: .........\n",
      "177256.90655994415\t19.211834192276\t\tstory 24: .........\n",
      "177282.40408086777\t25.497520923614502\t\tstory 25: ...........\n",
      "177321.01397776604\t38.60989689826965\t\tstory 26: .........\n",
      "177343.21714162827\t22.203163862228394\t\tstory 27: .........\n",
      "177365.22274780273\t22.005606174468994\t\tstory 28: .........\n",
      "177398.2691719532\t33.04642415046692\t\tstory 29: ...........................\n",
      "177469.8786509037\t71.60947895050049\t\tstory 30: .........\n",
      "177500.10240793228\t30.223757028579712\t\tstory 31: .........\n",
      "177523.83134269714\t23.72893476486206\t\tstory 32: ...........\n",
      "177554.28747296333\t30.456130266189575\t\tstory 33: ............\n",
      "177583.11702394485\t28.829550981521606\t\tstory 34: ........\n",
      "177605.6913368702\t22.574312925338745\t\tstory 35: .........\n",
      "177629.29553985596\t23.60420298576355\t\tstory 36: .........\n",
      "177651.77882695198\t22.48328709602356\t\tstory 37: ............................\n",
      "177747.20717072487\t95.42834377288818\t\tstory 38: .........\n",
      "177773.96559786797\t26.758427143096924\t\tstory 39: .........\n",
      "177798.2664797306\t24.30088186264038\t\tstory 40: .........\n",
      "177814.87910079956\t16.612621068954468\t\tstory 41: .........\n",
      "177841.70925283432\t26.83015203475952\t\tstory 42: ........\n",
      "177860.0385107994\t18.32925796508789\t\tstory 43: ............\n",
      "177892.23939085007\t32.20088005065918\t\tstory 44: .........\n",
      "177920.34543275833\t28.10604190826416\t\tstory 45: ........\n",
      "177938.9533777237\t18.60794496536255\t\tstory 46: .........\n",
      "177966.96926283836\t28.0158851146698\t\tstory 47: .........\n",
      "177993.55571365356\t26.586450815200806\t\tstory 48: ............\n",
      "178024.66210889816\t31.10639524459839\t\tstory 49: ........\n",
      "178055.7774128914\t31.115303993225098\t\tstory 50: .........\n",
      "178086.38667869568\t30.60926580429077\t\tstory 51: .........\n",
      "178112.41441178322\t26.027733087539673\t\tstory 52: .........\n",
      "178135.73870491982\t23.32429313659668\t\tstory 53: .........\n",
      "178153.02150583267\t17.282800912857056\t\tstory 54: ............\n",
      "178187.6811518669\t34.65964603424072\t\tstory 55: .........\n",
      "178208.33711266518\t20.65596079826355\t\tstory 56: ........\n",
      "178229.0122256279\t20.67511296272278\t\tstory 57: .........\n",
      "178246.8190369606\t17.806811332702637\t\tstory 58: .........\n",
      "178277.92825865746\t31.109221696853638\t\tstory 59: ............\n",
      "178323.5579547882\t45.62969613075256\t\tstory 60: .........\n",
      "178347.9018418789\t24.343887090682983\t\tstory 61: .........\n",
      "178374.1541440487\t26.252302169799805\t\tstory 62: .........\n",
      "178406.78729605675\t32.63315200805664\t\tstory 63: .........\n",
      "178431.05580878258\t24.268512725830078\t\tstory 64: ...........\n",
      "178463.84934473038\t32.79353594779968\t\tstory 65: .........\n",
      "178492.2929599285\t28.443615198135376\t\tstory 66: .........\n",
      "178515.04481172562\t22.751851797103882\t\tstory 67: .........\n",
      "178537.6276488304\t22.582837104797363\t\tstory 68: .........\n",
      "178559.0305337906\t21.40288496017456\t\tstory 69: ........\n",
      "178577.49529886246\t18.464765071868896\t\tstory 70: ........\n",
      "178601.64538288116\t24.150084018707275\t\tstory 71: .........\n",
      "178620.53418278694\t18.888799905776978\t\tstory 72: .........\n",
      "178642.8307006359\t22.296517848968506\t\tstory 73: .........\n",
      "178669.60643482208\t26.775734186172485\t\tstory 74: .........\n",
      "178699.85968375206\t30.253248929977417\t\tstory 75: .........\n",
      "178723.37368869781\t23.514004945755005\t\tstory 76: ...........\n",
      "178753.5239329338\t30.15024423599243\t\tstory 77: ...........\n",
      "178781.23076581955\t27.706832885742188\t\tstory 78: ........\n",
      "178809.74878382683\t28.518018007278442\t\tstory 79: .........\n",
      "178840.7797818184\t31.03099799156189\t\tstory 80: .........\n",
      "178864.75241589546\t23.972634077072144\t\tstory 81: .........\n",
      "178885.65856480598\t20.90614891052246\t\tstory 82: .........\n",
      "178907.89429688454\t22.235732078552246\t\tstory 83: .........\n",
      "178929.9055378437\t22.01124095916748\t\tstory 84: ............\n",
      "178964.1389067173\t34.23336887359619\t\tstory 85: .........\n",
      "178990.2617058754\t26.122799158096313\t\tstory 86: .........\n",
      "179016.8333158493\t26.57160997390747\t\tstory 87: .........\n",
      "179052.97236084938\t36.139045000076294\t\tstory 88: ............\n",
      "179085.87623786926\t32.9038770198822\t\tstory 89: ........\n",
      "179103.83765292168\t17.96141505241394\t\tstory 90: .........\n",
      "179124.40552401543\t20.56787109375\t\tstory 91: ........\n",
      "179146.79932379723\t22.393799781799316\t\tstory 92: .........\n",
      "179172.6386897564\t25.83936595916748\t\tstory 93: ...............\n",
      "179218.029296875\t45.39060711860657\t\tstory 94: .............................\n",
      "179297.31565594673\t79.28635907173157\t\tstory 95: .........\n",
      "179323.2735888958\t25.957932949066162\t\tstory 96: ...........\n",
      "179347.74975585938\t24.47616696357727\t\tstory 97: ........\n",
      "179392.99227190018\t45.242516040802\t\tstory 98: ..........................\n",
      "179476.58147001266\t83.5891981124878\t\tstory 99: .........\n",
      "179495.31047296524\t18.729002952575684\t\tstory 100: ............179529.730301857 Processing chunk size 1600:\n",
      "179529.73035883904\t2.86102294921875e-06\tOverlap [0] 0\n",
      "\n",
      "179529.7303686142\t1.1682510375976562e-05\t\tstory 1: .........\n",
      "179552.9239397049\t23.193571090698242\t\tstory 2: .........\n",
      "179578.37443995476\t25.45050024986267\t\tstory 3: .........\n",
      "179599.37694072723\t21.002500772476196\t\tstory 4: ........\n",
      "179619.91676783562\t20.53982710838318\t\tstory 5: .........\n",
      "179640.97388076782\t21.0571129322052\t\tstory 6: .........\n",
      "179666.93278074265\t25.958899974822998\t\tstory 7: .........\n",
      "179694.7950899601\t27.862309217453003\t\tstory 8: ............\n",
      "179727.0689086914\t32.27381873130798\t\tstory 9: ............\n",
      "179754.81596279144\t27.74705410003662\t\tstory 10: .........\n",
      "179779.64950585365\t24.833543062210083\t\tstory 11: .........\n",
      "179803.78998994827\t24.14048409461975\t\tstory 12: .......\n",
      "179824.79924464226\t21.009254693984985\t\tstory 13: .........\n",
      "179846.78659772873\t21.987353086471558\t\tstory 14: .........\n",
      "179874.35812687874\t27.571529150009155\t\tstory 15: .........\n",
      "179899.35998892784\t25.001862049102783\t\tstory 16: .......\n",
      "179925.51506090164\t26.15507197380066\t\tstory 17: .........\n",
      "179947.05050706863\t21.535446166992188\t\tstory 18: .........\n",
      "179965.71053886414\t18.66003179550171\t\tstory 19: .........\n",
      "179992.9422159195\t27.231677055358887\t\tstory 20: .........\n",
      "180016.42712187767\t23.48490595817566\t\tstory 21: ........\n",
      "180036.32884979248\t19.90172791481018\t\tstory 22: .........\n",
      "180066.54966783524\t30.220818042755127\t\tstory 23: .........\n",
      "180086.05227398872\t19.50260615348816\t\tstory 24: .........\n",
      "180111.38988089561\t25.33760690689087\t\tstory 25: ...........\n",
      "180155.34640288353\t43.95652198791504\t\tstory 26: .........\n",
      "180177.5729827881\t22.226579904556274\t\tstory 27: .........\n",
      "180203.0083448887\t25.435362100601196\t\tstory 28: .........\n",
      "180238.3589026928\t35.350557804107666\t\tstory 29: ...........................\n",
      "180312.61682891846\t74.25792622566223\t\tstory 30: .........\n",
      "180342.81453967094\t30.197710752487183\t\tstory 31: .........\n",
      "180365.38010287285\t22.565563201904297\t\tstory 32: ...........\n",
      "180401.70617175102\t36.32606887817383\t\tstory 33: ............\n",
      "180430.84323978424\t29.137068033218384\t\tstory 34: ........\n",
      "180453.6172606945\t22.77402091026306\t\tstory 35: .........\n",
      "180477.23569369316\t23.618432998657227\t\tstory 36: .........\n",
      "180500.17085790634\t22.935164213180542\t\tstory 37: ............................\n",
      "180607.8483388424\t107.67748093605042\t\tstory 38: .........\n",
      "180634.56554293633\t26.717204093933105\t\tstory 39: .........\n",
      "180658.837474823\t24.271931886672974\t\tstory 40: .........\n",
      "180675.19710588455\t16.359631061553955\t\tstory 41: .........\n",
      "180704.64017796516\t29.443072080612183\t\tstory 42: ........\n",
      "180723.04643678665\t18.406258821487427\t\tstory 43: ............\n",
      "180755.30913591385\t32.262699127197266\t\tstory 44: .........\n",
      "180783.39040064812\t28.08126473426819\t\tstory 45: ........\n",
      "180804.99476194382\t21.604361295700073\t\tstory 46: .........\n",
      "180833.014138937\t28.01937699317932\t\tstory 47: .........\n",
      "180859.12512373924\t26.110984802246094\t\tstory 48: ............\n",
      "180896.71736383438\t37.59224009513855\t\tstory 49: ........\n",
      "180930.3257408142\t33.60837697982788\t\tstory 50: .........\n",
      "180960.95796775818\t30.632226943969727\t\tstory 51: .........\n",
      "180986.9374268055\t25.979459047317505\t\tstory 52: .........\n",
      "181010.2248237133\t23.287396907806396\t\tstory 53: .........\n",
      "181027.5082397461\t17.283416032791138\t\tstory 54: ............\n",
      "181062.15740084648\t34.64916110038757\t\tstory 55: .........\n",
      "181082.809997797\t20.652596950531006\t\tstory 56: ........\n",
      "181103.44411683083\t20.634119033813477\t\tstory 57: .........\n",
      "181121.2250649929\t17.780948162078857\t\tstory 58: .........\n",
      "181152.32571482658\t31.1006498336792\t\tstory 59: ............\n",
      "181198.00427865982\t45.678563833236694\t\tstory 60: .........\n",
      "181223.05351686478\t25.049238204956055\t\tstory 61: .........\n",
      "181249.27844691277\t26.22493004798889\t\tstory 62: .........\n",
      "181281.90636873245\t32.62792181968689\t\tstory 63: .........\n",
      "181306.17631483078\t24.269946098327637\t\tstory 64: ...........\n",
      "181338.93582963943\t32.759514808654785\t\tstory 65: .........\n",
      "181367.32998681068\t28.39415717124939\t\tstory 66: .........\n",
      "181390.07987999916\t22.749893188476562\t\tstory 67: .........\n",
      "181412.65371966362\t22.57383966445923\t\tstory 68: .........\n",
      "181434.06076788902\t21.407048225402832\t\tstory 69: ........\n",
      "181452.52672696114\t18.465959072113037\t\tstory 70: ........\n",
      "181481.03845787048\t28.511730909347534\t\tstory 71: .........\n",
      "181499.94029188156\t18.90183401107788\t\tstory 72: .........\n",
      "181522.02049589157\t22.080204010009766\t\tstory 73: .........\n",
      "181548.73518800735\t26.71469211578369\t\tstory 74: .........\n",
      "181579.00740671158\t30.272218704223633\t\tstory 75: .........\n",
      "181602.48229289055\t23.474886178970337\t\tstory 76: ...........\n",
      "181633.58479380608\t31.102500915527344\t\tstory 77: ...........\n",
      "181661.31293797493\t27.72814416885376\t\tstory 78: ........\n",
      "181689.81190872192\t28.49897074699402\t\tstory 79: .........\n",
      "181722.3303487301\t32.51844000816345\t\tstory 80: .........\n",
      "181746.30472493172\t23.97437620162964\t\tstory 81: .........\n",
      "181767.2087278366\t20.904002904891968\t\tstory 82: .........\n",
      "181790.58350801468\t23.37478017807007\t\tstory 83: .........\n",
      "181812.61708974838\t22.033581733703613\t\tstory 84: ............\n",
      "181846.76045680046\t34.14336705207825\t\tstory 85: .........\n",
      "181872.85466766357\t26.094210863113403\t\tstory 86: .........\n",
      "181899.41729474068\t26.56262707710266\t\tstory 87: .........\n",
      "181936.22304582596\t36.80575108528137\t\tstory 88: ............\n",
      "181969.1059267521\t32.8828809261322\t\tstory 89: ........\n",
      "181987.0893688202\t17.983442068099976\t\tstory 90: .........\n",
      "182007.6331410408\t20.543772220611572\t\tstory 91: ........\n",
      "182030.0168247223\t22.383683681488037\t\tstory 92: .........\n",
      "182056.96744680405\t26.950622081756592\t\tstory 93: ...............\n",
      "182104.85466599464\t47.887219190597534\t\tstory 94: .............................\n",
      "182185.18807387352\t80.33340787887573\t\tstory 95: .........\n",
      "182211.14395189285\t25.955878019332886\t\tstory 96: ...........\n",
      "182235.57567882538\t24.431726932525635\t\tstory 97: ........\n",
      "182280.8615617752\t45.2858829498291\t\tstory 98: ..........................\n",
      "182365.06156802177\t84.20000624656677\t\tstory 99: .........\n",
      "182383.8124628067\t18.750894784927368\t\tstory 100: ............182418.29030394554\t34.477843046188354\tOverlap [0.1] 160\n",
      "\n",
      "182418.29034495354\t34.47788214683533\t\tstory 1: .........\n",
      "182441.43859672546\t23.14825177192688\t\tstory 2: .........\n",
      "182466.89120984077\t25.45261311531067\t\tstory 3: .........\n",
      "182487.6376338005\t20.746423959732056\t\tstory 4: ........\n",
      "182508.3388979435\t20.701264142990112\t\tstory 5: .........\n",
      "182529.4461467266\t21.107248783111572\t\tstory 6: .........\n",
      "182555.37262177467\t25.926475048065186\t\tstory 7: .........\n",
      "182583.23288869858\t27.86026692390442\t\tstory 8: ............\n",
      "182615.5130457878\t32.2801570892334\t\tstory 9: ............\n",
      "182643.24453878403\t27.73149299621582\t\tstory 10: .........\n",
      "182668.09441685677\t24.849878072738647\t\tstory 11: .........\n",
      "182692.1051018238\t24.010684967041016\t\tstory 12: .......\n",
      "182713.13695573807\t21.031853914260864\t\tstory 13: .........\n",
      "182735.08232569695\t21.945369958877563\t\tstory 14: .........\n",
      "182762.28393769264\t27.20161199569702\t\tstory 15: .........\n",
      "182787.29815292358\t25.014215230941772\t\tstory 16: .......\n",
      "182816.1109199524\t28.812767028808594\t\tstory 17: .........\n",
      "182837.67182183266\t21.560901880264282\t\tstory 18: .........\n",
      "182856.4465777874\t18.77475595474243\t\tstory 19: .........\n",
      "182887.24170184135\t30.795124053955078\t\tstory 20: .........\n",
      "182910.74929785728\t23.507596015930176\t\tstory 21: ........\n",
      "182934.86189699173\t24.11259913444519\t\tstory 22: .........\n",
      "182965.1021487713\t30.240251779556274\t\tstory 23: .........\n",
      "182984.60520672798\t19.503057956695557\t\tstory 24: .........\n",
      "183010.08436989784\t25.47916316986084\t\tstory 25: ...........\n",
      "183055.92688894272\t45.8425190448761\t\tstory 26: .........\n",
      "183078.17416286469\t22.247273921966553\t\tstory 27: .........\n",
      "183103.61356377602\t25.439400911331177\t\tstory 28: .........\n",
      "183138.93469285965\t35.32112908363342\t\tstory 29: ...........................\n",
      "183213.2816028595\t74.34690999984741\t\tstory 30: .........\n",
      "183243.49636268616\t30.214759826660156\t\tstory 31: .........\n",
      "183266.05163884163\t22.5552761554718\t\tstory 32: ...........\n",
      "183302.2768728733\t36.225234031677246\t\tstory 33: ............\n",
      "183331.42367577553\t29.14680290222168\t\tstory 34: ........\n",
      "183951.9991889\t620.5755131244659\t\tstory 35: ."
     ]
    },
    {
     "name": "stderr",
     "output_type": "stream",
     "text": [
      "INFO:backoff:Backing off send_request(...) for 0.3s (requests.exceptions.ConnectionError: ('Connection aborted.', ConnectionResetError(54, 'Connection reset by peer')))\n"
     ]
    },
    {
     "name": "stdout",
     "output_type": "stream",
     "text": [
      "........\n",
      "183975.5590827465\t23.55989384651184\t\tstory 36: .........\n",
      "184979.1727619171\t1003.6136791706085\t\tstory 37: ."
     ]
    },
    {
     "name": "stderr",
     "output_type": "stream",
     "text": [
      "INFO:backoff:Backing off send_request(...) for 0.9s (requests.exceptions.ConnectionError: ('Connection aborted.', ConnectionResetError(54, 'Connection reset by peer')))\n"
     ]
    },
    {
     "name": "stdout",
     "output_type": "stream",
     "text": [
      "...........................\n",
      "186065.7312886715\t1086.5585267543793\t\tstory 38: ."
     ]
    },
    {
     "name": "stderr",
     "output_type": "stream",
     "text": [
      "INFO:backoff:Backing off send_request(...) for 0.8s (requests.exceptions.ConnectionError: ('Connection aborted.', ConnectionResetError(54, 'Connection reset by peer')))\n"
     ]
    },
    {
     "name": "stdout",
     "output_type": "stream",
     "text": [
      "........\n",
      "187115.47789907455\t1049.746610403061\t\tstory 39: ."
     ]
    },
    {
     "name": "stderr",
     "output_type": "stream",
     "text": [
      "INFO:backoff:Backing off send_request(...) for 0.4s (requests.exceptions.ConnectionError: ('Connection aborted.', ConnectionResetError(54, 'Connection reset by peer')))\n"
     ]
    },
    {
     "name": "stdout",
     "output_type": "stream",
     "text": [
      "........\n",
      "187139.62393784523\t24.14603877067566\t\tstory 40: .........\n",
      "187548.24138975143\t408.6174519062042\t\tstory 41: ."
     ]
    },
    {
     "name": "stderr",
     "output_type": "stream",
     "text": [
      "INFO:backoff:Backing off send_request(...) for 0.8s (requests.exceptions.ConnectionError: ('Connection aborted.', ConnectionResetError(54, 'Connection reset by peer')))\n"
     ]
    },
    {
     "name": "stdout",
     "output_type": "stream",
     "text": [
      "........\n",
      "187577.7715089321\t29.53011918067932\t\tstory 42: ........\n",
      "187596.12316393852\t18.35165500640869\t\tstory 43: ............\n",
      "187628.26341366768\t32.140249729156494\t\tstory 44: .........\n",
      "187656.31698274612\t28.053569078445435\t\tstory 45: ........\n",
      "187680.95922589302\t24.642243146896362\t\tstory 46: .........\n",
      "187705.29288983345\t24.333663940429688\t\tstory 47: .........\n",
      "187731.34353160858\t26.050641775131226\t\tstory 48: ............\n",
      "187768.82936501503\t37.485833406448364\t\tstory 49: ........\n",
      "187805.6338338852\t36.804468870162964\t\tstory 50: .........\n",
      "187836.2972149849\t30.663381099700928\t\tstory 51: .........\n",
      "187862.27114582062\t25.973930835723877\t\tstory 52: .........\n",
      "187885.54762864113\t23.276482820510864\t\tstory 53: .........\n",
      "187902.78087878227\t17.2332501411438\t\tstory 54: ............\n",
      "187937.38393187523\t34.60305309295654\t\tstory 55: .........\n",
      "187957.9515798092\t20.56764793395996\t\tstory 56: ........\n",
      "187978.4993479252\t20.547768115997314\t\tstory 57: .........\n",
      "187996.20113778114\t17.70178985595703\t\tstory 58: .........\n",
      "188027.14332580566\t30.942188024520874\t\tstory 59: ............\n",
      "188072.64608168602\t45.502755880355835\t\tstory 60: .........\n",
      "188097.6657087803\t25.0196270942688\t\tstory 61: .........\n",
      "188123.88037586212\t26.214667081832886\t\tstory 62: .........\n",
      "188156.42814588547\t32.54777002334595\t\tstory 63: .........\n",
      "188180.6767680645\t24.248622179031372\t\tstory 64: ...........\n",
      "188213.39459466934\t32.71782660484314\t\tstory 65: .........\n",
      "188241.79759788513\t28.403003215789795\t\tstory 66: .........\n",
      "188264.492197752\t22.694599866867065\t\tstory 67: .........\n",
      "188287.01395201683\t22.521754264831543\t\tstory 68: .........\n",
      "188308.3731057644\t21.359153747558594\t\tstory 69: ........\n",
      "188326.78335475922\t18.41024899482727\t\tstory 70: ........\n",
      "188355.3636648655\t28.580310106277466\t\tstory 71: .........\n",
      "188374.22627687454\t18.862612009048462\t\tstory 72: .........\n",
      "188396.28904390335\t22.062767028808594\t\tstory 73: .........\n",
      "188422.99755382538\t26.708509922027588\t\tstory 74: .........\n",
      "188453.2349550724\t30.237401247024536\t\tstory 75: .........\n",
      "188476.69857001305\t23.46361494064331\t\tstory 76: ...........\n",
      "188511.42201781273\t34.72344779968262\t\tstory 77: ...........\n",
      "188537.91030192375\t26.48828411102295\t\tstory 78: ........\n",
      "188573.56802988052\t35.65772795677185\t\tstory 79: .........\n",
      "188606.0475347042\t32.47950482368469\t\tstory 80: .........\n",
      "188629.89598679543\t23.84845209121704\t\tstory 81: .........\n",
      "188650.77953982353\t20.88355302810669\t\tstory 82: .........\n",
      "188674.0941209793\t23.314581155776978\t\tstory 83: .........\n",
      "188696.08756875992\t21.99344778060913\t\tstory 84: ............\n",
      "188730.8097627163\t34.72219395637512\t\tstory 85: .........\n",
      "188756.853774786\t26.04401206970215\t\tstory 86: .........\n",
      "188783.40298175812\t26.549206972122192\t\tstory 87: .........\n",
      "188823.46842765808\t40.06544589996338\t\tstory 88: ............\n",
      "188856.32947993279\t32.86105227470398\t\tstory 89: ........\n",
      "188874.3104646206\t17.980984687805176\t\tstory 90: .........\n",
      "188894.85768985748\t20.5472252368927\t\tstory 91: ........\n",
      "188917.23458576202\t22.376895904541016\t\tstory 92: .........\n",
      "188944.1313817501\t26.896795988082886\t\tstory 93: ...............\n",
      "188997.92165780067\t53.79027605056763\t\tstory 94: ............................."
     ]
    },
    {
     "name": "stderr",
     "output_type": "stream",
     "text": [
      "INFO:backoff:Backing off send_request(...) for 0.6s (requests.exceptions.ConnectionError: ('Connection aborted.', ConnectionResetError(54, 'Connection reset by peer')))\n"
     ]
    },
    {
     "name": "stdout",
     "output_type": "stream",
     "text": [
      "\n",
      "190144.52316594124\t1146.601508140564\t\tstory 95: ........."
     ]
    },
    {
     "name": "stderr",
     "output_type": "stream",
     "text": [
      "INFO:backoff:Backing off send_request(...) for 0.7s (requests.exceptions.ConnectionError: ('Connection aborted.', ConnectionResetError(54, 'Connection reset by peer')))\n"
     ]
    },
    {
     "name": "stdout",
     "output_type": "stream",
     "text": [
      "\n",
      "191227.99833393097\t1083.4751679897308\t\tstory 96: ...........\n",
      "191252.28430390358\t24.285969972610474\t\tstory 97: ........\n",
      "191504.90518569946\t252.62088179588318\t\tstory 98: ..........................\n",
      "192310.83793592453\t805.9327502250671\t\tstory 99: ."
     ]
    },
    {
     "name": "stderr",
     "output_type": "stream",
     "text": [
      "INFO:backoff:Backing off send_request(...) for 0.9s (requests.exceptions.ConnectionError: ('Connection aborted.', ConnectionResetError(54, 'Connection reset by peer')))\n"
     ]
    },
    {
     "name": "stdout",
     "output_type": "stream",
     "text": [
      "........\n",
      "192329.55164384842\t18.71370792388916\t\tstory 100: ............192366.5893638134\t37.03772187232971\tOverlap [0.2] 320\n",
      "\n",
      "192366.58942961693\t37.03778576850891\t\tstory 1: .........\n",
      "192389.50122380257\t22.911794185638428\t\tstory 2: .........\n",
      "192414.63992881775\t25.138705015182495\t\tstory 3: .........\n",
      "193399.6391608715\t984.9992320537567\t\tstory 4: ."
     ]
    },
    {
     "name": "stderr",
     "output_type": "stream",
     "text": [
      "INFO:backoff:Backing off send_request(...) for 0.3s (requests.exceptions.ConnectionError: ('Connection aborted.', ConnectionResetError(54, 'Connection reset by peer')))\n"
     ]
    },
    {
     "name": "stdout",
     "output_type": "stream",
     "text": [
      ".......\n",
      "193422.0322508812\t22.39309000968933\t\tstory 5: .........\n",
      "193443.01201367378\t20.97976279258728\t\tstory 6: .........\n",
      "194481.3150818348\t1038.3030681610107\t\tstory 7: ."
     ]
    },
    {
     "name": "stderr",
     "output_type": "stream",
     "text": [
      "INFO:backoff:Backing off send_request(...) for 0.7s (requests.exceptions.ConnectionError: ('Connection aborted.', ConnectionResetError(54, 'Connection reset by peer')))\n"
     ]
    },
    {
     "name": "stdout",
     "output_type": "stream",
     "text": [
      "........\n",
      "194509.72352480888\t28.408442974090576\t\tstory 8: ............\n",
      "195504.0167608261\t994.2932360172272\t\tstory 9: ."
     ]
    },
    {
     "name": "stderr",
     "output_type": "stream",
     "text": [
      "INFO:backoff:Backing off send_request(...) for 0.8s (requests.exceptions.ConnectionError: ('Connection aborted.', ConnectionResetError(54, 'Connection reset by peer')))\n"
     ]
    },
    {
     "name": "stdout",
     "output_type": "stream",
     "text": [
      "...........\n",
      "195531.63037490845\t27.613614082336426\t\tstory 10: ........."
     ]
    },
    {
     "name": "stderr",
     "output_type": "stream",
     "text": [
      "INFO:backoff:Backing off send_request(...) for 0.9s (requests.exceptions.ConnectionError: ('Connection aborted.', ConnectionResetError(54, 'Connection reset by peer')))\n"
     ]
    },
    {
     "name": "stdout",
     "output_type": "stream",
     "text": [
      "\n",
      "196479.0946187973\t947.464243888855\t\tstory 11: .........\n",
      "196503.0721268654\t23.977508068084717\t\tstory 12: .......\n",
      "196524.0525970459\t20.980470180511475\t\tstory 13: .........\n",
      "197591.27678966522\t1067.2241926193237\t\tstory 14: ."
     ]
    },
    {
     "name": "stderr",
     "output_type": "stream",
     "text": [
      "INFO:backoff:Backing off send_request(...) for 0.6s (requests.exceptions.ConnectionError: ('Connection aborted.', ConnectionResetError(54, 'Connection reset by peer')))\n"
     ]
    },
    {
     "name": "stdout",
     "output_type": "stream",
     "text": [
      "........\n",
      "197618.87682676315\t27.600037097930908\t\tstory 15: .........\n",
      "198677.50869464874\t1058.6318678855896\t\tstory 16: ."
     ]
    },
    {
     "name": "stderr",
     "output_type": "stream",
     "text": [
      "INFO:backoff:Backing off send_request(...) for 0.7s (requests.exceptions.ConnectionError: ('Connection aborted.', ConnectionResetError(54, 'Connection reset by peer')))\n"
     ]
    },
    {
     "name": "stdout",
     "output_type": "stream",
     "text": [
      "......\n",
      "198710.53652095795\t33.0278263092041\t\tstory 17: ........."
     ]
    },
    {
     "name": "stderr",
     "output_type": "stream",
     "text": [
      "INFO:backoff:Backing off send_request(...) for 0.3s (requests.exceptions.ConnectionError: ('Connection aborted.', ConnectionResetError(54, 'Connection reset by peer')))\n"
     ]
    },
    {
     "name": "stdout",
     "output_type": "stream",
     "text": [
      "\n",
      "199337.30224585533\t626.7657248973846\t\tstory 18: .........\n",
      "199355.75024986267\t18.448004007339478\t\tstory 19: .........\n",
      "199389.08391284943\t33.33366298675537\t\tstory 20: .........\n",
      "200378.30595588684\t989.2220430374146\t\tstory 21: ."
     ]
    },
    {
     "name": "stderr",
     "output_type": "stream",
     "text": [
      "INFO:backoff:Backing off send_request(...) for 0.7s (requests.exceptions.ConnectionError: ('Connection aborted.', ConnectionResetError(54, 'Connection reset by peer')))\n"
     ]
    },
    {
     "name": "stdout",
     "output_type": "stream",
     "text": [
      ".......\n",
      "200402.31181383133\t24.005857944488525\t\tstory 22: .........\n",
      "201033.55439686775\t631.2425830364227\t\tstory 23: ."
     ]
    },
    {
     "name": "stderr",
     "output_type": "stream",
     "text": [
      "INFO:backoff:Backing off send_request(...) for 0.1s (requests.exceptions.ConnectionError: ('Connection aborted.', ConnectionResetError(54, 'Connection reset by peer')))\n"
     ]
    },
    {
     "name": "stdout",
     "output_type": "stream",
     "text": [
      "........\n",
      "201052.67179083824\t19.117393970489502\t\tstory 24: .........\n",
      "201078.07277584076\t25.4009850025177\t\tstory 25: ...........\n",
      "201122.40081381798\t44.32803797721863\t\tstory 26: .........\n",
      "201144.54829072952\t22.1474769115448\t\tstory 27: .........\n",
      "201169.93310070038\t25.384809970855713\t\tstory 28: .........\n",
      "201205.22987866402\t35.296777963638306\t\tstory 29: ...........................\n",
      "201288.09169888496\t82.86182022094727\t\tstory 30: .........\n",
      "201318.2768509388\t30.185152053833008\t\tstory 31: .........\n",
      "201340.85190582275\t22.57505488395691\t\tstory 32: ...........\n",
      "201384.096878767\t43.244972944259644\t\tstory 33: ............\n",
      "201413.24182200432\t29.144943237304688\t\tstory 34: ........\n",
      "201434.8893456459\t21.647523641586304\t\tstory 35: .........\n",
      "201462.61574292183\t27.726397275924683\t\tstory 36: .........\n",
      "201485.1547987461\t22.539055824279785\t\tstory 37: ............................\n",
      "201602.099370718\t116.94457197189331\t\tstory 38: .........\n",
      "201633.04647564888\t30.947104930877686\t\tstory 39: .........\n",
      "201657.3719649315\t24.325489282608032\t\tstory 40: .........\n",
      "201673.68967676163\t16.31771183013916\t\tstory 41: .........\n",
      "201703.34481167793\t29.655134916305542\t\tstory 42: ........\n",
      "201721.76063489914\t18.415823221206665\t\tstory 43: ............\n",
      "201753.93703389168\t32.17639899253845\t\tstory 44: .........\n",
      "201782.05754590034\t28.120512008666992\t\tstory 45: ........\n",
      "201809.9098417759\t27.852295875549316\t\tstory 46: .........\n",
      "201834.3243689537\t24.41452717781067\t\tstory 47: .........\n",
      "201860.4008038044\t26.07643485069275\t\tstory 48: ............\n",
      "201897.98021364212\t37.57940983772278\t\tstory 49: ........\n",
      "201938.2723917961\t40.2921781539917\t\tstory 50: .........\n",
      "201968.96486878395\t30.692476987838745\t\tstory 51: .........\n",
      "201994.97863388062\t26.01376509666443\t\tstory 52: .........\n",
      "202018.35998892784\t23.381355047225952\t\tstory 53: .........\n",
      "202035.65538692474\t17.295397996902466\t\tstory 54: ............\n",
      "202076.06622982025\t40.41084289550781\t\tstory 55: .........\n",
      "202096.7381927967\t20.67196297645569\t\tstory 56: ........\n",
      "202117.40684580803\t20.66865301132202\t\tstory 57: .........\n",
      "202135.23770689964\t17.83086109161377\t\tstory 58: .........\n",
      "202166.3471570015\t31.109450101852417\t\tstory 59: ............\n",
      "202211.99416780472\t45.647010803222656\t\tstory 60: .........\n",
      "202237.65464282036\t25.66047501564026\t\tstory 61: .........\n",
      "202263.86090660095\t26.206263780593872\t\tstory 62: .........\n",
      "202296.47492194176\t32.614015340805054\t\tstory 63: .........\n",
      "202320.76859879494\t24.29367685317993\t\tstory 64: ...........\n",
      "202353.6150510311\t32.84645223617554\t\tstory 65: .........\n",
      "202382.36720895767\t28.75215792655945\t\tstory 66: .........\n",
      "202405.13288402557\t22.76567506790161\t\tstory 67: .........\n",
      "202427.73314476013\t22.600260734558105\t\tstory 68: .........\n",
      "202449.1511437893\t21.417999029159546\t\tstory 69: ........\n",
      "202467.62139964104\t18.470255851745605\t\tstory 70: ........\n",
      "202496.1889526844\t28.56755304336548\t\tstory 71: .........\n",
      "202515.10351490974\t18.914562225341797\t\tstory 72: .........\n",
      "202537.21536278725\t22.11184787750244\t\tstory 73: .........\n",
      "202563.90885567665\t26.693492889404297\t\tstory 74: .........\n",
      "202595.9209268093\t32.01207113265991\t\tstory 75: .........\n",
      "202619.4372806549\t23.516353845596313\t\tstory 76: ...........\n",
      "202654.22658896446\t34.789308309555054\t\tstory 77: ...........\n",
      "202680.15587878227\t25.92928981781006\t\tstory 78: ........\n",
      "202715.90929484367\t35.75341606140137\t\tstory 79: .........\n",
      "202757.65584897995\t41.746554136276245\t\tstory 80: .........\n",
      "202781.67213892937\t24.016289949417114\t\tstory 81: .........\n",
      "202802.60004281998\t20.92790389060974\t\tstory 82: .........\n",
      "202825.99879980087\t23.398756980895996\t\tstory 83: .........\n",
      "202848.0640089512\t22.06520915031433\t\tstory 84: ............\n",
      "202884.65041470528\t36.586405754089355\t\tstory 85: .........\n",
      "202910.8089478016\t26.158533096313477\t\tstory 86: .........\n",
      "202937.3817038536\t26.572756052017212\t\tstory 87: .........\n",
      "202977.5677268505\t40.186022996902466\t\tstory 88: ............\n",
      "203010.43963766098\t32.87191081047058\t\tstory 89: ........\n",
      "203028.3843410015\t17.944703340530396\t\tstory 90: .........\n",
      "203048.90412068367\t20.519779682159424\t\tstory 91: ........\n",
      "203071.28827285767\t22.38415217399597\t\tstory 92: .........\n",
      "203098.25600266457\t26.967729806900024\t\tstory 93: ...............\n",
      "203152.15406799316\t53.89806532859802\t\tstory 94: .............................\n",
      "203233.22696566582\t81.0728976726532\t\tstory 95: .........\n",
      "203258.32866096497\t25.10169529914856\t\tstory 96: ...........\n",
      "203282.81055784225\t24.48189687728882\t\tstory 97: ........\n",
      "203328.07695698738\t45.26639914512634\t\tstory 98: ..........................\n",
      "203415.08973693848\t87.01277995109558\t\tstory 99: .........\n",
      "203433.84369277954\t18.753955841064453\t\tstory 100: ............203473.5876557827\t39.743964195251465\tOverlap [0.3] 480\n",
      "\n",
      "203473.5877199173\t39.74402713775635\t\tstory 1: .........\n",
      "203496.80408787727\t23.216367959976196\t\tstory 2: .........\n",
      "203522.26439094543\t25.46030306816101\t\tstory 3: .........\n",
      "203543.00182890892\t20.737437963485718\t\tstory 4: ........\n",
      "203567.6286547184\t24.62682580947876\t\tstory 5: .........\n",
      "203588.6863837242\t21.0577290058136\t\tstory 6: .........\n",
      "203614.65568995476\t25.969306230545044\t\tstory 7: .........\n",
      "203643.2437529564\t28.58806300163269\t\tstory 8: ............\n",
      "203675.5209798813\t32.27722692489624\t\tstory 9: ............\n",
      "203703.26152086258\t27.740540981292725\t\tstory 10: .........\n",
      "203728.00894975662\t24.74742889404297\t\tstory 11: .........\n",
      "203752.06900787354\t24.060058116912842\t\tstory 12: .......\n",
      "203773.05574774742\t20.98673987388611\t\tstory 13: .........\n",
      "203796.60529470444\t23.54954695701599\t\tstory 14: .........\n",
      "203824.31280183792\t27.707507133483887\t\tstory 15: .........\n",
      "203849.36829066277\t25.05548882484436\t\tstory 16: .......\n",
      "203885.86414694786\t36.495856285095215\t\tstory 17: .........\n",
      "203907.4260828495\t21.561935901641846\t\tstory 18: .........\n",
      "203926.1103157997\t18.68423295021057\t\tstory 19: .........\n",
      "203959.89460587502\t33.784290075302124\t\tstory 20: .........\n",
      "203983.42686796188\t23.532262086868286\t\tstory 21: ........\n",
      "204007.57681894302\t24.149950981140137\t\tstory 22: .........\n",
      "204037.84135079384\t30.26453185081482\t\tstory 23: .........\n",
      "204057.06844973564\t19.22709894180298\t\tstory 24: .........\n",
      "204082.56091189384\t25.492462158203125\t\tstory 25: ...........\n",
      "204127.03518795967\t44.474276065826416\t\tstory 26: .........\n",
      "204149.32247281075\t22.28728485107422\t\tstory 27: .........\n",
      "204174.81564068794\t25.493167877197266\t\tstory 28: .........\n",
      "204210.18798184395\t35.37234115600586\t\tstory 29: ...........................\n",
      "204296.56470179558\t86.37671995162964\t\tstory 30: .........\n",
      "204326.78382968903\t30.219127893447876\t\tstory 31: .........\n",
      "204349.35622882843\t22.572399139404297\t\tstory 32: ...........\n",
      "204394.11251878738\t44.75628995895386\t\tstory 33: ............\n",
      "204423.27973890305\t29.16722011566162\t\tstory 34: ........\n",
      "204444.9410057068\t21.661266803741455\t\tstory 35: .........\n",
      "204472.66652584076\t27.725520133972168\t\tstory 36: .........\n",
      "204495.21267795563\t22.546152114868164\t\tstory 37: ............................\n",
      "204612.3677728176\t117.15509486198425\t\tstory 38: .........\n",
      "204643.9293167591\t31.561543941497803\t\tstory 39: .........\n",
      "204668.2646138668\t24.335297107696533\t\tstory 40: .........\n",
      "204684.60507273674\t16.340458869934082\t\tstory 41: .........\n",
      "204714.28983473778\t29.684762001037598\t\tstory 42: ........\n",
      "204732.7169368267\t18.427102088928223\t\tstory 43: ............\n",
      "204765.04467368126\t32.32773685455322\t\tstory 44: .........\n",
      "204793.1657898426\t28.121116161346436\t\tstory 45: ........\n",
      "204820.97238874435\t27.806598901748657\t\tstory 46: .........\n",
      "204845.4069466591\t24.434557914733887\t\tstory 47: .........\n",
      "204871.49153089523\t26.08458423614502\t\tstory 48: ............\n",
      "204909.11112380028\t37.619592905044556\t\tstory 49: ........\n",
      "204949.37028265\t40.25915884971619\t\tstory 50: .........\n",
      "204980.01407694817\t30.643794298171997\t\tstory 51: .........\n",
      "205006.05693387985\t26.0428569316864\t\tstory 52: .........\n",
      "205029.4469347\t23.390000820159912\t\tstory 53: .........\n",
      "205046.76471567154\t17.3177809715271\t\tstory 54: ............\n",
      "205090.0021367073\t43.2374210357666\t\tstory 55: .........\n",
      "205110.6886627674\t20.68652606010437\t\tstory 56: ........\n",
      "205131.3515200615\t20.66285729408264\t\tstory 57: .........\n",
      "205149.1227478981\t17.771227836608887\t\tstory 58: .........\n",
      "205180.159003973\t31.036256074905396\t\tstory 59: ............\n",
      "205225.88338375092\t45.724379777908325\t\tstory 60: .........\n",
      "205251.4448108673\t25.561427116394043\t\tstory 61: .........\n",
      "205277.68698501587\t26.24217414855957\t\tstory 62: .........\n",
      "205310.3378727436\t32.65088772773743\t\tstory 63: .........\n",
      "205334.64605784416\t24.30818510055542\t\tstory 64: ...........\n",
      "205370.0318148136\t35.385756969451904\t\tstory 65: .........\n",
      "205400.19762277603\t30.165807962417603\t\tstory 66: .........\n",
      "205422.97084879875\t22.773226022720337\t\tstory 67: .........\n",
      "205445.58604598045\t22.61519718170166\t\tstory 68: .........\n",
      "205470.3401339054\t24.754087924957275\t\tstory 69: ........\n",
      "205488.8124909401\t18.472357034683228\t\tstory 70: ........\n",
      "205517.36798596382\t28.555495023727417\t\tstory 71: .........\n",
      "205536.28722262383\t18.919236660003662\t\tstory 72: .........\n",
      "205558.4286558628\t22.141433238983154\t\tstory 73: .........\n",
      "205585.19809174538\t26.76943588256836\t\tstory 74: .........\n",
      "205617.27372980118\t32.07563805580139\t\tstory 75: .........\n",
      "205640.81734085083\t23.5436110496521\t\tstory 76: ...........\n",
      "205675.64403486252\t34.82669401168823\t\tstory 77: ...........\n",
      "205701.58741283417\t25.94337797164917\t\tstory 78: ........\n",
      "205737.37660598755\t35.78919315338135\t\tstory 79: .........\n",
      "205779.70796966553\t42.331363677978516\t\tstory 80: .........\n",
      "205803.73962378502\t24.031654119491577\t\tstory 81: .........\n",
      "205824.61811590195\t20.8784921169281\t\tstory 82: .........\n",
      "205848.03591561317\t23.417799711227417\t\tstory 83: .........\n",
      "205870.09719872475\t22.061283111572266\t\tstory 84: ............\n",
      "205906.7096438408\t36.61244511604309\t\tstory 85: .........\n",
      "205932.87771773338\t26.168073892593384\t\tstory 86: .........\n",
      "205959.48961377144\t26.61189603805542\t\tstory 87: .........\n",
      "205999.6803958416\t40.19078207015991\t\tstory 88: ............\n",
      "206032.623087883\t32.942692041397095\t\tstory 89: ........\n",
      "206050.59888982773\t17.975801944732666\t\tstory 90: .........\n",
      "206071.20304989815\t20.60416007041931\t\tstory 91: ........\n",
      "206093.610850811\t22.407800912857056\t\tstory 92: .........\n",
      "206120.63300085068\t27.02215003967285\t\tstory 93: ...............\n",
      "206174.61939191818\t53.98639106750488\t\tstory 94: .............................\n",
      "206260.56061792374\t85.9412260055542\t\tstory 95: .........\n",
      "206285.67283082008\t25.112212896347046\t\tstory 96: ...........\n",
      "206310.20242786407\t24.52959704399109\t\tstory 97: ........\n",
      "206355.51909303665\t45.316665172576904\t\tstory 98: ..........................\n",
      "206448.10917186737\t92.590078830719\t\tstory 99: .........\n",
      "206466.87922883034\t18.77005696296692\t\tstory 100: ............"
     ]
    }
   ],
   "source": [
    "import time\n",
    "import logging\n",
    "# logging.basicConfig(level=logging.WARNING)  # This will show only warnings and errors\n",
    "logging.basicConfig(level=logging.ERROR)\n",
    "\n",
    "# Parameters\n",
    "max_stories = 100\n",
    "# Define chunk sizes and overlap percentages\n",
    "chunk_sizes = [200,400,800,1600]\n",
    "# chunk_sizes = [25,50,75,100]\n",
    "overlap_percentages = [0,0.1,0.2,0.3]  # Expressed as percentages (0.1 = 10%)\n",
    "\n",
    "# Results storage\n",
    "f1_results = defaultdict(list)\n",
    "em_results = defaultdict(list)\n",
    "text_results = []\n",
    "\n",
    "# Initialize the language model and the QA chain\n",
    "# llm = GPT4All(model=\"C:/Users/24075/AppData/Local/nomic.ai/GPT4All/ggml-model-gpt4all-falcon-q4_0.bin\", max_tokens=2048)\n",
    "llm = GPT4All(model=\"/Users/wk77/Library/CloudStorage/OneDrive-DrexelUniversity/Documents/data/gpt4all/models/gpt4all-falcon-q4_0.gguf\", max_tokens=2048)\n",
    "\n",
    "# The following code would iterate over the stories and questions to calculate the scores\n",
    "start_time = time.time()\n",
    "print(f\"{start_time} Started.\")\n",
    "\n",
    "output_file_path = \"results/scores_20231115.txt\"\n",
    "\n",
    "with open(output_file_path, 'w') as file:\n",
    "    # instantiate embedding ONCE\n",
    "    word_embed = GPT4AllEmbeddings()\n",
    "    for chunk_size in chunk_sizes:\n",
    "        print(f\"\\n{time.time()-start_time} Processing chunk size {chunk_size}:\")\n",
    "        last_time = time.time()\n",
    "        for overlap_percentage in overlap_percentages:\n",
    "            actual_overlap = int(chunk_size * overlap_percentage)\n",
    "            print(f\"\\n{time.time()-start_time}\\t{time.time()-last_time}\\tOverlap [{overlap_percentage}] {actual_overlap}\")\n",
    "            text_splitter = RecursiveCharacterTextSplitter(chunk_size=chunk_size, chunk_overlap=actual_overlap)\n",
    "    \n",
    "            i = 0\n",
    "            for story in data['data']:\n",
    "                i+=1\n",
    "                if i>max_stories:\n",
    "                    break\n",
    "                now_time = time.time()\n",
    "                print(f\"\\n{now_time-start_time}\\t{now_time-last_time}\\t\\tstory {i}: \",end='')\n",
    "                last_time = now_time\n",
    "    \n",
    "                all_splits = text_splitter.split_text(story['text'])\n",
    "                # print(f\"[after split]\")\n",
    "                vectorstore = Chroma.from_texts(texts=all_splits, embedding=word_embed)\n",
    "                # print(f\"[after vector store]\")\n",
    "                qa_chain = RetrievalQA.from_chain_type(llm, retriever=vectorstore.as_retriever(), return_source_documents=True)\n",
    "                # print(f\"[after qa chain]\")\n",
    "    \n",
    "                j = 0\n",
    "                for question_data in story['questions']:\n",
    "                    j+=1\n",
    "                    # print(f\"{time.time()-start_time}\\t\\t\\tquestion {j}\")\n",
    "                    print('.', end='')\n",
    "    \n",
    "                    # TODO: embed query and perform similarity_search_by_vector() instead\n",
    "                    question = question_data['q']\n",
    "                    question_vector = word_embed.embed_query(question)\n",
    "                    # docs = vectorstore.similarity_search(question)\n",
    "                    docs = vectorstore.similarity_search_by_vector(question_vector)\n",
    "                    answer_ranges = extract_ranges(question_data['consensus'])\n",
    "                    \n",
    "                    # Get the prediction from the model\n",
    "                    result = qa_chain({\"query\": question})\n",
    "                    \n",
    "                    # Check if the predicted answer is in the expected format (string)\n",
    "                    predicted_answer = result['result']\n",
    "                    if isinstance(predicted_answer, dict):\n",
    "                        # If it's a dictionary, you need to adapt this part of the code to extract the answer string\n",
    "                        predicted_answer = predicted_answer.get('answer', '')  # Assuming 'answer' is the key for the answer string\n",
    "                    elif not isinstance(predicted_answer, str):\n",
    "                        # If the answer is not a string and not a dictionary, log an error or handle it appropriately\n",
    "                        print(f\"Unexpected format for predicted answer: {predicted_answer}\")\n",
    "                        continue  # Skip to the next question\n",
    "                    actual_answer = story['text'][answer_ranges[0][0]:answer_ranges[0][1]] if answer_ranges else \"\"\n",
    "                    \n",
    "                    # If there is an actual answer, get it from the story text using the character ranges\n",
    "                    if answer_ranges:\n",
    "                        actual_answer = story['text'][answer_ranges[0][0]:answer_ranges[0][1]]\n",
    "                    else:\n",
    "                        actual_answer = \"\"\n",
    "                    \n",
    "                    # Calculate the scores\n",
    "                    em_score = calculate_em(predicted_answer, actual_answer)\n",
    "                    f1_score_value = calculate_token_f1(predicted_answer, actual_answer)\n",
    "                    file.write(f\"{chunk_size}\\t{overlap_percentage}\\t{i}\\t{j}\\t{f1_score_value:.4f}\\t{em_score:.2f}\\n\")\n",
    "    \n",
    "                    # Store the scores\n",
    "                    em_results[(chunk_size, overlap_percentage)].append(em_score)\n",
    "                    f1_results[(chunk_size, overlap_percentage)].append(f1_score_value)\n",
    "    \n",
    "                # delete object for memory\n",
    "                del qa_chain\n",
    "                del vectorstore\n",
    "                del all_splits\n",
    "            # delete splitter instance\n",
    "            del text_splitter"
   ]
  },
  {
   "cell_type": "code",
   "execution_count": 11,
   "metadata": {},
   "outputs": [
    {
     "name": "stdout",
     "output_type": "stream",
     "text": [
      "Chunk size 200 with overlap 0% - Average F1: 0.096, EM: 0.00\n",
      "Chunk size 200 with overlap 0.1% - Average F1: 0.081, EM: 0.00\n",
      "Chunk size 200 with overlap 0.2% - Average F1: 0.072, EM: 0.00\n",
      "Chunk size 200 with overlap 0.3% - Average F1: 0.066, EM: 0.00\n",
      "Chunk size 400 with overlap 0% - Average F1: 0.070, EM: 0.00\n",
      "Chunk size 400 with overlap 0.1% - Average F1: 0.070, EM: 0.00\n",
      "Chunk size 400 with overlap 0.2% - Average F1: 0.069, EM: 0.00\n",
      "Chunk size 400 with overlap 0.3% - Average F1: 0.068, EM: 0.00\n",
      "Chunk size 800 with overlap 0% - Average F1: 0.070, EM: 0.00\n",
      "Chunk size 800 with overlap 0.1% - Average F1: 0.070, EM: 0.00\n",
      "Chunk size 800 with overlap 0.2% - Average F1: 0.070, EM: 0.00\n",
      "Chunk size 800 with overlap 0.3% - Average F1: 0.071, EM: 0.00\n",
      "Chunk size 1600 with overlap 0% - Average F1: 0.071, EM: 0.00\n",
      "Chunk size 1600 with overlap 0.1% - Average F1: 0.071, EM: 0.00\n",
      "Chunk size 1600 with overlap 0.2% - Average F1: 0.071, EM: 0.00\n",
      "Chunk size 1600 with overlap 0.3% - Average F1: 0.072, EM: 0.00\n",
      "defaultdict(<class 'list'>, {(200, 0): 0.09568440904810332, (200, 0.1): 0.08119617262877708, (200, 0.2): 0.07183704095322735, (200, 0.3): 0.06615840494829672, (400, 0): 0.07007688243347368, (400, 0.1): 0.07025287256956309, (400, 0.2): 0.06862835062502007, (400, 0.3): 0.06802700879594321, (800, 0): 0.06991673453575341, (800, 0.1): 0.06968950077192654, (800, 0.2): 0.0701565342073056, (800, 0.3): 0.07073260502991797, (1600, 0): 0.07106258029975213, (1600, 0.1): 0.07093651862188821, (1600, 0.2): 0.07133262491782136, (1600, 0.3): 0.07165374447126373})\n",
      "defaultdict(<class 'list'>, {(200, 0): 0.0, (200, 0.1): 0.0, (200, 0.2): 0.0, (200, 0.3): 0.0, (400, 0): 0.0, (400, 0.1): 0.0, (400, 0.2): 0.0, (400, 0.3): 0.0, (800, 0): 0.0, (800, 0.1): 0.0, (800, 0.2): 0.0, (800, 0.3): 0.0, (1600, 0): 0.0, (1600, 0.1): 0.0, (1600, 0.2): 0.0, (1600, 0.3): 0.0})\n"
     ]
    }
   ],
   "source": [
    "# Calculate the average F1 and EM scores for each configuration\n",
    "for config, scores in f1_results.items():\n",
    "    avg_f1 = np.mean(scores)\n",
    "    avg_em = np.mean(em_results[config])\n",
    "    f1_results[config] = avg_f1\n",
    "    em_results[config] = avg_em\n",
    "    print(f\"Chunk size {config[0]} with overlap {config[1]}% - Average F1: {avg_f1:.3f}, EM: {avg_em:.2f}\")\n",
    "\n",
    "# Output the results\n",
    "print(f1_results)\n",
    "print(em_results)"
   ]
  },
  {
   "cell_type": "code",
   "execution_count": null,
   "metadata": {},
   "outputs": [],
   "source": [
    "# # Print out the F1 and EM Results\n",
    "# print(\"\\nF1 and EM Results:\")\n",
    "# for config in f1_results:\n",
    "#     chunk_size, overlap_percentage = config\n",
    "#     print(f\"Chunk Size: {chunk_size}, Overlap Percentage: {overlap_percentage}%, F1: {f1_results[config]}, EM: {em_results[config]}\")"
   ]
  }
 ],
 "metadata": {
  "kernelspec": {
   "display_name": "Python 3 (ipykernel)",
   "language": "python",
   "name": "python3"
  },
  "language_info": {
   "codemirror_mode": {
    "name": "ipython",
    "version": 3
   },
   "file_extension": ".py",
   "mimetype": "text/x-python",
   "name": "python",
   "nbconvert_exporter": "python",
   "pygments_lexer": "ipython3",
   "version": "3.9.6"
  }
 },
 "nbformat": 4,
 "nbformat_minor": 4
}
