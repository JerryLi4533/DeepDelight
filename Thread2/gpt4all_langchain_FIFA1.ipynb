{
 "cells": [
  {
   "cell_type": "code",
   "execution_count": null,
   "metadata": {},
   "outputs": [],
   "source": []
  },
  {
   "cell_type": "code",
   "execution_count": 16,
   "metadata": {},
   "outputs": [
    {
     "name": "stdout",
     "output_type": "stream",
     "text": [
      "Collecting gpt4all\n",
      "  Obtaining dependency information for gpt4all from https://files.pythonhosted.org/packages/0e/8b/933175aace698362a75e47b73f3f539d99946a931d668c1054a268aae1c6/gpt4all-1.0.12-py3-none-win_amd64.whl.metadata\n",
      "  Using cached gpt4all-1.0.12-py3-none-win_amd64.whl.metadata (919 bytes)\n",
      "Requirement already satisfied: requests in d:\\anaconda\\lib\\site-packages (from gpt4all) (2.31.0)\n",
      "Requirement already satisfied: tqdm in d:\\anaconda\\lib\\site-packages (from gpt4all) (4.65.0)\n",
      "Requirement already satisfied: charset-normalizer<4,>=2 in d:\\anaconda\\lib\\site-packages (from requests->gpt4all) (2.0.4)\n",
      "Requirement already satisfied: idna<4,>=2.5 in d:\\anaconda\\lib\\site-packages (from requests->gpt4all) (3.4)\n",
      "Requirement already satisfied: urllib3<3,>=1.21.1 in d:\\anaconda\\lib\\site-packages (from requests->gpt4all) (1.26.16)\n",
      "Requirement already satisfied: certifi>=2017.4.17 in d:\\anaconda\\lib\\site-packages (from requests->gpt4all) (2023.7.22)\n",
      "Requirement already satisfied: colorama in d:\\anaconda\\lib\\site-packages (from tqdm->gpt4all) (0.4.6)\n",
      "Using cached gpt4all-1.0.12-py3-none-win_amd64.whl (8.4 MB)\n",
      "Installing collected packages: gpt4all\n",
      "Successfully installed gpt4all-1.0.12\n"
     ]
    }
   ],
   "source": [
    "!pip install gpt4all"
   ]
  },
  {
   "cell_type": "code",
   "execution_count": 4,
   "metadata": {},
   "outputs": [
    {
     "name": "stdout",
     "output_type": "stream",
     "text": [
      "Collecting langchain\n",
      "  Obtaining dependency information for langchain from https://files.pythonhosted.org/packages/63/d1/84b1eabf897f2d964b682f55c4fc79e9c81e7367013c816f2f7f00020f5e/langchain-0.0.310-py3-none-any.whl.metadata\n",
      "  Using cached langchain-0.0.310-py3-none-any.whl.metadata (15 kB)\n",
      "Requirement already satisfied: PyYAML>=5.3 in d:\\anaconda\\lib\\site-packages (from langchain) (6.0)\n",
      "Requirement already satisfied: SQLAlchemy<3,>=1.4 in d:\\anaconda\\lib\\site-packages (from langchain) (1.4.39)\n",
      "Requirement already satisfied: aiohttp<4.0.0,>=3.8.3 in d:\\anaconda\\lib\\site-packages (from langchain) (3.8.5)\n",
      "Requirement already satisfied: anyio<4.0 in d:\\anaconda\\lib\\site-packages (from langchain) (3.5.0)\n",
      "Collecting dataclasses-json<0.7,>=0.5.7 (from langchain)\n",
      "  Obtaining dependency information for dataclasses-json<0.7,>=0.5.7 from https://files.pythonhosted.org/packages/21/1f/1cff009cff64420572b9f75b70e4a054095719179a172297dfdd65843162/dataclasses_json-0.6.1-py3-none-any.whl.metadata\n",
      "  Using cached dataclasses_json-0.6.1-py3-none-any.whl.metadata (24 kB)\n",
      "Requirement already satisfied: jsonpatch<2.0,>=1.33 in d:\\anaconda\\lib\\site-packages (from langchain) (1.33)\n",
      "Collecting langsmith<0.1.0,>=0.0.40 (from langchain)\n",
      "  Obtaining dependency information for langsmith<0.1.0,>=0.0.40 from https://files.pythonhosted.org/packages/9b/6c/fd466f647634ef4a668ea109bf0892d7f78882ffe09500429081ed6dae4a/langsmith-0.0.43-py3-none-any.whl.metadata\n",
      "  Using cached langsmith-0.0.43-py3-none-any.whl.metadata (10 kB)\n",
      "Requirement already satisfied: numpy<2,>=1 in d:\\anaconda\\lib\\site-packages (from langchain) (1.24.3)\n",
      "Requirement already satisfied: pydantic<3,>=1 in d:\\anaconda\\lib\\site-packages (from langchain) (1.10.8)\n",
      "Requirement already satisfied: requests<3,>=2 in d:\\anaconda\\lib\\site-packages (from langchain) (2.31.0)\n",
      "Requirement already satisfied: tenacity<9.0.0,>=8.1.0 in d:\\anaconda\\lib\\site-packages (from langchain) (8.2.2)\n",
      "Requirement already satisfied: attrs>=17.3.0 in d:\\anaconda\\lib\\site-packages (from aiohttp<4.0.0,>=3.8.3->langchain) (22.1.0)\n",
      "Requirement already satisfied: charset-normalizer<4.0,>=2.0 in d:\\anaconda\\lib\\site-packages (from aiohttp<4.0.0,>=3.8.3->langchain) (2.0.4)\n",
      "Requirement already satisfied: multidict<7.0,>=4.5 in d:\\anaconda\\lib\\site-packages (from aiohttp<4.0.0,>=3.8.3->langchain) (6.0.2)\n",
      "Requirement already satisfied: async-timeout<5.0,>=4.0.0a3 in d:\\anaconda\\lib\\site-packages (from aiohttp<4.0.0,>=3.8.3->langchain) (4.0.2)\n",
      "Requirement already satisfied: yarl<2.0,>=1.0 in d:\\anaconda\\lib\\site-packages (from aiohttp<4.0.0,>=3.8.3->langchain) (1.8.1)\n",
      "Requirement already satisfied: frozenlist>=1.1.1 in d:\\anaconda\\lib\\site-packages (from aiohttp<4.0.0,>=3.8.3->langchain) (1.3.3)\n",
      "Requirement already satisfied: aiosignal>=1.1.2 in d:\\anaconda\\lib\\site-packages (from aiohttp<4.0.0,>=3.8.3->langchain) (1.2.0)\n",
      "Requirement already satisfied: idna>=2.8 in d:\\anaconda\\lib\\site-packages (from anyio<4.0->langchain) (3.4)\n",
      "Requirement already satisfied: sniffio>=1.1 in d:\\anaconda\\lib\\site-packages (from anyio<4.0->langchain) (1.2.0)\n",
      "Requirement already satisfied: marshmallow<4.0.0,>=3.18.0 in d:\\anaconda\\lib\\site-packages (from dataclasses-json<0.7,>=0.5.7->langchain) (3.20.1)\n",
      "Requirement already satisfied: typing-inspect<1,>=0.4.0 in d:\\anaconda\\lib\\site-packages (from dataclasses-json<0.7,>=0.5.7->langchain) (0.9.0)\n",
      "Requirement already satisfied: jsonpointer>=1.9 in d:\\anaconda\\lib\\site-packages (from jsonpatch<2.0,>=1.33->langchain) (2.1)\n",
      "Requirement already satisfied: typing-extensions>=4.2.0 in d:\\anaconda\\lib\\site-packages (from pydantic<3,>=1->langchain) (4.7.1)\n",
      "Requirement already satisfied: urllib3<3,>=1.21.1 in d:\\anaconda\\lib\\site-packages (from requests<3,>=2->langchain) (1.26.16)\n",
      "Requirement already satisfied: certifi>=2017.4.17 in d:\\anaconda\\lib\\site-packages (from requests<3,>=2->langchain) (2023.7.22)\n",
      "Requirement already satisfied: greenlet!=0.4.17 in d:\\anaconda\\lib\\site-packages (from SQLAlchemy<3,>=1.4->langchain) (2.0.1)\n",
      "Requirement already satisfied: packaging>=17.0 in d:\\anaconda\\lib\\site-packages (from marshmallow<4.0.0,>=3.18.0->dataclasses-json<0.7,>=0.5.7->langchain) (23.1)\n",
      "Requirement already satisfied: mypy-extensions>=0.3.0 in d:\\anaconda\\lib\\site-packages (from typing-inspect<1,>=0.4.0->dataclasses-json<0.7,>=0.5.7->langchain) (1.0.0)\n",
      "Using cached langchain-0.0.310-py3-none-any.whl (1.8 MB)\n",
      "Using cached dataclasses_json-0.6.1-py3-none-any.whl (27 kB)\n",
      "Using cached langsmith-0.0.43-py3-none-any.whl (40 kB)\n",
      "Installing collected packages: langsmith, dataclasses-json, langchain\n",
      "Successfully installed dataclasses-json-0.6.1 langchain-0.0.310 langsmith-0.0.43\n"
     ]
    }
   ],
   "source": [
    "!pip install langchain"
   ]
  },
  {
   "cell_type": "code",
   "execution_count": 7,
   "metadata": {},
   "outputs": [],
   "source": [
    "from langchain import PromptTemplate, LLMChain\n",
    "from langchain.llms import GPT4All\n",
    "from langchain.callbacks.streaming_stdout import StreamingStdOutCallbackHandler"
   ]
  },
  {
   "cell_type": "code",
   "execution_count": 2,
   "metadata": {},
   "outputs": [],
   "source": [
    "from langchain.document_loaders import WebBaseLoader\n",
    "\n",
    "loader = WebBaseLoader(\"https://en.wikipedia.org/wiki/FIFA\")\n",
    "data=loader.load()"
   ]
  },
  {
   "cell_type": "code",
   "execution_count": 5,
   "metadata": {},
   "outputs": [
    {
     "data": {
      "text/plain": [
       "1"
      ]
     },
     "execution_count": 5,
     "metadata": {},
     "output_type": "execute_result"
    }
   ],
   "source": [
    "len(data)"
   ]
  },
  {
   "cell_type": "code",
   "execution_count": 4,
   "metadata": {},
   "outputs": [],
   "source": [
    "from langchain.text_splitter import RecursiveCharacterTextSplitter\n",
    "\n",
    "text_splitter = RecursiveCharacterTextSplitter(chunk_size = 500, chunk_overlap = 0)\n",
    "all_splits = text_splitter.split_documents(data)"
   ]
  },
  {
   "cell_type": "code",
   "execution_count": 10,
   "metadata": {},
   "outputs": [
    {
     "name": "stdout",
     "output_type": "stream",
     "text": [
      "Collecting chromadb\n",
      "  Obtaining dependency information for chromadb from https://files.pythonhosted.org/packages/27/58/7bf23f206b8ad9507295067f08b7cc42d4a91d9877301abf0807df8fbe67/chromadb-0.4.13-py3-none-any.whl.metadata\n",
      "  Using cached chromadb-0.4.13-py3-none-any.whl.metadata (7.0 kB)\n",
      "Requirement already satisfied: requests>=2.28 in d:\\anaconda\\lib\\site-packages (from chromadb) (2.31.0)\n",
      "Requirement already satisfied: pydantic>=1.9 in d:\\anaconda\\lib\\site-packages (from chromadb) (1.10.8)\n",
      "Requirement already satisfied: chroma-hnswlib==0.7.3 in d:\\anaconda\\lib\\site-packages (from chromadb) (0.7.3)\n",
      "Collecting fastapi>=0.95.2 (from chromadb)\n",
      "  Obtaining dependency information for fastapi>=0.95.2 from https://files.pythonhosted.org/packages/4d/d2/3ad038a2365fefbac19d9a046cab7ce45f4c7bfa81d877cbece9707de9ce/fastapi-0.103.2-py3-none-any.whl.metadata\n",
      "  Using cached fastapi-0.103.2-py3-none-any.whl.metadata (24 kB)\n",
      "Collecting uvicorn[standard]>=0.18.3 (from chromadb)\n",
      "  Obtaining dependency information for uvicorn[standard]>=0.18.3 from https://files.pythonhosted.org/packages/79/96/b0882a1c3f7ef3dd86879e041212ae5b62b4bd352320889231cc735a8e8f/uvicorn-0.23.2-py3-none-any.whl.metadata\n",
      "  Using cached uvicorn-0.23.2-py3-none-any.whl.metadata (6.2 kB)\n",
      "Collecting posthog>=2.4.0 (from chromadb)\n",
      "  Obtaining dependency information for posthog>=2.4.0 from https://files.pythonhosted.org/packages/a7/73/35758818228c70348be4c3c66a76653c62e894e0e3c3461453c5341ca926/posthog-3.0.2-py2.py3-none-any.whl.metadata\n",
      "  Using cached posthog-3.0.2-py2.py3-none-any.whl.metadata (2.0 kB)\n",
      "Requirement already satisfied: typing-extensions>=4.5.0 in d:\\anaconda\\lib\\site-packages (from chromadb) (4.7.1)\n",
      "Requirement already satisfied: pulsar-client>=3.1.0 in d:\\anaconda\\lib\\site-packages (from chromadb) (3.3.0)\n",
      "Collecting onnxruntime>=1.14.1 (from chromadb)\n",
      "  Obtaining dependency information for onnxruntime>=1.14.1 from https://files.pythonhosted.org/packages/0c/14/9966e648a48f9bfee456002700cde4ca41f1e04ebaea842ccf663b6e7db2/onnxruntime-1.16.0-cp311-cp311-win_amd64.whl.metadata\n",
      "  Using cached onnxruntime-1.16.0-cp311-cp311-win_amd64.whl.metadata (4.2 kB)\n",
      "Requirement already satisfied: tokenizers>=0.13.2 in d:\\anaconda\\lib\\site-packages (from chromadb) (0.13.2)\n",
      "Requirement already satisfied: pypika>=0.48.9 in d:\\anaconda\\lib\\site-packages (from chromadb) (0.48.9)\n",
      "Requirement already satisfied: tqdm>=4.65.0 in d:\\anaconda\\lib\\site-packages (from chromadb) (4.65.0)\n",
      "Requirement already satisfied: overrides>=7.3.1 in d:\\anaconda\\lib\\site-packages (from chromadb) (7.4.0)\n",
      "Requirement already satisfied: importlib-resources in d:\\anaconda\\lib\\site-packages (from chromadb) (6.1.0)\n",
      "Requirement already satisfied: bcrypt>=4.0.1 in d:\\anaconda\\lib\\site-packages (from chromadb) (4.0.1)\n",
      "Collecting typer>=0.9.0 (from chromadb)\n",
      "  Using cached typer-0.9.0-py3-none-any.whl (45 kB)\n",
      "Requirement already satisfied: numpy>=1.22.5 in d:\\anaconda\\lib\\site-packages (from chromadb) (1.24.3)\n",
      "Collecting anyio<4.0.0,>=3.7.1 (from fastapi>=0.95.2->chromadb)\n",
      "  Obtaining dependency information for anyio<4.0.0,>=3.7.1 from https://files.pythonhosted.org/packages/19/24/44299477fe7dcc9cb58d0a57d5a7588d6af2ff403fdd2d47a246c91a3246/anyio-3.7.1-py3-none-any.whl.metadata\n",
      "  Using cached anyio-3.7.1-py3-none-any.whl.metadata (4.7 kB)\n",
      "Collecting starlette<0.28.0,>=0.27.0 (from fastapi>=0.95.2->chromadb)\n",
      "  Obtaining dependency information for starlette<0.28.0,>=0.27.0 from https://files.pythonhosted.org/packages/58/f8/e2cca22387965584a409795913b774235752be4176d276714e15e1a58884/starlette-0.27.0-py3-none-any.whl.metadata\n",
      "  Using cached starlette-0.27.0-py3-none-any.whl.metadata (5.8 kB)\n",
      "Collecting coloredlogs (from onnxruntime>=1.14.1->chromadb)\n",
      "  Using cached coloredlogs-15.0.1-py2.py3-none-any.whl (46 kB)\n",
      "Requirement already satisfied: flatbuffers in d:\\anaconda\\lib\\site-packages (from onnxruntime>=1.14.1->chromadb) (23.5.26)\n",
      "Requirement already satisfied: packaging in d:\\anaconda\\lib\\site-packages (from onnxruntime>=1.14.1->chromadb) (23.1)\n",
      "Requirement already satisfied: protobuf in d:\\anaconda\\lib\\site-packages (from onnxruntime>=1.14.1->chromadb) (4.24.4)\n",
      "Requirement already satisfied: sympy in d:\\anaconda\\lib\\site-packages (from onnxruntime>=1.14.1->chromadb) (1.11.1)\n",
      "Requirement already satisfied: six>=1.5 in d:\\anaconda\\lib\\site-packages (from posthog>=2.4.0->chromadb) (1.16.0)\n",
      "Requirement already satisfied: monotonic>=1.5 in d:\\anaconda\\lib\\site-packages (from posthog>=2.4.0->chromadb) (1.6)\n",
      "Collecting backoff>=1.10.0 (from posthog>=2.4.0->chromadb)\n",
      "  Using cached backoff-2.2.1-py3-none-any.whl (15 kB)\n",
      "Requirement already satisfied: python-dateutil>2.1 in d:\\anaconda\\lib\\site-packages (from posthog>=2.4.0->chromadb) (2.8.2)\n",
      "Requirement already satisfied: certifi in d:\\anaconda\\lib\\site-packages (from pulsar-client>=3.1.0->chromadb) (2023.7.22)\n",
      "Requirement already satisfied: charset-normalizer<4,>=2 in d:\\anaconda\\lib\\site-packages (from requests>=2.28->chromadb) (2.0.4)\n",
      "Requirement already satisfied: idna<4,>=2.5 in d:\\anaconda\\lib\\site-packages (from requests>=2.28->chromadb) (3.4)\n",
      "Requirement already satisfied: urllib3<3,>=1.21.1 in d:\\anaconda\\lib\\site-packages (from requests>=2.28->chromadb) (1.26.16)\n",
      "Requirement already satisfied: colorama in d:\\anaconda\\lib\\site-packages (from tqdm>=4.65.0->chromadb) (0.4.6)\n",
      "Requirement already satisfied: click<9.0.0,>=7.1.1 in d:\\anaconda\\lib\\site-packages (from typer>=0.9.0->chromadb) (8.0.4)\n",
      "Requirement already satisfied: h11>=0.8 in d:\\anaconda\\lib\\site-packages (from uvicorn[standard]>=0.18.3->chromadb) (0.14.0)\n",
      "Requirement already satisfied: httptools>=0.5.0 in d:\\anaconda\\lib\\site-packages (from uvicorn[standard]>=0.18.3->chromadb) (0.6.0)\n",
      "Requirement already satisfied: python-dotenv>=0.13 in d:\\anaconda\\lib\\site-packages (from uvicorn[standard]>=0.18.3->chromadb) (0.21.0)\n",
      "Requirement already satisfied: pyyaml>=5.1 in d:\\anaconda\\lib\\site-packages (from uvicorn[standard]>=0.18.3->chromadb) (6.0)\n",
      "Collecting watchfiles>=0.13 (from uvicorn[standard]>=0.18.3->chromadb)\n",
      "  Obtaining dependency information for watchfiles>=0.13 from https://files.pythonhosted.org/packages/87/79/098b1b1fcb6de16149d23283a2ab5dadce6a06b864e7a182d231f57a1f9e/watchfiles-0.20.0-cp37-abi3-win_amd64.whl.metadata\n",
      "  Using cached watchfiles-0.20.0-cp37-abi3-win_amd64.whl.metadata (5.0 kB)\n",
      "Requirement already satisfied: websockets>=10.4 in d:\\anaconda\\lib\\site-packages (from uvicorn[standard]>=0.18.3->chromadb) (11.0.3)\n",
      "Requirement already satisfied: sniffio>=1.1 in d:\\anaconda\\lib\\site-packages (from anyio<4.0.0,>=3.7.1->fastapi>=0.95.2->chromadb) (1.2.0)\n",
      "Requirement already satisfied: humanfriendly>=9.1 in d:\\anaconda\\lib\\site-packages (from coloredlogs->onnxruntime>=1.14.1->chromadb) (10.0)\n",
      "Requirement already satisfied: mpmath>=0.19 in d:\\anaconda\\lib\\site-packages (from sympy->onnxruntime>=1.14.1->chromadb) (1.3.0)\n",
      "Requirement already satisfied: pyreadline3 in d:\\anaconda\\lib\\site-packages (from humanfriendly>=9.1->coloredlogs->onnxruntime>=1.14.1->chromadb) (3.4.1)\n",
      "Using cached chromadb-0.4.13-py3-none-any.whl (437 kB)\n",
      "Using cached fastapi-0.103.2-py3-none-any.whl (66 kB)\n",
      "Using cached onnxruntime-1.16.0-cp311-cp311-win_amd64.whl (7.2 MB)\n",
      "Using cached posthog-3.0.2-py2.py3-none-any.whl (37 kB)\n",
      "Using cached anyio-3.7.1-py3-none-any.whl (80 kB)\n",
      "Using cached starlette-0.27.0-py3-none-any.whl (66 kB)\n",
      "Using cached watchfiles-0.20.0-cp37-abi3-win_amd64.whl (276 kB)\n",
      "Using cached uvicorn-0.23.2-py3-none-any.whl (59 kB)\n",
      "Installing collected packages: backoff, anyio, watchfiles, uvicorn, typer, starlette, posthog, coloredlogs, onnxruntime, fastapi, chromadb\n",
      "  Attempting uninstall: anyio\n",
      "    Found existing installation: anyio 3.5.0\n",
      "    Uninstalling anyio-3.5.0:\n",
      "      Successfully uninstalled anyio-3.5.0\n",
      "Successfully installed anyio-3.7.1 backoff-2.2.1 chromadb-0.4.13 coloredlogs-15.0.1 fastapi-0.103.2 onnxruntime-1.16.0 posthog-3.0.2 starlette-0.27.0 typer-0.9.0 uvicorn-0.23.2 watchfiles-0.20.0\n"
     ]
    }
   ],
   "source": [
    "!pip install chromadb"
   ]
  },
  {
   "cell_type": "code",
   "execution_count": 6,
   "metadata": {},
   "outputs": [],
   "source": [
    "from langchain.embeddings import GPT4AllEmbeddings\n",
    "import chromadb\n",
    "from langchain.vectorstores import Chroma"
   ]
  },
  {
   "cell_type": "code",
   "execution_count": 6,
   "metadata": {},
   "outputs": [
    {
     "name": "stdout",
     "output_type": "stream",
     "text": [
      "Found model file at  C:\\\\\\\\Users\\\\\\\\Administrator\\\\\\\\.cache\\\\\\\\gpt4all\\\\ggml-all-MiniLM-L6-v2-f16.bin\n"
     ]
    }
   ],
   "source": [
    "vectorstore = Chroma.from_documents(documents=all_splits, embedding=GPT4AllEmbeddings())"
   ]
  },
  {
   "cell_type": "code",
   "execution_count": 7,
   "metadata": {},
   "outputs": [
    {
     "data": {
      "text/plain": [
       "4"
      ]
     },
     "execution_count": 7,
     "metadata": {},
     "output_type": "execute_result"
    }
   ],
   "source": [
    "question = \"Which team is the champion of the 2022 FIFA Man's world cup?\"\n",
    "docs = vectorstore.similarity_search(question)\n",
    "len(docs)"
   ]
  },
  {
   "cell_type": "code",
   "execution_count": 8,
   "metadata": {},
   "outputs": [
    {
     "name": "stdout",
     "output_type": "stream",
     "text": [
      "Found model file at  E:/GPT4All-13B-snoozy.ggmlv3.q4_0.bin\n"
     ]
    },
    {
     "data": {
      "text/plain": [
       "' The current champions are France, who won in 2018.'"
      ]
     },
     "execution_count": 8,
     "metadata": {},
     "output_type": "execute_result"
    }
   ],
   "source": [
    "from langchain.llms import GPT4All\n",
    "from langchain.chains import RetrievalQA\n",
    "from langchain.prompts import PromptTemplate\n",
    "\n",
    "gpt4all_snoozy_model = \"E:/ggml-model-gpt4all-falcon-q4_0.bin\"\n",
    "\n",
    "template = \"\"\"Use the following pieces of context to answer the question at the end. \n",
    "If you don't know the answer, just say that you don't know, don't try to make up an answer. \n",
    "Use three sentences maximum and keep the answer as concise as possible. \n",
    "Always say \"thanks for asking!\" at the end of the answer. Also add the context text that the answer is based on to the result.\n",
    "\n",
    "Context Used to Answer: {context}\n",
    "Question: {question}\n",
    "Helpful Answer:\"\"\"\n",
    "QA_CHAIN_PROMPT = PromptTemplate.from_template(template)\n",
    "\n",
    "llm = GPT4All(model=gpt4all_snoozy_model ,max_tokens=2048)\n",
    "qa_chain = RetrievalQA.from_chain_type(\n",
    "    llm,\n",
    "    retriever=vectorstore.as_retriever(),\n",
    "    chain_type_kwargs={\"prompt\": QA_CHAIN_PROMPT}\n",
    ")\n",
    "result = qa_chain({\"query\": question})\n",
    "result[\"result\"]\n",
    "# Argentina"
   ]
  },
  {
   "cell_type": "code",
   "execution_count": 2,
   "metadata": {},
   "outputs": [
    {
     "name": "stderr",
     "output_type": "stream",
     "text": [
      "100%|██████████| 1/1 [00:00<00:00, 506.99it/s]\n"
     ]
    }
   ],
   "source": [
    "data=loader.load()"
   ]
  },
  {
   "cell_type": "code",
   "execution_count": 3,
   "metadata": {},
   "outputs": [
    {
     "data": {
      "text/plain": [
       "0"
      ]
     },
     "execution_count": 3,
     "metadata": {},
     "output_type": "execute_result"
    }
   ],
   "source": [
    "len(data)"
   ]
  },
  {
   "cell_type": "code",
   "execution_count": 10,
   "metadata": {},
   "outputs": [
    {
     "name": "stderr",
     "output_type": "stream",
     "text": [
      "\n",
      "\n",
      "100%|██████████| 4/4 [00:00<00:00, 2014.31it/s]\n"
     ]
    }
   ],
   "source": [
    "from langchain.document_loaders import DirectoryLoader, TextLoader\n",
    "\n",
    "loader = DirectoryLoader('E:/FIFA', glob=\"**/*.txt\", loader_cls=TextLoader, show_progress=True, loader_kwargs={'encoding': 'utf-8'})\n",
    "docs = loader.load()"
   ]
  },
  {
   "cell_type": "code",
   "execution_count": 11,
   "metadata": {},
   "outputs": [
    {
     "data": {
      "text/plain": [
       "4"
      ]
     },
     "execution_count": 11,
     "metadata": {},
     "output_type": "execute_result"
    }
   ],
   "source": [
    "len(docs)"
   ]
  },
  {
   "cell_type": "code",
   "execution_count": 12,
   "metadata": {},
   "outputs": [],
   "source": [
    "from langchain.text_splitter import RecursiveCharacterTextSplitter\n",
    "\n",
    "text_splitter = RecursiveCharacterTextSplitter(chunk_size = 500, chunk_overlap = 0)\n",
    "all_splits = text_splitter.split_documents(data)"
   ]
  },
  {
   "cell_type": "code",
   "execution_count": 16,
   "metadata": {},
   "outputs": [
    {
     "name": "stdout",
     "output_type": "stream",
     "text": [
      "Found model file at  C:\\\\\\\\Users\\\\\\\\Administrator\\\\\\\\.cache\\\\\\\\gpt4all\\\\ggml-all-MiniLM-L6-v2-f16.bin\n"
     ]
    }
   ],
   "source": [
    "vectorstore = Chroma.from_documents(documents=all_splits, embedding=GPT4AllEmbeddings())"
   ]
  },
  {
   "cell_type": "code",
   "execution_count": 19,
   "metadata": {},
   "outputs": [
    {
     "name": "stdout",
     "output_type": "stream",
     "text": [
      "Found model file at  E:/GPT4All-13B-snoozy.ggmlv3.q4_0.bin\n"
     ]
    }
   ],
   "source": [
    "from langchain.llms import GPT4All\n",
    "from langchain.chains import RetrievalQA\n",
    "from langchain.prompts import PromptTemplate\n",
    "\n",
    "gpt4all_snoozy_model = \"E:/GPT4All-13B-snoozy.ggmlv3.q4_0.bin\"\n",
    "\n",
    "template = \"\"\"Use the following pieces of context to answer the question at the end. \n",
    "If you don't know the answer, just say that you don't know, don't try to make up an answer. \n",
    "Use three sentences maximum and keep the answer as concise as possible. \n",
    "Always say \"thanks for asking!\" at the end of the answer. \n",
    "{context}\n",
    "Question: {question}\n",
    "Helpful Answer:\"\"\"\n",
    "QA_CHAIN_PROMPT = PromptTemplate.from_template(template)\n",
    "\n",
    "llm = GPT4All(model=gpt4all_snoozy_model ,max_tokens=2048)\n",
    "qa_chain = RetrievalQA.from_chain_type(\n",
    "    llm,\n",
    "    retriever=vectorstore.as_retriever(),\n",
    "    chain_type_kwargs={\"prompt\": QA_CHAIN_PROMPT}\n",
    ")"
   ]
  },
  {
   "cell_type": "code",
   "execution_count": 20,
   "metadata": {},
   "outputs": [
    {
     "data": {
      "text/plain": [
       "' The first World Cup was held in 1930, and it is still being held today.'"
      ]
     },
     "execution_count": 20,
     "metadata": {},
     "output_type": "execute_result"
    }
   ],
   "source": [
    "question1 = \"How long has the world cup been held?\"\n",
    "docs = vectorstore.similarity_search(question1)\n",
    "result = qa_chain({\"query\": question1})\n",
    "result[\"result\"]"
   ]
  },
  {
   "cell_type": "code",
   "execution_count": 21,
   "metadata": {},
   "outputs": [
    {
     "data": {
      "text/plain": [
       "' The FIFA flag is blue, with a wordmark logo in the middle. It was first flown during the 2018 World Cup opening ceremony and has been used ever since.[27]'"
      ]
     },
     "execution_count": 21,
     "metadata": {},
     "output_type": "execute_result"
    }
   ],
   "source": [
    "question2 = \"Describe the flag of FIFA\"\n",
    "docs = vectorstore.similarity_search(question2)\n",
    "result = qa_chain({\"query\": question2})\n",
    "result[\"result\"]"
   ]
  },
  {
   "cell_type": "code",
   "execution_count": 22,
   "metadata": {},
   "outputs": [
    {
     "data": {
      "text/plain": [
       "' There have been 8 presidents of FIFA, starting from Robert Guérin in 1904 and ending with Gianni Infantino in the present day.'"
      ]
     },
     "execution_count": 22,
     "metadata": {},
     "output_type": "execute_result"
    }
   ],
   "source": [
    "question3 = \"How many presidents are there since FIFA was established?\"\n",
    "docs = vectorstore.similarity_search(question3)\n",
    "result = qa_chain({\"query\": question3})\n",
    "result[\"result\"]"
   ]
  },
  {
   "cell_type": "code",
   "execution_count": null,
   "metadata": {},
   "outputs": [],
   "source": [
    "question4 = \"How many confederations are there for FIFA?\"\n",
    "docs = vectorstore.similarity_search(question4)\n",
    "result = qa_chain({\"query\": question4})\n",
    "result[\"result\"]"
   ]
  },
  {
   "cell_type": "markdown",
   "metadata": {},
   "source": [
    "# Chunking strategy 2"
   ]
  },
  {
   "cell_type": "code",
   "execution_count": 8,
   "metadata": {},
   "outputs": [
    {
     "name": "stdout",
     "output_type": "stream",
     "text": [
      "Defaulting to user installation because normal site-packages is not writeable\n",
      "Requirement already satisfied: spacy in c:\\users\\administrator\\appdata\\roaming\\python\\python311\\site-packages (3.7.1)\n",
      "Requirement already satisfied: spacy-legacy<3.1.0,>=3.0.11 in c:\\users\\administrator\\appdata\\roaming\\python\\python311\\site-packages (from spacy) (3.0.12)\n",
      "Requirement already satisfied: spacy-loggers<2.0.0,>=1.0.0 in c:\\users\\administrator\\appdata\\roaming\\python\\python311\\site-packages (from spacy) (1.0.5)\n",
      "Requirement already satisfied: murmurhash<1.1.0,>=0.28.0 in c:\\users\\administrator\\appdata\\roaming\\python\\python311\\site-packages (from spacy) (1.0.10)\n",
      "Requirement already satisfied: cymem<2.1.0,>=2.0.2 in c:\\users\\administrator\\appdata\\roaming\\python\\python311\\site-packages (from spacy) (2.0.8)\n",
      "Requirement already satisfied: preshed<3.1.0,>=3.0.2 in c:\\users\\administrator\\appdata\\roaming\\python\\python311\\site-packages (from spacy) (3.0.9)\n",
      "Requirement already satisfied: thinc<8.3.0,>=8.1.8 in c:\\users\\administrator\\appdata\\roaming\\python\\python311\\site-packages (from spacy) (8.2.1)\n",
      "Requirement already satisfied: wasabi<1.2.0,>=0.9.1 in c:\\users\\administrator\\appdata\\roaming\\python\\python311\\site-packages (from spacy) (1.1.2)\n",
      "Requirement already satisfied: srsly<3.0.0,>=2.4.3 in c:\\users\\administrator\\appdata\\roaming\\python\\python311\\site-packages (from spacy) (2.4.8)\n",
      "Requirement already satisfied: catalogue<2.1.0,>=2.0.6 in c:\\users\\administrator\\appdata\\roaming\\python\\python311\\site-packages (from spacy) (2.0.10)\n",
      "Requirement already satisfied: weasel<0.4.0,>=0.1.0 in c:\\users\\administrator\\appdata\\roaming\\python\\python311\\site-packages (from spacy) (0.3.2)\n",
      "Requirement already satisfied: typer<0.10.0,>=0.3.0 in d:\\anaconda\\lib\\site-packages (from spacy) (0.9.0)\n",
      "Requirement already satisfied: pathy>=0.10.0 in c:\\users\\administrator\\appdata\\roaming\\python\\python311\\site-packages (from spacy) (0.10.2)\n",
      "Requirement already satisfied: smart-open<7.0.0,>=5.2.1 in d:\\anaconda\\lib\\site-packages (from spacy) (5.2.1)\n",
      "Requirement already satisfied: tqdm<5.0.0,>=4.38.0 in d:\\anaconda\\lib\\site-packages (from spacy) (4.65.0)\n",
      "Requirement already satisfied: requests<3.0.0,>=2.13.0 in d:\\anaconda\\lib\\site-packages (from spacy) (2.31.0)\n",
      "Requirement already satisfied: pydantic!=1.8,!=1.8.1,<3.0.0,>=1.7.4 in d:\\anaconda\\lib\\site-packages (from spacy) (1.10.8)\n",
      "Requirement already satisfied: jinja2 in d:\\anaconda\\lib\\site-packages (from spacy) (3.1.2)\n",
      "Requirement already satisfied: setuptools in d:\\anaconda\\lib\\site-packages (from spacy) (68.0.0)\n",
      "Requirement already satisfied: packaging>=20.0 in d:\\anaconda\\lib\\site-packages (from spacy) (23.1)\n",
      "Requirement already satisfied: langcodes<4.0.0,>=3.2.0 in c:\\users\\administrator\\appdata\\roaming\\python\\python311\\site-packages (from spacy) (3.3.0)\n",
      "Requirement already satisfied: numpy>=1.19.0 in d:\\anaconda\\lib\\site-packages (from spacy) (1.24.3)\n",
      "Requirement already satisfied: typing-extensions>=4.2.0 in d:\\anaconda\\lib\\site-packages (from pydantic!=1.8,!=1.8.1,<3.0.0,>=1.7.4->spacy) (4.7.1)\n",
      "Requirement already satisfied: charset-normalizer<4,>=2 in d:\\anaconda\\lib\\site-packages (from requests<3.0.0,>=2.13.0->spacy) (2.0.4)\n",
      "Requirement already satisfied: idna<4,>=2.5 in d:\\anaconda\\lib\\site-packages (from requests<3.0.0,>=2.13.0->spacy) (3.4)\n",
      "Requirement already satisfied: urllib3<3,>=1.21.1 in d:\\anaconda\\lib\\site-packages (from requests<3.0.0,>=2.13.0->spacy) (1.26.16)\n",
      "Requirement already satisfied: certifi>=2017.4.17 in d:\\anaconda\\lib\\site-packages (from requests<3.0.0,>=2.13.0->spacy) (2023.7.22)\n",
      "Requirement already satisfied: blis<0.8.0,>=0.7.8 in c:\\users\\administrator\\appdata\\roaming\\python\\python311\\site-packages (from thinc<8.3.0,>=8.1.8->spacy) (0.7.11)\n",
      "Requirement already satisfied: confection<1.0.0,>=0.0.1 in c:\\users\\administrator\\appdata\\roaming\\python\\python311\\site-packages (from thinc<8.3.0,>=8.1.8->spacy) (0.1.3)\n",
      "Requirement already satisfied: colorama in d:\\anaconda\\lib\\site-packages (from tqdm<5.0.0,>=4.38.0->spacy) (0.4.6)\n",
      "Requirement already satisfied: click<9.0.0,>=7.1.1 in d:\\anaconda\\lib\\site-packages (from typer<0.10.0,>=0.3.0->spacy) (8.0.4)\n",
      "Requirement already satisfied: cloudpathlib<0.16.0,>=0.7.0 in c:\\users\\administrator\\appdata\\roaming\\python\\python311\\site-packages (from weasel<0.4.0,>=0.1.0->spacy) (0.15.1)\n",
      "Requirement already satisfied: MarkupSafe>=2.0 in d:\\anaconda\\lib\\site-packages (from jinja2->spacy) (2.1.1)\n",
      "Note: you may need to restart the kernel to use updated packages.\n"
     ]
    }
   ],
   "source": [
    "pip install spacy"
   ]
  },
  {
   "cell_type": "code",
   "execution_count": 3,
   "metadata": {},
   "outputs": [],
   "source": [
    "from langchain.document_loaders import WebBaseLoader\n",
    "\n",
    "loader = WebBaseLoader(\"https://en.wikipedia.org/wiki/FIFA\")"
   ]
  },
  {
   "cell_type": "code",
   "execution_count": 6,
   "metadata": {},
   "outputs": [
    {
     "name": "stdout",
     "output_type": "stream",
     "text": [
      "Defaulting to user installation because normal site-packages is not writeable\n",
      "Collecting en-core-web-sm==3.7.0\n",
      "  Downloading https://github.com/explosion/spacy-models/releases/download/en_core_web_sm-3.7.0/en_core_web_sm-3.7.0-py3-none-any.whl (12.8 MB)\n",
      "     ---------------------------------------- 0.0/12.8 MB ? eta -:--:--\n",
      "     ---------------------------------------- 0.0/12.8 MB ? eta -:--:--\n",
      "     --------------------------------------- 0.0/12.8 MB 393.8 kB/s eta 0:00:33\n",
      "     --------------------------------------- 0.1/12.8 MB 901.1 kB/s eta 0:00:15\n",
      "     - -------------------------------------- 0.4/12.8 MB 2.4 MB/s eta 0:00:06\n",
      "     --- ------------------------------------ 1.2/12.8 MB 5.6 MB/s eta 0:00:03\n",
      "     ---- ----------------------------------- 1.4/12.8 MB 5.7 MB/s eta 0:00:02\n",
      "     ----- ---------------------------------- 1.7/12.8 MB 5.5 MB/s eta 0:00:03\n",
      "     ------ --------------------------------- 2.1/12.8 MB 6.3 MB/s eta 0:00:02\n",
      "     ------- -------------------------------- 2.5/12.8 MB 6.4 MB/s eta 0:00:02\n",
      "     --------- ------------------------------ 2.9/12.8 MB 6.6 MB/s eta 0:00:02\n",
      "     ---------- ----------------------------- 3.5/12.8 MB 6.9 MB/s eta 0:00:02\n",
      "     ------------- -------------------------- 4.4/12.8 MB 8.0 MB/s eta 0:00:02\n",
      "     ---------------- ----------------------- 5.3/12.8 MB 8.9 MB/s eta 0:00:01\n",
      "     ----------------- ---------------------- 5.7/12.8 MB 9.3 MB/s eta 0:00:01\n",
      "     -------------------- ------------------- 6.6/12.8 MB 9.5 MB/s eta 0:00:01\n",
      "     --------------------- ------------------ 6.9/12.8 MB 9.6 MB/s eta 0:00:01\n",
      "     ----------------------- ---------------- 7.6/12.8 MB 10.0 MB/s eta 0:00:01\n",
      "     -------------------------- ------------- 8.4/12.8 MB 10.3 MB/s eta 0:00:01\n",
      "     --------------------------- ------------ 8.9/12.8 MB 10.2 MB/s eta 0:00:01\n",
      "     ------------------------------ --------- 9.6/12.8 MB 10.4 MB/s eta 0:00:01\n",
      "     ------------------------------ -------- 10.2/12.8 MB 10.7 MB/s eta 0:00:01\n",
      "     ------------------------------- ------- 10.5/12.8 MB 12.1 MB/s eta 0:00:01\n",
      "     --------------------------------- ----- 11.0/12.8 MB 12.4 MB/s eta 0:00:01\n",
      "     ---------------------------------- ---- 11.5/12.8 MB 11.7 MB/s eta 0:00:01\n",
      "     ------------------------------------ -- 12.1/12.8 MB 12.4 MB/s eta 0:00:01\n",
      "     --------------------------------------  12.5/12.8 MB 12.6 MB/s eta 0:00:01\n",
      "     --------------------------------------  12.8/12.8 MB 13.1 MB/s eta 0:00:01\n",
      "     --------------------------------------- 12.8/12.8 MB 12.3 MB/s eta 0:00:00\n",
      "Requirement already satisfied: spacy<3.8.0,>=3.7.0 in c:\\users\\administrator\\appdata\\roaming\\python\\python311\\site-packages (from en-core-web-sm==3.7.0) (3.7.1)\n",
      "Requirement already satisfied: spacy-legacy<3.1.0,>=3.0.11 in c:\\users\\administrator\\appdata\\roaming\\python\\python311\\site-packages (from spacy<3.8.0,>=3.7.0->en-core-web-sm==3.7.0) (3.0.12)\n",
      "Requirement already satisfied: spacy-loggers<2.0.0,>=1.0.0 in c:\\users\\administrator\\appdata\\roaming\\python\\python311\\site-packages (from spacy<3.8.0,>=3.7.0->en-core-web-sm==3.7.0) (1.0.5)\n",
      "Requirement already satisfied: murmurhash<1.1.0,>=0.28.0 in c:\\users\\administrator\\appdata\\roaming\\python\\python311\\site-packages (from spacy<3.8.0,>=3.7.0->en-core-web-sm==3.7.0) (1.0.10)\n",
      "Requirement already satisfied: cymem<2.1.0,>=2.0.2 in c:\\users\\administrator\\appdata\\roaming\\python\\python311\\site-packages (from spacy<3.8.0,>=3.7.0->en-core-web-sm==3.7.0) (2.0.8)\n",
      "Requirement already satisfied: preshed<3.1.0,>=3.0.2 in c:\\users\\administrator\\appdata\\roaming\\python\\python311\\site-packages (from spacy<3.8.0,>=3.7.0->en-core-web-sm==3.7.0) (3.0.9)\n",
      "Requirement already satisfied: thinc<8.3.0,>=8.1.8 in c:\\users\\administrator\\appdata\\roaming\\python\\python311\\site-packages (from spacy<3.8.0,>=3.7.0->en-core-web-sm==3.7.0) (8.2.1)\n",
      "Requirement already satisfied: wasabi<1.2.0,>=0.9.1 in c:\\users\\administrator\\appdata\\roaming\\python\\python311\\site-packages (from spacy<3.8.0,>=3.7.0->en-core-web-sm==3.7.0) (1.1.2)\n",
      "Requirement already satisfied: srsly<3.0.0,>=2.4.3 in c:\\users\\administrator\\appdata\\roaming\\python\\python311\\site-packages (from spacy<3.8.0,>=3.7.0->en-core-web-sm==3.7.0) (2.4.8)\n",
      "Requirement already satisfied: catalogue<2.1.0,>=2.0.6 in c:\\users\\administrator\\appdata\\roaming\\python\\python311\\site-packages (from spacy<3.8.0,>=3.7.0->en-core-web-sm==3.7.0) (2.0.10)\n",
      "Requirement already satisfied: weasel<0.4.0,>=0.1.0 in c:\\users\\administrator\\appdata\\roaming\\python\\python311\\site-packages (from spacy<3.8.0,>=3.7.0->en-core-web-sm==3.7.0) (0.3.2)\n",
      "Requirement already satisfied: typer<0.10.0,>=0.3.0 in d:\\anaconda\\lib\\site-packages (from spacy<3.8.0,>=3.7.0->en-core-web-sm==3.7.0) (0.9.0)\n",
      "Requirement already satisfied: pathy>=0.10.0 in c:\\users\\administrator\\appdata\\roaming\\python\\python311\\site-packages (from spacy<3.8.0,>=3.7.0->en-core-web-sm==3.7.0) (0.10.2)\n",
      "Requirement already satisfied: smart-open<7.0.0,>=5.2.1 in d:\\anaconda\\lib\\site-packages (from spacy<3.8.0,>=3.7.0->en-core-web-sm==3.7.0) (5.2.1)\n",
      "Requirement already satisfied: tqdm<5.0.0,>=4.38.0 in d:\\anaconda\\lib\\site-packages (from spacy<3.8.0,>=3.7.0->en-core-web-sm==3.7.0) (4.65.0)\n",
      "Requirement already satisfied: requests<3.0.0,>=2.13.0 in d:\\anaconda\\lib\\site-packages (from spacy<3.8.0,>=3.7.0->en-core-web-sm==3.7.0) (2.31.0)\n",
      "Requirement already satisfied: pydantic!=1.8,!=1.8.1,<3.0.0,>=1.7.4 in d:\\anaconda\\lib\\site-packages (from spacy<3.8.0,>=3.7.0->en-core-web-sm==3.7.0) (1.10.8)\n",
      "Requirement already satisfied: jinja2 in d:\\anaconda\\lib\\site-packages (from spacy<3.8.0,>=3.7.0->en-core-web-sm==3.7.0) (3.1.2)\n",
      "Requirement already satisfied: setuptools in d:\\anaconda\\lib\\site-packages (from spacy<3.8.0,>=3.7.0->en-core-web-sm==3.7.0) (68.0.0)\n",
      "Requirement already satisfied: packaging>=20.0 in d:\\anaconda\\lib\\site-packages (from spacy<3.8.0,>=3.7.0->en-core-web-sm==3.7.0) (23.1)\n",
      "Requirement already satisfied: langcodes<4.0.0,>=3.2.0 in c:\\users\\administrator\\appdata\\roaming\\python\\python311\\site-packages (from spacy<3.8.0,>=3.7.0->en-core-web-sm==3.7.0) (3.3.0)\n",
      "Requirement already satisfied: numpy>=1.19.0 in d:\\anaconda\\lib\\site-packages (from spacy<3.8.0,>=3.7.0->en-core-web-sm==3.7.0) (1.24.3)\n",
      "Requirement already satisfied: typing-extensions>=4.2.0 in d:\\anaconda\\lib\\site-packages (from pydantic!=1.8,!=1.8.1,<3.0.0,>=1.7.4->spacy<3.8.0,>=3.7.0->en-core-web-sm==3.7.0) (4.7.1)\n",
      "Requirement already satisfied: charset-normalizer<4,>=2 in d:\\anaconda\\lib\\site-packages (from requests<3.0.0,>=2.13.0->spacy<3.8.0,>=3.7.0->en-core-web-sm==3.7.0) (2.0.4)\n",
      "Requirement already satisfied: idna<4,>=2.5 in d:\\anaconda\\lib\\site-packages (from requests<3.0.0,>=2.13.0->spacy<3.8.0,>=3.7.0->en-core-web-sm==3.7.0) (3.4)\n",
      "Requirement already satisfied: urllib3<3,>=1.21.1 in d:\\anaconda\\lib\\site-packages (from requests<3.0.0,>=2.13.0->spacy<3.8.0,>=3.7.0->en-core-web-sm==3.7.0) (1.26.16)\n",
      "Requirement already satisfied: certifi>=2017.4.17 in d:\\anaconda\\lib\\site-packages (from requests<3.0.0,>=2.13.0->spacy<3.8.0,>=3.7.0->en-core-web-sm==3.7.0) (2023.7.22)\n",
      "Requirement already satisfied: blis<0.8.0,>=0.7.8 in c:\\users\\administrator\\appdata\\roaming\\python\\python311\\site-packages (from thinc<8.3.0,>=8.1.8->spacy<3.8.0,>=3.7.0->en-core-web-sm==3.7.0) (0.7.11)\n",
      "Requirement already satisfied: confection<1.0.0,>=0.0.1 in c:\\users\\administrator\\appdata\\roaming\\python\\python311\\site-packages (from thinc<8.3.0,>=8.1.8->spacy<3.8.0,>=3.7.0->en-core-web-sm==3.7.0) (0.1.3)\n",
      "Requirement already satisfied: colorama in d:\\anaconda\\lib\\site-packages (from tqdm<5.0.0,>=4.38.0->spacy<3.8.0,>=3.7.0->en-core-web-sm==3.7.0) (0.4.6)\n",
      "Requirement already satisfied: click<9.0.0,>=7.1.1 in d:\\anaconda\\lib\\site-packages (from typer<0.10.0,>=0.3.0->spacy<3.8.0,>=3.7.0->en-core-web-sm==3.7.0) (8.0.4)\n",
      "Requirement already satisfied: cloudpathlib<0.16.0,>=0.7.0 in c:\\users\\administrator\\appdata\\roaming\\python\\python311\\site-packages (from weasel<0.4.0,>=0.1.0->spacy<3.8.0,>=3.7.0->en-core-web-sm==3.7.0) (0.15.1)\n",
      "Requirement already satisfied: MarkupSafe>=2.0 in d:\\anaconda\\lib\\site-packages (from jinja2->spacy<3.8.0,>=3.7.0->en-core-web-sm==3.7.0) (2.1.1)\n",
      "Installing collected packages: en-core-web-sm\n",
      "Successfully installed en-core-web-sm-3.7.0\n",
      "\u001b[38;5;2m[+] Download and installation successful\u001b[0m\n",
      "You can now load the package via spacy.load('en_core_web_sm')\n"
     ]
    }
   ],
   "source": [
    "!python -m spacy download en_core_web_sm"
   ]
  },
  {
   "cell_type": "code",
   "execution_count": 4,
   "metadata": {},
   "outputs": [],
   "source": [
    "from langchain.text_splitter import RecursiveCharacterTextSplitter\n",
    "\n",
    "chunk_size = 500  # Adjust as needed\n",
    "chunk_overlap = 100  # Adjust as needed\n",
    "\n",
    "# Create the text splitter with fixed chunking and overlap\n",
    "text_splitter = RecursiveCharacterTextSplitter(chunk_size=chunk_size, chunk_overlap=chunk_overlap)\n",
    "all_splits = text_splitter.split_documents(data)"
   ]
  },
  {
   "cell_type": "code",
   "execution_count": 8,
   "metadata": {},
   "outputs": [
    {
     "name": "stdout",
     "output_type": "stream",
     "text": [
      "Found model file at  C:\\\\\\\\Users\\\\\\\\Administrator\\\\\\\\.cache\\\\\\\\gpt4all\\\\ggml-all-MiniLM-L6-v2-f16.bin\n"
     ]
    }
   ],
   "source": [
    "vectorstore = Chroma.from_documents(documents=all_splits, embedding=GPT4AllEmbeddings())"
   ]
  },
  {
   "cell_type": "code",
   "execution_count": 9,
   "metadata": {},
   "outputs": [
    {
     "data": {
      "text/plain": [
       "4"
      ]
     },
     "execution_count": 9,
     "metadata": {},
     "output_type": "execute_result"
    }
   ],
   "source": [
    "question = \"Which team is the champion of the 2022 FIFA Man's world cup?\"\n",
    "docs = vectorstore.similarity_search(question)\n",
    "len(docs)"
   ]
  },
  {
   "cell_type": "code",
   "execution_count": 14,
   "metadata": {
    "scrolled": true
   },
   "outputs": [],
   "source": [
    "from langchain.llms import GPT4All\n",
    "from langchain.chains import RetrievalQA\n",
    "from langchain.prompts import PromptTemplate\n",
    "\n",
    "gpt4all_snoozy_model = \"E:/ggml-model-gpt4all-falcon-q4_0.bin\"\n",
    "\n",
    "template = \"\"\"Use the following pieces of context to answer the question at the end. \n",
    "If you don't know the answer, just say that you don't know, don't try to make up an answer. \n",
    "Add the Context used to the answer at the end of the answer. \n",
    "Always say \"thanks for asking!\" at the end of the answer.\n",
    "\n",
    "Context: {context}\n",
    "Question: {question}\n",
    "Helpful Answer:\n",
    "Specific Context used:\"\"\"\n",
    "QA_CHAIN_PROMPT = PromptTemplate.from_template(template)\n"
   ]
  },
  {
   "cell_type": "code",
   "execution_count": 10,
   "metadata": {},
   "outputs": [],
   "source": [
    "from langchain.llms import GPT4All\n",
    "from langchain.chains import RetrievalQA\n",
    "from langchain.prompts import PromptTemplate\n",
    "\n",
    "gpt4all_snoozy_model = \"E:/ggml-model-gpt4all-falcon-q4_0.bin\"\n",
    "\n",
    "template = \"\"\"Use the following pieces of context to answer the question at the end. \n",
    "If you don't know the answer, just say that you don't know, don't try to make up an answer. \n",
    "Add the Context used to the answer at the end of the answer. \n",
    "Always say \"thanks for asking!\" at the end of the answer.\n",
    "\n",
    "Context: {context}\n",
    "Question: {question}\n",
    "Helpful Answer:\"\"\"\n",
    "QA_CHAIN_PROMPT = PromptTemplate.from_template(template)"
   ]
  },
  {
   "cell_type": "code",
   "execution_count": 13,
   "metadata": {},
   "outputs": [
    {
     "name": "stdout",
     "output_type": "stream",
     "text": [
      "Found model file at  E:/ggml-model-gpt4all-falcon-q4_0.bin\n"
     ]
    }
   ],
   "source": [
    "llm = GPT4All(model=gpt4all_snoozy_model ,max_tokens=2048)\n",
    "qa_chain = RetrievalQA.from_chain_type(\n",
    "    llm,\n",
    "    retriever=vectorstore.as_retriever(),\n",
    "    chain_type_kwargs={\"prompt\": QA_CHAIN_PROMPT},\n",
    "    return_source_documents=True\n",
    ")\n",
    "result = qa_chain({\"query\": question})"
   ]
  },
  {
   "cell_type": "code",
   "execution_count": 14,
   "metadata": {},
   "outputs": [
    {
     "data": {
      "text/plain": [
       "{'query': \"Which team is the champion of the 2022 FIFA Man's world cup?\",\n",
       " 'result': \" The team that won the 2022 FIFA Men's World Cup was Argentina.\",\n",
       " 'source_documents': [Document(page_content=\"2022 (qual.)\\n\\nArgentina\\xa0\\n\\nFinal\\n\\n\\xa0France\\n\\n\\n\\n2026 (qual.)\\n\\n\\nMen's Olympic Football Tournament(U-23)\\n\\n2020 (qual.)\\n\\nBrazil\\xa0\\n\\nFinal\\n\\n Spain\\n\\n2024 (qual.)\\n\\n\\nFIFA U-20 World Cup\\n\\n2023 (qual.)\\n\\nUruguay\\xa0\\n\\nFinal\\n\\n\\xa0Italy\\n\\n2025 (qual.)\\n\\n\\nFIFA U-17 World Cup\\n\\n2019 (qual.)\\n\\nBrazil\\xa0\\n\\nFinal\\n\\n\\xa0Mexico\\n\\n2023 (qual.)\\n\\n\\nFIFA Futsal World Cup\\n\\n2021 (qual.)\\n\\nPortugal\\xa0\\n\\nFinal\\n\\n\\xa0Argentina\\n\\n2024 (qual.)\\n\\n\\nMen's Youth Olympic Futsal Tournament(U-20)\\n\\n2018\\n\\nBrazil\\xa0\\n\\nFinal\\n\\n\\xa0Russia\\n\\n2026\", metadata={'language': 'en', 'source': 'https://en.wikipedia.org/wiki/FIFA', 'title': 'FIFA - Wikipedia'}),\n",
       "  Document(page_content=\"2023[66]\\n\\nBrazil \\n(Paulo Henrique Chaves)(Pedro Henrique Soares)(Paulo Neto)\\n\\n\\nFinal\\n\\n Netherlands\\n(Levi de Weerd)(Manuel Bachoore)(Emre Yilmaz)\\n\\n\\n2024\\n\\n\\nFIFAe Continental Cup\\n\\n2022[67]\\n\\nProGamer \\n\\nFinal\\n\\n Crazy Win\\n\\n2023[68]\\n\\nFIFA World Rankings[edit]\\nFurther information: FIFA World Rankings and FIFA Women's World Rankings\\n\\n\\n\\n\\nMen's[edit]\\nThe following table has the Top 20 ranked men's football countries worldwide.[69]\\n\\n\\n\\nTop 20 rankings as of 21 September 2023[70]\\n\\n\\nRank\\n\\nChange\\n\\nTeam\", metadata={'language': 'en', 'source': 'https://en.wikipedia.org/wiki/FIFA', 'title': 'FIFA - Wikipedia'}),\n",
       "  Document(page_content=\"Current title holders[edit]\\nSee also: Portal:Current events/Sports, 2023 in association football, 2023 in sports, and FIFA International Match Calendar\\nFor events postponed or cancelled because of the COVID-19 pandemic, see Impact of the COVID-19 pandemic on sports.\\n\\n\\nCompetition\\n\\n\\n\\nCurrent\\n\\nChampions\\n\\nDetails\\n\\nRunners-up\\n\\n\\n\\nNext[61]\\n\\n\\nNational teams\\n\\n\\nFIFA World Cup (qualification)\\n\\n\\n\\n2022 (qual.)\\n\\nArgentina\\xa0\\n\\nFinal\\n\\n\\xa0France\\n\\n\\n\\n2026 (qual.)\\n\\n\\nMen's Olympic Football Tournament(U-23)\", metadata={'language': 'en', 'source': 'https://en.wikipedia.org/wiki/FIFA', 'title': 'FIFA - Wikipedia'}),\n",
       "  Document(page_content=\"2027 (qual.)\\n\\n\\nWomen's Olympic Football Tournament\\n\\n2021 (qual.)\\n\\nCanada\\xa0\\n\\nFinal\\n\\n\\xa0Sweden\\n\\n2024 (qual.)\\n\\n\\nFIFA U-20 Women's World Cup\\n\\n2022 (qual.)\\n\\nSpain\\xa0\\n\\nFinal\\n\\n\\xa0Japan\\n\\n2024 (qual.)\\n\\n\\nFIFA U-17 Women's World Cup\\n\\n2022 (qual.)\\n\\nSpain\\xa0\\n\\nFinal\\n\\n\\xa0Colombia\\n\\n2024 (qual.)\\n\\n\\nFIFA Women's Futsal World Cup\\n\\n—\\n\\n—\\n\\n—\\n\\n—\\n\\n2025\\n\\n\\nWomen's Youth Olympic Futsal Tournament(U-20)\\n\\n2018\\n\\nPortugal\\xa0\\n\\nFinal\\n\\n\\xa0Japan\\n\\n2026\\n\\n\\nClub teams\\n\\n\\nFIFA Club World Cup\\n\\n\\n\\n2022 (qual.)\\n\\nReal Madrid \\n\\nFinal\\n\\n Al-Hilal\", metadata={'language': 'en', 'source': 'https://en.wikipedia.org/wiki/FIFA', 'title': 'FIFA - Wikipedia'})]}"
      ]
     },
     "execution_count": 14,
     "metadata": {},
     "output_type": "execute_result"
    }
   ],
   "source": [
    "result"
   ]
  },
  {
   "cell_type": "code",
   "execution_count": 15,
   "metadata": {},
   "outputs": [
    {
     "name": "stdout",
     "output_type": "stream",
     "text": [
      "Document 1:\n",
      "Source: https://en.wikipedia.org/wiki/FIFA\n",
      "Content: 2022 (qual.)\n",
      "\n",
      "Argentina \n",
      "\n",
      "Final\n",
      "\n",
      " France\n",
      "\n",
      "\n",
      "\n",
      "2026 (qual.)\n",
      "\n",
      "\n",
      "Men's Olympic Football Tournament(U-23)\n",
      "\n",
      "2020 (qual.)\n",
      "\n",
      "Brazil \n",
      "\n",
      "Final\n",
      "\n",
      " Spain\n",
      "\n",
      "2024 (qual.)\n",
      "\n",
      "\n",
      "FIFA U-20 World Cup\n",
      "\n",
      "2023 (qual.)\n",
      "\n",
      "Uruguay \n",
      "\n",
      "Final\n",
      "\n",
      " Italy\n",
      "\n",
      "2025 (qual.)\n",
      "\n",
      "\n",
      "FIFA U-17 World Cup\n",
      "\n",
      "2019 (qual.)\n",
      "\n",
      "Brazil \n",
      "\n",
      "Final\n",
      "\n",
      " Mexico\n",
      "\n",
      "2023 (qual.)\n",
      "\n",
      "\n",
      "FIFA Futsal World Cup\n",
      "\n",
      "2021 (qual.)\n",
      "\n",
      "Portugal \n",
      "\n",
      "Final\n",
      "\n",
      " Argentina\n",
      "\n",
      "2024 (qual.)\n",
      "\n",
      "\n",
      "Men's Youth Olympic Futsal Tournament(U-20)\n",
      "\n",
      "2018\n",
      "\n",
      "Brazil \n",
      "\n",
      "Final\n",
      "\n",
      " Russia\n",
      "\n",
      "2026\n",
      "\n",
      "Document 2:\n",
      "Source: https://en.wikipedia.org/wiki/FIFA\n",
      "Content: 2023[66]\n",
      "\n",
      "Brazil \n",
      "(Paulo Henrique Chaves)(Pedro Henrique Soares)(Paulo Neto)\n",
      "\n",
      "\n",
      "Final\n",
      "\n",
      " Netherlands\n",
      "(Levi de Weerd)(Manuel Bachoore)(Emre Yilmaz)\n",
      "\n",
      "\n",
      "2024\n",
      "\n",
      "\n",
      "FIFAe Continental Cup\n",
      "\n",
      "2022[67]\n",
      "\n",
      "ProGamer \n",
      "\n",
      "Final\n",
      "\n",
      " Crazy Win\n",
      "\n",
      "2023[68]\n",
      "\n",
      "FIFA World Rankings[edit]\n",
      "Further information: FIFA World Rankings and FIFA Women's World Rankings\n",
      "\n",
      "\n",
      "\n",
      "\n",
      "Men's[edit]\n",
      "The following table has the Top 20 ranked men's football countries worldwide.[69]\n",
      "\n",
      "\n",
      "\n",
      "Top 20 rankings as of 21 September 2023[70]\n",
      "\n",
      "\n",
      "Rank\n",
      "\n",
      "Change\n",
      "\n",
      "Team\n",
      "\n",
      "Document 3:\n",
      "Source: https://en.wikipedia.org/wiki/FIFA\n",
      "Content: Current title holders[edit]\n",
      "See also: Portal:Current events/Sports, 2023 in association football, 2023 in sports, and FIFA International Match Calendar\n",
      "For events postponed or cancelled because of the COVID-19 pandemic, see Impact of the COVID-19 pandemic on sports.\n",
      "\n",
      "\n",
      "Competition\n",
      "\n",
      "\n",
      "\n",
      "Current\n",
      "\n",
      "Champions\n",
      "\n",
      "Details\n",
      "\n",
      "Runners-up\n",
      "\n",
      "\n",
      "\n",
      "Next[61]\n",
      "\n",
      "\n",
      "National teams\n",
      "\n",
      "\n",
      "FIFA World Cup (qualification)\n",
      "\n",
      "\n",
      "\n",
      "2022 (qual.)\n",
      "\n",
      "Argentina \n",
      "\n",
      "Final\n",
      "\n",
      " France\n",
      "\n",
      "\n",
      "\n",
      "2026 (qual.)\n",
      "\n",
      "\n",
      "Men's Olympic Football Tournament(U-23)\n",
      "\n",
      "Document 4:\n",
      "Source: https://en.wikipedia.org/wiki/FIFA\n",
      "Content: 2027 (qual.)\n",
      "\n",
      "\n",
      "Women's Olympic Football Tournament\n",
      "\n",
      "2021 (qual.)\n",
      "\n",
      "Canada \n",
      "\n",
      "Final\n",
      "\n",
      " Sweden\n",
      "\n",
      "2024 (qual.)\n",
      "\n",
      "\n",
      "FIFA U-20 Women's World Cup\n",
      "\n",
      "2022 (qual.)\n",
      "\n",
      "Spain \n",
      "\n",
      "Final\n",
      "\n",
      " Japan\n",
      "\n",
      "2024 (qual.)\n",
      "\n",
      "\n",
      "FIFA U-17 Women's World Cup\n",
      "\n",
      "2022 (qual.)\n",
      "\n",
      "Spain \n",
      "\n",
      "Final\n",
      "\n",
      " Colombia\n",
      "\n",
      "2024 (qual.)\n",
      "\n",
      "\n",
      "FIFA Women's Futsal World Cup\n",
      "\n",
      "—\n",
      "\n",
      "—\n",
      "\n",
      "—\n",
      "\n",
      "—\n",
      "\n",
      "2025\n",
      "\n",
      "\n",
      "Women's Youth Olympic Futsal Tournament(U-20)\n",
      "\n",
      "2018\n",
      "\n",
      "Portugal \n",
      "\n",
      "Final\n",
      "\n",
      " Japan\n",
      "\n",
      "2026\n",
      "\n",
      "\n",
      "Club teams\n",
      "\n",
      "\n",
      "FIFA Club World Cup\n",
      "\n",
      "\n",
      "\n",
      "2022 (qual.)\n",
      "\n",
      "Real Madrid \n",
      "\n",
      "Final\n",
      "\n",
      " Al-Hilal\n",
      "\n"
     ]
    }
   ],
   "source": [
    "for i, doc in enumerate(result['source_documents'], 1):\n",
    "    print(f\"Document {i}:\")\n",
    "    print(f\"Source: {doc.metadata['source']}\")\n",
    "    print(f\"Content: {doc.page_content}\\n\")"
   ]
  },
  {
   "cell_type": "code",
   "execution_count": 16,
   "metadata": {},
   "outputs": [
    {
     "data": {
      "text/plain": [
       "{'query': \"Which team is the champion of the 2022 FIFA Man's world cup?\",\n",
       " 'result': \"\\n\\nThe table above shows the rankings of men's football teams worldwide as of September 2, 2023.\\n\\nAdditional context used:\\n\\nThe table also includes information on the teams that are the current champions and runners-up in various international competitions.\\n\\nAnswer:\\n\\nThe table does not provide specific information on which team won the 2022 FIFA Man's World Cup.\"}"
      ]
     },
     "execution_count": 16,
     "metadata": {},
     "output_type": "execute_result"
    }
   ],
   "source": [
    "result"
   ]
  },
  {
   "cell_type": "code",
   "execution_count": 24,
   "metadata": {},
   "outputs": [],
   "source": [
    "from langchain.llms import GPT4All\n",
    "from langchain.chains import RetrievalQA\n",
    "from langchain.prompts import PromptTemplate\n",
    "\n",
    "gpt4all_snoozy_model = \"E:/ggml-model-gpt4all-falcon-q4_0.bin\"\n",
    "\n",
    "template = \"\"\"Use the following pieces of context to answer the question at the end. \n",
    "If you don't know the answer, just say that you don't know, don't try to make up an answer. \n",
    "Add the Context used to the answer at the end of the answer. \n",
    "Always say \"thanks for asking!\" at the end of the answer.\n",
    "\n",
    "Context: {context}\n",
    "Question: {question}\n",
    "Helpful Answer:\"\"\"\n",
    "QA_CHAIN_PROMPT = PromptTemplate.from_template(template)"
   ]
  },
  {
   "cell_type": "code",
   "execution_count": 25,
   "metadata": {},
   "outputs": [
    {
     "name": "stdout",
     "output_type": "stream",
     "text": [
      "Found model file at  E:/ggml-model-gpt4all-falcon-q4_0.bin\n"
     ]
    }
   ],
   "source": [
    "llm = GPT4All(model=gpt4all_snoozy_model ,max_tokens=2048)\n",
    "qa_chain = RetrievalQA.from_chain_type(\n",
    "    llm,\n",
    "    retriever=vectorstore.as_retriever(),\n",
    "    chain_type_kwargs={\"prompt\": QA_CHAIN_PROMPT}\n",
    ")\n",
    "result = qa_chain({\"query\": question})"
   ]
  },
  {
   "cell_type": "code",
   "execution_count": 26,
   "metadata": {},
   "outputs": [
    {
     "data": {
      "text/plain": [
       "{'query': \"Which team is the champion of the 2022 FIFA Man's world cup?\",\n",
       " 'result': \" The team that won the 2022 FIFA Men's World Cup was France.\"}"
      ]
     },
     "execution_count": 26,
     "metadata": {},
     "output_type": "execute_result"
    }
   ],
   "source": [
    "result"
   ]
  },
  {
   "cell_type": "markdown",
   "metadata": {},
   "source": [
    "# Chunk Strategy 3"
   ]
  },
  {
   "cell_type": "code",
   "execution_count": null,
   "metadata": {},
   "outputs": [],
   "source": [
    "import nltk\n"
   ]
  },
  {
   "cell_type": "code",
   "execution_count": 28,
   "metadata": {},
   "outputs": [
    {
     "name": "stderr",
     "output_type": "stream",
     "text": [
      "[nltk_data] Downloading package punkt to\n",
      "[nltk_data]     C:\\Users\\Administrator\\AppData\\Roaming\\nltk_data...\n",
      "[nltk_data]   Unzipping tokenizers\\punkt.zip.\n"
     ]
    },
    {
     "data": {
      "text/plain": [
       "True"
      ]
     },
     "execution_count": 28,
     "metadata": {},
     "output_type": "execute_result"
    }
   ],
   "source": [
    "nltk.download('punkt')"
   ]
  },
  {
   "cell_type": "code",
   "execution_count": 37,
   "metadata": {},
   "outputs": [
    {
     "data": {
      "text/plain": [
       "[Document(page_content='\\n\\n\\n\\nFIFA - Wikipedia\\n\\n\\n\\n\\n\\n\\n\\n\\n\\n\\n\\n\\n\\n\\n\\n\\n\\n\\n\\n\\n\\n\\n\\n\\n\\n\\n\\n\\n\\n\\n\\n\\n\\n\\n\\n\\nJump to content\\n\\n\\n\\n\\n\\n\\n\\nMain menu\\n\\n\\n\\n\\n\\nMain menu\\nmove to sidebar\\nhide\\n\\n\\n\\n\\t\\tNavigation\\n\\t\\n\\n\\nMain pageContentsCurrent eventsRandom articleAbout WikipediaContact usDonate\\n\\n\\n\\n\\n\\n\\t\\tContribute\\n\\t\\n\\n\\nHelpLearn to editCommunity portalRecent changesUpload file\\n\\n\\n\\n\\n\\nLanguages\\n\\nLanguage links are at the top of the page across from the title.\\n\\n\\n\\n\\n\\n\\n\\n\\n\\n\\n\\n\\n\\n\\n\\n\\n\\n\\n\\nSearch\\n\\n\\n\\n\\n\\n\\n\\n\\n\\n\\n\\nSearch\\n\\n\\n\\n\\n\\n\\n\\n\\nCreate accountLog in\\n\\n\\n\\n\\n\\n\\nPersonal tools\\n\\n\\n\\n\\n\\n Create account Log in\\n\\n\\n\\n\\n\\n\\t\\tPages for logged out editors learn more\\n\\n\\n\\nContributionsTalk\\n\\n\\n\\n\\n\\n\\n\\n\\n\\n\\n\\n\\n\\n\\n\\n\\n\\n\\n\\n\\n\\n\\n\\n\\n\\n\\n\\nContents\\nmove to sidebar\\nhide\\n\\n\\n\\n\\n(Top)\\n\\n\\n\\n\\n\\n1History\\n\\n\\n\\n\\n\\n\\n\\n2Identity\\n\\n\\n\\nToggle Identity subsection\\n\\n\\n\\n\\n\\n2.1Flag\\n\\n\\n\\n\\n\\n\\n\\n2.2Anthem\\n\\n\\n\\n\\n\\n\\n\\n\\n\\n3Presidents\\n\\n\\n\\n\\n\\n\\n\\n4Presidents of FIFA\\n\\n\\n\\n\\n\\n\\n\\n5Structure\\n\\n\\n\\nToggle Structure subsection\\n\\n\\n\\n\\n\\n5.1Six confederations and 211 national associations\\n\\n\\n\\n\\n\\n\\n\\n5.2Laws and governance\\n\\n\\n\\n\\n\\n\\n\\n5.3Administrative cost\\n\\n\\n\\n\\n\\n\\n\\n\\n\\n6Governance\\n\\n\\n\\nToggle Governance subsection\\n\\n\\n\\n\\n\\n6.1Discipline of national associations\\n\\n\\n\\n\\n\\n\\n\\n6.2Video replay and goal-line technology\\n\\n\\n\\n\\n\\n\\n\\n6.3Controversy\\n\\n\\n\\n\\n\\n\\n\\n\\n\\n7Recognition and awards\\n\\n\\n\\n\\n\\n\\n\\n8FIFA competitions\\n\\n\\n\\nToggle FIFA competitions subsection\\n\\n\\n\\n\\n\\n8.1National teams\\n\\n\\n\\n\\n\\n\\n\\n8.2Clubs\\n\\n\\n\\n\\n\\n\\n\\n8.3eSports\\n\\n\\n\\n\\n\\n\\n\\n8.4Former tournaments\\n\\n\\n\\n\\n\\n\\n\\n8.5Current title holders\\n\\n\\n\\n\\n\\n\\n\\n\\n\\n9Esports\\n\\n\\n\\n\\n\\n\\n\\n10FIFA World Rankings\\n\\n\\n\\nToggle FIFA World Rankings subsection\\n\\n\\n\\n\\n\\n10.1Men\\'s\\n\\n\\n\\n\\n\\n\\n\\n10.2Women\\'s\\n\\n\\n\\n\\n\\n\\n\\n\\n\\n11Sponsors of FIFA\\n\\n\\n\\nToggle Sponsors of FIFA subsection\\n\\n\\n\\n\\n\\n11.1FIFA Partner\\n\\n\\n\\n\\n\\n\\n\\n\\n\\n12FIFA+\\n\\n\\n\\n\\n\\n\\n\\n13FIFA Innovation Programme\\n\\n\\n\\n\\n\\n\\n\\n14Corruption\\n\\n\\n\\nToggle Corruption subsection\\n\\n\\n\\n\\n\\n14.1Guilty pleas\\n\\n\\n\\n\\n\\n\\n\\n14.2Indictments and arrests\\n\\n\\n\\n\\n\\n\\n\\n14.32018 and 2022 World Cup bids\\n\\n\\n\\n\\n\\n\\n\\n14.42011 FIFA presidential election\\n\\n\\n\\n\\n\\n\\n\\n14.5Response to allegations\\n\\n\\n\\n\\n\\n\\n\\n14.62018 revision of code of ethics\\n\\n\\n\\n\\n\\n\\n\\n\\n\\n15See also\\n\\n\\n\\n\\n\\n\\n\\n16Notes\\n\\n\\n\\n\\n\\n\\n\\n17References\\n\\n\\n\\n\\n\\n\\n\\n18Further reading\\n\\n\\n\\n\\n\\n\\n\\n19External links\\n\\n\\n\\n\\n\\n\\n\\n\\n\\n\\n\\n\\n\\nToggle the table of contents\\n\\n\\n\\n\\n\\nToggle the table of contents\\n\\n\\n\\n\\n\\n\\n\\nFIFA\\n\\n\\n\\n140 languages\\n\\n\\n\\n\\nAfrikaansAlemannischአማርኛالعربيةঅসমীয়াAsturianuAvañe\\'ẽAzərbaycancaتۆرکجهBasa BaliবাংলাBân-lâm-gúБеларускаяБеларуская (тарашкевіца)भोजपुरीBikol CentralБългарскиBoarischBosanskiBrezhonegCatalàCebuanoČeštinaCymraegDanskالدارجةDeutschडोटेलीEestiΕλληνικάEspañolEsperantoEuskaraفارسیFøroysktFrançaisFryskGaeilgeGalegoગુજરાતી한국어HausaHawaiʻiՀայերենहिन्दीHrvatskiIdoBahasa IndonesiaInterlinguaInterlingueIsiXhosaÍslenskaItalianoעבריתJawaಕನ್ನಡქართულიҚазақшаKiswahiliKurdîLatinaLatviešuLëtzebuergeschLietuviųLimburgsLombardMagyarमैथिलीМакедонскиമലയാളംMaltiमराठीმარგალურიمصرىمازِرونیBahasa MelayuMinangkabauМонголမြန်မာဘာသာNederlandsनेपाली日本語NapulitanoНохчийнNorsk bokmålNorsk nynorskОлык марийOromooOʻzbekcha / ўзбекчаਪੰਜਾਬੀپنجابیပအိုဝ်ႏဘာႏသာႏPapiamentuپښتوភាសាខ្មែរPiemontèisPolskiPortuguêsQaraqalpaqshaRomânăRumantschРусскийСаха тылаᱥᱟᱱᱛᱟᱲᱤSarduScotsShqipSicilianuසිංහලSimple EnglishSlovenčinaSlovenščinaŚlůnskiSoomaaligaکوردیСрпски / srpskiSrpskohrvatski / српскохрватскиSundaSuomiSvenskaTagalogதமிழ்TaclḥitТатарча / tatarçaతెలుగుไทยThuɔŋjäŋТоҷикӣTürkçeTürkmençeУкраїнськаاردوVènetoTiếng ViệtWinaray吴语Yorùbá粵語Zazaki中文\\n\\nEdit links\\n\\n\\n\\n\\n\\n\\n\\n\\n\\n\\n\\nArticleTalk\\n\\n\\n\\n\\n\\nEnglish\\n\\n\\n\\n\\n\\n\\n\\n\\n\\n\\n\\n\\n\\n\\n\\n\\n\\nReadEditView history\\n\\n\\n\\n\\n\\n\\n\\nTools\\n\\n\\n\\n\\n\\nTools\\nmove to sidebar\\nhide\\n\\n\\n\\n\\t\\tActions\\n\\t\\n\\n\\nReadEditView history\\n\\n\\n\\n\\n\\n\\t\\tGeneral\\n\\t\\n\\n\\nWhat links hereRelated changesUpload fileSpecial pagesPermanent linkPage informationCite this pageGet shortened URLWikidata item\\n\\n\\n\\n\\n\\n\\t\\tPrint/export\\n\\t\\n\\n\\nDownload as PDFPrintable version\\n\\n\\n\\n\\n\\n\\t\\tIn other projects\\n\\t\\n\\n\\nWikimedia CommonsWikinewsWikiquote\\n\\n\\n\\n\\n\\n\\n\\n\\n\\n\\n\\n\\n\\n\\n\\n\\n\\n\\n\\n\\nCoordinates: 47°22′53″N 8°34′28″E\\ufeff / \\ufeff47.38139°N 8.57444°E\\ufeff / 47.38139; 8.57444\\n\\nFrom Wikipedia, the free encyclopedia\\n\\n\\nInternational governing body of association football\\nThis article is about the association football body. For the video game franchise, see FIFA (video game series). For other uses, see Fifa (disambiguation). For the international governing body that oversees basketball, see FIBA.\\n\\n\\nInternational Association Football FederationFédération internationale de football association(FIFA)LogoMap of the members of FIFA according to their confederationAbbreviationFIFA[1]Founded21\\xa0May 1904; 119 years ago\\xa0(1904-05-21)Founded atParis, FranceTypeSports federationPurposeSport governanceHeadquartersZürich, SwitzerlandCoordinates47°22′53″N 8°34′28″E\\ufeff / \\ufeff47.38139°N 8.57444°E\\ufeff / 47.38139; 8.57444Region served WorldwideMembership  211 national associationsPresidentGianni InfantinoSenior Vice-PresidentSalman bin Ibrahim Al Khalifa (AFC)Vice-Presidents\\nAlejandro Domínguez (CONMEBOL)\\nAleksander Čeferin (UEFA)\\nLambert Maltock (OFC)\\nPatrice Motsepe (CAF)\\nVictor Montagliani (CONCACAF)\\nSándor Csányi[2]\\nSecretary GeneralFatma SamouraMain organFIFA CongressSubsidiaries\\nAFC (Asia and Australia)\\nCAF (Africa)\\nCONCACAF (North America)\\nCONMEBOL (South America)\\nOFC (Oceania)\\nUEFA (Europe)\\nAffiliationsInternational Olympic CommitteeInternational Football Association BoardStaff  700+WebsiteFIFA.com\\nThe Fédération internationale de football association (French for \\'International Association Football Federation\\';[3] abbreviated as FIFA and pronounced in English as /ˈfiːfə/) is the international governing body of association football, beach soccer, and futsal. It was founded in 1904[4] to oversee international competition among the national associations of Belgium, Denmark, France, Germany, the Netherlands, Spain, Sweden and Switzerland. Headquartered in Zürich, Switzerland, its membership now comprises 211 national associations. These national associations must also be members of one of the six regional confederations into which the world is divided: CAF (Africa), AFC (Asia and Australia), UEFA (Europe), CONCACAF (North & Central America and the Caribbean), OFC (Oceania) and CONMEBOL (South America). It is most notable for the FIFA World Cup, held every four years.\\nFIFA outlines several objectives in its organizational statutes, including growing association football internationally, providing efforts to ensure it is accessible to everyone, and advocating for integrity and fair play.[5] It is responsible for the organization and promotion of association football\\'s major international tournaments, notably the World Cup which commenced in 1930, and the Women\\'s World Cup which began in 1991. Although FIFA does not solely set the laws of the game, that being the responsibility of the International Football Association Board of which FIFA is a member, it applies and enforces the rules across all FIFA competitions.[6] All FIFA tournaments generate revenue from sponsorships; in 2022, FIFA had revenues of over US $5.8\\xa0billion, ending the 2019–2022 cycle with a net positive of US$1.2\\xa0billion, and had cash reserves of over US$3.9\\xa0billion.[7]\\nReports by investigative journalists have linked FIFA leadership with corruption, bribery, and vote-rigging related to the election of FIFA president Sepp Blatter and the organization\\'s decision to award the 2018 and 2022 World Cups to Russia and Qatar, respectively. These allegations led to the indictments of nine high-ranking FIFA officials and five corporate executives by the U.S. Department of Justice on charges including racketeering, wire fraud, and money laundering. On 27 May 2015, several of these officials were arrested by Swiss authorities, who launched a simultaneous but separate criminal investigation into how the organization awarded the 2018 and 2022 World Cups. Those among these officials who were also indicted in the U.S. are expected to be extradited to face charges there as well.[8][9][10]\\nMany officials were suspended by FIFA\\'s ethics committee including Sepp Blatter[11] and Michel Platini.[12] In early 2017, reports became public about FIFA president Gianni Infantino attempting to prevent the re-elections[13] of both chairmen of the ethics committee, Cornel Borbély and Hans-Joachim Eckert, during the FIFA congress in May 2017.[14][15] On 9 May 2017, following Infantino\\'s proposal,[16] FIFA Council decided not to renew the mandates of Borbély and Eckert.[16] Together with the chairmen, 11 of 13 committee members were removed. FIFA has been suspected of corruption regarding the Qatar 2022 FIFA World Cup.[17]\\n\\n\\nHistory[edit]\\nMain article: History of FIFA\\nThe need for a single body to oversee association football became increasingly apparent at the beginning of the 20th century with the increasing popularity of international fixtures. The Fédération Internationale de Football Association (FIFA) was founded in the rear of the headquarters of the Union des Sociétés Françaises de Sports Athlétiques (USFSA) at the Rue Saint Honoré 229 in Paris on 21 May 1904.[18] The French name and acronym are used even outside French-speaking countries. The founding members were the national associations of Belgium, Denmark, France, the Netherlands, Spain (represented by then-Madrid Football Club; the Royal Spanish Football Federation was not created until 1913), Sweden and Switzerland.\\nAlso, that same day, the German Football Association (DFB) declared its intention to affiliate through a telegram.[1]\\nThe first president of FIFA was Robert Guérin. Guérin was replaced in 1906 by Daniel Burley Woolfall from England, by then a member of the association. The first tournament FIFA staged, the association football competition for the 1908 Olympics in London was more successful than its Olympic predecessors, despite the presence of professional footballers, contrary to the founding principles of FIFA.[19][20][21][22]\\nMembership of FIFA expanded beyond Europe with the application of South Africa in 1909, Argentina in 1912, Canada and Chile in 1913, and the United States in 1914.[23]\\nThe 1912 Spalding Athletic Library \"Official Guide\" includes information on the 1912 Olympics (scores and stories), AAFA, and FIFA. The 1912 FIFA President was Dan B Woolfall.[24] Daniel Burley Woolfall was president from 1906 to 1918.[25]\\nDuring World War I, with many players sent off to war and the possibility of travel for international fixtures severely limited, the organization\\'s survival was in doubt. Post-war, following the death of Woolfall, the organization was run by Dutchman Carl Hirschmann. It was saved from extinction but at the cost of the withdrawal of the Home Nations (of the United Kingdom), who cited an unwillingness to participate in international competitions with their World War enemies. The Home Nations later resumed their membership.The FIFA collection is held by the National Football Museum at Urbis in Manchester, England.[26] The first World Cup was held in 1930 in Montevideo, Uruguay.[26]\\n\\nIdentity[edit]\\nFlag[edit]\\nFédération internationale de football associationUseSport Proportion3:5Adopted2018; 5\\xa0years ago\\xa0(2018)DesignBlue field with a FIFA logo\\n\\nThe FIFA flag is blue, with the organization\\'s wordmark logo in the middle. The current FIFA flag was first flown during the 2018 FIFA World Cup opening ceremony in Moscow, Russia, and has been used ever since.[27]\\n\\nAnthem[edit]\\nMain article: FIFA Anthem\\nAkin to the UEFA Champions League, FIFA has adopted an anthem composed by the German composer Franz Lambert since the 1994 FIFA World Cup. It has been re-arranged and produced by Rob May and Simon Hill.[28][29] The FIFA Anthem is played at the beginning of official FIFA sanctioned matches and tournaments such as international friendlies, the FIFA World Cup, FIFA Women\\'s World Cup, FIFA U-20 World Cup, FIFA U-17 World Cup, Football at the Summer Olympics, FIFA U-20 Women\\'s World Cup, FIFA Women\\'s U-17 World Cup, FIFA Futsal World Cup, FIFA Beach Soccer World Cup and FIFA Club World Cup.[30]\\nSince 2007, FIFA has also required most of its broadcast partners to use short sequences including the anthem at the beginning and end of FIFA event coverage and for break bumpers to help promote FIFA\\'s sponsors. This emulates practices long used by international football events, such as the UEFA Champions League. Exceptions may be made for specific circumstances; for example, an original piece of African music was used for bumpers during the 2010 FIFA World Cup.[31]\\n\\nPresidents[edit]\\nMain article: List of presidents of FIFA\\nPresidents of FIFA[edit]\\n\\n\\nNo\\nName\\nCountry\\nTook office\\nLeft office\\nNote\\n\\n\\n1\\nRobert Guérin\\n\\xa0France\\n23 May 1904\\n4 June 1906\\n\\n\\n\\n2\\nDaniel Burley Woolfall\\n\\xa0United Kingdom\\n4 June 1906\\n24 October 1918\\nDied in office\\n\\n\\n—\\nCornelis August Wilhelm Hirschman\\n\\xa0Netherlands\\n24 October 1918\\n1920\\nActing\\n\\n\\n3\\nJules Rimet\\n\\xa0France\\n1 March 1921\\n21 June 1954\\n\\n\\n\\n4\\nRodolphe Seeldrayers\\n\\xa0Belgium\\n21 June 1954\\n7 October 1955\\nDied in office\\n\\n\\n5\\nArthur Drewry\\n\\xa0United Kingdom\\n9 June 1956\\n25 March 1961\\nDied in office\\n\\n\\n—\\nErnst Thommen\\n\\xa0\\xa0Switzerland\\n25 March 1961\\n28 September 1961\\nActing\\n\\n\\n6\\nStanley Rous\\n\\xa0United Kingdom\\n28 September 1961\\n8 May 1974\\n\\n\\n\\n7\\nJoão Havelange\\n\\xa0Brazil\\n8 May 1974\\n8 June 1998\\n\\n\\n\\n8\\nSepp Blatter\\n\\xa0\\xa0Switzerland\\n8 June 1998\\n8 October 2015\\nImpeached\\n\\n\\n—\\nIssa Hayatou\\n\\xa0Cameroon\\n8 October 2015\\n26 February 2016\\nActing\\n\\n\\n9\\nGianni Infantino\\n\\xa0Italy  \\xa0\\xa0Switzerland\\n26 February 2016\\nIncumbent\\n\\n\\nStructure[edit]\\nMain article: Geography of association football\\n\\n\\nSix confederations and 211 national associations[edit]\\nFIFA confederations\\nAFC, CAF, CONCACAF\\n\\nCONMEBOL, OFC, UEFA\\nvte\\nBesides its worldwide institutions, there are six confederations recognized by FIFA which oversee the game in the different continents and regions of the world. National associations, and not the continental confederations, are members of FIFA. The continental confederations are provided for in FIFA\\'s statutes, and membership of a union is a prerequisite to FIFA membership.\\n\\nAsian Football Confederation (AFC; 47 members)[a]\\nConfederation of African Football (CAF; 56 members)\\nConfederation of North, Central American and Caribbean Association Football (CONCACAF; 41 members)[b]\\nConfederación Sudamericana de Fútbol (CONMEBOL; 10 members)\\nOceania Football Confederation (OFC; 13 members)[a]\\nUnion of European Football Associations (UEFA; 55 members)[c]\\nIn total, FIFA recognizes 211 national associations and their associated men\\'s national teams as well as 129 women\\'s national teams; see the list of national football teams and their respective country codes. The number of FIFA member associations is higher than the number of UN member states as FIFA has admitted associations from 23 non-sovereign entities as members in their own right, such as the four Home Nations within the United Kingdom and the two special administrative regions of China: Hong Kong and Macau.\\nOn 28 February 2022, FIFA suspended Russia from all competitions because of their violent and forceful invasion of Ukraine. FIFA often suspends countries because of governance interference, corruption, or financial irregularities. It can also be because of doping or other drugs.[32]\\nThe FIFA Men\\'s World Rankings are updated monthly and rank each team based on their performance in international competitions, qualifiers, and friendly matches. There is also a world ranking for women\\'s football, updated four times a year.\\n\\nLaws and governance[edit]\\nFIFA headquarters in Zürich, Switzerland\\nFIFA\\'s headquarters is in Zürich, and it is an association established under the law of Switzerland.\\nFIFA\\'s supreme body is the FIFA Congress, an assembly of representatives from each affiliated member association. Each national football association has one vote, regardless of size or footballing strength. The Congress assembles in ordinary sessions once every year, and extraordinary sessions have been held once a year since 1998. Congress makes decisions relating to FIFA\\'s governing statutes and their method of implementation and application. Only Congress can pass changes to FIFA\\'s statutes. The congress approves the annual report and decides on the acceptance of new national associations, and holds elections. Congress elects the President of FIFA, its general secretary, and the other members of the FIFA Council in the year following the FIFA World Cup.[33]\\nFIFA Council – formerly called the FIFA Executive Committee and chaired by the president – is the organization\\'s main decision-making body in the intervals of Congress. The council comprises 37 people: the president; 8 vice presidents; and 28 members from the confederations, with at least one of them being a woman. The executive committee is the body that decides which country will host the World Cup.\\nThe president and the general secretary are the main office holders of FIFA and are in charge of its daily administration, carried out by the general secretariat, with its staff of approximately 280 members. Gianni Infantino is the current president, elected on 26 February 2016 at an extraordinary FIFA Congress session after former president Sepp Blatter was suspended pending a corruption investigation.[34][35]\\nFIFA\\'s worldwide organizational structure also consists of several other bodies under the authority of the FIFA Council or created by Congress as standing committees. Among those bodies are the FIFA Emergency Committee, the FIFA Ethics Committee, the Finance Committee, the Disciplinary Committee, and the Referees Committee.\\nThe FIFA Emergency Committee deals with all matters requiring immediate settlement in the time frame between the regular meetings of the FIFA Council.[36][37] The Emergency Committee consists of the FIFA president as well as one member from each confederation.[38] Emergency Committee decisions made are immediately put into legal effect, although they need to be ratified at the next Executive Committee meeting.[39]\\n\\nAdministrative cost[edit]\\nFIFA publishes its results according to International Financial Reporting Standards. The total compensation for the management committee in 2011 was 30\\xa0 million for 35 people. Blatter, the only full-time person on the committee, earned approximately two million Swiss francs, 1.2\\xa0 million in salary, and the rest in bonuses.[40][41][42] A report in London\\'s The Sunday Times in June 2014 said the members of the committee had their salaries doubled from $100,000 to $200,000 during the year. The report also said leaked documents had indicated $4.4\\xa0 million in secret bonuses had been paid to the committee members following the 2010 FIFA World Cup in South Africa.[43]\\n\\nGovernance[edit]\\nThis section needs additional citations for verification. Please help improve this article by adding citations to reliable sources in this section. Unsourced material may be challenged and removed. (May 2017) (Learn how and when to remove this template message)\\nMain article: Laws of the Game (association football)\\nThe laws that govern football known officially as the Laws of the Game, are not solely the responsibility of FIFA; they are maintained by a body called the International Football Association Board (IFAB). FIFA has members on its board (four representatives); the other four are provided by the football associations of the United Kingdom: England, Scotland, Wales, and Northern Ireland, who jointly established IFAB in 1882 and are recognized for the creation and history of the game. Changes to the Laws of the Game must be agreed upon by at least six delegates.\\nThe FIFA Statutes form the overarching document guiding FIFA\\'s governing system. The governing system is divided into separate bodies with the appropriate powers to create a system of checks and balances. It consists of four general bodies: the Congress, the executive committee, the general Secretariat, and standing and ad hoc committees.[44]\\n\\nDiscipline of national associations[edit]\\nFIFA frequently takes active roles in the running of the sport and developing the game around the world. One of its sanctions is to suspend teams and associated members from international competition when a government interferes in the running of FIFA\\'s associate member organizations or if the associate is not functioning correctly.\\nA 2007 FIFA ruling that a player can be registered with a maximum of three clubs and appear in official matches for a maximum of two in a year measured from 1 July to 30 June has led to controversy, especially in those countries whose seasons cross that date barrier, as in the case of two former Ireland internationals. As a direct result of this controversy, FIFA modified this ruling the following year to accommodate transfers between leagues with out-of-phase seasons.\\n\\nVideo replay and goal-line technology[edit]\\nSee also: Goal-line technology and Video assistant referee\\nFIFA now permits the use of video evidence during matches, as well as for subsequent sanctions. However, for most of FIFA\\'s history it stood opposed to its use.[45] The 1970 meeting of the International Football Association Board \"agreed to request the television authorities to refrain from any slow-motion play-back which reflected, or might reflect, adversely on any decision of the referee\".[46] As recently as 2008 FIFA president Sepp Blatter said: \"Let it be as it is and let\\'s leave [football] with errors. The television companies will have the right to say [the referee] was right or wrong, but still, the referee makes the decision – a man, not a machine.\"[47] This stance was finally overturned on 3 March 2018, when the IFAB wrote video assistant referees (also known as VARs) into the Laws of the Game permanently.[48] Their use remains optional for competitions.\\nIn early July 2012 FIFA sanctioned the use of goal-line technology, subject to rules specified by the International Football Association Board (IFAB), who had officially approved its use by amending the Laws of the Game to permit (but not require) its use.[49][50] This followed a high-profile incident during a second-round game in the 2010 FIFA World Cup between England and Germany, where a shot by Englishman Frank Lampard, which would have levelled the scores at 2–2 in a match that ultimately ended in a 4–1 German victory, crossed the line but was not seen to do so by the match officials, which led FIFA officials to declare that they would re-examine the use of goal-line technology.[51]\\n\\nControversy[edit]\\nThis article\\'s Criticism or Controversy section may compromise the article\\'s neutrality by separating out potentially negative information. Please integrate the section\\'s contents into the article as a whole, or rewrite the material. (February 2022)\\nOn 28 February 2022, due to the 2022 Russian invasion of Ukraine and by a recommendation by the International Olympic Committee (IOC), FIFA suspended the participation of Russia.[52][53]  The Russian Football Union unsuccessfully appealed the FIFA ban to the Court of Arbitration for Sport, which upheld the ban.[54] Some observers, while approving of the boycott of Russia, have pointed out that FIFA did not boycott Saddam Hussein\\'s Iraq as an aggressor during the Iran–Iraq War,[55] Saudi Arabia for its military intervention in Yemen,[56] Qatar for its human rights violations,[57][58] or the United States for the actions of the U.S. military during the Iraq War.[59] However, this full ban was partially lifted in October 2023 when it was decided that their men\\'s and women\\'s U-17 teams were allowed to return to international competitions. \\nFIFA previously banned Indonesia due to government intervention within the team. FIFA requires members to play “with no influence from third parties.”[60]\\n\\nRecognition and awards[edit]\\nFIFA holds an annual awards ceremony, The Best FIFA Football Awards since 2016, which recognizes both individual and team achievements in international association football. Individually, the top men\\'s player is awarded The Best FIFA Men\\'s Player, and the top women\\'s player is The Best FIFA Women\\'s Player. Other prominent awards are The Best FIFA Football Coach and FIFA FIFPro World11.\\nIn 2000, FIFA presented two awards, FIFA Club of the Century and FIFA Player of the Century, to decide the greatest football club and player of the 20th century. Real Madrid was the club winner, while Diego Maradona and Pelé were the joint player\\'s winners.\\n\\nFIFA competitions[edit]\\nSee also: List of association football competitions and FIFA International Match Calendar\\n\\n\\n\\n\\nNational teams[edit]\\nMen\\'s\\n\\nFIFA World Cup\\nMen\\'s Olympic Football Tournament (U-23)\\nFIFA U-20 World Cup\\nFIFA U-17 World Cup\\nFIFA World Series\\nFIFA Futsal World Cup\\nMen\\'s Youth Olympic Futsal Tournament (U-18)\\nFIFA Beach Soccer World Cup\\nFIFA Arab Cup (senior teams of the UAFA (Arab world))\\nWomen\\'s\\n\\nFIFA Women\\'s World Cup\\nWomen\\'s Olympic Football Tournament\\nFIFA U-20 Women\\'s World Cup\\nFIFA U-17 Women\\'s World Cup\\nFIFA Women\\'s Futsal World Cup\\nWomen\\'s Youth Olympic Futsal Tournament (U-18)\\n\\n\\nClubs[edit]\\nMen\\'s\\n\\nFIFA Club World Cup\\nFuture annual FIFA club competition\\nFIFA Youth Cup\\nWomen\\'s\\n\\nFIFA Women\\'s Club World Cup\\nFIFA Youth Cup\\n\\n\\neSports[edit]\\nIndividual\\n\\nFIFAe World Cup\\nTeam\\n\\nFIFAe Club World Cup (FIFAe Club Series)\\nFIFAe Nations Cup (FIFAe Nations Series)\\nFIFAe Continental Cup\\nFormer tournaments[edit]\\nFIFA Confederations Cup\\nThe hosts of all Senior Association Football FIFA World Cups, including both men\\'s and women\\'s, as of 2014\\n\\n\\n\\nCurrent title holders[edit]\\nSee also: Portal:Current events/Sports, 2023 in association football, 2023 in sports, and FIFA International Match Calendar\\nFor events postponed or cancelled because of the COVID-19 pandemic, see Impact of the COVID-19 pandemic on sports.\\n\\n\\nCompetition\\n\\n\\n\\nCurrent\\n\\nChampions\\n\\nDetails\\n\\nRunners-up\\n\\n\\n\\nNext[61]\\n\\n\\nNational teams\\n\\n\\nFIFA World Cup (qualification)\\n\\n\\n\\n2022 (qual.)\\n\\nArgentina\\xa0\\n\\nFinal\\n\\n\\xa0France\\n\\n\\n\\n2026 (qual.)\\n\\n\\nMen\\'s Olympic Football Tournament(U-23)\\n\\n2020 (qual.)\\n\\nBrazil\\xa0\\n\\nFinal\\n\\n Spain\\n\\n2024 (qual.)\\n\\n\\nFIFA U-20 World Cup\\n\\n2023 (qual.)\\n\\nUruguay\\xa0\\n\\nFinal\\n\\n\\xa0Italy\\n\\n2025 (qual.)\\n\\n\\nFIFA U-17 World Cup\\n\\n2019 (qual.)\\n\\nBrazil\\xa0\\n\\nFinal\\n\\n\\xa0Mexico\\n\\n2023 (qual.)\\n\\n\\nFIFA Futsal World Cup\\n\\n2021 (qual.)\\n\\nPortugal\\xa0\\n\\nFinal\\n\\n\\xa0Argentina\\n\\n2024 (qual.)\\n\\n\\nMen\\'s Youth Olympic Futsal Tournament(U-20)\\n\\n2018\\n\\nBrazil\\xa0\\n\\nFinal\\n\\n\\xa0Russia\\n\\n2026\\n\\n\\nFIFA Beach Soccer World Cup(see BSWW)\\n\\n2021 (qual.)\\n\\nRussia\\xa0\\n\\nFinal\\n\\n\\xa0Japan\\n\\n2023 (qual.)\\n\\n\\nFIFA Arab Cup(senior teams of the UAFA (Arab world))\\n\\n2021 (qual.)\\n\\nAlgeria\\xa0\\n\\nFinal\\n\\n\\xa0Tunisia\\n\\nTBA\\n\\n\\nWomen\\'s national teams\\n\\n\\nFIFA Women\\'s World Cup (qualification)\\n\\n\\n\\n2023 (qual.)\\n\\nSpain\\xa0\\n\\nFinal\\n\\n\\xa0England\\n\\n\\n\\n2027 (qual.)\\n\\n\\nWomen\\'s Olympic Football Tournament\\n\\n2021 (qual.)\\n\\nCanada\\xa0\\n\\nFinal\\n\\n\\xa0Sweden\\n\\n2024 (qual.)\\n\\n\\nFIFA U-20 Women\\'s World Cup\\n\\n2022 (qual.)\\n\\nSpain\\xa0\\n\\nFinal\\n\\n\\xa0Japan\\n\\n2024 (qual.)\\n\\n\\nFIFA U-17 Women\\'s World Cup\\n\\n2022 (qual.)\\n\\nSpain\\xa0\\n\\nFinal\\n\\n\\xa0Colombia\\n\\n2024 (qual.)\\n\\n\\nFIFA Women\\'s Futsal World Cup\\n\\n—\\n\\n—\\n\\n—\\n\\n—\\n\\n2025\\n\\n\\nWomen\\'s Youth Olympic Futsal Tournament(U-20)\\n\\n2018\\n\\nPortugal\\xa0\\n\\nFinal\\n\\n\\xa0Japan\\n\\n2026\\n\\n\\nClub teams\\n\\n\\nFIFA Club World Cup\\n\\n\\n\\n2022 (qual.)\\n\\nReal Madrid \\n\\nFinal\\n\\n Al-Hilal\\n\\n\\n\\n2023 (qual.)\\n\\n\\nBlue Stars/FIFA Youth Cup\\n\\n2023\\n\\nZürich \\n\\nFinal\\n\\n Corinthians\\n\\n2024\\n\\n\\nWomen\\'s club teams\\n\\n\\nFIFA Women\\'s Club World Cup\\n\\n\\n\\n—\\n\\n—\\n\\n—\\n\\n—\\n\\n\\n\\nTBA\\n\\n\\nBlue Stars/FIFA Youth Cup\\n\\n\\n\\n2023\\n\\nVancouver Whitecaps \\n\\nFinal\\n\\n Basel\\n\\n\\n\\n2024\\n\\nEsports[edit]\\nSee also: Portal:Current events/Sports, 2023 in esports, and 2023 in sports\\n\\n\\nCompetition\\n\\n\\n\\nSeason\\n\\nWinner(Player/Gamer ID)\\n\\nDetails\\n\\nRunner-up(Player/Gamer ID)\\n\\n\\n\\nSeason[61]\\n\\n\\nEsports\\n\\n\\nFIFAe World Cup\\n\\n\\n\\n2022[62]\\n\\n/Umut Gültekin Umut\\n\\nFinal\\n\\n Nicolas Villalba/Nicolas99FC\\n\\n\\n\\n2023[63]\\n\\n\\nFIFAe Club World Cup(part of the FIFAe Club Series)\\n\\n2022[64]\\n\\nRiders \\n\\nFinal\\n\\n SAF\\n\\n2023[65]\\n\\n\\nFIFAe Nations Series(part of the FIFAe Nations Cup)\\n\\n2023[66]\\n\\nBrazil \\n(Paulo Henrique Chaves)(Pedro Henrique Soares)(Paulo Neto)\\n\\n\\nFinal\\n\\n Netherlands\\n(Levi de Weerd)(Manuel Bachoore)(Emre Yilmaz)\\n\\n\\n2024\\n\\n\\nFIFAe Continental Cup\\n\\n2022[67]\\n\\nProGamer \\n\\nFinal\\n\\n Crazy Win\\n\\n2023[68]\\n\\nFIFA World Rankings[edit]\\nFurther information: FIFA World Rankings and FIFA Women\\'s World Rankings\\n\\n\\n\\n\\nMen\\'s[edit]\\nThe following table has the Top 20 ranked men\\'s football countries worldwide.[69]\\n\\n\\n\\nTop 20 rankings as of 21 September 2023[70]\\n\\n\\nRank\\n\\nChange\\n\\nTeam\\n\\nPoints\\n\\n\\n1\\n\\n\\n\\xa0Argentina\\n1851.41\\n\\n\\n2\\n\\n\\n\\xa0France\\n1840.76\\n\\n\\n3\\n\\n\\n\\xa0Brazil\\n1837.61\\n\\n\\n4\\n\\n\\n\\xa0England\\n1794.34\\n\\n\\n5\\n\\n\\n\\xa0Belgium\\n1792.64\\n\\n\\n6\\n\\n\\n\\xa0Croatia\\n1747.83\\n\\n\\n7\\n\\n\\n\\xa0Netherlands\\n1743.15\\n\\n\\n8\\n 1\\n\\n\\xa0Portugal\\n1728.58\\n\\n\\n9\\n 1\\n\\n\\xa0Italy\\n1727.37\\n\\n\\n10\\n\\n\\n\\xa0Spain\\n1710.72\\n\\n\\n11\\n\\n\\n\\xa0United States\\n1678.71\\n\\n\\n12\\n\\n\\n\\xa0Mexico\\n1661.46\\n\\n\\n13\\n 1\\n\\n\\xa0Morocco\\n1658.32\\n\\n\\n14\\n 1\\n\\n\\xa0\\xa0Switzerland\\n1654.11\\n\\n\\n15\\n\\n\\n\\xa0Germany\\n1637.9\\n\\n\\n16\\n 1\\n\\n\\xa0Colombia\\n1629.6\\n\\n\\n17\\n 1\\n\\n\\xa0Uruguay\\n1626.51\\n\\n\\n18\\n 1\\n\\n\\xa0Denmark\\n1606.84\\n\\n\\n19\\n 1\\n\\n\\xa0Japan\\n1605.2\\n\\n\\n20\\n 2\\n\\n\\xa0Senegal\\n1597.01\\n\\n\\n*Change from 20 July 2023\\n\\n\\nComplete rankings at FIFA.com\\n\\n\\n\\n\\n\\nWomen\\'s[edit]\\nThe following table has the Top 20 ranked women\\'s football countries in the world.[71]\\n\\n\\n\\nTop 20 rankings as of 25 August 2023[72]\\n\\n\\nRank\\n\\nChange\\n\\nTeam\\n\\nPoints\\n\\n\\n1\\n 2\\n\\n\\xa0Sweden\\n2069.17\\n\\n\\n2\\n 4\\n\\n\\xa0Spain\\n2051.84\\n\\n\\n3\\n 2\\n\\n\\xa0United States\\n2051.21\\n\\n\\n4\\n\\n\\n\\xa0England\\n2030.14\\n\\n\\n5\\n\\n\\n\\xa0France\\n2004.17\\n\\n\\n6\\n 4\\n\\n\\xa0Germany\\n1987.67\\n\\n\\n7\\n 2\\n\\n\\xa0Netherlands\\n1984.5\\n\\n\\n8\\n 3\\n\\n\\xa0Japan\\n1961.35\\n\\n\\n9\\n 1\\n\\n\\xa0Brazil\\n1949.41\\n\\n\\n10\\n 3\\n\\n\\xa0Canada\\n1944.84\\n\\n\\n11\\n 1\\n\\n\\xa0Australia\\n1882.88\\n\\n\\n12\\n 1\\n\\n\\xa0Denmark\\n1859.47\\n\\n\\n13\\n 1\\n\\n\\xa0Norway\\n1856.45\\n\\n\\n14\\n 1\\n\\n\\xa0Iceland\\n1851.05\\n\\n\\n15\\n 1\\n\\n\\xa0China\\n1819.59\\n\\n\\n16\\n 2\\n\\n\\xa0Austria\\n1806.84\\n\\n\\n17\\n 1\\n\\n\\xa0Italy\\n1795.18\\n\\n\\n18\\n 1\\n\\n\\xa0Belgium\\n1793.53\\n\\n\\n19\\n 2\\n\\n\\xa0Portugal\\n1785.78\\n\\n\\n20\\n 3\\n\\n\\xa0South Korea\\n1773.93\\n\\n\\n*Change from 9 June 2023\\n\\n\\nComplete rankings at FIFA.com\\n\\n\\n\\n\\nSponsors of FIFA[edit]\\nAs of April 2023\\nFIFA Partner[edit]\\nAdidas[73]\\nCoca-Cola[74]\\nHyundai/Kia Motors[75]\\nQatar Airways[76]\\nQatarEnergy[77]\\nVisa[78]\\nWanda Group[79]\\nFIFA+[edit]\\nIn April 2022 FIFA launched FIFA+,[80] an OTT service providing up to 40,000 live matches per year, including 11,000 women\\'s matches.[81] It was also confirmed that FIFA would make available archival content, including every FIFA World Cup and FIFA Women\\'s World Cup match recorded on camera,[82] together with original documentary content.[83] Eleven Sports was later reported to be responsible for populating the FIFA+ platform with live matches.[84]\\nFIFA+ will show the 2023 FIFA Women\\'s World Cup live in certain territories, including Japan, Brazil, Indonesia, and Thailand.\\n\\nFIFA Innovation Programme[edit]\\n2021-23 Members:\\n\\nPlayermaker\\nAiSCOUT\\nVivaturf[85]\\nHUMANOX[86]\\nVieww[87]\\nCorruption[edit]\\nMain article: 2015 FIFA corruption case\\nIn May 2006, British investigative reporter Andrew Jennings\\' book Foul! The Secret World of FIFA: Bribes, Vote-Rigging, and Ticket Scandals (HarperCollins) caused controversy within the football world by detailing an alleged international cash-for-contracts scandal following the collapse of FIFA\\'s marketing partner International Sport and Leisure (ISL) and revealed how some football officials had been urged to secretly repay the sweeteners they received. The book also alleged that vote-rigging had occurred in the fight for Sepp Blatter\\'s continued control of FIFA as the organization\\'s president. Shortly after the release of Foul! a BBC Panorama exposé by Jennings and BBC producer Roger Corke, screened on 11 June 2006, reported that Blatter was being investigated by Swiss police over his role in a secret deal to repay more than £1m worth of bribes pocketed by football officials. Lord Triesman, the former chairman of the English Football Association, described FIFA as an organization that \"behaves like a mafia family,\" highlighting the organization\\'s \"decades-long traditions of bribes, bungs, and corruption.\"[88]\\nAll testimonies offered in the Panorama exposé were provided through a disguised voice, appearance, or both, save one: Mel Brennan, a former CONCACAF official, became the first high-level football insider to go public with substantial allegations of corruption, nonfeasance, and malfeasance by CONCACAF and FIFA leadership. Brennan—the highest-level African-American in the history of world football governance—joined Jennings, Trinidadian journalist Lisana Liburd, and many others in exposing allegedly inappropriate allocations of money by CONCACAF and drew connections between ostensible CONCACAF criminality and similar behaviors at FIFA. Since then, and in the light of fresh allegations of corruption by FIFA in late 2010,[89] both Jennings and Brennan remain highly critical of FIFA. Brennan has called directly for an alternative to FIFA to be considered by the stakeholders of the sport worldwide.[90]\\nIn a further Panorama exposé broadcast on 29 November 2010, Jennings alleged that three senior FIFA officials, Nicolas Leoz, Issa Hayatou and Ricardo Teixeira, had been paid huge bribes by ISL between 1989 and 1999, which FIFA had failed to investigate. Jennings claimed they appeared on a list of 175 bribes paid by ISL, totaling about $100\\xa0 million. A former ISL executive said there were suspicions within the company that they were only awarded the marketing contract for successive World Cups by paying bribes to FIFA officials. The program also alleged that another current official, Jack Warner, has been repeatedly involved in reselling World Cup tickets to touts; Blatter said that FIFA had not investigated the allegation because it had not been told about it via \\'official channels.\\'\\nPanorama also alleged that FIFA requires nations bidding to host the World Cup to agree to implement special laws, including a blanket tax exemption for FIFA and its corporate sponsors and limitation of workers rights. Contrary to FIFA\\'s demands, these conditions were revealed by the Dutch government, resulting in them being told by FIFA that their bid could be adversely affected. Following Jennings\\' earlier investigations, he was banned from all FIFA press conferences for reasons he claimed had not been made clear. The accused officials failed to answer questions about his latest allegations verbally or by letter.\\nPrime Minister David Cameron and Andy Anson, head of England\\'s World Cup bid, criticized the timing of the broadcast three days before FIFA decided on the host for the 2018 FIFA World Cup, because it might damage England\\'s bid; the voters included officials accused by the program.[91][92]\\nIn June 2011, it came to light that the International Olympic Committee had started inquiry proceedings against FIFA honorary president João Havelange into claims of bribery. Panorama alleged that Havelange accepted a $1\\xa0million \\'bung\\' in 1997 from ISL. The IOC stated that it \"takes all allegations of corruption very seriously, and we would always ask for any evidence of wrongdoing involving any IOC members to be passed to our ethics commission\".[93]\\nIn a 2014 interview, American sportswriter Dave Zirin said that corruption is endemic to FIFA leadership and that the organization should be abolished for the game\\'s good. He said that currently, FIFA is in charge of both monitoring corruption in association football matches and marketing and selling the sport, but that two \"separate\" organizational bodies are needed: an organizational body that monitors corruption and match-fixing and the like and an organization that\\'s responsible for marketing and sponsorships and selling the sport. Zirin said the idea of having a single organization responsible for both seems highly ineffective and detrimental to the sport.[94]\\nIn May 2015, 14 people were arrested, including nine FIFA officials, after being accused of corruption.[95]\\nIn the 2022 World Cup bid, Qatar was honored to host the World Cup.  Since then it has been discovered that Qatar paid as much as 200 billion dollars to host the World Cup. This information was discovered by the Tass news agency in Russia.[96]\\n\\nGuilty pleas[edit]\\nBetween 2013 and 2015 four individuals, and two sports television rights corporations pleaded guilty to United States financial misconduct charges. The pleas of Chuck Blazer, José Hawilla, Daryan Warner, Darrell Warner, Traffic Group and Traffic Sports USA were unsealed in May 2015.[9] In another 2015 case, Singapore also imposed a 6-year \"harshest sentence ever received for match-fixing\" on match-fixer Eric Ding who had bribed three Lebanese FIFA football officials with prostitutes as an inducement to fix future matches that they would officiate, as well as perverting the course of justice.[97]\\n\\nIndictments and arrests[edit]\\nFourteen FIFA officials and marketing executives were indicted by the United States Department of Justice in May 2015. The officials were arrested in Switzerland and are in the process of extradition to the US. Specific charges (brought under the RICO act) include wire fraud, racketeering, and money laundering.[98]\\n\"Swiss authorities say they have also opened a separate criminal investigation into FIFA\\'s operations pertaining to the 2018 and 2022 World Cup bids\".[99]\\nFIFA\\'s top officials were arrested at a hotel in Switzerland on suspicion of receiving bribes totaling $100m (£65m). The US Department of Justice stated that nine FIFA officials and four executives of sports management companies were arrested and accused of over $150m in bribes.[100] The UK Shadow Home Secretary and Labour Member of Parliament, Andy Burnham, stated in May 2015 that England should boycott the 2018 World Cup against corruption in FIFA and military aggression by Russia.[101]\\n\\n2018 and 2022 World Cup bids[edit]\\nFurther information: 2018 and 2022 FIFA World Cup bids and Garcia Report\\nFIFA\\'s choice to award the 2018 World Cup to Russia and the 2022 World Cup to Qatar has been widely criticized by media.[102][103][104][105] It has been alleged that some FIFA inside sources insist that the Russian kickbacks of cash and gifts given to FIFA executive members were enough to secure the Russian 2018 bid weeks before the result was announced.[106] Sepp Blatter was widely criticized in the media for giving a warning about the \"evils of the media\" in a speech to FIFA executive committee members shortly before they voted on the hosting of the 2018 World Cup, a reference to The Sunday Times exposés,[107] and the Panorama investigation.[108]\\nTwo members of FIFA\\'s executive committee were banned from all football-related activity in November 2010 for allegedly offering to sell their votes to undercover newspaper reporters. In early May 2011, a British parliamentary inquiry into why England failed to secure the 2018 finals was told by a member of parliament, Damian Collins, that there was evidence from The Sunday Times newspaper that Issa Hayatou of Cameroon and Jacques Anouma of Ivory Coast were paid by Qatar. Qatar has categorically denied the allegations, as have Hayatou and Anouma.[109]\\nFIFA president Blatter said, as of 23\\xa0May\\xa02011[update], that the British newspaper The Sunday Times has agreed to bring its whistle-blowing source to meet senior FIFA officials, who will decide whether to order a new investigation into alleged World Cup bidding corruption. \"[The Sunday Times] are happy, they agreed that they will bring this whistleblower here to Zürich and then we will have a discussion, an investigation of this\", Blatter said.\\nSpecifically, the whistle-blower claims that FIFA executive committee members Issa Hayatou and Jacques Anouma were paid $1.5\\xa0million to vote for Qatar.[110][111] The emirate\\'s bid beat the United States in a final round of voting last December. Blatter did not rule out reopening the 2022 vote if corruption could be proved, but urged taking the matter \"step by step\". The FIFA president said his organization is \"anxiously awaiting\" more evidence before asking its ethics committee to examine allegations made in Britain\\'s Parliament in early May 2011.\\nHayatou, who is from Cameroon, leads the Confederation of African Football and is a FIFA vice president. Anouma is president of Ivorian Football Federation. The whistle-blower said Qatar agreed to pay a third African voter, Amos Adamu, for his support. The Nigerian was later suspended from voting after a FIFA ethics court ruled he solicited bribes from undercover Sunday Times reporters posing as lobbyists. Blatter said the newspaper and its whistle-blower would meet with FIFA secretary general, Jérôme Valcke, and legal director, Marco Villiger.\\nAllegations against FIFA officials have also been made to the UK Parliament by David Triesman, the former head of England\\'s bid and the English Football Association. Triesman told the lawmakers that four long-standing FIFA executive committee members—Jack Warner, Nicolás Leoz, Ricardo Teixeira and Worawi Makudi—engaged in \"improper and unethical\" conduct in the 2018 bidding, which was won by Russia. All six FIFA voters have denied wrongdoing.[112]\\nOn 28 September 2015, Sepp Blatter suggested that the 2018 World Cup being awarded to Russia was planned before the voting, and that the 2022 World Cup would have then been awarded to the United States. However, this plan changed after the election ballot, and the 2022 World Cup was awarded to Qatar instead of the U.S.[113][114]\\nAccording to leaked documents seen by The Sunday Times, Qatari state-run television channel Al Jazeera secretly offered $400\\xa0million to FIFA, for broadcasting rights, just 21 days before FIFA announced that Qatar would hold the 2022 World Cup.[115][116]\\nOn July 17, 2012, in the wake of announced anti-corruption reforms by Sepp Blatter, the president of the FIFA,[117] the organization appointed U.S. lawyer Michael J. Garcia as the chairman of the investigative chamber of FIFA Ethics Committee, while German judge Hans-Joachim Eckert was appointed as the chairman of the Ethics Committee\\'s adjudication chamber.[118]\\nIn August 2012, Garcia declared his intention to investigate the bidding process and decision to respectively award the right to host the 2018 and 2022 FIFA World Cup to Russia and Qatar by the FIFA Executive Committee.[119] Garcia delivered his subsequent 350-page report in September 2014, and Eckert then announced that it would not be made public for legal reasons.[120]\\nOn November 13, 2014, Eckert released a 42-page summary of his findings after reviewing Garcia\\'s report. The summary cleared both Russia and Qatar of any wrongdoing during the bidding for the 2018 and 2022 World Cups,[121] leaving Russia and Qatar free to stage their respective World Cups.[122]\\nFIFA welcomed \"the fact that a degree of closure has been reached,\" while the Associated Press wrote that the Eckert summary \"was denounced by critics as a whitewash.\"[122] Hours after the Eckert summary was released, Garcia himself criticized it for being \"materially incomplete\" with \"erroneous representations of the facts and conclusions,\" while declaring his intention to appeal to FIFA\\'s Appeal Committee.[121] On December 16, 2014, FIFA\\'s Appeal Committee dismissed Garcia\\'s appeal against the Eckert summary as \"not admissible.\" FIFA also stated that Eckert\\'s summary was \"neither legally binding nor appealable.\"[123] A day later, Garcia resigned from his role as FIFA ethics investigator in protest of FIFA\\'s conduct, citing a \"lack of leadership\" and lost confidence in the independence of Eckert from FIFA.[124] In June 2015, Swiss authorities claimed the report was of \"little value\".[125]\\nIn November 2022, the FIFA officials told players not to get involved in politics but focus on sports when they are in Qatar.[126] A few weeks earlier, the football associations and players of Denmark and Australia criticized Qatar for this.[127][128]\\n\\n2011 FIFA presidential election[edit]\\nFIFA announced on 25 May 2011 that it had opened the investigation to examine the conduct of four officials—Mohamed Bin Hammam and Jack Warner, along with Caribbean Football Union (CFU) officials Debbie Minguell and Jason Sylvester—in relation to claims made by executive committee member, Chuck Blazer.[129][130][131] Blazer, who was at the time, the general secretary of the CONCACAF confederation, has alleged that violations were committed under the FIFA code of ethics during a meeting organized by Bin Hammam and Warner on 10 and 11 May—the same time Lord Triesman had accused Warner of demanding money for a World Cup 2018 vote—in relation to the 2011 FIFA presidential election,[132] in which Bin Hammam, who also played a key role in the Qatar 2022 FIFA World Cup bid, allegedly offered financial incentives for votes cast in his favour during the presidential election.\\nAs a result of the investigation both Bin Hammam and Warner were suspended.[133] Warner reacted to his suspension by questioning Blatter\\'s conduct and adding that FIFA secretary general, Jérôme Valcke, had told him via e-mail that Qatar had bought the 2022 World Cup.[134][135] Valcke subsequently issued a statement denying he had suggested it was bribery, saying instead that the country had \"used its financial muscle to lobby for support\". Qatar officials denied any impropriety.[136] Bin Hammam also responded by writing to FIFA, protesting unfair treatment in suspension by the FIFA Ethics Committee and FIFA administration.[137]\\nFurther evidence emerged of alleged corruption. On 30 May 2011, Fred Lunn, vice-president of the Bahamas Football Association, said that he was given $40,000 in cash[138] as an incitement to vote for FIFA presidential candidate, Mohamed bin Hammam. In addition, on 11 June 2011 Louis Giskus, president of the Surinamese Football Association, alleged that he was given $40,000 in cash for \"development projects\" as an incentive to vote for Bin Hammam.[139]\\n\\nResponse to allegations[edit]\\nAfter being re-elected as president of FIFA, Sepp Blatter responded to the allegations by promising to reform FIFA in wake of the bribery scandal, with Danny Jordaan, CEO of the 2010 FIFA World Cup in South Africa, saying there is great expectation for reform.[140] Former US Secretary of State Henry Kissinger is being tipped for a role on the newly proposed \\'Solutions Committee\\', and former Netherlands national football team player Johan Cruyff was also being linked with a role.[135][141]\\nUEFA secretary-general Gianni Infantino said he hopes for \"concrete\" measures to be taken by the world game\\'s authority. Saying that \"the UEFA executive committee has taken note of the will of FIFA to take concrete and effective measures for good governance ... [and is] following the situation closely.\"[142]\\nIOC president Jacques Rogge commented on the situation by saying that he believes FIFA \"can emerge stronger\" from its worst-ever crisis, stating that \"I will not point a finger and lecture ... I am sure FIFA can emerge stronger and from within\".[143]\\nSeveral of FIFA\\'s partners and sponsors have raised concerns about the allegations of corruption, including Coca-Cola, Adidas, Emirates and Visa.[144][145][146] Coca-Cola raised concerns by saying \"the current allegations being raised are distressing and bad for the sport\"; with Adidas saying \"the negative tenor of the public debate around Fifa at the moment is neither good for football nor for Fifa and its partners\"; moreover Emirates raised its concerns by saying \"we hope that these issues will be resolved as soon as possible\"; and Visa adding \"the current situation is clearly not good for the game and we ask that Fifa take all necessary steps to resolve the concerns that have been raised.\"[144]\\nAustralian Sports Minister Mark Arbib said it was clear FIFA needed to change, saying \"there is no doubt there needs to be reform of FIFA. This is something that we\\'re hearing worldwide\", with Australian Senator Nick Xenophon accusing FIFA of \"scamming\" the country out of the A$46\\xa0million (US$35\\xa0million) it spent on the Australia 2022 FIFA World Cup bid, saying that \"until the investigation into FIFA has been completed, Australia must hold off spending any more taxpayers\\' money on any future World Cup bids.\"[147]\\nTheo Zwanziger, president of the German Football Association, also called on FIFA to re-examine the awarding of the 2022 World Cup to Qatar.[148]\\nTransparency International, which had called on FIFA to postpone the election pending a full independent investigation, renewed its call on FIFA to change its governance structure.[149]\\nMoreover, former Argentine football player Diego Maradona was critical of FIFA in light of the corruption scandal, comparing members of the board to dinosaurs. He said \"Fifa is a big museum. They are dinosaurs who do not want to relinquish power. It\\'s always going to be the same.\"[150] In October 2011, Dick Pound criticized the organization, saying, \"FIFA has fallen far short of a credible demonstration that it recognizes the many problems it faces, that it has the will to solve them, that it is willing to be transparent about what it is doing and what it finds, and that its conduct in the future will be such that the public can be confident in the governance of the sport.\"[151]\\n\\n2018 revision of code of ethics[edit]\\nIn 2018, FIFA revised its code of ethics to remove corruption as one of the enumerated bases of ethical violations.[152] It retained bribery, misappropriation of funds and manipulation of competitions as offences, but added a statute of limitation clause that those offences could not be pursued after a ten-year period.[152]\\nThe revision also made it an offense to make public statements of a defamatory nature against FIFA.[152] Alexandra Wrage, a former member of the FIFA governance committee and an expert in anti-bribery compliance, said that of the revision that \"the real value to FIFA is the chilling effect this will have on critics\".[152]\\n\\nSee also[edit]\\n\\nSports portalAssociation football portalWomen\\'s association football portal\\nAssociation football culture\\nAssociation football tactics and skills\\nFIFA (video game series)\\nList of association football clubs\\nList of association football competitions\\nList of association football stadiums by country\\nList of women\\'s national association football teams\\nList of top association football goal scorers\\nList of women\\'s association football clubs\\nLists of association football players\\nFIFA Congress\\nNotes[edit]\\n\\n\\n^ a b Australia has been a member of the AFC since 2006.\\n\\n^ French Guiana, Guyana and Suriname are CONCACAF members although they are in South America. The French Guiana team is a member of CONCACAF but not of FIFA.\\n\\n^ Teams representing the nations of Armenia, Azerbaijan, Cyprus, Georgia, Israel, Kazakhstan, Russia (suspended by UEFA in 2022), and Turkey are UEFA members, although the majority or entirety of their territory is outside of continental Europe. Monaco is not a member of UEFA or FIFA.\\n\\n\\nReferences[edit]\\n\\n\\n^ a b \"Fédération Internationale de Football Association\". Filmcircle.com. 11 June 2014. Archived from the original on 8 October 2014. Retrieved 11 June 2014.\\n\\n^ \"FIFA Committees – FIFA Council\". FIFA. Archived from the original on 28 April 2015. Retrieved 19 December 2016.\\n\\n^ \"International Association Football Federation\". International Olympic Committee. Retrieved 5 December 2022.\\n\\n^ \"History of FIFA - Foundation\". FIFA. Archived from the original on 16 May 2015. Retrieved 15 June 2018.\\n\\n^ \"FIFA Statutes\". FIFA. Archived from the original on 23 April 2015. Retrieved 10 July 2019.\\n\\n^ \"About FIFA: Organisation\". FIFA. Archived from the original on 5 September 2015. Retrieved 10 July 2019.\\n\\n^ \"2022 Financial Highlights\". FIFA. Retrieved 7 April 2023.\\n\\n^ Clifford, Stephanie; Apuzzo, Matt (27 May 2015). \"FIFA officials arrested on corruption charges; Sepp Blatter isn\\'t among them\". The New York Times. Archived from the original on 27 May 2015. Retrieved 1 March 2017.\\n\\n^ a b \"Nine FIFA Officials and Five Corporate Executives Indicted for Racketeering Conspiracy and Corruption\". U.S. DOJ Office of Public Affairs. 27 May 2015. Archived from the original on 27 May 2015. Retrieved 27 May 2015.\\n\\n^ Collett, Mike; Homewood, Brian (27 May 2015). \"World soccer rocked as top officials held in U.S., Swiss graft cases\". Reuters. Archived from the original on 24 September 2015. Retrieved 27 May 2015.\\n\\n^ \"Sepp Blatter and Michel Platini banned for eight years by Fifa\". The Daily Telegraph. Archived from the original on 10 January 2022. Retrieved 24 March 2017.\\n\\n^ \"Rise and fall of Michel Platini – the self-proclaimed \\'football man\\' who forgot the meaning of integrity\". The Daily Telegraph. Archived from the original on 10 January 2022. Retrieved 24 March 2017.\\n\\n^ Conn, David (2 March 2017). \"Trust in Fifa has improved only slightly under Gianni Infantino, survey finds\". The Guardian. ISSN\\xa00261-3077. Archived from the original on 24 March 2017. Retrieved 24 March 2017.\\n\\n^ \"FIFA Ethics Chiefs Facing Uncertain Future\". The New York Times. Reuters. 15 March 2017. ISSN\\xa00362-4331. Retrieved 24 March 2017.\\n\\n^ \"Infantino at 1. Are the Ethics bigwigs the next stop on his personal \\'reform\\' agenda?\". Inside World Football. 27 February 2017. Archived from the original on 25 March 2017. Retrieved 24 March 2017.\\n\\n^ a b \"FIFA Ethics Committee still investigating \\'hundreds\\' of cases: Borbely\". Reuters. 10 May 2017. Archived from the original on 10 May 2017. Retrieved 10 May 2017.\\n\\n^ Ellis, Sam (9 December 2022). \"How FIFA corrupted the World Cup\". Vox. Retrieved 10 January 2023.\\n\\n^ \"FIFA.com\". 25 December 2012. Archived from the original on 25 December 2012.\\n\\n^ 1906 - Athens at the IFFHS (archived)\\n\\n^ Olympic Tournament - 1908 London on IFFHS\\n\\n^ \"History of FIFA – FIFA takes shape\". FIFA. Archived from the original on 29 March 2013. Retrieved 12 July 2014.\\n\\n^ Butler, Bryon (1991). The Official History of The Football Association. London: Queen Anne Press. p.\\xa054. ISBN\\xa00-356-19145-1.\\n\\n^ FIFA (10 September 2009). \"FIFA\\'s 208 Member Associations\" (PDF). Archived from the original (PDF) on 5 May 2012. Retrieved 1 December 2015.\\n\\n^ The Official National Collegiate Athletic Association Soccer Guide - National Collegiate Athletic Association. Spalding Guide. 1912. Archived from the original on 17 August 2021. Retrieved 16 December 2020 – via Google Books.\\n\\n^ \"Past Presidents - Daniel Burley Woolfall\". FIFA. Archived from the original on 28 October 2020. Retrieved 16 December 2020.\\n\\n^ a b \"About the National Football Museum | The National Football Museum at Urbis\". www.manchester.gov.uk. Archived from the original on 1 December 2017. Retrieved 28 November 2017.\\n\\n^ China to host revamped FIFA Club World Cup in 2021 China Xinhua, October 24, 2019\\n\\n^ Kearney, Judith; Wood, Lesley; Teare, Richard (28 October 2015). Designing Inclusive Pathways with Young Adults: Learning and Development for a Better World. Springer. ISBN\\xa09789463001571. Archived from the original on 19 April 2021. Retrieved 11 November 2020 – via Google Books.\\n\\n^ \"FIFA\\'s 113th foundation day: 10 things you should know about world football\\'s governing body: Sports Arena\". indiatoday. in today.in. Archived from the original on 16 October 2017. Retrieved 14 October 2017.\\n\\n^ \"FIFA anthem\". YouTube. Archived from the original on 11 December 2021. Retrieved 19 May 2010.\\n\\n^ \"The extraordinary power of the football song\". BBC. 14 June 2018. Archived from the original on 18 July 2019. Retrieved 20 February 2019.\\n\\n^ \"FIFA suspends Russia from World Cup, all soccer competitions: What it means, how it works\". 1 March 2022.\\n\\n^ \"FIFA Congress\". FIFA. 27 May 2011. Archived from the original on 5 April 2010.\\n\\n^ \"Issa Hayatou to be acting Fifa president following suspension of Sepp Blatter\". The Guardian. 8 October 2015. Archived from the original on 15 October 2015. Retrieved 10 October 2015.\\n\\n^ \"Acting FIFA President Issa Hayatou\". FIFA. Archived from the original on 10 October 2015. Retrieved 8 December 2015.\\n\\n^ \"Emergency Committee\". FIFA. Archived from the original on 29 May 2015. Retrieved 7 December 2015.\\n\\n^ Chaudhary, Vivek (25 April 2002). \"Outraged Scot takes up the chase of Blatter\". The Guardian. Archived from the original on 10 December 2015. Retrieved 8 December 2015.\\n\\n^ \"Blatter chairs emergency FIFA meeting as scandal grows\". Reuters. 28 May 2015. Archived from the original on 10 December 2015. Retrieved 8 December 2015.\\n\\n^ \"FIFA Ratify Suspension of Iraqi Football Association\". Goal. 4 December 2009. Archived from the original on 6 March 2016. Retrieved 8 December 2015.\\n\\n^ \"Fifa-Boni: Von wegen 30 Millionen\". Bilanz (in German). 17 May 2012. Archived from the original on 11 June 2014.\\n\\n^ \"FIFA Financial Report 2013\" (PDF). p.\\xa094. Archived from the original (PDF) on 27 March 2014.\\n\\n^ \"Interview mit: Joseph Blatter\". persönlich.com (in German). October 2002. Archived from the original on 25 July 2014.\\n\\n^ \"Report claims FIFA bosses secretly doubled their salaries\". Sports Sun. Archived from the original on 25 July 2014. Retrieved 23 June 2014.\\n\\n^ Emory International Law Review. \"FIFA Transfer Regulations and UEFA Player Eligibility Rules: Major Changes in European Football and the Negative Effect on Minors\" (PDF). Emory International Law Review. Archived from the original (PDF) on 19 March 2013. Retrieved 28 March 2014.\\n\\n^ \"Fifa rules out video evidence\". The Guardian. London. 5 January 2005. Archived from the original on 20 December 2013. Retrieved 29 November 2009.\\n\\n^ IFAB (27 June 1970). \"Minutes of the AGM\" (PDF). Inverness: Soccer South Bay Referee Association. §\\xa05(i). Archived from the original (PDF) on 30 April 2011. Retrieved 29 November 2009.\\n\\n^ \"FIFA halts instant replay experiment\". CBC News. 8 March 2008. Archived from the original on 2 September 2013. Retrieved 20 June 2010.\\n\\n^ \"Historic step for greater fairness in football\". IFAB. 3 March 2018. Archived from the original on 21 July 2018. Retrieved 6 July 2018.\\n\\n^ Bailey, Graeme (6 July 2012). \"Goal-line technology approved\". Sky Sports. Archived from the original on 7 July 2018. Retrieved 6 July 2018.\\n\\n^ \"About Goal-line Technology\". FIFA. Archived from the original on 12 June 2018. Retrieved 6 July 2018.\\n\\n^ Coomber, Michael (29 June 2010). \"FIFA boss to consider video replay\". Canadian Broadcasting Corporation. Archived from the original on 11 May 2011. Retrieved 22 December 2010.\\n\\n^ \"Fifa and Uefa suspend all Russian teams\". BBC Sport. Archived from the original on 11 March 2022. Retrieved 28 February 2022.\\n\\n^ \"FIFA/UEFA suspend Russian clubs and national teams from all competitions\". FIFA (Press release). 28 February 2022. Archived from the original on 28 February 2022. Retrieved 28 February 2022.\\n\\n^ \"Russia World Cup ban appeal rejected by CAS\". ESPN.com. 18 March 2022. Archived from the original on 19 March 2022. Retrieved 19 March 2022.\\n\\n^ \"Can soccer plead ignorance? A World Cup of politics is brewing for Qatar 2022\". Atlantic Council. 6 May 2022. Archived from the original on 5 June 2022. Retrieved 24 June 2022.\\n\\n^ \"FIFA suspends Russia from World Cup, all soccer competitions: What it means, how it works\". ESPN. 1 March 2022. Archived from the original on 11 March 2022. Retrieved 24 June 2022.\\n\\n^ \"The hypocrisy of cultural boycotts\". The Critic. 7 March 2022. Archived from the original on 7 March 2022. Retrieved 24 June 2022.\\n\\n^ \"Banning Russia from the World Cup lays bare the West\\'s hypocrisy on human rights\". The Canary. 9 March 2022. Archived from the original on 9 June 2022. Retrieved 24 June 2022.\\n\\n^ \"FIFA Slammed as Internet Compares Treatment of Russia to U.S. in Iraq War\". Newsweek. 28 February 2022. Archived from the original on 12 March 2022. Retrieved 24 June 2022.\\n\\n^ \"FIFA Bans Indonesia From International Soccer\". Reuters. 15 June 2015. Archived from the original on 28 February 2022. Retrieved 28 February 2022.\\n\\n^ a b \"Tournaments\". FIFA. Retrieved 11 October 2022.\\n\\n^ \"Knockouts | FIFAe World Cup 2022™\". FIFAe. Archived from the original on 4 July 2022. Retrieved 17 June 2022.\\n\\n^ \"Overview | FIFAe World Cup 2023™\". FIFAe. Retrieved 13 December 2022.\\n\\n^ \"Knockouts | FIFAe Club World Cup 2022™ | FIFAe Club Series 2022™\". FIFAe. Archived from the original on 19 July 2022. Retrieved 10 July 2022.\\n\\n^ \"Overview | FIFAe Club Series 2023™\". FIFAe. Retrieved 13 December 2022.\\n\\n^ \"Knockouts | FIFAe Nations Series 2023™ | FIFAe Nations Cup 2023™\". FIFAe. Archived from the original on 15 July 2023. Retrieved 14 July 2023.\\n\\n^ \"Final | FIFAe Continental Cup 2021™\". FIFAe. Archived from the original on 23 July 2022. Retrieved 19 June 2022.\\n\\n^ \"Overview | FIFAe Continental Cup 2022\". FIFAe. Archived from the original on 4 June 2022. Retrieved 19 June 2022.\\n\\n^ \"FIFA Rankings – Men\\'s football\". FIFA. Archived from the original on 6 May 2017. Retrieved 23 May 2021.\\n\\n^ \"The FIFA/Coca-Cola World Ranking\". FIFA. 21 September 2023. Retrieved 21 September 2023.\\n\\n^ \"FIFA Rankings – Women\\'s football\". FIFA. Archived from the original on 15 January 2015. Retrieved 23 May 2021.\\n\\n^ \"The FIFA/Coca-Cola Women\\'s World Ranking\". FIFA. 25 August 2023. Retrieved 25 August 2023.\\n\\n^ \"adidas\". FIFA.com. Archived from the original on 28 June 2011. Retrieved 10 August 2014.\\n\\n^ \"COCA-COLA\". FIFA.com. Archived from the original on 21 June 2011. Retrieved 10 August 2014.\\n\\n^ \"Hyundai / Kia Motors\". FIFA.com. Archived from the original on 4 July 2011. Retrieved 10 August 2014.\\n\\n^ \"Qatar Airways announced as Official Partner and Official Airline of FIFA until 2022\". FIFA Website. Archived from the original on 29 October 2017.\\n\\n^ \"QatarEnergy\". FIFA. 13 April 2022. Archived from the original on 17 June 2022. Retrieved 17 June 2022. QatarEnergy became a FIFA Partner for the FIFA Arab CupTM in December 2021 and a FIFA Partner for the FIFA World Cup Qatar 2022TM in March 2022.\\n\\n^ \"VISA\". FIFA. Archived from the original on 27 June 2011. Retrieved 10 August 2014.\\n\\n^ \"Wanda Group becomes Fifa partner\". SportsProMedia. 18 March 2016. Archived from the original on 21 March 2016. Retrieved 18 March 2016.\\n\\n^ \"FIFA launches FIFA+ to bring free football entertainment to fans everywhere\". FIFA. Archived from the original on 13 April 2022. Retrieved 14 April 2022.\\n\\n^ \"FIFA Plus launches with over 40,000 free soccer matches to watch live\". The Verge. 13 April 2022. Archived from the original on 13 April 2022. Retrieved 14 April 2022.\\n\\n^ \"Soccer Streaming Platform FIFA Plus Launches, Will Have 40,000 Live Games Annually\". Variety. 12 April 2022. Archived from the original on 13 April 2022. Retrieved 14 April 2022.\\n\\n^ \"FIFA gets into the streaming business with the new soccer platform FIFA+\". TechCrunch. 12 April 2022. Archived from the original on 13 April 2022. Retrieved 14 April 2022.\\n\\n^ \"Fifa+ appoints Eleven to power and supply live soccer matches\". Sports Pro. 14 April 2022. Retrieved 14 April 2022.\\n\\n^ \"FIFA selects Vivaturf non-filled system for study\". June 2021.\\n\\n^ \"FIFA includes HUMANOX in its Innovation Programme\".\\n\\n^ \"The Bundesliga, Vieww, and the opportunities of a combined data and video officiating ecosystem\". 13 October 2022.\\n\\n^ \"BBC News Fifa \\'like a mafia family\\' says former FA boss Triesman\". BBC News. 11 June 2014. Archived from the original on 2 October 2014. Retrieved 3 October 2014.\\n\\n^ Ziegler, Martyn (18 November 2010). \"Fifa suspend six officials\". The Independent. London. Archived from the original on 23 November 2010. Retrieved 18 November 2010.\\n\\n^ \"BBC iPlayer – World Football: 20/11/2010\". BBC. 20 November 2010. Archived from the original on 8 March 2013. Retrieved 9 July 2011.\\n\\n^ Panorama. 29 November 2010. BBC One.\\n\\n^ \"Panorama: Three Fifa World Cup officials took bribe\". BBC News. 29 November 2010. Archived from the original on 12 July 2018.\\n\\n^ International (17 June 2011). \"Fifa honourary [sic] president Joao Havelange faces IOC inquiry\". Daily Telegraph. London. Archived from the original on 10 January 2022. Retrieved 9 July 2011.\\n\\n^ Dave Zirin (17 June 2014). \"Dave Zirin: Abolish FIFA\". The Real News Network. Archived from the original on 2 July 2015.\\n\\n^ \"Fifa officials arrested on corruption charges as World Cup inquiry launched\". The Guardian. 27 May 2015. Archived from the original on 27 May 2015. Retrieved 14 June 2018.\\n\\n^ \"FIFA World Cup 2022:How much money host nation spent on the most expensive men\\'s tournament?\". The Economic Times. 17 December 2022. Retrieved 12 January 2023.\\n\\n^ Chelvan, Vanessa Paige. \"Convicted match-fixer Eric Ding\\'s jail term extended to 6 years\". CNA. Archived from the original on 26 November 2015. Retrieved 2 December 2015.\\n\\n^ \"FIFA Officials Arrested on Corruption Charges; Blatter Isn\\'t Among Them\". The New York Times. 27 May 2015. Archived from the original on 2 January 2022. Retrieved 19 December 2016.\\n\\n^ WPLG. \"FBI searching South Florida offices linked to FIFA in soccer scandal\". Local10. Archived from the original on 28 May 2015.\\n\\n^ \"Fifa corruption arrests: key questions answered\". The Guardian. 27 May 2015. Archived from the original on 21 December 2016.\\n\\n^ \"England should boycott 2018 World Cup, says Andy Burnham\". Guardian. 31 May 2015. Archived from the original on 4 December 2016.\\n\\n^ Simon Barnes (6 December 2010). \"FIFA is a gathering of nasty, mad old men\". The Australian. Archived from the original on 6 December 2010. Retrieved 22 December 2010.\\n\\n^ Rogers, Martin (2 December 2010). \"Qatar selection adds to FIFA\\'s ongoing folly – World Soccer\". Sports.yahoo.com. Archived from the original on 7 December 2010. Retrieved 22 December 2010.\\n\\n^ Seltzer, Greg (3 December 2010). \"Media Reaction to World Cup Voting\". Philadelphia Union. Archived from the original on 15 December 2010. Retrieved 22 December 2010.\\n\\n^ \"FIFA, SAFA voting baffling: Sport: Columnists: Mark Gleeson\". Sport24.co.za. Archived from the original on 13 May 2011. Retrieved 22 December 2010.\\n\\n^ Yallop, David (4 December 2010). \"England World Cup bid: how did we get it so wrong?\". Telegraph. London. Archived from the original on 10 January 2022. Retrieved 22 December 2010.\\n\\n^ \"Fifa launches investigation into vote-selling claims\". BBC Sport. 17 October 2010. Archived from the original on 8 December 2010. Retrieved 22 December 2010.\\n\\n^ Press Association (3 December 2010). \"England World Cup chief: Fifa\\'s Sepp Blatter spoke of \\'evils of media\". The Guardian. UK. Archived from the original on 20 December 2013. Retrieved 22 December 2010.\\n\\n^ \"Qatar denies paying World Cup bribes to Hayatou, Anouma\". Afrikansoccer.com. 11 May 2011. Archived from the original on 9 September 2011. Retrieved 9 July 2011.\\n\\n^ \"FFA coy on World Cup bid re-run\". Sydney Morning Herald. 20 May 2011. Archived from the original on 23 May 2011. Retrieved 9 July 2011.\\n\\n^ \"FIFA investigates Bin Hammam bribery claims\". ESPN. 25 May 2011. Archived from the original on 28 May 2011. Retrieved 9 July 2011.\\n\\n^ \"Sepp Blatter: FIFA to meet Qatar 2022 bid whistleblower\". ESPN. 19 May 2011. Archived from the original on 11 August 2011. Retrieved 9 July 2011.\\n\\n^ \"BBC Sport\". BBC Sport. Archived from the original on 1 January 2016. Retrieved 14 February 2018.\\n\\n^ Riach, James. \"Sepp Blatter: Russia was chosen as 2018 World Cup host before vote\". The Guardian. Archived from the original on 21 December 2016. Retrieved 11 December 2016.\\n\\n^ \"QATAR OFFERED FIFA $880 MILLION FOR HOSTING THE 2022 WORLD CUP – REPORT\". The Jerusalem Post. 10 March 2019. Archived from the original on 11 March 2019. Retrieved 10 March 2019.\\n\\n^ \"Exclusive investigation: Qatar\\'s secret $880m World Cup payments to Fifa\". The Sunday Times. 10 March 2019. Archived from the original on 10 March 2019. Retrieved 10 March 2019.\\n\\n^ \"Fifa appoints Michael J Garcia to investigate football corruption\". Associated Press. 17 July 2012.\\n\\n^ \"FIFA unveils new crime fighting duo to tackle corruption in soccer\". CNN. 17 July 2012.\\n\\n^ \"FIFA to look into World Cup winning bids\". Australian Broadcasting Corporation. 26 August 2012.\\n\\n^ \"FIFA prosecutor Michael Garcia calls for World Cup report to be made public\". The Guardian. 24 September 2014.\\n\\n^ a b \"FIFA corruption report: Who is to blame and what happens now?\". BBC. 13 November 2014.\\n\\n^ a b \"FIFA under fire after report on Qatar, Russia\". Associated Press. 13 November 2014. Archived from the original on 16 November 2014.\\n\\n^ \"FIFA dismisses complaint from lawyer Michael Garcia over report\". BBC. 16 December 2014.\\n\\n^ \"Michael Garcia: FIFA investigator resigns in World Cup report row\". BBC. 17 December 2014.\\n\\n^ \"Exclusive: Swiss authorities probing FIFA say Garcia report of little help – source\", Mark Hosenball, David Ingram. Reuters. June 23, 2015. Retrieved 14 may 2017\\n\\n^ \"FIFA president writes letter telling teams to avoid political stands at Qatar World Cup, per report\". 4 November 2022.\\n\\n^ \"Denmark unveil World Cup \\'protest\\' kits criticising Qatar\\'s human rights record\". TheGuardian.com. 28 September 2022.\\n\\n^ \"World Cup organisers in Qatar respond to Australian players\\' criticism, saying \\'no country is perfect\\'\". TheGuardian.com. 28 October 2022.\\n\\n^ Postrel, Virginia (3 June 2011). \"How FIFA\\'s Fouls May Revive the Beautiful Game: David Goldblatt\". Bloomberg. Archived from the original on 7 June 2011. Retrieved 9 July 2011.\\n\\n^ \"Soccer overflowing with scoundrels and scandals\". Philly.com. 3 June 2011. Archived from the original on 21 June 2017. Retrieved 9 July 2011.\\n\\n^ Owen Gibson (25 May 2011). \"Fifa in crisis after claims against Jack Warner and Mohamed bin Hammam\". The Guardian. London. Archived from the original on 20 December 2013. Retrieved 9 July 2011.\\n\\n^ \"FIFA investigates Bin Hammam bribery claims\". ESPN. 25 May 2011. Archived from the original on 28 May 2011. Retrieved 9 July 2011.\\n\\n^ \"Fifa suspends Bin Hammam and Jack Warner\". BBC News. 29 May 2011. Archived from the original on 1 June 2011. Retrieved 9 July 2011.\\n\\n^ \"Fifa Soap Opera Latest: Jack Warner Says 2022 World Cup Was \\'Bought\\'\". Fanhouse.co.uk. 30 May 2011. Archived from the original on 2 June 2011. Retrieved 9 July 2011.\\n\\n^ a b \"Blatter tips Henry Kissinger for role on FIFA \\'Solutions Committee\\'\". CNN. 2 June 2011. Archived from the original on 22 July 2013. Retrieved 9 July 2011.\\n\\n^ Doherty, Regan E. (30 May 2011). \"Qataris brush off allegations of buying World Cup rights\". Reuters. Archived from the original on 15 October 2015. Retrieved 9 July 2011.\\n\\n^ Kelso, Paul (1 June 2011). \"Mohamed Bin Hammam writes to Fifa protesting \\'unfair\\' treatment in suspension ahead of presidential election\". Telegraph. London. Archived from the original on 10 January 2022. Retrieved 9 July 2011.\\n\\n^ Press Association (30 May 2011). \"Official \\'was offered $40,000\\' after Mohamed bin Hammam presentation\". The Guardian. London. Archived from the original on 30 September 2013. Retrieved 9 July 2011.\\n\\n^ Owen Gibson (9 June 2011). \"Fifa rocked by fresh claims after Surinam FA reports $40,000 \\'gift\\'\". The Guardian. London. Archived from the original on 20 December 2013. Retrieved 9 July 2011.\\n\\n^ \"FIFA Congress Roundup – Kissinger, Cruyff for Watchdog; Jordaan\\'s Expectations for Reforms\". Worldfootballinsider.com. 3 June 2011. Archived from the original on 5 June 2011. Retrieved 9 July 2011.\\n\\n^ Matt Scott in Zurich (2 June 2011). \"Henry Kissinger recommended for Fifa anti-corruption squad | Football\". The Guardian. London. Archived from the original on 30 September 2013. Retrieved 9 July 2011.\\n\\n^ PA Sport. \"World Cup – UEFA wants \\'concrete\\' changes to FIFA soon\". Uk.eurosport.yahoo.com. Archived from the original on 29 August 2012. Retrieved 9 July 2011.\\n\\n^ Bisson, Mark (31 May 2011). \"Blatter Vows to Tackle Corruption; IOC Chief Says FIFA \"Can Emerge Stronger\" From Crisis\". Worldfootballinsider.com. Archived from the original on 8 October 2011.\\n\\n^ a b \"Fifa corruption claims: What the sponsors are saying\". Telegraph. London. 1 June 2011. Archived from the original on 10 January 2022. Retrieved 9 July 2011.\\n\\n^ Reece, Damian (2 June 2011). \"McDonald\\'s joins Coca-Cola and Visa in calling for Fifa change\". Telegraph. London. Archived from the original on 10 January 2022. Retrieved 9 July 2011.\\n\\n^ Press Association (30 May 2011). \"Coca-Cola joins Adidas in expressing concern about Fifa shenanigans\". The Guardian. London. Archived from the original on 20 December 2013. Retrieved 9 July 2011.\\n\\n^ (AFP) – 30 May 2011 (30 May 2011). \"AFP: Australia demands FIFA reform\". Archived from the original on 24 May 2012. Retrieved 9 July 2011.\\n\\n^ \"BBC Sport – German Federation asks Fifa for inquiry into Qatar 2022\". BBC News. 1 June 2011. Archived from the original on 19 March 2012. Retrieved 9 July 2011.\\n\\n^ \"What should FIFA do about corruption: version 2.0\\xa0: space for transparency\". Blog.transparency.org. Archived from the original on 22 July 2011. Retrieved 9 July 2011.\\n\\n^ \"It\\'s a big museum of dinosaurs – Diego Maradona blasts Fifa\". Goal.com. 4 June 2011. Archived from the original on 7 June 2011. Retrieved 9 July 2011.\\n\\n^ Associated Press, \"Pound lambastes FIFA for lack of transparency\", Japan Times, 5 October 2011, p. 18.\\n\\n^ a b c d Harris, Rob (14 August 2018). \"Keep bribes quiet for 10 years, FIFA won\\'t punish you\". Associated Press. Archived from the original on 14 August 2018. Retrieved 14 August 2018.\\n\\n\\nFurther reading[edit]\\nPaul Darby, Africa, Football and Fifa: Politics, Colonialism and Resistance (Sport in the Global Society), Frank Cass Publishers 2002, ISBN\\xa00-7146-8029-X.\\nJohn Sugden, FIFA and the Contest For World Football, Polity Press 1998, ISBN\\xa00-7456-1661-5.\\nJim Trecker, Charles Miers, J. Brett Whitesell, ed., Women\\'s Soccer: The Game and the Fifa World Cup, Universe 2000, Revised Edition, ISBN\\xa00-7893-0527-5.\\nExternal links[edit]\\n\\n\\n\\nWikimedia Commons has media related to FIFA.\\n\\n\\n\\n\\nWikiquote has quotations related to FIFA.\\n\\nOfficial website  (in English, Arabic, French, German, Japanese, Lithuanian, Russian, and Spanish)\\n\"FIFA\\'s Dirty Secrets\" transcript—An episode of the BBC\\'s Panorama\\nDocument on alleged FIFA corruption\\nvteFIFA\\nHistory of FIFA\\nFIFA Anthem\\nFIFA Congress\\nFIFA Council\\nFIFA Ethics Committee\\nFIFA headquarters\\nFootball at the Summer Olympics\\nList of football federations\\nInternational Football Association Board\\nTimeline of association football\\nFootball codes\\nAssociation football\\nBeach soccer\\nFutsal\\nConfederations\\nAFC\\nCAF\\nCONCACAF\\nCONMEBOL\\nOFC\\nUEFA\\nMen\\'s tournaments\\nFIFA World Cup\\nFIFA U-20 World Cup\\nFIFA U-17 World Cup\\nFIFA Club World Cup\\nFuture annual FIFA club competition\\nFIFA Futsal World Cup\\nFIFA Beach Soccer World Cup\\nBlue Stars/FIFA Youth Cup\\nWomen\\'s tournaments\\nFIFA Women\\'s World Cup\\nFIFA U-20 Women\\'s World Cup\\nFIFA U-17 Women\\'s World Cup\\nFIFA Women\\'s Futsal World Cup\\nFIFA Women\\'s Club World Cup\\nBlue Stars/FIFA Youth Cup\\nOther tournaments\\nFIFA Arab Cup\\nFIFAe World Cup\\nFIFAe Nations Cup (part of the FIFAe Nations Series)\\nPresidents\\nRobert Guérin (1904–1906)\\nDaniel Burley Woolfall (1906–1918)\\nJules Rimet (1921–1954)\\nRodolphe Seeldrayers (1954–1955)\\nArthur Drewry (1955–1961)\\nErnst Thommen (1961–1961, acting)\\nStanley Rous (1961–1974)\\nJoão Havelange (1974–1998)\\nSepp Blatter (1998–2015)\\nIssa Hayatou (2015–2016, acting)\\nGianni Infantino (2016–present)\\nSecretaries General\\nLouis Muhlinghaus (1904–1906)\\nWilhelm Hirschman (1906–1931)\\nIvo Schricker (1932–1951)\\nKurt Gassmann (1951–1960)\\nHelmut Käser (1961–1981)\\nSepp Blatter (1981–1998)\\nMichel Zen-Ruffinen (1998–2002)\\nUrs Linsi (2002–2007)\\nJérôme Valcke (2007–2015)\\nMarkus Kattner (2015–2016, acting)\\nFatma Samoura (2016–present)\\nAwards\\nFIFA 100\\nFIFA Ballon d\\'Or\\nFIFA Champions Badge\\nFIFA Club of the Century\\nFIFA Development Award\\nFIFA Fair Play Award\\nFIFA Female Player of the Century\\nFIFA FIFPro World XI\\nFIFA Order of Merit\\nFIFA Player of the Century\\nFIFA Presidential Award\\nFIFA Puskás Award\\nFIFA Women\\'s World Cup awards\\nFIFA World Coach of the Year\\nFIFA World Cup Dream Team\\nFIFA World Cup awards\\nFIFA World Player of the Year\\nThe Best FIFA Football Awards\\nRankings\\nFIFA World Rankings\\n(Former systems: 1999–2006\\n2006–2018)\\nFIFA Women\\'s World Rankings\\nCongresses\\n51st (Paris 1998)\\n53rd (Seoul 2002)\\n61st (Zürich 2011)\\n65th (Zürich 2015)\\nExtraordinary (Zürich 2016)\\n68th (Russia 2018)\\n69th (Paris 2019)\\n73rd (Kigali 2023)\\nCorruption\\n\"FIFA\\'s Dirty Secrets\"\\nGarcia Report\\n2015 FIFA corruption case\\nList of banned football officials\\nOthers\\nFIFA (video game series)\\nFIFA Confederations Cup\\nList of FIFA country codes\\nFIFA Disciplinary Code\\nFIFA Fan Fest\\nFIFA Museum\\nFIFA Futbol Mundial\\nFIFA eligibility rules\\nFIFA International Match Calendar\\nFIFA International Referees List\\nFIFA Transfer Matching System\\nFIFA World Cup Trophy\\nNon-FIFA\\nUnited Passions\\n\\n Category\\n Commons\\n\\nLinks to related articles\\nvteAssociation footballChronologyModern code\\nHistory\\nTimeline\\nFirst league\\nFirst international\\nOldest clubs\\nOldest competitions\\nAttempts to ban the sport\\nAncestors\\nCaid\\nCuju\\nCalcio Fiorentino\\nEnglish school games\\nEpiskyros\\nHarpastum\\nLa soule\\nMarn Grook\\nMedieval\\nBa\\nCamping\\nCnapan\\nCornish hurling\\nOld Division\\nRoyal Shrovetide\\nUppies and Downies\\nRulesCurrent\\nAway goals rule\\nBall\\nBall in/out\\nCorner kick\\nDuration of the match\\nEquipment\\nField\\nFouls and misconduct\\nFree kick\\nGoal kick\\nGoal difference\\nOffside\\nPenalty kick\\nPenalty shoot-out\\nPlayers\\nReferee\\nAssistants\\nScoring\\nStart and restart\\nThrow-in\\nFormer\\nSheffield rules\\nCambridge rules\\nBoard\\nIFAB\\nEquipment\\nBall\\nBoots\\nKit\\nAway colours\\nThird jersey\\nThrowback uniform\\nVariants of the game\\nAmputee\\nBeach\\nCrab\\nFive-a-side\\nFutsal\\nIndoor\\nFreestyle\\nKeepie uppie\\nFootbag\\nParalympic\\nPowerchair\\nJorkyball\\nRoller\\nRush goalie\\nSeven-a-side (Sevens)\\nSwamp\\nStreet\\nThree-sided\\n3v3 Soccer\\nWalking\\nPositions\\nGoalkeeper\\nDefender\\nMidfielder\\nForward\\nStrategy\\nFormation\\nTactics\\nSkills\\nBicycle kick\\nCurl\\nNutmeg\\nRabona\\nStep over\\nTerminology\\nAnti-football\\nCatenaccio\\nTiki-taka\\nTotal football\\nZona mista\\nEqualiser\\nMemorabilia\\nTrading cards\\nOrganised supporters\\nBarra brava\\nCurva\\nHooliganism\\nTorcida\\nUltras\\nChant\\nComparisons\\nFutsal\\nRugby union\\nMain associations\\nFIFA\\nAfrica\\nAsia\\nEurope\\nNorth & Central America\\nOceania\\nSouth America\\nOlympic\\nSummer Olympics\\nYouth Olympics\\nListsMen\\'s\\nCompetitions\\nFamilies\\nPlayers\\nTop scorers\\nClubs\\nNational teams\\nWomen\\'s\\nCompetitions\\nFamilies\\nPlayers\\nTop scorers\\nClubs\\nNational teams\\nRelated topics\\n12th man\\nAlcohol\\nAssociation football films\\nBeautiful Game\\nCaptain\\nChild abuse\\nCulture\\nEthnicity\\nFootball club\\nHomosexuality\\nIFFHS\\nNames\\nPolitics\\nProfessionalism\\nRacism\\nRetired numbers (list)\\nRivalries (list)\\nRSSSF\\nSmoking\\nSquad number\\nStadiums (list)\\nTransfer\\nWorld XI\\n\\n Category\\n Commons\\n Portal\\n WikiProject\\n\\nvteInternational association football\\nFIFA\\nFederations\\nTeams\\nCompetitions\\nWorld Cup\\nU-20\\nU-17\\nOlympics\\nYouth Olympics\\nUniversiade\\nWorld Rankings\\nThe Best FIFA Football Awards\\nTimeline\\nAfrica\\nCAF – Africa Cup of Nations\\nU-23\\nU-20\\nU-17\\nAfrican Nations Championship\\nRegional (CECAFA, CEMAC, COSAFA, WAFU)\\nIntercontinental (Arab)\\nAsia\\nAFC – Asian Cup\\nU-23\\nU-20\\nU-17\\nRegional (ASEAN, Central, East, South, West)\\nInterregional (AFF-EAFF)\\nIntercontinental (Arab)\\nEurope\\nUEFA – Euro\\nU-21\\nU-19\\nU-17\\nNations League\\nNorth & Central America and the Caribbean\\nCONCACAF – Gold Cup\\nU-20\\nU-17\\nU-15\\nNations League\\nOceania\\nOFC – Nations Cup\\nU-19\\nU-16\\nSouth America\\nCONMEBOL – Copa América\\nU-20\\nU-17\\nU-15\\nNon-FIFA\\nCONIFA – CONIFA World Football Cup\\nCONIFA European Football Cup\\nCONIFA South America Football Cup\\nCONIFA Africa Football Cup\\nIIGA – Island Games\\nODEBO – Bolivarian Games\\nODESUR – South American Games\\nSouth American Board of New Federations (COSANFF)\\nWorld Unity Football Alliance (WUFA)\\nGames\\nAfrican Games\\nArab Games\\nAsian Games\\nCentral America Games\\nCentral America and Caribbean Games\\nEast Asian Games\\nJeux de la Francophonie\\nGoodwill Games\\nIndian Ocean Island Games\\nIslamic Solidarity Games\\nLusofonia Games\\nMediterranean Games\\nMicronesian Games\\nPan American Games\\nPacific Games\\nPacific Mini Games\\nSouth Asian Games\\nSoutheast Asian Games\\nWest Asian Games\\n\\nSee also\\nGeography\\nCodes\\nPlayer/Club of the Century\\nWomen\\'s football\\n\\nvteInternational women\\'s association football\\nFIFA\\nFederations\\nTeams\\nCompetitions\\nWorld Ranking\\nPlayer of the Year\\nThe Best FIFA Women\\'s Player\\nWorldwide\\nFIFA\\nWomen\\'s World Cup\\nU-20\\nU-17\\nAsia\\nAFC\\nWomen\\'s Asian Cup\\nU-20\\nU-17\\nWomen\\'s Olympic Qualifying Tournament\\nRegional\\nASEAN\\nEAFF\\nSAFF\\nWAFF, CAFA\\nIntercontinental (Arab)\\nAfrica\\nCAF\\nWomen\\'s Cup of Nations\\nU-20\\nU-17\\nWomen\\'s Olympic Qualifying Tournament\\nRegional\\nCECAFA\\nCOSAFA\\nUNAF\\nWAFU A\\nWAFU B\\nUNIFFAC\\nIntercontinental (Arab)\\nNorth America,Central Americaand the Caribbean\\nCONCACAF\\nW Championship\\nU-20\\nU-17\\nW Gold Cup\\nWomen\\'s Olympic Qualifying Tournament\\nSouth America\\nCONMEBOL\\nCopa América Femenina\\nU-20\\nU-17\\nOceania\\nOFC\\nWomen\\'s Nations Cup\\nU-19\\nU-16\\nWomen\\'s Olympic Qualifying Tournament\\nEurope\\nUEFA\\nWomen\\'s Championship\\nU-19\\nU-17\\nWomen\\'s Nations League\\nNon-FIFA\\nNF-Board\\nWomen\\'s Viva World Cup\\nCONIFA\\nCONIFA Women\\'s World Football Cup\\nGames\\nOlympics\\nYouth Olympics\\nUniversiade\\nAfrican Games\\nAsian Games\\nCentral America and Caribbean\\nCentral American Games\\nGoodwill Games\\nPan American Games\\nPacific Games\\nIndian Ocean Island Games\\nSouth Asian Games\\nSoutheast Asian Games\\nIsland Games\\nInvitationals\\nAisha Buhari Cup\\nAlbena Cup\\nAlgarve Cup\\nAphrodite Women Cup\\nArnold Clark Cup\\nAustralia Cup\\nBalaton Cup\\nBaltic Cup\\nBrazil Cup\\nChungua Cup\\nCyprus Women\\'s Cup\\nEuropean Competition (\\'69,\\'79)\\nCup of Nations\\nFinalissima\\nFour Nations Tournament\\nFIFA Invitation Tournament\\nGold Cup\\nJENESYS U-17 Women\\'s Football Memorial Cup\\nIstria Cup\\nWomen\\'s Kirin Challenge Cup\\nMalta International\\nMatchworld Cup\\nMS&AD Cup\\nMundialito\\nNordic Championship\\nOur Game Tournament\\nPeace Queen Cup\\nPinatar Cup\\nRevelations Cup\\nSAFF Women\\'s Friendly Tournament\\nSheBelieves Cup\\nSud Ladies Cup\\nTournament of Nations\\nTournoi de France\\nTurkish Women\\'s Cup\\nValais Cup\\nWomen\\'s World Cup (\\'70,\\'71)\\nYongchuan International Tournament\\n\\nGeography\\nCodes\\nPlayer of the Century\\nMen\\'s football\\n\\nvteInternational men\\'s club football\\nFIFA\\nFIFA Club World Cup\\nIntercontinental Cup (defunct)\\nAfro-Asian Club Championship (defunct)\\nUnder-20 Intercontinental Cup\\nWorld Leagues Forum\\nLists of association football clubs\\nAfrica\\nCAF – Champions League\\nConfederation Cup\\nSuper Cup\\nAsia\\nAFC – Champions League\\nAFC Cup\\nEurope\\nUEFA – Champions League\\nEuropa League\\nEuropa Conference League\\nSuper Cup\\nNorth,Central Americaand the Caribbean\\nCONCACAF – Champions Cup\\nLeagues Cup\\nCentral American Cup\\nCaribbean Cup\\nOceania\\nOFC – Champions League\\nSouth America\\nCONMEBOL – Copa Libertadores\\nCopa Sudamericana\\nRecopa Sudamericana\\nSee also: International women\\'s club football\\nvteInternational women\\'s club football\\nFIFA\\nFIFA Women\\'s Club World Cup\\nInternational Women\\'s Club Championship\\nList of women\\'s association football clubs\\nContinental football championships\\nAfricaCAF – Champions LeagueAsiaAFC – Club Championship; WAFF Women\\'s Clubs ChampionshipEuropeUEFA – Champions LeagueNorth,Central Americaand the CaribbeanCONCACAF – UNCAF Women\\'s Interclub ChampionshipOceaniaOFC  – Champions LeagueSouth AmericaCONMEBOL – Copa LibertadoresSee also: International men\\'s club football\\nvteNational association football teams\\nFIFA\\nFIFA World Cup\\nSummer Olympics Football\\nAFC Asian Cup\\nAfrica Cup of Nations\\nCONCACAF Gold Cup\\nCopa América\\nOFC Nations Cup\\nUEFA European Championship\\nFIFA Arab Cup\\nAFC\\nAfghanistan\\nAustralia\\nBahrain\\nBangladesh\\nBhutan\\nBrunei Darussalam\\nCambodia\\nChina PR\\nChinese Taipei\\nGuam\\nHong Kong\\nIndia\\nIndonesia\\nIR Iran\\nIraq\\nJapan\\nJordan\\nKorea DPR\\nKorea Republic\\nKuwait\\nKyrgyzstan\\nLaos\\nLebanon\\nMacau\\nMalaysia\\nMaldives\\nMongolia\\nMyanmar\\nNepal\\nNorthern Mariana Islands\\nOman\\nPakistan\\nPalestine\\nPhilippines\\nQatar\\nSaudi Arabia\\nSingapore\\nSri Lanka\\nSyria\\nTajikistan\\nThailand\\nTimor-Leste\\nTurkmenistan\\nUnited Arab Emirates\\nUzbekistan\\nVietnam\\nYemen\\nCAF\\nAlgeria\\nAngola\\nBenin\\nBotswana\\nBurkina Faso\\nBurundi\\nCameroon\\nCape Verde\\nCentral African Republic\\nChad\\nComoros\\nCongo\\nCongo DR\\nDjibouti\\nEgypt\\nEquatorial Guinea\\nEritrea\\nEswatini\\nEthiopia\\nGabon\\nGambia\\nGhana\\nGuinea\\nGuinea-Bissau\\nIvory Coast\\nKenya\\nLesotho\\nLiberia\\nLibya\\nMadagascar\\nMalawi\\nMali\\nMauritania\\nMauritius\\nMorocco\\nMozambique\\nNamibia\\nNiger\\nNigeria\\nRéunion\\nRwanda\\nSão Tomé and Príncipe\\nSenegal\\nSeychelles\\nSierra Leone\\nSomalia\\nSouth Africa\\nSouth Sudan\\nSudan\\nTanzania\\nTogo\\nTunisia\\nUganda\\nZambia\\nZanzibar\\nZimbabwe\\nCONCACAF\\nAnguilla\\nAntigua and Barbuda\\nAruba\\nBahamas\\nBarbados\\nBelize\\nBermuda\\nBonaire\\nBritish Virgin Islands\\nCanada\\nCayman Islands\\nCosta Rica\\nCuba\\nCuraçao\\nDominica\\nDominican Republic\\nEl Salvador\\nFrench Guiana\\nGrenada\\nGuadeloupe\\nGuatemala\\nGuyana\\nHaiti\\nHonduras\\nJamaica\\nMartinique\\nMexico\\nMontserrat\\nNicaragua\\nPanama\\nPuerto Rico\\nSaint Kitts and Nevis\\nSaint Lucia\\nSaint Martin\\nSaint Vincent and the Grenadines\\nSint Maarten\\nSuriname\\nTrinidad and Tobago\\nTurks and Caicos Islands\\nUnited States\\nU.S. Virgin Islands\\nCONMEBOL\\nArgentina\\nBolivia\\nBrazil\\nChile\\nColombia\\nEcuador\\nParaguay\\nPeru\\nUruguay\\nVenezuela\\nOFC\\nAmerican Samoa\\nCook Islands\\nFiji\\nKiribati*\\nNew Caledonia\\nNew Zealand\\nNiue*\\nPalau*\\nPapua New Guinea\\nSamoa\\nSolomon Islands\\nTahiti\\nTonga\\nTuvalu\\nVanuatu\\nUEFA\\nAlbania\\nAndorra\\nArmenia\\nAustria\\nAzerbaijan\\nBelarus\\nBelgium\\nBosnia-Herzegovina\\nBulgaria\\nCroatia\\nCyprus\\nCzech Republic\\nDenmark\\nEngland\\nEstonia\\nFaroe Islands\\nFinland\\nFrance\\nGeorgia\\nGermany\\nGibraltar\\nGreece\\nHungary\\nIceland\\nIsrael\\nItaly\\nKazakhstan\\nKosovo\\nLatvia\\nLiechtenstein\\nLithuania\\nLuxembourg\\nMalta\\nMoldova\\nMontenegro\\nNetherlands\\nNorth Macedonia\\nNorthern Ireland\\nNorway\\nPoland\\nPortugal\\nRepublic of Ireland\\nRomania\\nRussia\\nSan Marino\\nScotland\\nSerbia\\nSlovakia\\nSlovenia\\nSpain\\nSweden\\nSwitzerland\\nTurkey\\nUkraine\\nWales\\nDefunct\\nCzechoslovakia\\nSaar\\nWest Germany\\nEast Germany\\nIreland\\nTanganyika\\nNorth Vietnam\\nSouth Vietnam\\nFLN football team\\nNorth Yemen\\nSouth Yemen\\nUnited Arab Republic\\nSoviet Union\\nCIS\\nYugoslavia\\nFR Yugoslavia/Serbia and Montenegro\\nNetherlands Antilles\\nTeams indicated in italics are associate/full members of their respective regional bodies but not members of FIFA.See also: List of women\\'s football teams\\nvteInternational futsal\\nAMF\\nAMF Futsal World Cup\\nAMF Futsal Women\\'s World Cup\\nFIFA\\nFIFA Futsal World Cup\\nFIFA Women\\'s Futsal World Cup\\nYouth Olympics\\nWomen\\'s Futsal World Tournament\\nGrand Prix\\nConfederations Cup\\nFutsal Finalissima\\nWorld University Championship\\nSouth American Games\\nFutsal Mundialito\\nMediterranean Cup\\nAsian Indoor and Martial Arts Games\\nSoutheast Asian Games\\nFutsal Awards\\nTeams\\nAsia\\nAFC\\nFutsal Asian Cup\\nU-20\\nWomen\\'s Futsal Asian Cup\\nAfrica\\nCAF\\nFutsal Cup of Nations\\nNorth AmericaCentral Americaand Caribbean\\nCONCACAF\\nFutsal Championship\\nSouth America\\nCONMEBOL\\nCopa América\\nU-20\\nU-17\\nCopa América Femenina\\nU-20\\nOceania\\nOFC\\nFutsal Championship\\nU-18\\nEurope\\nUEFA: Futsal Euro\\nU-21\\nU-19\\nWomen\\'s Futsal Euro\\nUEFS/FEF: UEFS Futsal Men\\'s Championship\\nUEFS Futsal Women\\'s Championship\\n\\nvteInternational club futsal (FIFA)\\nFIFA\\nIntercontinental Futsal Cup\\nAsia\\nAFC – AFC Futsal Club Championship\\nTop-division clubs\\nAfrica\\nCAF – None\\nTop-division clubs\\nNorth AmericaCentral Americaand Caribbean\\nCONCACAF – CONCACAF Futsal Club Championship\\nTop-division clubs\\nSouth America\\nCONMEBOL – Copa Libertadores de Futsal\\nTop-division clubs\\nOceania\\nOFC – OFC Futsal Champions League\\nTop-division clubs\\nEurope\\nUEFA – UEFA Futsal Champions League\\nWomen\\'s European Champions\\nCup Winners Cup (defunct)\\nEuropean Clubs Championship (defunct)\\nTop-division clubs\\n\\nvteInternational beach soccer\\nFIFA\\nBeach Soccer Worldwide (BSWW)\\nWorld cups (FIFA World Cup [current]\\nWorld Championships [former])\\nWorld Beach Games\\nIntercontinental Cup (Men\\'s • Women\\'s)\\nMundialito (de Clubes)\\nBSWW Tour\\nWorld Rankings\\nStars Awards\\nAsia\\nAFC – Asian Cup– WAFF\\nAfricaCAF – Cup of NationsNorth AmericaCentral Americaand CaribbeanCONCACAF – ChampionshipSouth America\\nCONMEBOL – World Cup qualifiers\\nCopa América\\nU-20\\nLeague\\nClub\\nCopa Libertadores\\nOceaniaOFC – Nations CupEurope\\nUEFA – League\\nWorld Cup qualifiers\\nCup\\nClub\\nWinners Cup\\nMen\\'s\\nWomen\\'s\\nBaltic Sea & Scandinavian Beach Soccer League\\nGames\\nAsian Beach Games\\nBolivarian Beach Games\\nEuropean Games\\nMediterranean Beach Games\\nSouth American Beach Games\\n\\nvteInternational sports federationsASOIF (31)Summer Olympics Federations\\nWorld Aquatics (aquatic sports)\\nWA (archery)\\nWorld Athletics (athletics)\\nBWF (badminton)\\nFIBA (basketball)\\nIBA (boxing)\\nICF (canoeing)\\nUCI (cycling)\\nFEI (equestrian)\\nFIE (fencing)\\nFIFA (football)\\nIGF (golf)\\nFIG (gymnastics)\\nIHF (handball)\\nFIH (field hockey)\\nIJF (judo)\\nUIPM (modern pentathlon)\\nWS (roller sports)\\nFISA (rowing)\\nWR (rugby union)\\nWS (sailing)\\nISSF (shooting)\\nIFSC (sport climbing)\\nISA (surfing)\\nITTF (table tennis)\\nWT (taekwondo)\\nITF (tennis)\\nWT (triathlon)\\nFIVB (volleyball)\\nIWF (weightlifting)\\nUWW (wrestling)\\nAIOWF (7)Winter Olympics Federations\\nIBU (biathlon)\\nIBSF (bobsleigh and skeleton)\\nWCF (curling)\\nIIHF (ice hockey)\\nFIL (luge)\\nISU (skating sports)\\nFIS (skiing and snowboarding sports)\\nARISF (42)Others recognised by IOC\\nFAI (air sports)\\nIFAF (American football)\\nFIA (auto racing)\\nFIB (bandy)\\nWBSC (baseball, softball and Baseball5)\\nFIPV (basque pelota)\\nWCBS (billiards sports)\\nCMSB (boules)\\nIBF (bowling)\\nWBF (bridge)\\nICU (cheer)\\nFIDE (chess)\\nICC (cricket)\\nWDSF (dance sport)\\nIFF (floorball)\\nWFDF (flying disc)\\nIFI (ice stock sport)\\nWKF (karate)\\nWAKO (kickboxing)\\nIKF (korfball)\\nFIL (lacrosse)\\nILSF (life saving)\\nFIM (motorcycle sport)\\nUIAA (mountaineering)\\nIFMA (muaythai)\\nWN (netball)\\nIOF (orienteering)\\nFIP (polo)\\nUIM (powerboating)\\nIRF (racquetball)\\nWS (roller sports)\\nFIAS (sambo)\\nISMF (ski mountaineering)\\nIFSC (sport climbing)\\nWSF (squash)\\nIFS (sumo)\\nISA (surfing)\\nTWIF (tug-of-war)\\nCMAS (underwater sports)\\nFISU (university sports)\\nIWWF (waterski and wakeboard)\\nIWUF (wushu)\\nAIMS (20)Others in GAISF\\nIAF (aikido)\\nWAF (arm wrestling)\\nIFBB (bodybuilding)\\nICSF (casting)\\nWDF (darts)\\nIDBF (dragon boat)\\nFMJD (draughts)\\nIFA (fistball)\\nIGF (go)\\nJJIF (ju-jitsu)\\nFIK (kendo)\\nWMF (minigolf)\\nIPF (powerlifting)\\nIPSC (practical shooting)\\nFISav (savate)\\nISTAF (sepak takraw)\\nISFF (sleddog)\\nISTF (soft tennis)\\nCIPS (sport fishing)\\nFITEQ (teqball)\\nGAISF observer members (11)\\nWDA (dodgeball)\\nFIFG (footgolf)\\nIJRU (jump rope)\\nIUKL (kettlebell lifting)\\nFISO (obstacle)\\nIPF (padel)\\nIFP (poker)\\nIPSF (pole dance)\\nIRF (rafting)\\nIRL (rugby league)\\nITSF (table football/soccer)\\nOthers\\nWEKAF (arnis)\\nAFLC (Australian rules football)\\nWBGF (backgammon)\\nISBHF (ball hockey)\\nIBA (bodyboarding)\\nWB (bowls)\\nIBJJF (Brazilian jiu-jitsu)\\nIFBA (broomball)\\nWCF (croquet)\\nIGAA (Gaelic football and hurling)\\nWDBF (dodgeball)\\nIKF (kabaddi)\\nIKF (kempo)\\nFISLY (landsailing)\\nIMMAF (mixed martial arts)\\nWMRA (mountain running)\\nORSI (ocean rowing)\\nIFP (pickleball)\\nIQA (quidditch)\\nIFMAR (radio-controlled racing)\\nIRF (rogaining)\\nWSSF (snowshoe running)\\nISF (skyrunning)\\nWSSA (sport stacking)\\nITHF (table hockey)\\nITPF (tent pegging)\\nFIT (touch football)\\nITRA (trail running)\\nIAU (ultra running)\\n\\nInternational Olympic Committee\\nInternational World Games Association\\nGlobal Association of International Sports Federations\\n\\nAuthority control databases International\\nISNI\\nVIAF\\nNational\\nFrance\\nBnF data\\nGermany\\nIsrael\\nUnited States\\nJapan\\nCzech Republic\\nOther\\nIdRef\\n\\n\\n\\n\\n\\nRetrieved from \"https://en.wikipedia.org/w/index.php?title=FIFA&oldid=1179755612\"\\nCategories: FIFA1904 establishments in FranceAssociation football governing bodiesOrganisations based in ZürichInternational sports organisations based in SwitzerlandSports organizations established in 1904Association of Summer Olympic International FederationsHidden categories: CS1 German-language sources (de)Articles with short descriptionShort description matches WikidataUse Oxford spelling from February 2020Use dmy dates from September 2021Coordinates not on WikidataArticles containing French-language textArticles needing additional references from May 2017All articles needing additional referencesWikipedia neutral point of view disputes from February 2022All Wikipedia neutral point of view disputesArticles with hatnote templates targeting a nonexistent pageArticles containing potentially dated statements from May 2011All articles containing potentially dated statementsCommons category link from WikidataArticles with Arabic-language sources (ar)Articles with French-language sources (fr)Articles with German-language sources (de)Articles with Japanese-language sources (ja)Articles with Lithuanian-language sources (lt)Articles with Russian-language sources (ru)Articles with Spanish-language sources (es)Articles with ISNI identifiersArticles with VIAF identifiersArticles with BNF identifiersArticles with BNFdata identifiersArticles with GND identifiersArticles with J9U identifiersArticles with LCCN identifiersArticles with NDL identifiersArticles with NKC identifiersArticles with SUDOC identifiers\\n\\n\\n\\n\\n\\n\\n This page was last edited on 12 October 2023, at 06:42\\xa0(UTC).\\nText is available under the Creative Commons Attribution-ShareAlike License 4.0;\\nadditional terms may apply.  By using this site, you agree to the Terms of Use and Privacy Policy. Wikipedia® is a registered trademark of the Wikimedia Foundation, Inc., a non-profit organization.\\n\\n\\nPrivacy policy\\nAbout Wikipedia\\nDisclaimers\\nContact Wikipedia\\nCode of Conduct\\nDevelopers\\nStatistics\\nCookie statement\\nMobile view\\n\\n\\n\\n\\n\\n\\n\\n\\n\\n\\n\\n\\n\\nToggle limited content width\\n\\n\\n\\n\\n\\n\\n\\n', metadata={'source': 'https://en.wikipedia.org/wiki/FIFA', 'title': 'FIFA - Wikipedia', 'language': 'en'})]"
      ]
     },
     "execution_count": 37,
     "metadata": {},
     "output_type": "execute_result"
    }
   ],
   "source": [
    "data"
   ]
  },
  {
   "cell_type": "code",
   "execution_count": 38,
   "metadata": {},
   "outputs": [
    {
     "name": "stderr",
     "output_type": "stream",
     "text": [
      "C:\\Users\\Administrator\\AppData\\Roaming\\Python\\Python311\\site-packages\\spacy\\pipeline\\lemmatizer.py:211: UserWarning: [W108] The rule-based lemmatizer did not find POS annotation for one or more tokens. Check that your pipeline includes components that assign token.pos, typically 'tagger'+'attribute_ruler' or 'morphologizer'.\n",
      "  warnings.warn(Warnings.W108)\n",
      "Created a chunk of size 404, which is longer than the specified 20\n",
      "Created a chunk of size 3465, which is longer than the specified 20\n",
      "Created a chunk of size 59, which is longer than the specified 20\n",
      "Created a chunk of size 42, which is longer than the specified 20\n",
      "Created a chunk of size 75, which is longer than the specified 20\n",
      "Created a chunk of size 591, which is longer than the specified 20\n",
      "Created a chunk of size 208, which is longer than the specified 20\n",
      "Created a chunk of size 63, which is longer than the specified 20\n",
      "Created a chunk of size 28, which is longer than the specified 20\n",
      "Created a chunk of size 110, which is longer than the specified 20\n",
      "Created a chunk of size 263, which is longer than the specified 20\n",
      "Created a chunk of size 180, which is longer than the specified 20\n",
      "Created a chunk of size 93, which is longer than the specified 20\n",
      "Created a chunk of size 276, which is longer than the specified 20\n",
      "Created a chunk of size 66, which is longer than the specified 20\n",
      "Created a chunk of size 225, which is longer than the specified 20\n",
      "Created a chunk of size 205, which is longer than the specified 20\n",
      "Created a chunk of size 227, which is longer than the specified 20\n",
      "Created a chunk of size 491, which is longer than the specified 20\n",
      "Created a chunk of size 209, which is longer than the specified 20\n",
      "Created a chunk of size 206, which is longer than the specified 20\n",
      "Created a chunk of size 241, which is longer than the specified 20\n",
      "Created a chunk of size 245, which is longer than the specified 20\n",
      "Created a chunk of size 193, which is longer than the specified 20\n",
      "Created a chunk of size 129, which is longer than the specified 20\n",
      "Created a chunk of size 182, which is longer than the specified 20\n",
      "Created a chunk of size 228, which is longer than the specified 20\n",
      "Created a chunk of size 76, which is longer than the specified 20\n",
      "Created a chunk of size 238, which is longer than the specified 20\n",
      "Created a chunk of size 164, which is longer than the specified 20\n",
      "Created a chunk of size 104, which is longer than the specified 20\n",
      "Created a chunk of size 564, which is longer than the specified 20\n",
      "Created a chunk of size 47, which is longer than the specified 20\n",
      "Created a chunk of size 230, which is longer than the specified 20\n",
      "Created a chunk of size 96, which is longer than the specified 20\n",
      "Created a chunk of size 209, which is longer than the specified 20\n",
      "Created a chunk of size 48, which is longer than the specified 20\n",
      "Created a chunk of size 96, which is longer than the specified 20\n",
      "Created a chunk of size 304, which is longer than the specified 20\n",
      "Created a chunk of size 317, which is longer than the specified 20\n",
      "Created a chunk of size 71, which is longer than the specified 20\n",
      "Created a chunk of size 598, which is longer than the specified 20\n",
      "Created a chunk of size 102, which is longer than the specified 20\n",
      "Created a chunk of size 1442, which is longer than the specified 20\n",
      "Created a chunk of size 83, which is longer than the specified 20\n",
      "Created a chunk of size 133, which is longer than the specified 20\n",
      "Created a chunk of size 378, which is longer than the specified 20\n",
      "Created a chunk of size 208, which is longer than the specified 20\n",
      "Created a chunk of size 311, which is longer than the specified 20\n",
      "Created a chunk of size 123, which is longer than the specified 20\n",
      "Created a chunk of size 106, which is longer than the specified 20\n",
      "Created a chunk of size 213, which is longer than the specified 20\n",
      "Created a chunk of size 80, which is longer than the specified 20\n",
      "Created a chunk of size 168, which is longer than the specified 20\n",
      "Created a chunk of size 113, which is longer than the specified 20\n",
      "Created a chunk of size 92, which is longer than the specified 20\n",
      "Created a chunk of size 126, which is longer than the specified 20\n",
      "Created a chunk of size 114, which is longer than the specified 20\n",
      "Created a chunk of size 50, which is longer than the specified 20\n",
      "Created a chunk of size 120, which is longer than the specified 20\n",
      "Created a chunk of size 318, which is longer than the specified 20\n",
      "Created a chunk of size 147, which is longer than the specified 20\n",
      "Created a chunk of size 88, which is longer than the specified 20\n",
      "Created a chunk of size 207, which is longer than the specified 20\n",
      "Created a chunk of size 373, which is longer than the specified 20\n",
      "Created a chunk of size 159, which is longer than the specified 20\n",
      "Created a chunk of size 158, which is longer than the specified 20\n",
      "Created a chunk of size 370, which is longer than the specified 20\n",
      "Created a chunk of size 90, which is longer than the specified 20\n",
      "Created a chunk of size 160, which is longer than the specified 20\n",
      "Created a chunk of size 154, which is longer than the specified 20\n",
      "Created a chunk of size 179, which is longer than the specified 20\n",
      "Created a chunk of size 74, which is longer than the specified 20\n",
      "Created a chunk of size 89, which is longer than the specified 20\n",
      "Created a chunk of size 49, which is longer than the specified 20\n",
      "Created a chunk of size 107, which is longer than the specified 20\n",
      "Created a chunk of size 204, which is longer than the specified 20\n",
      "Created a chunk of size 279, which is longer than the specified 20\n",
      "Created a chunk of size 79, which is longer than the specified 20\n",
      "Created a chunk of size 80, which is longer than the specified 20\n",
      "Created a chunk of size 123, which is longer than the specified 20\n",
      "Created a chunk of size 287, which is longer than the specified 20\n",
      "Created a chunk of size 230, which is longer than the specified 20\n",
      "Created a chunk of size 320, which is longer than the specified 20\n",
      "Created a chunk of size 154, which is longer than the specified 20\n",
      "Created a chunk of size 198, which is longer than the specified 20\n",
      "Created a chunk of size 68, which is longer than the specified 20\n",
      "Created a chunk of size 348, which is longer than the specified 20\n",
      "Created a chunk of size 151, which is longer than the specified 20\n",
      "Created a chunk of size 166, which is longer than the specified 20\n",
      "Created a chunk of size 45, which is longer than the specified 20\n",
      "Created a chunk of size 855, which is longer than the specified 20\n",
      "Created a chunk of size 93, which is longer than the specified 20\n",
      "Created a chunk of size 316, which is longer than the specified 20\n",
      "Created a chunk of size 168, which is longer than the specified 20\n",
      "Created a chunk of size 56, which is longer than the specified 20\n",
      "Created a chunk of size 129, which is longer than the specified 20\n",
      "Created a chunk of size 175, which is longer than the specified 20\n",
      "Created a chunk of size 80, which is longer than the specified 20\n",
      "Created a chunk of size 68, which is longer than the specified 20\n",
      "Created a chunk of size 209, which is longer than the specified 20\n",
      "Created a chunk of size 133, which is longer than the specified 20\n",
      "Created a chunk of size 81, which is longer than the specified 20\n",
      "Created a chunk of size 161, which is longer than the specified 20\n",
      "Created a chunk of size 97, which is longer than the specified 20\n",
      "Created a chunk of size 327, which is longer than the specified 20\n",
      "Created a chunk of size 82, which is longer than the specified 20\n",
      "Created a chunk of size 215, which is longer than the specified 20\n",
      "Created a chunk of size 333, which is longer than the specified 20\n",
      "Created a chunk of size 379, which is longer than the specified 20\n",
      "Created a chunk of size 134, which is longer than the specified 20\n",
      "Created a chunk of size 45, which is longer than the specified 20\n",
      "Created a chunk of size 129, which is longer than the specified 20\n",
      "Created a chunk of size 75, which is longer than the specified 20\n",
      "Created a chunk of size 77, which is longer than the specified 20\n",
      "Created a chunk of size 45, which is longer than the specified 20\n",
      "Created a chunk of size 136, which is longer than the specified 20\n",
      "Created a chunk of size 107, which is longer than the specified 20\n"
     ]
    },
    {
     "name": "stderr",
     "output_type": "stream",
     "text": [
      "Created a chunk of size 114, which is longer than the specified 20\n",
      "Created a chunk of size 42, which is longer than the specified 20\n",
      "Created a chunk of size 51, which is longer than the specified 20\n",
      "Created a chunk of size 83, which is longer than the specified 20\n",
      "Created a chunk of size 38, which is longer than the specified 20\n",
      "Created a chunk of size 43, which is longer than the specified 20\n",
      "Created a chunk of size 41, which is longer than the specified 20\n",
      "Created a chunk of size 186, which is longer than the specified 20\n",
      "Created a chunk of size 49, which is longer than the specified 20\n",
      "Created a chunk of size 458, which is longer than the specified 20\n",
      "Created a chunk of size 119, which is longer than the specified 20\n",
      "Created a chunk of size 438, which is longer than the specified 20\n",
      "Created a chunk of size 684, which is longer than the specified 20\n",
      "Created a chunk of size 49, which is longer than the specified 20\n",
      "Created a chunk of size 699, which is longer than the specified 20\n",
      "Created a chunk of size 212, which is longer than the specified 20\n",
      "Created a chunk of size 581, which is longer than the specified 20\n",
      "Created a chunk of size 233, which is longer than the specified 20\n",
      "Created a chunk of size 25, which is longer than the specified 20\n",
      "Created a chunk of size 360, which is longer than the specified 20\n",
      "Created a chunk of size 143, which is longer than the specified 20\n",
      "Created a chunk of size 34, which is longer than the specified 20\n",
      "Created a chunk of size 252, which is longer than the specified 20\n",
      "Created a chunk of size 232, which is longer than the specified 20\n",
      "Created a chunk of size 329, which is longer than the specified 20\n",
      "Created a chunk of size 318, which is longer than the specified 20\n",
      "Created a chunk of size 147, which is longer than the specified 20\n",
      "Created a chunk of size 373, which is longer than the specified 20\n",
      "Created a chunk of size 97, which is longer than the specified 20\n",
      "Created a chunk of size 181, which is longer than the specified 20\n",
      "Created a chunk of size 261, which is longer than the specified 20\n",
      "Created a chunk of size 218, which is longer than the specified 20\n",
      "Created a chunk of size 164, which is longer than the specified 20\n",
      "Created a chunk of size 137, which is longer than the specified 20\n",
      "Created a chunk of size 101, which is longer than the specified 20\n",
      "Created a chunk of size 464, which is longer than the specified 20\n",
      "Created a chunk of size 78, which is longer than the specified 20\n",
      "Created a chunk of size 372, which is longer than the specified 20\n",
      "Created a chunk of size 369, which is longer than the specified 20\n",
      "Created a chunk of size 309, which is longer than the specified 20\n",
      "Created a chunk of size 103, which is longer than the specified 20\n",
      "Created a chunk of size 238, which is longer than the specified 20\n",
      "Created a chunk of size 138, which is longer than the specified 20\n",
      "Created a chunk of size 465, which is longer than the specified 20\n",
      "Created a chunk of size 91, which is longer than the specified 20\n",
      "Created a chunk of size 377, which is longer than the specified 20\n",
      "Created a chunk of size 167, which is longer than the specified 20\n",
      "Created a chunk of size 679, which is longer than the specified 20\n",
      "Created a chunk of size 478, which is longer than the specified 20\n",
      "Created a chunk of size 292, which is longer than the specified 20\n",
      "Created a chunk of size 354, which is longer than the specified 20\n",
      "Created a chunk of size 175, which is longer than the specified 20\n",
      "Created a chunk of size 161, which is longer than the specified 20\n",
      "Created a chunk of size 82, which is longer than the specified 20\n",
      "Created a chunk of size 123, which is longer than the specified 20\n",
      "Created a chunk of size 185, which is longer than the specified 20\n",
      "Created a chunk of size 104, which is longer than the specified 20\n",
      "Created a chunk of size 51, which is longer than the specified 20\n",
      "Created a chunk of size 95, which is longer than the specified 20\n",
      "Created a chunk of size 156, which is longer than the specified 20\n",
      "Created a chunk of size 141, which is longer than the specified 20\n",
      "Created a chunk of size 165, which is longer than the specified 20\n",
      "Created a chunk of size 236, which is longer than the specified 20\n",
      "Created a chunk of size 251, which is longer than the specified 20\n",
      "Created a chunk of size 1227, which is longer than the specified 20\n",
      "Created a chunk of size 357, which is longer than the specified 20\n",
      "Created a chunk of size 243, which is longer than the specified 20\n",
      "Created a chunk of size 119, which is longer than the specified 20\n",
      "Created a chunk of size 88, which is longer than the specified 20\n",
      "Created a chunk of size 198, which is longer than the specified 20\n",
      "Created a chunk of size 209, which is longer than the specified 20\n",
      "Created a chunk of size 345, which is longer than the specified 20\n",
      "Created a chunk of size 694, which is longer than the specified 20\n",
      "Created a chunk of size 80, which is longer than the specified 20\n",
      "Created a chunk of size 196, which is longer than the specified 20\n",
      "Created a chunk of size 165, which is longer than the specified 20\n",
      "Created a chunk of size 239, which is longer than the specified 20\n",
      "Created a chunk of size 200, which is longer than the specified 20\n",
      "Created a chunk of size 852, which is longer than the specified 20\n",
      "Created a chunk of size 140, which is longer than the specified 20\n",
      "Created a chunk of size 41, which is longer than the specified 20\n",
      "Created a chunk of size 199, which is longer than the specified 20\n",
      "Created a chunk of size 218, which is longer than the specified 20\n",
      "Created a chunk of size 539, which is longer than the specified 20\n",
      "Created a chunk of size 145, which is longer than the specified 20\n",
      "Created a chunk of size 373, which is longer than the specified 20\n",
      "Created a chunk of size 498, which is longer than the specified 20\n",
      "Created a chunk of size 30, which is longer than the specified 20\n",
      "Created a chunk of size 55, which is longer than the specified 20\n",
      "Created a chunk of size 33, which is longer than the specified 20\n",
      "Created a chunk of size 394, which is longer than the specified 20\n",
      "Created a chunk of size 372, which is longer than the specified 20\n",
      "Created a chunk of size 104, which is longer than the specified 20\n",
      "Created a chunk of size 406, which is longer than the specified 20\n",
      "Created a chunk of size 333, which is longer than the specified 20\n",
      "Created a chunk of size 58, which is longer than the specified 20\n",
      "Created a chunk of size 91, which is longer than the specified 20\n",
      "Created a chunk of size 65, which is longer than the specified 20\n",
      "Created a chunk of size 243, which is longer than the specified 20\n",
      "Created a chunk of size 42, which is longer than the specified 20\n",
      "Created a chunk of size 77, which is longer than the specified 20\n",
      "Created a chunk of size 45, which is longer than the specified 20\n",
      "Created a chunk of size 25, which is longer than the specified 20\n",
      "Created a chunk of size 35, which is longer than the specified 20\n",
      "Created a chunk of size 44, which is longer than the specified 20\n",
      "Created a chunk of size 29, which is longer than the specified 20\n",
      "Created a chunk of size 50, which is longer than the specified 20\n",
      "Created a chunk of size 32, which is longer than the specified 20\n",
      "Created a chunk of size 28, which is longer than the specified 20\n",
      "Created a chunk of size 31, which is longer than the specified 20\n",
      "Created a chunk of size 42, which is longer than the specified 20\n",
      "Created a chunk of size 25, which is longer than the specified 20\n",
      "Created a chunk of size 44, which is longer than the specified 20\n",
      "Created a chunk of size 25, which is longer than the specified 20\n",
      "Created a chunk of size 29, which is longer than the specified 20\n",
      "Created a chunk of size 47, which is longer than the specified 20\n",
      "Created a chunk of size 25, which is longer than the specified 20\n",
      "Created a chunk of size 30, which is longer than the specified 20\n",
      "Created a chunk of size 25, which is longer than the specified 20\n",
      "Created a chunk of size 48, which is longer than the specified 20\n",
      "Created a chunk of size 79, which is longer than the specified 20\n",
      "Created a chunk of size 42, which is longer than the specified 20\n",
      "Created a chunk of size 25, which is longer than the specified 20\n"
     ]
    },
    {
     "name": "stderr",
     "output_type": "stream",
     "text": [
      "Created a chunk of size 110, which is longer than the specified 20\n",
      "Created a chunk of size 34, which is longer than the specified 20\n",
      "Created a chunk of size 42, which is longer than the specified 20\n",
      "Created a chunk of size 24, which is longer than the specified 20\n",
      "Created a chunk of size 45, which is longer than the specified 20\n",
      "Created a chunk of size 71, which is longer than the specified 20\n",
      "Created a chunk of size 48, which is longer than the specified 20\n",
      "Created a chunk of size 24, which is longer than the specified 20\n",
      "Created a chunk of size 67, which is longer than the specified 20\n",
      "Created a chunk of size 46, which is longer than the specified 20\n",
      "Created a chunk of size 26, which is longer than the specified 20\n",
      "Created a chunk of size 109, which is longer than the specified 20\n",
      "Created a chunk of size 46, which is longer than the specified 20\n",
      "Created a chunk of size 26, which is longer than the specified 20\n",
      "Created a chunk of size 27, which is longer than the specified 20\n",
      "Created a chunk of size 80, which is longer than the specified 20\n",
      "Created a chunk of size 44, which is longer than the specified 20\n",
      "Created a chunk of size 26, which is longer than the specified 20\n",
      "Created a chunk of size 47, which is longer than the specified 20\n",
      "Created a chunk of size 26, which is longer than the specified 20\n",
      "Created a chunk of size 71, which is longer than the specified 20\n",
      "Created a chunk of size 22, which is longer than the specified 20\n",
      "Created a chunk of size 44, which is longer than the specified 20\n",
      "Created a chunk of size 26, which is longer than the specified 20\n",
      "Created a chunk of size 79, which is longer than the specified 20\n",
      "Created a chunk of size 42, which is longer than the specified 20\n",
      "Created a chunk of size 25, which is longer than the specified 20\n",
      "Created a chunk of size 29, which is longer than the specified 20\n",
      "Created a chunk of size 35, which is longer than the specified 20\n",
      "Created a chunk of size 33, which is longer than the specified 20\n",
      "Created a chunk of size 49, which is longer than the specified 20\n",
      "Created a chunk of size 41, which is longer than the specified 20\n",
      "Created a chunk of size 44, which is longer than the specified 20\n",
      "Created a chunk of size 37, which is longer than the specified 20\n",
      "Created a chunk of size 44, which is longer than the specified 20\n",
      "Created a chunk of size 25, which is longer than the specified 20\n",
      "Created a chunk of size 21, which is longer than the specified 20\n",
      "Created a chunk of size 49, which is longer than the specified 20\n",
      "Created a chunk of size 22, which is longer than the specified 20\n",
      "Created a chunk of size 25, which is longer than the specified 20\n",
      "Created a chunk of size 39, which is longer than the specified 20\n",
      "Created a chunk of size 47, which is longer than the specified 20\n",
      "Created a chunk of size 28, which is longer than the specified 20\n",
      "Created a chunk of size 110, which is longer than the specified 20\n",
      "Created a chunk of size 45, which is longer than the specified 20\n",
      "Created a chunk of size 48, which is longer than the specified 20\n",
      "Created a chunk of size 45, which is longer than the specified 20\n",
      "Created a chunk of size 46, which is longer than the specified 20\n",
      "Created a chunk of size 29, which is longer than the specified 20\n",
      "Created a chunk of size 83, which is longer than the specified 20\n",
      "Created a chunk of size 22, which is longer than the specified 20\n",
      "Created a chunk of size 46, which is longer than the specified 20\n",
      "Created a chunk of size 29, which is longer than the specified 20\n",
      "Created a chunk of size 84, which is longer than the specified 20\n",
      "Created a chunk of size 64, which is longer than the specified 20\n",
      "Created a chunk of size 47, which is longer than the specified 20\n",
      "Created a chunk of size 44, which is longer than the specified 20\n",
      "Created a chunk of size 44, which is longer than the specified 20\n",
      "Created a chunk of size 48, which is longer than the specified 20\n",
      "Created a chunk of size 109, which is longer than the specified 20\n",
      "Created a chunk of size 46, which is longer than the specified 20\n",
      "Created a chunk of size 28, which is longer than the specified 20\n",
      "Created a chunk of size 47, which is longer than the specified 20\n",
      "Created a chunk of size 24, which is longer than the specified 20\n",
      "Created a chunk of size 49, which is longer than the specified 20\n",
      "Created a chunk of size 43, which is longer than the specified 20\n",
      "Created a chunk of size 29, which is longer than the specified 20\n",
      "Created a chunk of size 94, which is longer than the specified 20\n",
      "Created a chunk of size 45, which is longer than the specified 20\n",
      "Created a chunk of size 82, which is longer than the specified 20\n",
      "Created a chunk of size 29, which is longer than the specified 20\n",
      "Created a chunk of size 46, which is longer than the specified 20\n",
      "Created a chunk of size 28, which is longer than the specified 20\n",
      "Created a chunk of size 39, which is longer than the specified 20\n",
      "Created a chunk of size 46, which is longer than the specified 20\n",
      "Created a chunk of size 28, which is longer than the specified 20\n",
      "Created a chunk of size 24, which is longer than the specified 20\n",
      "Created a chunk of size 42, which is longer than the specified 20\n",
      "Created a chunk of size 28, which is longer than the specified 20\n",
      "Created a chunk of size 33, which is longer than the specified 20\n",
      "Created a chunk of size 46, which is longer than the specified 20\n",
      "Created a chunk of size 47, which is longer than the specified 20\n",
      "Created a chunk of size 28, which is longer than the specified 20\n",
      "Created a chunk of size 59, which is longer than the specified 20\n",
      "Created a chunk of size 47, which is longer than the specified 20\n",
      "Created a chunk of size 28, which is longer than the specified 20\n",
      "Created a chunk of size 57, which is longer than the specified 20\n",
      "Created a chunk of size 22, which is longer than the specified 20\n",
      "Created a chunk of size 43, which is longer than the specified 20\n",
      "Created a chunk of size 28, which is longer than the specified 20\n",
      "Created a chunk of size 38, which is longer than the specified 20\n",
      "Created a chunk of size 45, which is longer than the specified 20\n",
      "Created a chunk of size 37, which is longer than the specified 20\n",
      "Created a chunk of size 52, which is longer than the specified 20\n",
      "Created a chunk of size 34, which is longer than the specified 20\n",
      "Created a chunk of size 27, which is longer than the specified 20\n",
      "Created a chunk of size 45, which is longer than the specified 20\n",
      "Created a chunk of size 62, which is longer than the specified 20\n",
      "Created a chunk of size 43, which is longer than the specified 20\n",
      "Created a chunk of size 26, which is longer than the specified 20\n",
      "Created a chunk of size 31, which is longer than the specified 20\n",
      "Created a chunk of size 61, which is longer than the specified 20\n",
      "Created a chunk of size 76, which is longer than the specified 20\n",
      "Created a chunk of size 31, which is longer than the specified 20\n",
      "Created a chunk of size 50, which is longer than the specified 20\n",
      "Created a chunk of size 26, which is longer than the specified 20\n",
      "Created a chunk of size 32, which is longer than the specified 20\n",
      "Created a chunk of size 47, which is longer than the specified 20\n",
      "Created a chunk of size 29, which is longer than the specified 20\n",
      "Created a chunk of size 22, which is longer than the specified 20\n",
      "Created a chunk of size 27, which is longer than the specified 20\n",
      "Created a chunk of size 48, which is longer than the specified 20\n",
      "Created a chunk of size 50, which is longer than the specified 20\n",
      "Created a chunk of size 29, which is longer than the specified 20\n",
      "Created a chunk of size 39, which is longer than the specified 20\n",
      "Created a chunk of size 47, which is longer than the specified 20\n",
      "Created a chunk of size 25, which is longer than the specified 20\n",
      "Created a chunk of size 51, which is longer than the specified 20\n",
      "Created a chunk of size 43, which is longer than the specified 20\n",
      "Created a chunk of size 24, which is longer than the specified 20\n",
      "Created a chunk of size 29, which is longer than the specified 20\n",
      "Created a chunk of size 32, which is longer than the specified 20\n",
      "Created a chunk of size 42, which is longer than the specified 20\n",
      "Created a chunk of size 24, which is longer than the specified 20\n",
      "Created a chunk of size 31, which is longer than the specified 20\n"
     ]
    },
    {
     "name": "stderr",
     "output_type": "stream",
     "text": [
      "Created a chunk of size 43, which is longer than the specified 20\n",
      "Created a chunk of size 24, which is longer than the specified 20\n",
      "Created a chunk of size 32, which is longer than the specified 20\n",
      "Created a chunk of size 37, which is longer than the specified 20\n",
      "Created a chunk of size 34, which is longer than the specified 20\n",
      "Created a chunk of size 42, which is longer than the specified 20\n",
      "Created a chunk of size 29, which is longer than the specified 20\n",
      "Created a chunk of size 44, which is longer than the specified 20\n",
      "Created a chunk of size 44, which is longer than the specified 20\n",
      "Created a chunk of size 29, which is longer than the specified 20\n",
      "Created a chunk of size 77, which is longer than the specified 20\n",
      "Created a chunk of size 21, which is longer than the specified 20\n",
      "Created a chunk of size 47, which is longer than the specified 20\n",
      "Created a chunk of size 29, which is longer than the specified 20\n",
      "Created a chunk of size 48, which is longer than the specified 20\n",
      "Created a chunk of size 44, which is longer than the specified 20\n",
      "Created a chunk of size 26, which is longer than the specified 20\n",
      "Created a chunk of size 30, which is longer than the specified 20\n",
      "Created a chunk of size 51, which is longer than the specified 20\n",
      "Created a chunk of size 42, which is longer than the specified 20\n",
      "Created a chunk of size 25, which is longer than the specified 20\n",
      "Created a chunk of size 94, which is longer than the specified 20\n",
      "Created a chunk of size 44, which is longer than the specified 20\n",
      "Created a chunk of size 25, which is longer than the specified 20\n",
      "Created a chunk of size 39, which is longer than the specified 20\n",
      "Created a chunk of size 43, which is longer than the specified 20\n",
      "Created a chunk of size 25, which is longer than the specified 20\n",
      "Created a chunk of size 85, which is longer than the specified 20\n",
      "Created a chunk of size 25, which is longer than the specified 20\n",
      "Created a chunk of size 42, which is longer than the specified 20\n",
      "Created a chunk of size 25, which is longer than the specified 20\n",
      "Created a chunk of size 78, which is longer than the specified 20\n",
      "Created a chunk of size 44, which is longer than the specified 20\n",
      "Created a chunk of size 25, which is longer than the specified 20\n",
      "Created a chunk of size 50, which is longer than the specified 20\n",
      "Created a chunk of size 47, which is longer than the specified 20\n",
      "Created a chunk of size 29, which is longer than the specified 20\n",
      "Created a chunk of size 28, which is longer than the specified 20\n",
      "Created a chunk of size 36, which is longer than the specified 20\n",
      "Created a chunk of size 42, which is longer than the specified 20\n",
      "Created a chunk of size 25, which is longer than the specified 20\n",
      "Created a chunk of size 37, which is longer than the specified 20\n",
      "Created a chunk of size 29, which is longer than the specified 20\n",
      "Created a chunk of size 67, which is longer than the specified 20\n",
      "Created a chunk of size 43, which is longer than the specified 20\n",
      "Created a chunk of size 25, which is longer than the specified 20\n",
      "Created a chunk of size 39, which is longer than the specified 20\n",
      "Created a chunk of size 29, which is longer than the specified 20\n",
      "Created a chunk of size 67, which is longer than the specified 20\n",
      "Created a chunk of size 43, which is longer than the specified 20\n",
      "Created a chunk of size 25, which is longer than the specified 20\n",
      "Created a chunk of size 40, which is longer than the specified 20\n",
      "Created a chunk of size 43, which is longer than the specified 20\n",
      "Created a chunk of size 25, which is longer than the specified 20\n",
      "Created a chunk of size 40, which is longer than the specified 20\n",
      "Created a chunk of size 42, which is longer than the specified 20\n",
      "Created a chunk of size 25, which is longer than the specified 20\n",
      "Created a chunk of size 35, which is longer than the specified 20\n",
      "Created a chunk of size 41, which is longer than the specified 20\n",
      "Created a chunk of size 24, which is longer than the specified 20\n",
      "Created a chunk of size 37, which is longer than the specified 20\n",
      "Created a chunk of size 30, which is longer than the specified 20\n",
      "Created a chunk of size 37, which is longer than the specified 20\n",
      "Created a chunk of size 46, which is longer than the specified 20\n",
      "Created a chunk of size 24, which is longer than the specified 20\n",
      "Created a chunk of size 45, which is longer than the specified 20\n",
      "Created a chunk of size 27, which is longer than the specified 20\n",
      "Created a chunk of size 43, which is longer than the specified 20\n",
      "Created a chunk of size 27, which is longer than the specified 20\n",
      "Created a chunk of size 43, which is longer than the specified 20\n",
      "Created a chunk of size 27, which is longer than the specified 20\n",
      "Created a chunk of size 25, which is longer than the specified 20\n",
      "Created a chunk of size 42, which is longer than the specified 20\n",
      "Created a chunk of size 27, which is longer than the specified 20\n",
      "Created a chunk of size 88, which is longer than the specified 20\n",
      "Created a chunk of size 48, which is longer than the specified 20\n",
      "Created a chunk of size 43, which is longer than the specified 20\n",
      "Created a chunk of size 23, which is longer than the specified 20\n",
      "Created a chunk of size 146, which is longer than the specified 20\n",
      "Created a chunk of size 43, which is longer than the specified 20\n",
      "Created a chunk of size 27, which is longer than the specified 20\n",
      "Created a chunk of size 37, which is longer than the specified 20\n",
      "Created a chunk of size 44, which is longer than the specified 20\n",
      "Created a chunk of size 26, which is longer than the specified 20\n",
      "Created a chunk of size 80, which is longer than the specified 20\n",
      "Created a chunk of size 44, which is longer than the specified 20\n",
      "Created a chunk of size 26, which is longer than the specified 20\n",
      "Created a chunk of size 74, which is longer than the specified 20\n",
      "Created a chunk of size 44, which is longer than the specified 20\n",
      "Created a chunk of size 26, which is longer than the specified 20\n",
      "Created a chunk of size 87, which is longer than the specified 20\n",
      "Created a chunk of size 44, which is longer than the specified 20\n",
      "Created a chunk of size 26, which is longer than the specified 20\n",
      "Created a chunk of size 77, which is longer than the specified 20\n",
      "Created a chunk of size 44, which is longer than the specified 20\n",
      "Created a chunk of size 26, which is longer than the specified 20\n",
      "Created a chunk of size 66, which is longer than the specified 20\n",
      "Created a chunk of size 26, which is longer than the specified 20\n",
      "Created a chunk of size 26, which is longer than the specified 20\n",
      "Created a chunk of size 54, which is longer than the specified 20\n",
      "Created a chunk of size 56, which is longer than the specified 20\n",
      "Created a chunk of size 100, which is longer than the specified 20\n",
      "Created a chunk of size 69, which is longer than the specified 20\n",
      "Created a chunk of size 45, which is longer than the specified 20\n",
      "Created a chunk of size 27, which is longer than the specified 20\n",
      "Created a chunk of size 35, which is longer than the specified 20\n",
      "Created a chunk of size 29, which is longer than the specified 20\n",
      "Created a chunk of size 47, which is longer than the specified 20\n",
      "Created a chunk of size 29, which is longer than the specified 20\n",
      "Created a chunk of size 45, which is longer than the specified 20\n",
      "Created a chunk of size 43, which is longer than the specified 20\n",
      "Created a chunk of size 24, which is longer than the specified 20\n",
      "Created a chunk of size 54, which is longer than the specified 20\n",
      "Created a chunk of size 45, which is longer than the specified 20\n",
      "Created a chunk of size 29, which is longer than the specified 20\n",
      "Created a chunk of size 66, which is longer than the specified 20\n",
      "Created a chunk of size 46, which is longer than the specified 20\n",
      "Created a chunk of size 24, which is longer than the specified 20\n",
      "Created a chunk of size 28, which is longer than the specified 20\n",
      "Created a chunk of size 22, which is longer than the specified 20\n",
      "Created a chunk of size 44, which is longer than the specified 20\n",
      "Created a chunk of size 78, which is longer than the specified 20\n",
      "Created a chunk of size 42, which is longer than the specified 20\n",
      "Created a chunk of size 25, which is longer than the specified 20\n",
      "Created a chunk of size 97, which is longer than the specified 20\n"
     ]
    },
    {
     "name": "stderr",
     "output_type": "stream",
     "text": [
      "Created a chunk of size 28, which is longer than the specified 20\n",
      "Created a chunk of size 23, which is longer than the specified 20\n",
      "Created a chunk of size 66, which is longer than the specified 20\n",
      "Created a chunk of size 47, which is longer than the specified 20\n",
      "Created a chunk of size 28, which is longer than the specified 20\n",
      "Created a chunk of size 76, which is longer than the specified 20\n",
      "Created a chunk of size 45, which is longer than the specified 20\n",
      "Created a chunk of size 29, which is longer than the specified 20\n",
      "Created a chunk of size 71, which is longer than the specified 20\n",
      "Created a chunk of size 44, which is longer than the specified 20\n",
      "Created a chunk of size 50, which is longer than the specified 20\n",
      "Created a chunk of size 49, which is longer than the specified 20\n",
      "Created a chunk of size 61, which is longer than the specified 20\n",
      "Created a chunk of size 48, which is longer than the specified 20\n",
      "Created a chunk of size 33, which is longer than the specified 20\n",
      "Created a chunk of size 44, which is longer than the specified 20\n",
      "Created a chunk of size 46, which is longer than the specified 20\n",
      "Created a chunk of size 30, which is longer than the specified 20\n",
      "Created a chunk of size 33, which is longer than the specified 20\n",
      "Created a chunk of size 62, which is longer than the specified 20\n",
      "Created a chunk of size 46, which is longer than the specified 20\n",
      "Created a chunk of size 29, which is longer than the specified 20\n",
      "Created a chunk of size 32, which is longer than the specified 20\n",
      "Created a chunk of size 37, which is longer than the specified 20\n",
      "Created a chunk of size 47, which is longer than the specified 20\n",
      "Created a chunk of size 29, which is longer than the specified 20\n",
      "Created a chunk of size 64, which is longer than the specified 20\n",
      "Created a chunk of size 42, which is longer than the specified 20\n",
      "Created a chunk of size 30, which is longer than the specified 20\n",
      "Created a chunk of size 32, which is longer than the specified 20\n",
      "Created a chunk of size 53, which is longer than the specified 20\n",
      "Created a chunk of size 46, which is longer than the specified 20\n",
      "Created a chunk of size 29, which is longer than the specified 20\n",
      "Created a chunk of size 55, which is longer than the specified 20\n",
      "Created a chunk of size 46, which is longer than the specified 20\n",
      "Created a chunk of size 29, which is longer than the specified 20\n",
      "Created a chunk of size 38, which is longer than the specified 20\n",
      "Created a chunk of size 72, which is longer than the specified 20\n",
      "Created a chunk of size 47, which is longer than the specified 20\n",
      "Created a chunk of size 29, which is longer than the specified 20\n",
      "Created a chunk of size 60, which is longer than the specified 20\n",
      "Created a chunk of size 47, which is longer than the specified 20\n",
      "Created a chunk of size 24, which is longer than the specified 20\n",
      "Created a chunk of size 36, which is longer than the specified 20\n",
      "Created a chunk of size 35, which is longer than the specified 20\n",
      "Created a chunk of size 42, which is longer than the specified 20\n",
      "Created a chunk of size 24, which is longer than the specified 20\n",
      "Created a chunk of size 48, which is longer than the specified 20\n",
      "Created a chunk of size 42, which is longer than the specified 20\n",
      "Created a chunk of size 24, which is longer than the specified 20\n",
      "Created a chunk of size 60, which is longer than the specified 20\n",
      "Created a chunk of size 45, which is longer than the specified 20\n",
      "Created a chunk of size 24, which is longer than the specified 20\n",
      "Created a chunk of size 45, which is longer than the specified 20\n",
      "Created a chunk of size 29, which is longer than the specified 20\n",
      "Created a chunk of size 69, which is longer than the specified 20\n",
      "Created a chunk of size 47, which is longer than the specified 20\n",
      "Created a chunk of size 29, which is longer than the specified 20\n",
      "Created a chunk of size 76, which is longer than the specified 20\n",
      "Created a chunk of size 34, which is longer than the specified 20\n",
      "Created a chunk of size 44, which is longer than the specified 20\n",
      "Created a chunk of size 26, which is longer than the specified 20\n",
      "Created a chunk of size 77, which is longer than the specified 20\n",
      "Created a chunk of size 44, which is longer than the specified 20\n",
      "Created a chunk of size 26, which is longer than the specified 20\n",
      "Created a chunk of size 68, which is longer than the specified 20\n",
      "Created a chunk of size 71, which is longer than the specified 20\n",
      "Created a chunk of size 45, which is longer than the specified 20\n",
      "Created a chunk of size 36, which is longer than the specified 20\n",
      "Created a chunk of size 80, which is longer than the specified 20\n",
      "Created a chunk of size 70, which is longer than the specified 20\n",
      "Created a chunk of size 24, which is longer than the specified 20\n",
      "Created a chunk of size 54, which is longer than the specified 20\n",
      "Created a chunk of size 35, which is longer than the specified 20\n",
      "Created a chunk of size 49, which is longer than the specified 20\n",
      "Created a chunk of size 68, which is longer than the specified 20\n",
      "Created a chunk of size 70, which is longer than the specified 20\n",
      "Created a chunk of size 24, which is longer than the specified 20\n",
      "Created a chunk of size 116, which is longer than the specified 20\n",
      "Created a chunk of size 24, which is longer than the specified 20\n",
      "Created a chunk of size 102, which is longer than the specified 20\n",
      "Created a chunk of size 84, which is longer than the specified 20\n",
      "Created a chunk of size 107, which is longer than the specified 20\n",
      "Created a chunk of size 32, which is longer than the specified 20\n",
      "Created a chunk of size 66, which is longer than the specified 20\n",
      "Created a chunk of size 42, which is longer than the specified 20\n",
      "Created a chunk of size 24, which is longer than the specified 20\n",
      "Created a chunk of size 50, which is longer than the specified 20\n",
      "Created a chunk of size 24, which is longer than the specified 20\n",
      "Created a chunk of size 43, which is longer than the specified 20\n",
      "Created a chunk of size 24, which is longer than the specified 20\n",
      "Created a chunk of size 26, which is longer than the specified 20\n",
      "Created a chunk of size 73, which is longer than the specified 20\n",
      "Created a chunk of size 47, which is longer than the specified 20\n",
      "Created a chunk of size 24, which is longer than the specified 20\n",
      "Created a chunk of size 48, which is longer than the specified 20\n",
      "Created a chunk of size 42, which is longer than the specified 20\n",
      "Created a chunk of size 24, which is longer than the specified 20\n",
      "Created a chunk of size 43, which is longer than the specified 20\n",
      "Created a chunk of size 42, which is longer than the specified 20\n",
      "Created a chunk of size 24, which is longer than the specified 20\n",
      "Created a chunk of size 73, which is longer than the specified 20\n",
      "Created a chunk of size 28, which is longer than the specified 20\n",
      "Created a chunk of size 42, which is longer than the specified 20\n",
      "Created a chunk of size 24, which is longer than the specified 20\n",
      "Created a chunk of size 76, which is longer than the specified 20\n",
      "Created a chunk of size 43, which is longer than the specified 20\n",
      "Created a chunk of size 24, which is longer than the specified 20\n",
      "Created a chunk of size 32, which is longer than the specified 20\n",
      "Created a chunk of size 59, which is longer than the specified 20\n",
      "Created a chunk of size 46, which is longer than the specified 20\n",
      "Created a chunk of size 24, which is longer than the specified 20\n",
      "Created a chunk of size 26, which is longer than the specified 20\n",
      "Created a chunk of size 111, which is longer than the specified 20\n",
      "Created a chunk of size 46, which is longer than the specified 20\n",
      "Created a chunk of size 24, which is longer than the specified 20\n",
      "Created a chunk of size 34, which is longer than the specified 20\n",
      "Created a chunk of size 71, which is longer than the specified 20\n",
      "Created a chunk of size 48, which is longer than the specified 20\n",
      "Created a chunk of size 24, which is longer than the specified 20\n",
      "Created a chunk of size 26, which is longer than the specified 20\n",
      "Created a chunk of size 70, which is longer than the specified 20\n",
      "Created a chunk of size 47, which is longer than the specified 20\n",
      "Created a chunk of size 24, which is longer than the specified 20\n",
      "Created a chunk of size 95, which is longer than the specified 20\n"
     ]
    },
    {
     "name": "stderr",
     "output_type": "stream",
     "text": [
      "Created a chunk of size 38, which is longer than the specified 20\n",
      "Created a chunk of size 42, which is longer than the specified 20\n",
      "Created a chunk of size 24, which is longer than the specified 20\n",
      "Created a chunk of size 35, which is longer than the specified 20\n",
      "Created a chunk of size 72, which is longer than the specified 20\n",
      "Created a chunk of size 48, which is longer than the specified 20\n",
      "Created a chunk of size 24, which is longer than the specified 20\n",
      "Created a chunk of size 57, which is longer than the specified 20\n",
      "Created a chunk of size 23, which is longer than the specified 20\n",
      "Created a chunk of size 45, which is longer than the specified 20\n",
      "Created a chunk of size 24, which is longer than the specified 20\n",
      "Created a chunk of size 27, which is longer than the specified 20\n",
      "Created a chunk of size 91, which is longer than the specified 20\n",
      "Created a chunk of size 25, which is longer than the specified 20\n",
      "Created a chunk of size 47, which is longer than the specified 20\n",
      "Created a chunk of size 61, which is longer than the specified 20\n",
      "Created a chunk of size 46, which is longer than the specified 20\n",
      "Created a chunk of size 24, which is longer than the specified 20\n",
      "Created a chunk of size 28, which is longer than the specified 20\n",
      "Created a chunk of size 65, which is longer than the specified 20\n",
      "Created a chunk of size 46, which is longer than the specified 20\n",
      "Created a chunk of size 24, which is longer than the specified 20\n",
      "Created a chunk of size 34, which is longer than the specified 20\n",
      "Created a chunk of size 70, which is longer than the specified 20\n",
      "Created a chunk of size 47, which is longer than the specified 20\n",
      "Created a chunk of size 24, which is longer than the specified 20\n",
      "Created a chunk of size 36, which is longer than the specified 20\n",
      "Created a chunk of size 37, which is longer than the specified 20\n",
      "Created a chunk of size 42, which is longer than the specified 20\n",
      "Created a chunk of size 24, which is longer than the specified 20\n",
      "Created a chunk of size 72, which is longer than the specified 20\n",
      "Created a chunk of size 44, which is longer than the specified 20\n",
      "Created a chunk of size 24, which is longer than the specified 20\n",
      "Created a chunk of size 79, which is longer than the specified 20\n",
      "Created a chunk of size 22, which is longer than the specified 20\n",
      "Created a chunk of size 43, which is longer than the specified 20\n",
      "Created a chunk of size 24, which is longer than the specified 20\n",
      "Created a chunk of size 64, which is longer than the specified 20\n",
      "Created a chunk of size 42, which is longer than the specified 20\n",
      "Created a chunk of size 24, which is longer than the specified 20\n",
      "Created a chunk of size 106, which is longer than the specified 20\n",
      "Created a chunk of size 39, which is longer than the specified 20\n",
      "Created a chunk of size 56, which is longer than the specified 20\n",
      "Created a chunk of size 45, which is longer than the specified 20\n",
      "Created a chunk of size 28, which is longer than the specified 20\n",
      "Created a chunk of size 424, which is longer than the specified 20\n",
      "Created a chunk of size 73, which is longer than the specified 20\n",
      "Created a chunk of size 43, which is longer than the specified 20\n",
      "Created a chunk of size 99, which is longer than the specified 20\n",
      "Created a chunk of size 341, which is longer than the specified 20\n",
      "Created a chunk of size 784, which is longer than the specified 20\n",
      "Created a chunk of size 1026, which is longer than the specified 20\n",
      "Created a chunk of size 41, which is longer than the specified 20\n",
      "Created a chunk of size 47, which is longer than the specified 20\n",
      "Created a chunk of size 902, which is longer than the specified 20\n",
      "Created a chunk of size 1150, which is longer than the specified 20\n",
      "Created a chunk of size 267, which is longer than the specified 20\n",
      "Created a chunk of size 362, which is longer than the specified 20\n",
      "Created a chunk of size 105, which is longer than the specified 20\n",
      "Created a chunk of size 575, which is longer than the specified 20\n",
      "Created a chunk of size 798, which is longer than the specified 20\n",
      "Created a chunk of size 1083, which is longer than the specified 20\n",
      "Created a chunk of size 594, which is longer than the specified 20\n",
      "Created a chunk of size 5330, which is longer than the specified 20\n",
      "Created a chunk of size 901, which is longer than the specified 20\n",
      "Created a chunk of size 213, which is longer than the specified 20\n",
      "Created a chunk of size 48, which is longer than the specified 20\n",
      "Created a chunk of size 33, which is longer than the specified 20\n",
      "Created a chunk of size 150, which is longer than the specified 20\n",
      "Created a chunk of size 69, which is longer than the specified 20\n",
      "Created a chunk of size 52, which is longer than the specified 20\n",
      "Created a chunk of size 95, which is longer than the specified 20\n",
      "Created a chunk of size 98, which is longer than the specified 20\n",
      "Created a chunk of size 46, which is longer than the specified 20\n",
      "Created a chunk of size 70, which is longer than the specified 20\n",
      "Created a chunk of size 288, which is longer than the specified 20\n",
      "Created a chunk of size 304, which is longer than the specified 20\n",
      "Created a chunk of size 71, which is longer than the specified 20\n",
      "Created a chunk of size 26, which is longer than the specified 20\n",
      "Created a chunk of size 70, which is longer than the specified 20\n",
      "Created a chunk of size 281, which is longer than the specified 20\n",
      "Created a chunk of size 71, which is longer than the specified 20\n",
      "Created a chunk of size 58, which is longer than the specified 20\n",
      "Created a chunk of size 97, which is longer than the specified 20\n",
      "Created a chunk of size 350, which is longer than the specified 20\n",
      "Created a chunk of size 1944, which is longer than the specified 20\n",
      "Created a chunk of size 110, which is longer than the specified 20\n",
      "Created a chunk of size 69, which is longer than the specified 20\n",
      "Created a chunk of size 101, which is longer than the specified 20\n"
     ]
    }
   ],
   "source": [
    "from langchain.text_splitter import SpacyTextSplitter\n",
    " \n",
    "chunk_size = 20\n",
    "chunk_overlap = 4\n",
    " \n",
    "s_splitter = SpacyTextSplitter(\n",
    "    chunk_size=chunk_size, chunk_overlap=chunk_overlap)\n",
    "\n",
    "\n",
    "\n",
    "all_splits = s_splitter.split_documents(data)\n"
   ]
  },
  {
   "cell_type": "code",
   "execution_count": 39,
   "metadata": {},
   "outputs": [
    {
     "name": "stdout",
     "output_type": "stream",
     "text": [
      "Found model file at  C:\\\\\\\\Users\\\\\\\\Administrator\\\\\\\\.cache\\\\\\\\gpt4all\\\\ggml-all-MiniLM-L6-v2-f16.bin\n"
     ]
    }
   ],
   "source": [
    "vectorstore = Chroma.from_documents(documents=all_splits, embedding=GPT4AllEmbeddings())"
   ]
  },
  {
   "cell_type": "code",
   "execution_count": 40,
   "metadata": {},
   "outputs": [],
   "source": [
    "from langchain.llms import GPT4All\n",
    "from langchain.chains import RetrievalQA\n",
    "from langchain.prompts import PromptTemplate\n",
    "\n",
    "gpt4all_snoozy_model = \"E:/ggml-model-gpt4all-falcon-q4_0.bin\"\n",
    "\n",
    "template = \"\"\"Use the following pieces of context to answer the question at the end. \n",
    "If you don't know the answer, just say that you don't know, don't try to make up an answer. \n",
    "Add the Context used to the answer at the end of the answer. \n",
    "Always say \"thanks for asking!\" at the end of the answer.\n",
    "\n",
    "Context: {context}\n",
    "Question: {question}\n",
    "Helpful Answer:\"\"\"\n",
    "QA_CHAIN_PROMPT = PromptTemplate.from_template(template)"
   ]
  },
  {
   "cell_type": "code",
   "execution_count": 41,
   "metadata": {},
   "outputs": [
    {
     "name": "stdout",
     "output_type": "stream",
     "text": [
      "Found model file at  E:/ggml-model-gpt4all-falcon-q4_0.bin\n"
     ]
    }
   ],
   "source": [
    "llm = GPT4All(model=gpt4all_snoozy_model ,max_tokens=2048)\n",
    "qa_chain = RetrievalQA.from_chain_type(\n",
    "    llm,\n",
    "    retriever=vectorstore.as_retriever(),\n",
    "    chain_type_kwargs={\"prompt\": QA_CHAIN_PROMPT}\n",
    ")\n",
    "result = qa_chain({\"query\": question})"
   ]
  },
  {
   "cell_type": "code",
   "execution_count": 42,
   "metadata": {},
   "outputs": [
    {
     "data": {
      "text/plain": [
       "{'query': \"Which team is the champion of the 2022 FIFA Man's world cup?\",\n",
       " 'result': \" The Brazilian national football team won the 2022 FIFA Men's World Cup.\"}"
      ]
     },
     "execution_count": 42,
     "metadata": {},
     "output_type": "execute_result"
    }
   ],
   "source": [
    "result"
   ]
  },
  {
   "cell_type": "code",
   "execution_count": null,
   "metadata": {},
   "outputs": [],
   "source": []
  }
 ],
 "metadata": {
  "kernelspec": {
   "display_name": "Python 3 (ipykernel)",
   "language": "python",
   "name": "python3"
  },
  "language_info": {
   "codemirror_mode": {
    "name": "ipython",
    "version": 3
   },
   "file_extension": ".py",
   "mimetype": "text/x-python",
   "name": "python",
   "nbconvert_exporter": "python",
   "pygments_lexer": "ipython3",
   "version": "3.11.5"
  }
 },
 "nbformat": 4,
 "nbformat_minor": 4
}
