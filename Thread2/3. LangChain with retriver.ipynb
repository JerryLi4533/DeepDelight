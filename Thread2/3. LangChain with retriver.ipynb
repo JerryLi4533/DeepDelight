{
 "cells": [
  {
   "cell_type": "markdown",
   "metadata": {},
   "source": [
    "# LangChain with Retriver and Multiple Corpus\n",
    "\n",
    "Lixiao Yang \\\n",
    "10/12/2023"
   ]
  },
  {
   "cell_type": "markdown",
   "metadata": {},
   "source": [
    "## Findings and Discussions (Continue)\n",
    "For the above model, I use the locally downloaded **GPT4ALL Falcon** model to replace the original **OpenAI GPT3.5-turbo** model, it has the following specifications:\n",
    "- This model has been finetuned from Falcon\n",
    "- Developed by: Nomic AI\n",
    "- Model Type: A finetuned Falcon 7B model on assistant style interaction data\n",
    "- Language(s) (NLP): English\n",
    "- License: Apache-2\n",
    "- Finetuned from model [optional]: Falcon\n",
    "\n",
    "Based on the FIFA Wikipedia website result, I have the following findings:\n",
    "1. When dealing with pure text data, the answer is mostly correct.\n",
    "2. When the answer of the data involves with other format (table, etc.), the result is not displaying (ERROR: The prompt size exceeds the context window size and cannot be processed.)\n",
    "\n",
    "**[10/03 Update] DirectoryLoader Update**\n",
    "\n",
    "Based on the previous results, the loader is changed to the directory loader which contains all different sections in sepetate files, the table content is redescribed using natural language.\n",
    "\n",
    "Futher findings are as follows:\n",
    "1. The accuracy has shown some improvement from the previous version, especially for the data that are previously in tabular format. But still does not guarantee the 100% correctness.\n",
    "2. If the question is not specific enough, the model may locate the answer to different files/sections which can lead to incorrect answers.\n",
    "3. Model seems to be able to understand some hierachical relationship between sentenses. (Question6 did not mention \"runners-up\" in the original sentense, but the model seems to understand what it refers to based on the previous and following sentences.)\n",
    "\n",
    "**[10/12 Update] Retriver and Input Update**\n",
    "Updates:\n",
    "- Increased the overlap during spilting\n",
    "- Improved retrieval information, now with specific sentences instead of the whole document\n",
    "- Increased the number of documents, added some additional related information to the question as background.\n",
    "\n",
    "Findings:\n",
    "1. Significant improve in correctness, with most of the answers correctly located. \n",
    "2. Can extract information from different paragraphs and do basic counting.\n",
    "3. Basic arithmetic ability is not demonstrated.\n",
    "4. Unable to answer complex/general questions.\n",
    "5. Possibility to understand new concepts given additional background information. But unlikely to understand new concepts without any help.\n",
    "6. Can identify information in tabular format, but no understanding is shown."
   ]
  },
  {
   "cell_type": "markdown",
   "metadata": {},
   "source": [
    "## LangChain with Retriver"
   ]
  },
  {
   "cell_type": "code",
   "execution_count": 1,
   "metadata": {},
   "outputs": [],
   "source": [
    "from langchain.document_loaders import DirectoryLoader\n",
    "from langchain.text_splitter import RecursiveCharacterTextSplitter\n",
    "from langchain.embeddings import GPT4AllEmbeddings\n",
    "from langchain.vectorstores import Chroma\n",
    "from langchain.llms import GPT4All\n",
    "from langchain.chains import RetrievalQA\n",
    "from langchain.prompts import PromptTemplate\n"
   ]
  },
  {
   "cell_type": "markdown",
   "metadata": {},
   "source": [
    "The ParentDocumentRetriever strikes that balance by splitting and storing small chunks of data. During retrieval, it first fetches the small chunks but then looks up the parent ids for those chunks and returns those larger documents."
   ]
  },
  {
   "cell_type": "code",
   "execution_count": 2,
   "metadata": {},
   "outputs": [
    {
     "name": "stderr",
     "output_type": "stream",
     "text": [
      "  0%|          | 0/14 [00:00<?, ?it/s]"
     ]
    },
    {
     "name": "stderr",
     "output_type": "stream",
     "text": [
      "Need to load profiles.\n",
      "Need to load profiles.\n",
      "Need to load profiles.\n",
      "100%|██████████| 14/14 [00:04<00:00,  3.05it/s]\n"
     ]
    }
   ],
   "source": [
    "loader = DirectoryLoader('FIFA', glob=\"**/*.txt\", show_progress=True, use_multithreading=True)\n",
    "data = loader.load()"
   ]
  },
  {
   "cell_type": "markdown",
   "metadata": {},
   "source": [
    "Question answering over documents consists of four steps:\n",
    "\n",
    "1. Create an index\n",
    "2. Create a retriever from that index\n",
    "3. Create a question answering chain\n",
    "4. Ask questions!"
   ]
  },
  {
   "cell_type": "code",
   "execution_count": 3,
   "metadata": {},
   "outputs": [],
   "source": [
    "# Split\n",
    "text_splitter = RecursiveCharacterTextSplitter(chunk_size = 500, chunk_overlap = 100)\n",
    "all_splits = text_splitter.split_documents(data)"
   ]
  },
  {
   "cell_type": "code",
   "execution_count": 4,
   "metadata": {},
   "outputs": [
    {
     "name": "stdout",
     "output_type": "stream",
     "text": [
      "Found model file at  C:\\\\\\\\Users\\\\\\\\24075\\\\\\\\.cache\\\\\\\\gpt4all\\\\ggml-all-MiniLM-L6-v2-f16.bin\n"
     ]
    }
   ],
   "source": [
    "# Store\n",
    "vectorstore = Chroma.from_documents(documents=all_splits, embedding=GPT4AllEmbeddings())"
   ]
  },
  {
   "cell_type": "code",
   "execution_count": 5,
   "metadata": {},
   "outputs": [
    {
     "name": "stdout",
     "output_type": "stream",
     "text": [
      "Found model file at  C:\\\\\\\\Users\\\\\\\\24075\\\\\\\\.cache\\\\\\\\gpt4all\\\\ggml-all-MiniLM-L6-v2-f16.bin\n",
      "Found model file at  C:/Users/24075/AppData/Local/nomic.ai/GPT4All/ggml-model-gpt4all-falcon-q4_0.bin\n"
     ]
    }
   ],
   "source": [
    "# Retrieve\n",
    "embeddings = GPT4AllEmbeddings()\n",
    "\n",
    "gpt4all_falcon_model = \"C:/Users/24075/AppData/Local/nomic.ai/GPT4All/ggml-model-gpt4all-falcon-q4_0.bin\"\n",
    "\n",
    "llm = GPT4All(model=gpt4all_falcon_model ,max_tokens=2048)\n",
    "qa_chain = RetrievalQA.from_chain_type(llm, retriever=vectorstore.as_retriever())"
   ]
  },
  {
   "cell_type": "code",
   "execution_count": 6,
   "metadata": {},
   "outputs": [],
   "source": [
    "template = \"\"\"Use the following pieces of context to answer the question at the end. \n",
    "If you don't know the answer, just say that you don't know, don't try to make up an answer. \n",
    "Use three sentences maximum and keep the answer as concise as possible. \n",
    "Always say \"thanks for asking!\" at the end of the answer. \n",
    "{context}\n",
    "Question: {question}\n",
    "Helpful Answer:\"\"\"\n",
    "QA_CHAIN_PROMPT = PromptTemplate.from_template(template)"
   ]
  },
  {
   "cell_type": "code",
   "execution_count": 7,
   "metadata": {},
   "outputs": [
    {
     "data": {
      "text/plain": [
       "4"
      ]
     },
     "execution_count": 7,
     "metadata": {},
     "output_type": "execute_result"
    }
   ],
   "source": [
    "question = \"Which team is the champion of the 2022 FIFA world cup?\"\n",
    "docs = vectorstore.similarity_search(question)\n",
    "len(docs)"
   ]
  },
  {
   "cell_type": "code",
   "execution_count": 8,
   "metadata": {},
   "outputs": [
    {
     "name": "stdout",
     "output_type": "stream",
     "text": [
      " Argentina won the 2022 FIFA World Cup.\n"
     ]
    }
   ],
   "source": [
    "result = qa_chain({\"query\": question})\n",
    "print(result[\"result\"])\n",
    "# Argentina"
   ]
  },
  {
   "cell_type": "code",
   "execution_count": 9,
   "metadata": {},
   "outputs": [
    {
     "name": "stdout",
     "output_type": "stream",
     "text": [
      "Number of source documents: 4\n",
      "\n",
      "Document 1:\n",
      "Source: FIFA\\FIFA women's world cup.txt\n",
      "Content: 2023 - Australia/New Zealand The tournament was co-hosted by Australia and New Zealand in 2023. Spain won the title, defeating England 1–0 at Stadium Australia, Sydney. Sweden took third place with a 2–0 victory over Australia at Lang Park, Brisbane. The competition featured 32 teams.\n",
      "\n",
      "Document 2:\n",
      "Source: FIFA\\2023 FIFA Women World Cup final.txt\n",
      "Content: Euro 2022 as hosts but also had gone on to defeat Copa América Femenina winners Brazil on penalties at Wembley in the first Women's Finalissima. They had lost once with Sarina Wiegman as manager – a 2–0 friendly defeat to Australia in Brentford – and entered the Women's World Cup ranked fourth in the FIFA Women's World Ranking. [19] They were drawn in Group D with Haiti, Denmark, and 1999 runners-up China. [32] In the first two games, England won 1–0 against both Haiti and Denmark; the winning\n",
      "\n",
      "Document 3:\n",
      "Source: FIFA\\FIFA world cup.txt\n",
      "Content: the exception of 1942 and 1946 due to the Second World War. The reigning champions are Argentina, who won their third title at the 2022 tournament. The contest starts with the qualification phase, which takes place over the preceding three years to determine which teams qualify for the tournament phase. In the tournament phase, 32 teams compete for the title at venues within the host nation(s) over the course of about a month. The host nation(s) automatically qualify for the group stage of the\n",
      "\n",
      "Document 4:\n",
      "Source: FIFA\\FIFA world cup.txt\n",
      "Content: ### 2022 - Qatar Qatar hosted the tournament in 2022, and Argentina emerged as champions after a thrilling final against France, ending 3–3 after extra time and 4–2 in favor of Argentina in the penalty shootout at the Lusail Stadium in Lusail. Croatia secured third place with a 2–1 victory over Morocco at the Khalifa International Stadium in Al Rayyan. A total of 32 teams participated in this edition of the tournament.\n",
      "\n"
     ]
    }
   ],
   "source": [
    "qa_chain = RetrievalQA.from_chain_type(llm, retriever=vectorstore.as_retriever(),\n",
    "                                       return_source_documents=True)\n",
    "result = qa_chain({\"query\": question})\n",
    "\n",
    "print(f\"Number of source documents: {len(result['source_documents'])}\\n\")\n",
    "for i, doc in enumerate(result['source_documents'], 1):\n",
    "    print(f\"Document {i}:\")\n",
    "    print(f\"Source: {doc.metadata['source']}\")\n",
    "    print(f\"Content: {doc.page_content}\\n\")\n"
   ]
  },
  {
   "cell_type": "code",
   "execution_count": 10,
   "metadata": {},
   "outputs": [],
   "source": [
    "def retrieve_doc(result):\n",
    "    \"\"\"\n",
    "    Print the source documents in a structured format.\n",
    "\n",
    "    Parameters:\n",
    "    - result (dict): The result dictionary containing source documents.\n",
    "    \"\"\"\n",
    "    print(f\"Answer: {result['result']}\\n\")\n",
    "    \n",
    "    print(f\"Number of source documents: {len(result['source_documents'])}\\n\")\n",
    "    for i, doc in enumerate(result['source_documents'], 1):\n",
    "        print(f\"Document {i}:\")\n",
    "        print(f\"Source: {doc.metadata['source']}\")\n",
    "        print(f\"Content: {doc.page_content}\\n\")"
   ]
  },
  {
   "cell_type": "markdown",
   "metadata": {},
   "source": [
    "## Questions and Answers"
   ]
  },
  {
   "cell_type": "markdown",
   "metadata": {},
   "source": [
    "Question 1 examines the basic capability to answer questions."
   ]
  },
  {
   "cell_type": "code",
   "execution_count": 11,
   "metadata": {},
   "outputs": [
    {
     "name": "stdout",
     "output_type": "stream",
     "text": [
      "Answer:  Robert Guérin was the first president of FIFA.\n",
      "\n",
      "Number of source documents: 4\n",
      "\n",
      "Document 1:\n",
      "Source: FIFA\\history.txt\n",
      "Content: The first president of FIFA was Robert Guérin. Guérin was replaced in 1906 by Daniel Burley Woolfall from England, by then a member of the association. The first tournament FIFA staged, the association football competition for the 1908 Olympics in London was more successful than its Olympic predecessors, despite the presence of professional footballers, contrary to the founding principles of FIFA. [19][20][21][22]\n",
      "\n",
      "Document 2:\n",
      "Source: FIFA\\structure.txt\n",
      "Content: The president and the general secretary are the main office holders of FIFA and are in charge of its daily administration, carried out by the general secretariat, with its staff of approximately 280 members. Gianni Infantino is the current president, elected on 26 February 2016 at an extraordinary FIFA Congress session after former president Sepp Blatter was suspended pending a corruption investigation. [34][35]\n",
      "\n",
      "Document 3:\n",
      "Source: FIFA\\history.txt\n",
      "Content: Membership of FIFA expanded beyond Europe with the application of South Africa in 1909, Argentina in 1912, Canada and Chile in 1913, and the United States in 1914. [23]\n",
      "\n",
      "The 1912 Spalding Athletic Library \"Official Guide\" includes information on the 1912 Olympics (scores and stories), AAFA, and FIFA. The 1912 FIFA President was Dan B Woolfall. [24] Daniel Burley Woolfall was president from 1906 to 1918. [25]\n",
      "\n",
      "Document 4:\n",
      "Source: FIFA\\presidents of fifa.txt\n",
      "Content: Presidents of FIFA\n",
      "\n",
      "No\tName\tCountry\tTook office\tLeft office\tNote\n",
      "\n",
      "1\tRobert Guérin\t France\t23 May 1904\t4 June 1906\n",
      "\n",
      "2\tDaniel Burley Woolfall\t United Kingdom\t4 June 1906\t24 October 1918\tDied in office\n",
      "\n",
      "—\tCornelis August Wilhelm Hirschman\t Netherlands\t24 October 1918\t1920\tActing\n",
      "\n",
      "3\tJules Rimet\t France\t1 March 1921\t21 June 1954\n",
      "\n",
      "4\tRodolphe Seeldrayers\t Belgium\t21 June 1954\t7 October 1955\tDied in office\n",
      "\n",
      "5\tArthur Drewry\t United Kingdom\t9 June 1956\t25 March 1961\tDied in office\n",
      "\n"
     ]
    }
   ],
   "source": [
    "question1 = \"Who is the first president of FIFA?\"\n",
    "\n",
    "docs1 = vectorstore.similarity_search(question1)\n",
    "result1 = qa_chain({\"query\": question1})\n",
    "retrieve_doc(result1)\n",
    "# Robert Guérin"
   ]
  },
  {
   "cell_type": "markdown",
   "metadata": {},
   "source": [
    "Question 2 examines the ability to summarize an event."
   ]
  },
  {
   "cell_type": "code",
   "execution_count": 12,
   "metadata": {},
   "outputs": [
    {
     "name": "stdout",
     "output_type": "stream",
     "text": [
      "Answer:  The 2011 FIFA presidential election was opened for investigation after it was alleged that four officials, including Mohammed Bin Hammam and Jack Warner, had committed bribery and corruption in relation to the awarding of World Cup hosting rights to Russia and Qatar. This led to the indictment of nine high-ranking FIFA officials and five corporate executives by the U.S. Department of Justice on charges of racketeering, wire fraud, and money laundering.\n",
      "\n",
      "Number of source documents: 4\n",
      "\n",
      "Document 1:\n",
      "Source: FIFA\\corruption.txt\n",
      "Content: 2011 FIFA presidential election FIFA announced on 25 May 2011 that it had opened the investigation to examine the conduct of four officials—Mohamed Bin Hammam and Jack Warner, along with Caribbean Football Union (CFU) officials Debbie Minguell and Jason Sylvester—in relation to claims made by executive committee member, Chuck Blazer. [129][130][131] Blazer, who was at the time, the general secretary of the CONCACAF confederation, has alleged that violations were committed under the FIFA code of\n",
      "\n",
      "Document 2:\n",
      "Source: FIFA\\corruption.txt\n",
      "Content: Corruption Main article: 2015 FIFA corruption case In May 2006, British investigative reporter Andrew Jennings' book Foul! The Secret World of FIFA: Bribes, Vote-Rigging, and Ticket Scandals (HarperCollins) caused controversy within the football world by detailing an alleged international cash-for-contracts scandal following the collapse of FIFA's marketing partner International Sport and Leisure (ISL) and revealed how some football officials had been urged to secretly repay the sweeteners they\n",
      "\n",
      "Document 3:\n",
      "Source: FIFA\\history.txt\n",
      "Content: Reports by investigative journalists have linked FIFA leadership with corruption, bribery, and vote-rigging related to the election of FIFA president Sepp Blatter and the organization's decision to award the 2018 and 2022 World Cups to Russia and Qatar, respectively. These allegations led to the indictments of nine high-ranking FIFA officials and five corporate executives by the U.S. Department of Justice on charges including racketeering, wire fraud, and money laundering. On 27 May 2015,\n",
      "\n",
      "Document 4:\n",
      "Source: FIFA\\corruption.txt\n",
      "Content: In a 2014 interview, American sportswriter Dave Zirin said that corruption is endemic to FIFA leadership and that the organization should be abolished for the game's good. He said that currently, FIFA is in charge of both monitoring corruption in association football matches and marketing and selling the sport, but that two \"separate\" organizational bodies are needed: an organizational body that monitors corruption and match-fixing and the like and an organization that's responsible for\n",
      "\n"
     ]
    }
   ],
   "source": [
    "question2 = \"Tell me briefly about the 2011 FIFA presidential election corruption.\"\n",
    "\n",
    "docs2 = vectorstore.similarity_search(question2)\n",
    "result2 = qa_chain({\"query\": question2})\n",
    "retrieve_doc(result2)"
   ]
  },
  {
   "cell_type": "markdown",
   "metadata": {},
   "source": [
    "Question 3 examines the ability to understand sequential data rows."
   ]
  },
  {
   "cell_type": "code",
   "execution_count": 22,
   "metadata": {},
   "outputs": [
    {
     "name": "stdout",
     "output_type": "stream",
     "text": [
      "Answer:  The team occupying the second position in the men's team ranking is Argentina with 1,851.41 points.\n",
      "\n",
      "Number of source documents: 4\n",
      "\n",
      "Document 1:\n",
      "Source: FIFA\\FIFA Men's World Ranking.txt\n",
      "Content: As of 21st September 2023, the top 20 FIFA men's football team rankings are as follows: 1. Argentina remains steady at the top with 1851.41 points. 2. France also maintains its position with 1840.76 points. 3. Brazil secures the third spot with 1837.61 points. 4. England holds steady in fourth place with 1794.34 points. 5. Belgium stays in the fifth position with 1792.64 points. 6. Croatia is in sixth place with 1747.83 points. 7. Netherlands resides in the seventh position with 1743.15 points.\n",
      "\n",
      "Document 2:\n",
      "Source: FIFA\\world rankings.txt\n",
      "Content: Argentina holds the top spot with 1851.41 points, maintaining their position, followed by the No.2 team France with 1840.76 points without position changes. Brazil sits at the third position with 1837.61 points, while England and Belgium secure the fourth and fifth places with 1794.34 and 1792.64 points respectively. Positions six to ten are held by Croatia (1747.83), Netherlands (1743.15), Portugal (1728.58, up by 1), Italy (1727.37, down by 1), and Spain (1710.72). The United States is ranked\n",
      "\n",
      "Document 3:\n",
      "Source: FIFA\\FIFA women's world cup.txt\n",
      "Content: The ranking of each team in each group is determined as follows:[2] Greatest number of points in group matches Greatest goal difference in group matches Greatest number of goals scored in group matches If more than one team remain level after applying the above criteria, their ranking will be determined as follows: Greatest number of points in head-to-head matches among those teams Greatest goal difference in head-to-head matches among those teams Greatest number of goals scored in head-to-head\n",
      "\n",
      "Document 4:\n",
      "Source: FIFA\\FIFA Men's World Ranking.txt\n",
      "Content: The FIFA Men's World Ranking is a ranking system for men's national teams in association football, led by Argentina as of April 2023. [1] The teams of the men's member nations of FIFA, football's world governing body, are ranked based on their game results with the most successful teams being ranked highest. The rankings were introduced in December 1992, and eight teams (Argentina, Belgium, Brazil, France, Germany, Italy, the Netherlands and Spain) have held the top position, of which Brazil\n",
      "\n"
     ]
    }
   ],
   "source": [
    "question3 = \"Which team occupies the second position in the men's team ranking? How many points does the team in second place have? Has there been a change in the position of the team currently in second place?\"\n",
    "\n",
    "docs3 = vectorstore.similarity_search(question3)\n",
    "result3 = qa_chain({\"query\": question3})\n",
    "retrieve_doc(result3)\n",
    "# France - 1840.76 - No change"
   ]
  },
  {
   "cell_type": "markdown",
   "metadata": {},
   "source": [
    "Question 4 examines the ability to understand sequential data and calculation abilities."
   ]
  },
  {
   "cell_type": "code",
   "execution_count": 14,
   "metadata": {},
   "outputs": [
    {
     "name": "stdout",
     "output_type": "stream",
     "text": [
      " Sweden is ranked No. 1 with 2,069.17 points while Spain is ranked No. 2 with 2,051.84 points. The average points for the two teams are 2,050.00 points.\n",
      "Answer:  Sweden is ranked No. 1 with 2,069.17 points while Spain is ranked No. 2 with 2,051.84 points. The average points for the two teams are 2,050.00 points.\n",
      "\n",
      "Number of source documents: 4\n",
      "\n",
      "Document 1:\n",
      "Source: FIFA\\world rankings.txt\n",
      "Content: Women's Football Rankings\n",
      "\n",
      "As of 25th August 2023, the following are the top 20 ranked women's football countries worldwide:\n",
      "\n",
      "Document 2:\n",
      "Source: FIFA\\FIFA Women's World Ranking.txt\n",
      "Content: Top 20 FIFA Women's World Rankings as of 25th August 2023: 1. Sweden vaults up by 2 spots, now leading the table with 2069.17 points. 2. Spain makes a notable leap of 4 spots to sit in second place, accumulating 2051.84 points. 3. United States experiences a slight dip, moving down 2 spots with 2051.21 points. 4. England maintains a steady position with 2030.14 points. 5. France also holds its position firmly, having garnered 2004.17 points. 6. Germany faces a significant drop, descending 4\n",
      "\n",
      "Document 3:\n",
      "Source: FIFA\\FIFA Women's World Ranking.txt\n",
      "Content: The FIFA Women's World Ranking is a ranking system for women's national teams in association football (commonly known as football or soccer) published be the international governing body FIFA. As of August 2023, the Sweden national team is ranked #1.\n",
      "\n",
      "Document 4:\n",
      "Source: FIFA\\FIFA Women's World Ranking.txt\n",
      "Content: The rankings were introduced in 2003,[2] with the first rankings published on 16 July of that year. [3][4] FIFA attempts to assess the strength of internationally active women's national teams at any given time based on their past game results with the most successful teams being ranked highest. As of January 2023, the ranking has 185 national teams.\n",
      "\n",
      "The ranking has more than informative value, as it is often used to seed member associations into different pots in international tournaments.\n",
      "\n"
     ]
    }
   ],
   "source": [
    "question4 = \"What is the No.1 and No.2 women's football countries worldwide as of 25th August 2023? What's the average points for the two teams?\"\n",
    "\n",
    "docs4 = vectorstore.similarity_search(question4)\n",
    "result4 = qa_chain({\"query\": question4})\n",
    "print(result4[\"result\"])\n",
    "retrieve_doc(result4)\n",
    "# Sweden - 2069.17, Spain - 2051.84"
   ]
  },
  {
   "cell_type": "markdown",
   "metadata": {},
   "source": [
    "Question 5 examines the ability to answer basic questions."
   ]
  },
  {
   "cell_type": "code",
   "execution_count": 15,
   "metadata": {},
   "outputs": [
    {
     "name": "stdout",
     "output_type": "stream",
     "text": [
      " The FIFA flag is blue.\n",
      "Answer:  The FIFA flag is blue.\n",
      "\n",
      "Number of source documents: 4\n",
      "\n",
      "Document 1:\n",
      "Source: FIFA\\identity.txt\n",
      "Content: Identity Flag Fédération internationale de football association\n",
      "\n",
      "Use\tSport Small vexillological symbol or pictogram in black and white showing the different uses of the flag Proportion\t3:5 Adopted\t2018; 5 years ago Design\tBlue field with a FIFA logo The FIFA flag is blue, with the organization's wordmark logo in the middle. The current FIFA flag was first flown during the 2018 FIFA World Cup opening ceremony in Moscow, Russia, and has been used ever since. [27]\n",
      "\n",
      "Document 2:\n",
      "Source: FIFA\\2022 FIFA World Cup final.txt\n",
      "Content: Burgundy, and red design, a reference to the national colours of host nation Qatar and the golden colours shared by the final's venue Lusail Stadium and the FIFA World Cup Trophy. It is the fifth special ball for FIFA World Cup final matches, after the +Teamgeist Berlin, Jo'bulani, Brazuca Final Rio, and Telstar Mechta.\n",
      "\n",
      "Document 3:\n",
      "Source: FIFA\\2022 FIFA World Cup final.txt\n",
      "Content: It was a variation of the Adidas Al Rihla used in the rest of the tournament named the Adidas Al-Hilm, meaning \"The Dream\" in Arabic, a reference to every nation's dream of lifting the FIFA World Cup. [22] Whilst the technical aspects of the ball are the same, the colour is different from the Al-Rihla balls used in the group stages and preceding knockout games, with a Gold Metallic, maroon, Collegiate Burgundy, and red design, a reference to the national colours of host nation Qatar and the\n",
      "\n",
      "Document 4:\n",
      "Source: FIFA\\identity.txt\n",
      "Content: Anthem Main article: FIFA Anthem Akin to the UEFA Champions League, FIFA has adopted an anthem composed by the German composer Franz Lambert since the 1994 FIFA World Cup. It has been re-arranged and produced by Rob May and Simon Hill. [28][29] The FIFA Anthem is played at the beginning of official FIFA sanctioned matches and tournaments such as international friendlies, the FIFA World Cup, FIFA Women's World Cup, FIFA U-20 World Cup, FIFA U-17 World Cup, Football at the Summer Olympics, FIFA\n",
      "\n"
     ]
    }
   ],
   "source": [
    "question5 = \"What is the color of the FIFA flag?\"\n",
    "\n",
    "docs5 = vectorstore.similarity_search(question5)\n",
    "result5 = qa_chain({\"query\": question5})\n",
    "print(result5[\"result\"])\n",
    "retrieve_doc(result5)\n",
    "# Blue"
   ]
  },
  {
   "cell_type": "markdown",
   "metadata": {},
   "source": [
    "Question 6 examines the ability to understand new concepts (runners-up) without additional information."
   ]
  },
  {
   "cell_type": "code",
   "execution_count": 16,
   "metadata": {},
   "outputs": [
    {
     "name": "stdout",
     "output_type": "stream",
     "text": [
      "Answer:  The United States are the runners-up for the Women's Olympic Football Tournament at 2021.\n",
      "\n",
      "Number of source documents: 4\n",
      "\n",
      "Document 1:\n",
      "Source: FIFA\\world rankings.txt\n",
      "Content: Women's Football Rankings\n",
      "\n",
      "As of 25th August 2023, the following are the top 20 ranked women's football countries worldwide:\n",
      "\n",
      "Document 2:\n",
      "Source: FIFA\\fifa innovation and fifa+.txt\n",
      "Content: FIFA+ will show the 2023 FIFA Women's World Cup live in certain territories, including Japan, Brazil, Indonesia, and Thailand.\n",
      "\n",
      "FIFA Innovation Programme\n",
      "\n",
      "2021\n",
      "\n",
      "\n",
      "\n",
      "23 Members:\n",
      "\n",
      "Playermaker\n",
      "\n",
      "AiSCOUT\n",
      "\n",
      "Vivaturf[85]\n",
      "\n",
      "HUMANOX[86]\n",
      "\n",
      "Vieww[87]\n",
      "\n",
      "Document 3:\n",
      "Source: FIFA\\FIFA women's world cup.txt\n",
      "Content: by five national teams. The United States have won four times. The other winners are Germany, with two titles, and Japan, Norway, and Spain with one title each. Eight countries have hosted the Women's World Cup. China and the United States have each hosted the tournament twice, while Australia, Canada, France, Germany, New Zealand, and Sweden have each hosted it once. The 2023 competition was hosted by Australia and New Zealand, making it the first edition to be held in the Southern Hemisphere,\n",
      "\n",
      "Document 4:\n",
      "Source: FIFA\\2023 FIFA Women World Cup final.txt\n",
      "Content: Euro 2022 as hosts but also had gone on to defeat Copa América Femenina winners Brazil on penalties at Wembley in the first Women's Finalissima. They had lost once with Sarina Wiegman as manager – a 2–0 friendly defeat to Australia in Brentford – and entered the Women's World Cup ranked fourth in the FIFA Women's World Ranking. [19] They were drawn in Group D with Haiti, Denmark, and 1999 runners-up China. [32] In the first two games, England won 1–0 against both Haiti and Denmark; the winning\n",
      "\n"
     ]
    }
   ],
   "source": [
    "question6 = \"Which country is the runners-up for the Women's Olympic Football Tournament at 2021?\"\n",
    "\n",
    "docs6 = vectorstore.similarity_search(question6)\n",
    "result6 = qa_chain({\"query\": question6})\n",
    "retrieve_doc(result6)\n",
    "# Sweden"
   ]
  },
  {
   "cell_type": "markdown",
   "metadata": {},
   "source": [
    "Question 7 examines the ability to understand new concepts (runners-up) with additional information (there is more details mentioned in another file)."
   ]
  },
  {
   "cell_type": "code",
   "execution_count": 18,
   "metadata": {},
   "outputs": [
    {
     "name": "stdout",
     "output_type": "stream",
     "text": [
      "Answer:  The Netherlands was the runners-up for the World Cup Finals (Men) in 2010 at South Africa.\n",
      "\n",
      "Number of source documents: 4\n",
      "\n",
      "Document 1:\n",
      "Source: FIFA\\FIFA world cup.txt\n",
      "Content: 2010 - South Africa South Africa hosted in 2010, where Spain emerged victorious with a 1–0 win after extra time against the Netherlands at Soccer City in Johannesburg. Germany secured third place with a 3–2 win over Uruguay at the Nelson Mandela Bay Stadium in Port Elizabeth, and 32 teams took part.\n",
      "\n",
      "Document 2:\n",
      "Source: FIFA\\FIFA world cup.txt\n",
      "Content: a spot in the 2010 World Cup. [69] From the 1938 World Cup onwards, host nations receive automatic qualification to the final tournament. This right was also granted to the defending champions between 1938 and 2002, but was withdrawn from the 2006 FIFA World Cup onward, requiring the champions to qualify. Brazil, winners in 2002, were the first defending champions to play qualifying matches. [70]\n",
      "\n",
      "Document 3:\n",
      "Source: FIFA\\2022 FIFA World Cup final.txt\n",
      "Content: the Netherlands in the quarter-finals, Argentina became the first team to have won on that method twice en route to the title. [90] It was the tenth World Cup title for a South American side, and the eighth South American victory in eleven finals facing European opposition. France became the third defending champions to lose in the following final, after Argentina in 1990 and Brazil in 1998. [91] The match was the third FIFA World Cup final to be decided by a penalty shoot-out, after 1994 and\n",
      "\n",
      "Document 4:\n",
      "Source: FIFA\\FIFA world cup.txt\n",
      "Content: 2002 - South Korea/Japan South Korea and Japan co-hosted in 2002, with Brazil winning the title by defeating Germany 2–0 at the International Stadium in Yokohama. Turkey secured third place with a 3–2 win over South Korea at the Daegu Stadium in Daegu, with 32 teams participating.\n",
      "\n"
     ]
    }
   ],
   "source": [
    "question7 = \"Which country is the runners-up for the World Cup Finals (Men) in 2010 at South Africa?\"\n",
    "\n",
    "docs7 = vectorstore.similarity_search(question6)\n",
    "result7 = qa_chain({\"query\": question7})\n",
    "retrieve_doc(result7)\n",
    "# Netherlands"
   ]
  },
  {
   "cell_type": "markdown",
   "metadata": {},
   "source": [
    "Question 8 examines the ability to extract basic information."
   ]
  },
  {
   "cell_type": "code",
   "execution_count": 24,
   "metadata": {},
   "outputs": [
    {
     "name": "stdout",
     "output_type": "stream",
     "text": [
      "Answer:  The game score for the 2018 World Cup Finals for men was 4-2 in favor of France.\n",
      "\n",
      "Number of source documents: 4\n",
      "\n",
      "Document 1:\n",
      "Source: FIFA\\world rankings.txt\n",
      "Content: FIFA World Rankings\n",
      "\n",
      "Men's Football Rankings\n",
      "\n",
      "As of 21st September 2023, the top 20 ranked men's football countries worldwide are as follows:\n",
      "\n",
      "Document 2:\n",
      "Source: FIFA\\2022 FIFA World Cup final.txt\n",
      "Content: the semi-finals, as they meet 2018 runners up Croatia. [48][49] In a rematch of the 2018 encounter when Croatia had won 3–0, Argentina decisively beat Croatia by the same scoreline. Lionel Messi scored a first-half penalty before Álvarez scored a solo effort five minutes later. Messi then assisted Álvarez for his double in the second half, as Argentina booked their place in the final for the second time in eight years. [50] France France's route to the final France started their World Cup\n",
      "\n",
      "Document 3:\n",
      "Source: FIFA\\FIFA world cup.txt\n",
      "Content: 2018 - Russia Russia hosted in 2018, and France won the title, defeating Croatia 4–2 at the Luzhniki Stadium in Moscow. Belgium claimed third place with a 2–0 win over England at the Krestovsky Stadium in Saint Petersburg, with 32 teams involved.\n",
      "\n",
      "Document 4:\n",
      "Source: FIFA\\FIFA Men's World Ranking.txt\n",
      "Content: The FIFA Men's World Ranking is a ranking system for men's national teams in association football, led by Argentina as of April 2023. [1] The teams of the men's member nations of FIFA, football's world governing body, are ranked based on their game results with the most successful teams being ranked highest. The rankings were introduced in December 1992, and eight teams (Argentina, Belgium, Brazil, France, Germany, Italy, the Netherlands and Spain) have held the top position, of which Brazil\n",
      "\n"
     ]
    }
   ],
   "source": [
    "question8 = \"What is the game score for 2018 World Cup Finals for men?\"\n",
    "\n",
    "docs8 = vectorstore.similarity_search(question8)\n",
    "result8 = qa_chain({\"query\": question8})\n",
    "retrieve_doc(result8)\n",
    "# France 4-2 Croatia"
   ]
  },
  {
   "cell_type": "markdown",
   "metadata": {},
   "source": [
    "Question 9 examines the ability to extract data from multiple places and basic counting."
   ]
  },
  {
   "cell_type": "code",
   "execution_count": 21,
   "metadata": {},
   "outputs": [
    {
     "name": "stdout",
     "output_type": "stream",
     "text": [
      "Answer:  Italy has won the World Cup Finals for men four times. They won in 1934, 1938, 1982, and 2006.\n",
      "\n",
      "Number of source documents: 4\n",
      "\n",
      "Document 1:\n",
      "Source: FIFA\\FIFA Men's World Ranking.txt\n",
      "Content: just four. Italy then led for a short time on the back of their own equally successful World Cup qualifying campaign, after which the top place was re-claimed by Germany. Brazil's success in their lengthy qualifying campaign returned them to the lead for a brief period. Germany led again during the 1994 World Cup, until Brazil's victory in that competition gave them a large lead that would stand up for nearly seven years, until they were surpassed by a strong France team that captured both the\n",
      "\n",
      "Document 2:\n",
      "Source: FIFA\\FIFA world cup.txt\n",
      "Content: [121] Italy's Vittorio Pozzo is the only head coach to ever win two World Cups (1934 and 1938). [122] All World Cup-winning head coaches were natives of the country they coached to victory. [123] Among the national teams, Brazil has played the most World Cup matches (114), Germany appeared in the most finals (8), semi-finals (13), and quarter-finals (16), while Brazil has appeared in the most World Cups (22), has the most wins (76) and has scored the most goals (237). [124][125] The two teams\n",
      "\n",
      "Document 3:\n",
      "Source: FIFA\\FIFA Men's World Ranking.txt\n",
      "Content: Leaders When the system was introduced, Germany debuted as the top-ranked team following their extended period of dominance in which they had reached the three previous FIFA World Cup finals, winning one of them. Brazil took the lead in the run up to the 1994 FIFA World Cup after winning eight and losing only one of nine qualification matches, while on the way scoring twenty goals and conceding just four. Italy then led for a short time on the back of their own equally successful World Cup\n",
      "\n",
      "Document 4:\n",
      "Source: FIFA\\FIFA world cup.txt\n",
      "Content: with five wins, are the only team to have played in every tournament. The other World Cup winners are Germany and Italy, with four titles each; Argentina, with three titles; France and inaugural winner Uruguay, each with two titles; and England and Spain, with one title each.\n",
      "\n"
     ]
    }
   ],
   "source": [
    "question9 = \"How many times does Italy win the champion for the World Cup Finals for men? Which year they win?\"\n",
    "\n",
    "docs9 = vectorstore.similarity_search(question9)\n",
    "result9 = qa_chain({\"query\": question9})\n",
    "retrieve_doc(result9)\n",
    "# 1934, 1938, 1982, 2006"
   ]
  },
  {
   "cell_type": "markdown",
   "metadata": {},
   "source": [
    "Question 10 examines the ability to organize information across paragraphs."
   ]
  },
  {
   "cell_type": "code",
   "execution_count": 26,
   "metadata": {},
   "outputs": [
    {
     "name": "stdout",
     "output_type": "stream",
     "text": [
      "Answer:  The passage does not provide specific information on the competitions that France faced on their way to the final of the 2022 World Cup.\n",
      "\n",
      "Number of source documents: 4\n",
      "\n",
      "Document 1:\n",
      "Source: FIFA\\2022 FIFA World Cup final.txt\n",
      "Content: Qatar as one of the favourites to win. France were the defending champions from the 2018 World Cup, which made this the first time since the 2002 final in which a team had consecutive appearances at the finals, and the first since 1998 in which the title holders qualified for the subsequent final – both feats achieved by Brazil. France had claimed two World Cups, in 1998 and 2018. The French also reached the 2006 final, but fell to Italy on penalties. Under the management of Didier Deschamps,\n",
      "\n",
      "Document 2:\n",
      "Source: FIFA\\2022 FIFA World Cup final.txt\n",
      "Content: second time in eight years. [50] France France's route to the final France started their World Cup campaign as the defending world champions, having won the most recent tournament in Russia, and was drawn in group D. Their first meeting was against AFC representative Australia.\n",
      "\n",
      "Document 3:\n",
      "Source: FIFA\\2022 FIFA World Cup final.txt\n",
      "Content: [55] France then faced the biggest underdog of the tournament, Morocco, who had beaten both Iberian representatives Spain and Portugal in the process; the French were able to end the history-making run by the African nation with two goals from Théo Hernandez and Randal Kolo Muani. France reached their second consecutive World Cup final for the first time in their history. [56]\n",
      "\n",
      "Match\n",
      "\n",
      "Summary\n",
      "\n",
      "Document 4:\n",
      "Source: FIFA\\FIFA world cup.txt\n",
      "Content: 1998 - France France hosted and won the 1998 tournament, triumphing over Brazil with a 3–0 score at the Stade de France in Saint-Denis. Croatia claimed third place with a 2–1 victory over the Netherlands at the Parc des Princes in Paris, and the tournament expanded to 32 teams.\n",
      "\n"
     ]
    }
   ],
   "source": [
    "question10 = \"List all competitions about France's route to the final for 2022 World Cup\"\n",
    "\n",
    "docs10 = vectorstore.similarity_search(question10)\n",
    "result10 = qa_chain({\"query\": question10})\n",
    "retrieve_doc(result10)"
   ]
  },
  {
   "cell_type": "markdown",
   "metadata": {},
   "source": []
  },
  {
   "cell_type": "markdown",
   "metadata": {},
   "source": [
    "## Reference"
   ]
  },
  {
   "cell_type": "markdown",
   "metadata": {},
   "source": [
    "- Self-Querying: https://python.langchain.com/docs/modules/data_connection/retrievers/self_query".
    "- Finals and Ranking Results: https://github.com/lixiao-yang/DeepDelight/blob/main/Thread2/4.%20Exploration%20of%20splitting%20-%20chunk%20and%20overlap%20sizes.md#5-reference"
   ]
  },
  {
   "cell_type": "markdown",
   "metadata": {},
   "source": [
    "## Preliminaty Code"
   ]
  },
  {
   "cell_type": "code",
   "execution_count": 17,
   "metadata": {},
   "outputs": [
    {
     "name": "stdout",
     "output_type": "stream",
     "text": [
      "Defaulting to user installation because normal site-packages is not writeable\n",
      "Requirement already satisfied: gpt4all in c:\\users\\24075\\appdata\\roaming\\python\\python39\\site-packages (1.0.8)\n",
      "Requirement already satisfied: langchain in c:\\users\\24075\\appdata\\roaming\\python\\python39\\site-packages (0.0.277)\n",
      "Requirement already satisfied: chromadb in c:\\users\\24075\\appdata\\roaming\\python\\python39\\site-packages (0.4.8)\n",
      "Requirement already satisfied: unstructured in c:\\users\\24075\\appdata\\roaming\\python\\python39\\site-packages (0.10.19)\n",
      "Requirement already satisfied: tqdm in c:\\users\\24075\\appdata\\roaming\\python\\python39\\site-packages (from gpt4all) (4.65.0)\n",
      "Requirement already satisfied: requests in c:\\users\\24075\\appdata\\roaming\\python\\python39\\site-packages (from gpt4all) (2.28.2)\n",
      "Requirement already satisfied: numexpr<3.0.0,>=2.8.4 in c:\\users\\24075\\appdata\\roaming\\python\\python39\\site-packages (from langchain) (2.8.5)\n",
      "Requirement already satisfied: tenacity<9.0.0,>=8.1.0 in c:\\users\\24075\\appdata\\roaming\\python\\python39\\site-packages (from langchain) (8.2.3)\n",
      "Requirement already satisfied: aiohttp<4.0.0,>=3.8.3 in c:\\users\\24075\\appdata\\roaming\\python\\python39\\site-packages (from langchain) (3.8.4)\n",
      "Requirement already satisfied: dataclasses-json<0.6.0,>=0.5.7 in c:\\users\\24075\\appdata\\roaming\\python\\python39\\site-packages (from langchain) (0.5.14)\n",
      "Requirement already satisfied: langsmith<0.1.0,>=0.0.21 in c:\\users\\24075\\appdata\\roaming\\python\\python39\\site-packages (from langchain) (0.0.29)\n",
      "Requirement already satisfied: pydantic<3,>=1 in c:\\users\\24075\\appdata\\roaming\\python\\python39\\site-packages (from langchain) (1.10.12)\n",
      "Requirement already satisfied: numpy<2,>=1 in c:\\users\\24075\\appdata\\roaming\\python\\python39\\site-packages (from langchain) (1.24.3)\n",
      "Requirement already satisfied: PyYAML>=5.3 in c:\\software\\anaconda\\lib\\site-packages (from langchain) (6.0)\n",
      "Requirement already satisfied: async-timeout<5.0.0,>=4.0.0 in c:\\users\\24075\\appdata\\roaming\\python\\python39\\site-packages (from langchain) (4.0.2)\n",
      "Requirement already satisfied: SQLAlchemy<3,>=1.4 in c:\\users\\24075\\appdata\\roaming\\python\\python39\\site-packages (from langchain) (2.0.20)\n",
      "Requirement already satisfied: pypika>=0.48.9 in c:\\users\\24075\\appdata\\roaming\\python\\python39\\site-packages (from chromadb) (0.48.9)\n",
      "Requirement already satisfied: typing-extensions>=4.5.0 in c:\\users\\24075\\appdata\\roaming\\python\\python39\\site-packages (from chromadb) (4.7.1)\n",
      "Requirement already satisfied: tokenizers>=0.13.2 in c:\\users\\24075\\appdata\\roaming\\python\\python39\\site-packages (from chromadb) (0.13.3)\n",
      "Requirement already satisfied: onnxruntime>=1.14.1 in c:\\users\\24075\\appdata\\roaming\\python\\python39\\site-packages (from chromadb) (1.15.1)\n",
      "Requirement already satisfied: chroma-hnswlib==0.7.2 in c:\\users\\24075\\appdata\\roaming\\python\\python39\\site-packages (from chromadb) (0.7.2)\n",
      "Requirement already satisfied: fastapi<0.100.0,>=0.95.2 in c:\\users\\24075\\appdata\\roaming\\python\\python39\\site-packages (from chromadb) (0.99.1)\n",
      "Requirement already satisfied: posthog>=2.4.0 in c:\\users\\24075\\appdata\\roaming\\python\\python39\\site-packages (from chromadb) (3.0.2)\n",
      "Requirement already satisfied: overrides>=7.3.1 in c:\\users\\24075\\appdata\\roaming\\python\\python39\\site-packages (from chromadb) (7.4.0)\n",
      "Requirement already satisfied: uvicorn[standard]>=0.18.3 in c:\\users\\24075\\appdata\\roaming\\python\\python39\\site-packages (from chromadb) (0.23.2)\n",
      "Requirement already satisfied: bcrypt>=4.0.1 in c:\\users\\24075\\appdata\\roaming\\python\\python39\\site-packages (from chromadb) (4.0.1)\n",
      "Requirement already satisfied: importlib-resources in c:\\users\\24075\\appdata\\roaming\\python\\python39\\site-packages (from chromadb) (6.0.1)\n",
      "Requirement already satisfied: pulsar-client>=3.1.0 in c:\\users\\24075\\appdata\\roaming\\python\\python39\\site-packages (from chromadb) (3.3.0)\n",
      "Requirement already satisfied: langdetect in c:\\users\\24075\\appdata\\roaming\\python\\python39\\site-packages (from unstructured) (1.0.9)\n",
      "Requirement already satisfied: python-iso639 in c:\\users\\24075\\appdata\\roaming\\python\\python39\\site-packages (from unstructured) (2023.6.15)\n",
      "Requirement already satisfied: nltk in c:\\software\\anaconda\\lib\\site-packages (from unstructured) (3.7)\n",
      "Requirement already satisfied: chardet in c:\\software\\anaconda\\lib\\site-packages (from unstructured) (4.0.0)\n",
      "Requirement already satisfied: python-magic in c:\\users\\24075\\appdata\\roaming\\python\\python39\\site-packages (from unstructured) (0.4.27)\n",
      "Requirement already satisfied: tabulate in c:\\software\\anaconda\\lib\\site-packages (from unstructured) (0.8.10)\n",
      "Requirement already satisfied: filetype in c:\\users\\24075\\appdata\\roaming\\python\\python39\\site-packages (from unstructured) (1.2.0)\n",
      "Requirement already satisfied: emoji in c:\\users\\24075\\appdata\\roaming\\python\\python39\\site-packages (from unstructured) (2.8.0)\n",
      "Requirement already satisfied: lxml in c:\\software\\anaconda\\lib\\site-packages (from unstructured) (4.9.1)\n",
      "Requirement already satisfied: beautifulsoup4 in c:\\users\\24075\\appdata\\roaming\\python\\python39\\site-packages (from unstructured) (4.11.2)\n",
      "Requirement already satisfied: aiosignal>=1.1.2 in c:\\users\\24075\\appdata\\roaming\\python\\python39\\site-packages (from aiohttp<4.0.0,>=3.8.3->langchain) (1.3.1)\n",
      "Requirement already satisfied: charset-normalizer<4.0,>=2.0 in c:\\software\\anaconda\\lib\\site-packages (from aiohttp<4.0.0,>=3.8.3->langchain) (2.0.4)\n",
      "Requirement already satisfied: multidict<7.0,>=4.5 in c:\\users\\24075\\appdata\\roaming\\python\\python39\\site-packages (from aiohttp<4.0.0,>=3.8.3->langchain) (6.0.4)\n",
      "Requirement already satisfied: frozenlist>=1.1.1 in c:\\users\\24075\\appdata\\roaming\\python\\python39\\site-packages (from aiohttp<4.0.0,>=3.8.3->langchain) (1.3.3)\n",
      "Requirement already satisfied: yarl<2.0,>=1.0 in c:\\users\\24075\\appdata\\roaming\\python\\python39\\site-packages (from aiohttp<4.0.0,>=3.8.3->langchain) (1.8.2)\n",
      "Requirement already satisfied: attrs>=17.3.0 in c:\\software\\anaconda\\lib\\site-packages (from aiohttp<4.0.0,>=3.8.3->langchain) (21.4.0)\n",
      "Requirement already satisfied: typing-inspect<1,>=0.4.0 in c:\\users\\24075\\appdata\\roaming\\python\\python39\\site-packages (from dataclasses-json<0.6.0,>=0.5.7->langchain) (0.9.0)\n",
      "Requirement already satisfied: marshmallow<4.0.0,>=3.18.0 in c:\\users\\24075\\appdata\\roaming\\python\\python39\\site-packages (from dataclasses-json<0.6.0,>=0.5.7->langchain) (3.20.1)\n",
      "Requirement already satisfied: starlette<0.28.0,>=0.27.0 in c:\\users\\24075\\appdata\\roaming\\python\\python39\\site-packages (from fastapi<0.100.0,>=0.95.2->chromadb) (0.27.0)\n",
      "Requirement already satisfied: packaging in c:\\software\\anaconda\\lib\\site-packages (from onnxruntime>=1.14.1->chromadb) (21.3)\n",
      "Requirement already satisfied: flatbuffers in c:\\users\\24075\\appdata\\roaming\\python\\python39\\site-packages (from onnxruntime>=1.14.1->chromadb) (23.5.26)\n",
      "Requirement already satisfied: protobuf in c:\\users\\24075\\appdata\\roaming\\python\\python39\\site-packages (from onnxruntime>=1.14.1->chromadb) (4.24.2)\n",
      "Requirement already satisfied: coloredlogs in c:\\users\\24075\\appdata\\roaming\\python\\python39\\site-packages (from onnxruntime>=1.14.1->chromadb) (15.0.1)\n",
      "Requirement already satisfied: sympy in c:\\software\\anaconda\\lib\\site-packages (from onnxruntime>=1.14.1->chromadb) (1.10.1)\n",
      "Requirement already satisfied: six>=1.5 in c:\\software\\anaconda\\lib\\site-packages (from posthog>=2.4.0->chromadb) (1.16.0)\n",
      "Requirement already satisfied: monotonic>=1.5 in c:\\users\\24075\\appdata\\roaming\\python\\python39\\site-packages (from posthog>=2.4.0->chromadb) (1.6)\n",
      "Requirement already satisfied: backoff>=1.10.0 in c:\\users\\24075\\appdata\\roaming\\python\\python39\\site-packages (from posthog>=2.4.0->chromadb) (2.2.1)\n",
      "Requirement already satisfied: python-dateutil>2.1 in c:\\software\\anaconda\\lib\\site-packages (from posthog>=2.4.0->chromadb) (2.8.2)\n",
      "Requirement already satisfied: certifi in c:\\software\\anaconda\\lib\\site-packages (from pulsar-client>=3.1.0->chromadb) (2022.9.14)\n",
      "Requirement already satisfied: idna<4,>=2.5 in c:\\software\\anaconda\\lib\\site-packages (from requests->gpt4all) (3.3)\n",
      "Requirement already satisfied: urllib3<1.27,>=1.21.1 in c:\\software\\anaconda\\lib\\site-packages (from requests->gpt4all) (1.26.11)\n",
      "Requirement already satisfied: greenlet!=0.4.17 in c:\\software\\anaconda\\lib\\site-packages (from SQLAlchemy<3,>=1.4->langchain) (1.1.1)\n",
      "Requirement already satisfied: colorama in c:\\software\\anaconda\\lib\\site-packages (from tqdm->gpt4all) (0.4.5)\n",
      "Requirement already satisfied: click>=7.0 in c:\\users\\24075\\appdata\\roaming\\python\\python39\\site-packages (from uvicorn[standard]>=0.18.3->chromadb) (8.1.7)\n",
      "Requirement already satisfied: h11>=0.8 in c:\\users\\24075\\appdata\\roaming\\python\\python39\\site-packages (from uvicorn[standard]>=0.18.3->chromadb) (0.14.0)\n",
      "Requirement already satisfied: python-dotenv>=0.13 in c:\\users\\24075\\appdata\\roaming\\python\\python39\\site-packages (from uvicorn[standard]>=0.18.3->chromadb) (1.0.0)\n",
      "Requirement already satisfied: httptools>=0.5.0 in c:\\users\\24075\\appdata\\roaming\\python\\python39\\site-packages (from uvicorn[standard]>=0.18.3->chromadb) (0.6.0)\n",
      "Requirement already satisfied: websockets>=10.4 in c:\\users\\24075\\appdata\\roaming\\python\\python39\\site-packages (from uvicorn[standard]>=0.18.3->chromadb) (11.0.3)\n",
      "Requirement already satisfied: watchfiles>=0.13 in c:\\users\\24075\\appdata\\roaming\\python\\python39\\site-packages (from uvicorn[standard]>=0.18.3->chromadb) (0.20.0)\n",
      "Requirement already satisfied: soupsieve>1.2 in c:\\software\\anaconda\\lib\\site-packages (from beautifulsoup4->unstructured) (2.3.1)\n",
      "Requirement already satisfied: zipp>=3.1.0 in c:\\software\\anaconda\\lib\\site-packages (from importlib-resources->chromadb) (3.8.0)\n",
      "Requirement already satisfied: joblib in c:\\users\\24075\\appdata\\roaming\\python\\python39\\site-packages (from nltk->unstructured) (1.2.0)\n",
      "Requirement already satisfied: regex>=2021.8.3 in c:\\software\\anaconda\\lib\\site-packages (from nltk->unstructured) (2022.7.9)\n",
      "Requirement already satisfied: pyparsing!=3.0.5,>=2.0.2 in c:\\software\\anaconda\\lib\\site-packages (from packaging->onnxruntime>=1.14.1->chromadb) (3.0.9)\n",
      "Requirement already satisfied: anyio<5,>=3.4.0 in c:\\software\\anaconda\\lib\\site-packages (from starlette<0.28.0,>=0.27.0->fastapi<0.100.0,>=0.95.2->chromadb) (3.5.0)\n",
      "Requirement already satisfied: mypy-extensions>=0.3.0 in c:\\software\\anaconda\\lib\\site-packages (from typing-inspect<1,>=0.4.0->dataclasses-json<0.6.0,>=0.5.7->langchain) (0.4.3)\n",
      "Requirement already satisfied: humanfriendly>=9.1 in c:\\users\\24075\\appdata\\roaming\\python\\python39\\site-packages (from coloredlogs->onnxruntime>=1.14.1->chromadb) (10.0)\n",
      "Requirement already satisfied: mpmath>=0.19 in c:\\software\\anaconda\\lib\\site-packages (from sympy->onnxruntime>=1.14.1->chromadb) (1.2.1)\n",
      "Requirement already satisfied: sniffio>=1.1 in c:\\software\\anaconda\\lib\\site-packages (from anyio<5,>=3.4.0->starlette<0.28.0,>=0.27.0->fastapi<0.100.0,>=0.95.2->chromadb) (1.2.0)\n",
      "Requirement already satisfied: pyreadline3 in c:\\users\\24075\\appdata\\roaming\\python\\python39\\site-packages (from humanfriendly>=9.1->coloredlogs->onnxruntime>=1.14.1->chromadb) (3.4.1)\n"
     ]
    }
   ],
   "source": [
    "!pip install gpt4all langchain chromadb unstructured"
   ]
  },
  {
   "cell_type": "code",
   "execution_count": null,
   "metadata": {},
   "outputs": [],
   "source": []
  }
 ],
 "metadata": {
  "kernelspec": {
   "display_name": "base",
   "language": "python",
   "name": "python3"
  },
  "language_info": {
   "codemirror_mode": {
    "name": "ipython",
    "version": 3
   },
   "file_extension": ".py",
   "mimetype": "text/x-python",
   "name": "python",
   "nbconvert_exporter": "python",
   "pygments_lexer": "ipython3",
   "version": "3.9.13"
  }
 },
 "nbformat": 4,
 "nbformat_minor": 2
}
