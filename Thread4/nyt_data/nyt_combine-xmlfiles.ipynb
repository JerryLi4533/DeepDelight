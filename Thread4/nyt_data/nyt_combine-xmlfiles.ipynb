{
 "cells": [
  {
   "cell_type": "code",
   "execution_count": 3,
   "id": "537ca384-8d84-4fed-a091-40dbc9da1cb1",
   "metadata": {},
   "outputs": [],
   "source": [
    "import xml.etree.ElementTree as ET\n",
    "import os\n",
    "\n",
    "def combine_xml_files(input_directory, output_file):\n",
    "    # Create a root element for the combined XML\n",
    "    combined_root = ET.Element(\"CombinedRoot\")\n",
    "\n",
    "    # Iterate over all XML files in the input directory\n",
    "    for filename in os.listdir(input_directory):\n",
    "        if filename.endswith(\".xml\"):\n",
    "            file_path = os.path.join(input_directory, filename)\n",
    "            tree = ET.parse(file_path)\n",
    "            root = tree.getroot()\n",
    "\n",
    "            # Append the root elements of the input files to the combined root\n",
    "            for element in root:\n",
    "                combined_root.append(element)\n",
    "\n",
    "    # Create a new tree with the combined root and write it to the output file\n",
    "    combined_tree = ET.ElementTree(combined_root)\n",
    "    combined_tree.write(output_file, encoding='utf-8', xml_declaration=True)\n",
    "\n",
    "if __name__ == \"__main__\":\n",
    "    input_directory = \"01\"  # Replace with your input directory path\n",
    "    output_file = \"combined_output.xml\"  # Replace with your desired output file path\n",
    "    combine_xml_files(input_directory, output_file)\n"
   ]
  },
  {
   "cell_type": "code",
   "execution_count": null,
   "id": "089f8c77-1cd4-49eb-a10e-a58777a5936f",
   "metadata": {},
   "outputs": [],
   "source": []
  }
 ],
 "metadata": {
  "kernelspec": {
   "display_name": "Python 3 (ipykernel)",
   "language": "python",
   "name": "python3"
  },
  "language_info": {
   "codemirror_mode": {
    "name": "ipython",
    "version": 3
   },
   "file_extension": ".py",
   "mimetype": "text/x-python",
   "name": "python",
   "nbconvert_exporter": "python",
   "pygments_lexer": "ipython3",
   "version": "3.11.5"
  }
 },
 "nbformat": 4,
 "nbformat_minor": 5
}
