{
 "cells": [
  {
   "cell_type": "markdown",
   "metadata": {},
   "source": [
    "# One Python with Centralized Parameters and Config\n",
    "\n",
    "## Steps\n",
    "\n",
    "1. Create a notebook for all test runs.  \n",
    "2. Put parameters at the top of notebook such as: \n",
    "3. Create a funtion `def run(attn_dropout, r1, r2, ...)` to run experiments with given parameters, and test it. \n",
    "4. For combinations of parameters we will test on, again put them at the top: \n",
    "\n",
    "```\n",
    "attn_dropouts = [0.1, 0.2, 0.3]\n",
    "residual1_dropouts = [0.1, 0.2, 0.3]\n",
    "residual2_dropouts = [0.1, 0.2, 0.3]\n",
    "...\n",
    "```\n",
    "\n",
    "5. Create nested loops for combinations and test the `run()` function in the loops. "
   ]
  },
  {
   "cell_type": "markdown",
   "metadata": {},
   "source": []
  }
 ],
 "metadata": {
  "kernelspec": {
   "display_name": "Python 3",
   "language": "python",
   "name": "python3"
  },
  "language_info": {
   "name": "python",
   "version": "3.9.6"
  }
 },
 "nbformat": 4,
 "nbformat_minor": 2
}
